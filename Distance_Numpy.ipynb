{
  "nbformat": 4,
  "nbformat_minor": 0,
  "metadata": {
    "colab": {
      "name": "Distance Numpy.ipynb",
      "provenance": [],
      "authorship_tag": "ABX9TyMakYJYIsLpzx+RGGQwN7BF",
      "include_colab_link": true
    },
    "kernelspec": {
      "name": "python3",
      "display_name": "Python 3"
    },
    "language_info": {
      "name": "python"
    }
  },
  "cells": [
    {
      "cell_type": "markdown",
      "metadata": {
        "id": "view-in-github",
        "colab_type": "text"
      },
      "source": [
        "<a href=\"https://colab.research.google.com/github/623020514-5/DWDM21/blob/main/Distance_Numpy.ipynb\" target=\"_parent\"><img src=\"https://colab.research.google.com/assets/colab-badge.svg\" alt=\"Open In Colab\"/></a>"
      ]
    },
    {
      "cell_type": "code",
      "metadata": {
        "id": "nmXZ4L-ycuse"
      },
      "source": [
        "import numpy as np #เพื่อสำหรับใช้งานกับข้อมูลที่เป็นตัวเลข (อยู่ในรูป matrix)"
      ],
      "execution_count": 2,
      "outputs": []
    },
    {
      "cell_type": "markdown",
      "metadata": {
        "id": "x7MK2r23duW1"
      },
      "source": [
        "#**Numpy Array**\n",
        "\n",
        "สร้าง Numpy Array"
      ]
    },
    {
      "cell_type": "code",
      "metadata": {
        "id": "1MYzgiQBdt-O"
      },
      "source": [
        "np_a = np.array([[1,2,3],[4,5,6]])"
      ],
      "execution_count": 3,
      "outputs": []
    },
    {
      "cell_type": "code",
      "metadata": {
        "colab": {
          "base_uri": "https://localhost:8080/"
        },
        "id": "9QcQrGE3Frnh",
        "outputId": "52e40be7-c0ff-47fc-d00a-f733f7a72d55"
      },
      "source": [
        "np_a"
      ],
      "execution_count": 4,
      "outputs": [
        {
          "output_type": "execute_result",
          "data": {
            "text/plain": [
              "array([[1, 2, 3],\n",
              "       [4, 5, 6]])"
            ]
          },
          "metadata": {},
          "execution_count": 4
        }
      ]
    },
    {
      "cell_type": "code",
      "metadata": {
        "colab": {
          "base_uri": "https://localhost:8080/"
        },
        "id": "_IxNz8aYFrjr",
        "outputId": "27e7b840-144e-4bb0-f3cd-e312b03bcc34"
      },
      "source": [
        "np_a.shape"
      ],
      "execution_count": 5,
      "outputs": [
        {
          "output_type": "execute_result",
          "data": {
            "text/plain": [
              "(2, 3)"
            ]
          },
          "metadata": {},
          "execution_count": 5
        }
      ]
    },
    {
      "cell_type": "code",
      "metadata": {
        "colab": {
          "base_uri": "https://localhost:8080/"
        },
        "id": "b8_KZsX8Frfu",
        "outputId": "243ca5c7-81d5-4982-c87d-6d95aa023949"
      },
      "source": [
        "np_b = np.array([[1,4],[2,5],[3,6]])\n",
        "np_b"
      ],
      "execution_count": 6,
      "outputs": [
        {
          "output_type": "execute_result",
          "data": {
            "text/plain": [
              "array([[1, 4],\n",
              "       [2, 5],\n",
              "       [3, 6]])"
            ]
          },
          "metadata": {},
          "execution_count": 6
        }
      ]
    },
    {
      "cell_type": "markdown",
      "metadata": {
        "id": "AmdmGOCGFy3d"
      },
      "source": [
        "matrix transpose"
      ]
    },
    {
      "cell_type": "code",
      "metadata": {
        "colab": {
          "base_uri": "https://localhost:8080/"
        },
        "id": "pUeKbKrHFrad",
        "outputId": "e7915811-99ce-4dff-ded4-4f33a8f31ca9"
      },
      "source": [
        "np_a.T"
      ],
      "execution_count": 7,
      "outputs": [
        {
          "output_type": "execute_result",
          "data": {
            "text/plain": [
              "array([[1, 4],\n",
              "       [2, 5],\n",
              "       [3, 6]])"
            ]
          },
          "metadata": {},
          "execution_count": 7
        }
      ]
    },
    {
      "cell_type": "markdown",
      "metadata": {
        "id": "Admiray7F3mj"
      },
      "source": [
        "สร้าง matrix เริ่มต้น (zeros,ones)"
      ]
    },
    {
      "cell_type": "code",
      "metadata": {
        "colab": {
          "base_uri": "https://localhost:8080/"
        },
        "id": "9XgckywMF3PU",
        "outputId": "d73ff534-fc10-402d-e5ea-2057b192c49a"
      },
      "source": [
        "np_z = np.zeros((4,5))  \n",
        "np_z"
      ],
      "execution_count": 8,
      "outputs": [
        {
          "output_type": "execute_result",
          "data": {
            "text/plain": [
              "array([[0., 0., 0., 0., 0.],\n",
              "       [0., 0., 0., 0., 0.],\n",
              "       [0., 0., 0., 0., 0.],\n",
              "       [0., 0., 0., 0., 0.]])"
            ]
          },
          "metadata": {},
          "execution_count": 8
        }
      ]
    },
    {
      "cell_type": "code",
      "metadata": {
        "colab": {
          "base_uri": "https://localhost:8080/"
        },
        "id": "McIwCEF5FrUl",
        "outputId": "eb7b3dc0-45d4-4c5a-b7e4-a2415b57f28c"
      },
      "source": [
        "np_o = np.ones((5,6))\n",
        "np_o"
      ],
      "execution_count": 9,
      "outputs": [
        {
          "output_type": "execute_result",
          "data": {
            "text/plain": [
              "array([[1., 1., 1., 1., 1., 1.],\n",
              "       [1., 1., 1., 1., 1., 1.],\n",
              "       [1., 1., 1., 1., 1., 1.],\n",
              "       [1., 1., 1., 1., 1., 1.],\n",
              "       [1., 1., 1., 1., 1., 1.]])"
            ]
          },
          "metadata": {},
          "execution_count": 9
        }
      ]
    },
    {
      "cell_type": "code",
      "metadata": {
        "colab": {
          "base_uri": "https://localhost:8080/"
        },
        "id": "9453mjfxGCj-",
        "outputId": "4cac596f-98fe-440a-e1a4-045fda5cf303"
      },
      "source": [
        "np_200 = 200 * np.ones((4,7))\n",
        "np_200"
      ],
      "execution_count": 10,
      "outputs": [
        {
          "output_type": "execute_result",
          "data": {
            "text/plain": [
              "array([[200., 200., 200., 200., 200., 200., 200.],\n",
              "       [200., 200., 200., 200., 200., 200., 200.],\n",
              "       [200., 200., 200., 200., 200., 200., 200.],\n",
              "       [200., 200., 200., 200., 200., 200., 200.]])"
            ]
          },
          "metadata": {},
          "execution_count": 10
        }
      ]
    },
    {
      "cell_type": "markdown",
      "metadata": {
        "id": "_7fOdzANGEms"
      },
      "source": [
        "สร้าง matrix random ค่าเเบบมั่ว ๆ"
      ]
    },
    {
      "cell_type": "code",
      "metadata": {
        "colab": {
          "base_uri": "https://localhost:8080/"
        },
        "id": "FHqy3Th0GHhu",
        "outputId": "77efd8e3-101c-47dc-b0e8-695a7a95511f"
      },
      "source": [
        "np.random.randn(5,5) \n",
        "# randn คือ random เลขมาจาก normal distribution ที่มี mu=0 std=1"
      ],
      "execution_count": 11,
      "outputs": [
        {
          "output_type": "execute_result",
          "data": {
            "text/plain": [
              "array([[-0.44573413, -0.88421328, -0.71439697,  0.97722851,  1.02984926],\n",
              "       [-1.47212539,  0.7603073 ,  0.6062681 , -0.62854439,  0.26163585],\n",
              "       [ 0.14396381, -0.8969371 ,  1.13623713, -0.67185212, -0.72601383],\n",
              "       [-1.51859917,  0.49148761, -0.90400641,  0.00472482, -0.6882997 ],\n",
              "       [-0.13696226,  0.22122596, -0.02499671,  0.71950055,  0.49450663]])"
            ]
          },
          "metadata": {},
          "execution_count": 11
        }
      ]
    },
    {
      "cell_type": "code",
      "metadata": {
        "colab": {
          "base_uri": "https://localhost:8080/"
        },
        "id": "DkKM9pFOGLWP",
        "outputId": "f461c317-51ae-4d30-efdb-1bf64f748cce"
      },
      "source": [
        "2+(5*np.random.randn(3,3)) \n",
        "# random เลขมาจาก normal distribution ที่มี mu=2 std=5"
      ],
      "execution_count": 12,
      "outputs": [
        {
          "output_type": "execute_result",
          "data": {
            "text/plain": [
              "array([[ 2.70653676,  0.11553406, -8.28938204],\n",
              "       [-1.73820512,  4.16837468,  9.97768548],\n",
              "       [-0.72186467, -1.58811462,  4.4497054 ]])"
            ]
          },
          "metadata": {},
          "execution_count": 12
        }
      ]
    },
    {
      "cell_type": "code",
      "metadata": {
        "colab": {
          "base_uri": "https://localhost:8080/"
        },
        "id": "CLMCSvDHGLNk",
        "outputId": "8c4f7bd8-8273-4655-a6a5-68bf8dada33f"
      },
      "source": [
        "np.random.randint(5,11,(4,5))\n",
        "# random เลขจำนวนเต็ม ค่าตั้งเเต่ระหว่าง 5 ถึง 10 (5,11,(ขนาด 4x5))"
      ],
      "execution_count": 13,
      "outputs": [
        {
          "output_type": "execute_result",
          "data": {
            "text/plain": [
              "array([[ 7,  8,  8, 10, 10],\n",
              "       [ 8,  7,  9,  5,  8],\n",
              "       [ 7,  9,  7,  8,  7],\n",
              "       [ 9,  8,  8,  9,  9]])"
            ]
          },
          "metadata": {},
          "execution_count": 13
        }
      ]
    },
    {
      "cell_type": "markdown",
      "metadata": {
        "id": "HwjUpawQOsjj"
      },
      "source": [
        "matrix properties"
      ]
    },
    {
      "cell_type": "code",
      "metadata": {
        "colab": {
          "base_uri": "https://localhost:8080/"
        },
        "id": "NoJwpk78OxRl",
        "outputId": "799f67fa-96d6-429d-942e-7386e5d532ef"
      },
      "source": [
        "np_a"
      ],
      "execution_count": 14,
      "outputs": [
        {
          "output_type": "execute_result",
          "data": {
            "text/plain": [
              "array([[1, 2, 3],\n",
              "       [4, 5, 6]])"
            ]
          },
          "metadata": {},
          "execution_count": 14
        }
      ]
    },
    {
      "cell_type": "code",
      "metadata": {
        "colab": {
          "base_uri": "https://localhost:8080/"
        },
        "id": "Wq_O2xUeO0q4",
        "outputId": "69259e20-e2e0-4d3a-f170-73c467a50280"
      },
      "source": [
        "np_a.T #transpose"
      ],
      "execution_count": 15,
      "outputs": [
        {
          "output_type": "execute_result",
          "data": {
            "text/plain": [
              "array([[1, 4],\n",
              "       [2, 5],\n",
              "       [3, 6]])"
            ]
          },
          "metadata": {},
          "execution_count": 15
        }
      ]
    },
    {
      "cell_type": "code",
      "metadata": {
        "colab": {
          "base_uri": "https://localhost:8080/"
        },
        "id": "m5equOjyO7qk",
        "outputId": "1cf662a2-d450-43b2-f108-a99b040f15bf"
      },
      "source": [
        "1+np_a #add Scalar to matrix"
      ],
      "execution_count": 16,
      "outputs": [
        {
          "output_type": "execute_result",
          "data": {
            "text/plain": [
              "array([[2, 3, 4],\n",
              "       [5, 6, 7]])"
            ]
          },
          "metadata": {},
          "execution_count": 16
        }
      ]
    },
    {
      "cell_type": "code",
      "metadata": {
        "colab": {
          "base_uri": "https://localhost:8080/"
        },
        "id": "e5Pww1RYPEF5",
        "outputId": "9cb859d7-c2d8-4be6-832f-2c63f1ff61fa"
      },
      "source": [
        "2*np_a #multiply scalar to matrix"
      ],
      "execution_count": 17,
      "outputs": [
        {
          "output_type": "execute_result",
          "data": {
            "text/plain": [
              "array([[ 2,  4,  6],\n",
              "       [ 8, 10, 12]])"
            ]
          },
          "metadata": {},
          "execution_count": 17
        }
      ]
    },
    {
      "cell_type": "code",
      "metadata": {
        "colab": {
          "base_uri": "https://localhost:8080/"
        },
        "id": "QcfbvuNzPOmn",
        "outputId": "35cf8183-087d-4212-e1e7-b060c889854a"
      },
      "source": [
        "np_c = np.array([[6,5,4],[3,2,1]])\n",
        "np_c"
      ],
      "execution_count": 18,
      "outputs": [
        {
          "output_type": "execute_result",
          "data": {
            "text/plain": [
              "array([[6, 5, 4],\n",
              "       [3, 2, 1]])"
            ]
          },
          "metadata": {},
          "execution_count": 18
        }
      ]
    },
    {
      "cell_type": "code",
      "metadata": {
        "colab": {
          "base_uri": "https://localhost:8080/"
        },
        "id": "0QwR4CeyPc1U",
        "outputId": "d6b39b85-46eb-4f80-f208-c27778655e36"
      },
      "source": [
        "np_a + np_c #adding matrix to matrix\n",
        "#การบวกระหว่างเมททริกซ์ปกติ"
      ],
      "execution_count": 20,
      "outputs": [
        {
          "output_type": "execute_result",
          "data": {
            "text/plain": [
              "array([[7, 7, 7],\n",
              "       [7, 7, 7]])"
            ]
          },
          "metadata": {},
          "execution_count": 20
        }
      ]
    },
    {
      "cell_type": "code",
      "metadata": {
        "colab": {
          "base_uri": "https://localhost:8080/"
        },
        "id": "lFjaSZQhP9MQ",
        "outputId": "496a4821-9307-4f82-a274-93ae6cb11ae7"
      },
      "source": [
        "np_a.shape #ดูขนาด"
      ],
      "execution_count": 21,
      "outputs": [
        {
          "output_type": "execute_result",
          "data": {
            "text/plain": [
              "(2, 3)"
            ]
          },
          "metadata": {},
          "execution_count": 21
        }
      ]
    },
    {
      "cell_type": "code",
      "metadata": {
        "colab": {
          "base_uri": "https://localhost:8080/"
        },
        "id": "tfIIdsfkQKGm",
        "outputId": "e31c47fc-9403-41e7-951f-a706ee62010c"
      },
      "source": [
        "np_c.shape"
      ],
      "execution_count": 22,
      "outputs": [
        {
          "output_type": "execute_result",
          "data": {
            "text/plain": [
              "(2, 3)"
            ]
          },
          "metadata": {},
          "execution_count": 22
        }
      ]
    },
    {
      "cell_type": "markdown",
      "metadata": {
        "id": "UQstQpf1QkwI"
      },
      "source": [
        "จากการตรวจสอบขนาดของเมทริกซ์ทั้งสองจะเห็นว่ามีขนาดที่เหมือนกันดังนั้นจะเอามาคูณกันเลยไม่ได้จะต้องเอาเมททริกซ์อันใดอันนึงไป ทรานสโพสก่อน โดยการ .T"
      ]
    },
    {
      "cell_type": "code",
      "metadata": {
        "colab": {
          "base_uri": "https://localhost:8080/"
        },
        "id": "gYx46dMSQP1o",
        "outputId": "1428fc34-6d7d-4a00-b284-957421515faf"
      },
      "source": [
        "np.dot(np_a,np_c.T) #multipling matrix to matrix (a,b)x(b,c)=(a,c)"
      ],
      "execution_count": 24,
      "outputs": [
        {
          "output_type": "execute_result",
          "data": {
            "text/plain": [
              "array([[28, 10],\n",
              "       [73, 28]])"
            ]
          },
          "metadata": {},
          "execution_count": 24
        }
      ]
    },
    {
      "cell_type": "markdown",
      "metadata": {
        "id": "REQCEfpwRRxl"
      },
      "source": [
        "##Indexing & Slicing\n",
        " ชี้ยังไง"
      ]
    },
    {
      "cell_type": "code",
      "metadata": {
        "id": "T_FIIspCSYKc",
        "outputId": "7c2ec445-f7b2-4063-927d-6bbb2770272f",
        "colab": {
          "base_uri": "https://localhost:8080/"
        }
      },
      "source": [
        "np_a"
      ],
      "execution_count": 25,
      "outputs": [
        {
          "output_type": "execute_result",
          "data": {
            "text/plain": [
              "array([[1, 2, 3],\n",
              "       [4, 5, 6]])"
            ]
          },
          "metadata": {},
          "execution_count": 25
        }
      ]
    },
    {
      "cell_type": "code",
      "metadata": {
        "id": "TcEFogVmSanN",
        "outputId": "8b2e2b33-3f64-45f6-c551-6d3738ee74c5",
        "colab": {
          "base_uri": "https://localhost:8080/"
        }
      },
      "source": [
        "np_a[1,1]"
      ],
      "execution_count": 26,
      "outputs": [
        {
          "output_type": "execute_result",
          "data": {
            "text/plain": [
              "5"
            ]
          },
          "metadata": {},
          "execution_count": 26
        }
      ]
    },
    {
      "cell_type": "code",
      "metadata": {
        "id": "JykhdBSTSmQB"
      },
      "source": [
        ""
      ],
      "execution_count": null,
      "outputs": []
    }
  ]
}