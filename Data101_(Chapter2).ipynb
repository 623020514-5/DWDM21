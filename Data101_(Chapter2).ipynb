{
  "nbformat": 4,
  "nbformat_minor": 0,
  "metadata": {
    "colab": {
      "name": "Data101 (Chapter2).ipynb",
      "provenance": [],
      "include_colab_link": true
    },
    "kernelspec": {
      "name": "python3",
      "display_name": "Python 3"
    },
    "language_info": {
      "name": "python"
    }
  },
  "cells": [
    {
      "cell_type": "markdown",
      "metadata": {
        "id": "view-in-github",
        "colab_type": "text"
      },
      "source": [
        "<a href=\"https://colab.research.google.com/github/623020514-5/DWDM21/blob/main/Data101_(Chapter2).ipynb\" target=\"_parent\"><img src=\"https://colab.research.google.com/assets/colab-badge.svg\" alt=\"Open In Colab\"/></a>"
      ]
    },
    {
      "cell_type": "markdown",
      "metadata": {
        "id": "mY7zoM8S0CVN"
      },
      "source": [
        "ข้อความที่อยู่ใน Textbox จะเป็นภาษา markdown"
      ]
    },
    {
      "cell_type": "markdown",
      "metadata": {
        "id": "MIYllvGyt6Z-"
      },
      "source": [
        "ข้อดีหนึ่งของ Python คือี package สำหรับการทำงานต่างๆมากมาย\n",
        "\n",
        "ซึ่ง pandas เป็น package สำหรับการทำงานกับข้อมูลที่อยู่ในรูปแบบตาราง\n",
        "\n",
        "โดย pandas จะเรียกตารางนั้นว่า dataframe"
      ]
    },
    {
      "cell_type": "code",
      "metadata": {
        "id": "L1EKAgpmsXh-"
      },
      "source": [
        "import pandas  #เรียกใช้ package โดยการ import ต่อด้วยชื่อ package"
      ],
      "execution_count": null,
      "outputs": []
    },
    {
      "cell_type": "code",
      "metadata": {
        "id": "d7fgc_UEtOrn"
      },
      "source": [
        "import pandas as pd  #เป็นการ import เหมือนกัน แต่เปลี่ยนการตั้งชื่อให้ package ที่โหลดมาใหม่ว่า pd"
      ],
      "execution_count": null,
      "outputs": []
    },
    {
      "cell_type": "markdown",
      "metadata": {
        "id": "flActA3Nu7Dj"
      },
      "source": [
        "ไฟล์ .csv (CSV = comma separated values) เป็นไฟล์หลักที่จะต้องใช้ในวิชานี้\n",
        "\n"
      ]
    },
    {
      "cell_type": "code",
      "metadata": {
        "id": "iBpf-8BjuryQ"
      },
      "source": [
        "data_df = pd.read_csv('data.csv')    #ใช้คำสั่งเพื่อนำ data เข้ามา"
      ],
      "execution_count": null,
      "outputs": []
    },
    {
      "cell_type": "code",
      "metadata": {
        "colab": {
          "base_uri": "https://localhost:8080/",
          "height": 142
        },
        "id": "jGZENUloxb5H",
        "outputId": "8089ce51-d0cb-4f46-cfba-dc21e876eba6"
      },
      "source": [
        "data_df   #เรียกดู data"
      ],
      "execution_count": null,
      "outputs": [
        {
          "output_type": "execute_result",
          "data": {
            "text/html": [
              "<div>\n",
              "<style scoped>\n",
              "    .dataframe tbody tr th:only-of-type {\n",
              "        vertical-align: middle;\n",
              "    }\n",
              "\n",
              "    .dataframe tbody tr th {\n",
              "        vertical-align: top;\n",
              "    }\n",
              "\n",
              "    .dataframe thead th {\n",
              "        text-align: right;\n",
              "    }\n",
              "</style>\n",
              "<table border=\"1\" class=\"dataframe\">\n",
              "  <thead>\n",
              "    <tr style=\"text-align: right;\">\n",
              "      <th></th>\n",
              "      <th>name</th>\n",
              "      <th>age</th>\n",
              "      <th>city</th>\n",
              "    </tr>\n",
              "  </thead>\n",
              "  <tbody>\n",
              "    <tr>\n",
              "      <th>0</th>\n",
              "      <td>0\\tTom</td>\n",
              "      <td>27</td>\n",
              "      <td>Khon Kaen</td>\n",
              "    </tr>\n",
              "    <tr>\n",
              "      <th>1</th>\n",
              "      <td>1\\tPaul\\t15</td>\n",
              "      <td>Bangkok</td>\n",
              "      <td>NaN</td>\n",
              "    </tr>\n",
              "    <tr>\n",
              "      <th>2</th>\n",
              "      <td>2\\tSarah\\t49</td>\n",
              "      <td>London</td>\n",
              "      <td>NaN</td>\n",
              "    </tr>\n",
              "  </tbody>\n",
              "</table>\n",
              "</div>"
            ],
            "text/plain": [
              "           name      age       city\n",
              "0        0\\tTom       27  Khon Kaen\n",
              "1   1\\tPaul\\t15  Bangkok        NaN\n",
              "2  2\\tSarah\\t49   London        NaN"
            ]
          },
          "metadata": {
            "tags": []
          },
          "execution_count": 8
        }
      ]
    },
    {
      "cell_type": "code",
      "metadata": {
        "colab": {
          "base_uri": "https://localhost:8080/",
          "height": 142
        },
        "id": "aV_1sh7IxdpO",
        "outputId": "1f960d52-7585-4f3f-b70f-11d0d7c5976d"
      },
      "source": [
        "data_df2 = pandas.read_csv('data.csv')\n",
        "data_df2"
      ],
      "execution_count": null,
      "outputs": [
        {
          "output_type": "execute_result",
          "data": {
            "text/html": [
              "<div>\n",
              "<style scoped>\n",
              "    .dataframe tbody tr th:only-of-type {\n",
              "        vertical-align: middle;\n",
              "    }\n",
              "\n",
              "    .dataframe tbody tr th {\n",
              "        vertical-align: top;\n",
              "    }\n",
              "\n",
              "    .dataframe thead th {\n",
              "        text-align: right;\n",
              "    }\n",
              "</style>\n",
              "<table border=\"1\" class=\"dataframe\">\n",
              "  <thead>\n",
              "    <tr style=\"text-align: right;\">\n",
              "      <th></th>\n",
              "      <th>name</th>\n",
              "      <th>age</th>\n",
              "      <th>city</th>\n",
              "    </tr>\n",
              "  </thead>\n",
              "  <tbody>\n",
              "    <tr>\n",
              "      <th>0</th>\n",
              "      <td>0\\tTom</td>\n",
              "      <td>27</td>\n",
              "      <td>Khon Kaen</td>\n",
              "    </tr>\n",
              "    <tr>\n",
              "      <th>1</th>\n",
              "      <td>1\\tPaul\\t15</td>\n",
              "      <td>Bangkok</td>\n",
              "      <td>NaN</td>\n",
              "    </tr>\n",
              "    <tr>\n",
              "      <th>2</th>\n",
              "      <td>2\\tSarah\\t49</td>\n",
              "      <td>London</td>\n",
              "      <td>NaN</td>\n",
              "    </tr>\n",
              "  </tbody>\n",
              "</table>\n",
              "</div>"
            ],
            "text/plain": [
              "           name      age       city\n",
              "0        0\\tTom       27  Khon Kaen\n",
              "1   1\\tPaul\\t15  Bangkok        NaN\n",
              "2  2\\tSarah\\t49   London        NaN"
            ]
          },
          "metadata": {
            "tags": []
          },
          "execution_count": 9
        }
      ]
    },
    {
      "cell_type": "markdown",
      "metadata": {
        "id": "V-6qjLTBy0Ri"
      },
      "source": [
        "# Basic Python\n",
        "##variable"
      ]
    },
    {
      "cell_type": "markdown",
      "metadata": {
        "id": "jVeoZHqm1yzg"
      },
      "source": [
        "ข้อกำหนดในการตั้งชื่อตัวแปร\n",
        "\n",
        "1. ชื่อห้ามมีเว้นวรรค\n",
        "2. (พยายาม)ใช้ภาษาอังกฤษ\n",
        "3. ตัวเล็กตัวใหญ่แตกต่างกัน (case sensitive)\n",
        "4. ห้ามใช้ตัวเลขเป็นตัวหน้า"
      ]
    },
    {
      "cell_type": "code",
      "metadata": {
        "id": "jCQcNyocyfNG"
      },
      "source": [
        "variable_a = 12          #สร้างตัวแปลใส่เลข 12 แบบไม่มี quote จะเป็นตัวเลข\n",
        "variable_b = 'abcde'   # ' เรียกว่า quote\n",
        "variable_c = variable_a   #ค่าของ variable_c เท่่ากับ ค่าของ variable_a"
      ],
      "execution_count": null,
      "outputs": []
    },
    {
      "cell_type": "code",
      "metadata": {
        "colab": {
          "base_uri": "https://localhost:8080/"
        },
        "id": "g4wv0CdU0ulA",
        "outputId": "73a04d5f-8467-4d83-9877-f24e297d1c47"
      },
      "source": [
        "variable_a"
      ],
      "execution_count": null,
      "outputs": [
        {
          "output_type": "execute_result",
          "data": {
            "text/plain": [
              "12"
            ]
          },
          "metadata": {
            "tags": []
          },
          "execution_count": 11
        }
      ]
    },
    {
      "cell_type": "code",
      "metadata": {
        "colab": {
          "base_uri": "https://localhost:8080/",
          "height": 34
        },
        "id": "gfbmILDW1ZNF",
        "outputId": "03633571-ad94-4601-fbc5-270457f03caf"
      },
      "source": [
        "variable_b"
      ],
      "execution_count": null,
      "outputs": [
        {
          "output_type": "execute_result",
          "data": {
            "application/vnd.google.colaboratory.intrinsic+json": {
              "type": "string"
            },
            "text/plain": [
              "'abcde'"
            ]
          },
          "metadata": {
            "tags": []
          },
          "execution_count": 12
        }
      ]
    },
    {
      "cell_type": "code",
      "metadata": {
        "colab": {
          "base_uri": "https://localhost:8080/"
        },
        "id": "ZDpOT7Lu1qSX",
        "outputId": "7194e5ed-1485-45c3-d6ae-f3a5e18c2bc3"
      },
      "source": [
        "variable_c"
      ],
      "execution_count": null,
      "outputs": [
        {
          "output_type": "execute_result",
          "data": {
            "text/plain": [
              "12"
            ]
          },
          "metadata": {
            "tags": []
          },
          "execution_count": 13
        }
      ]
    },
    {
      "cell_type": "code",
      "metadata": {
        "colab": {
          "base_uri": "https://localhost:8080/",
          "height": 130
        },
        "id": "fax7ORZT1sQn",
        "outputId": "cc169379-4061-4440-ae29-a3fea29a43e6"
      },
      "source": [
        "# ชื่อห้ามมีเว้นวรรค\n",
        "variable a = 6"
      ],
      "execution_count": null,
      "outputs": [
        {
          "output_type": "error",
          "ename": "SyntaxError",
          "evalue": "ignored",
          "traceback": [
            "\u001b[0;36m  File \u001b[0;32m\"<ipython-input-14-126f7ab49866>\"\u001b[0;36m, line \u001b[0;32m2\u001b[0m\n\u001b[0;31m    variable a = 6\u001b[0m\n\u001b[0m             ^\u001b[0m\n\u001b[0;31mSyntaxError\u001b[0m\u001b[0;31m:\u001b[0m invalid syntax\n"
          ]
        }
      ]
    },
    {
      "cell_type": "code",
      "metadata": {
        "id": "9dBZ5cCN2Vkr"
      },
      "source": [
        "# พยายามใช้ภาษาอังกฤษ\n",
        "# colab ใช้ภาษาไทยเป็นชื่อตัวแปรได้แต่ไม่ควรใช้\n",
        "ตัวแปร = 3           \n",
        "ตัวแปร"
      ],
      "execution_count": null,
      "outputs": []
    },
    {
      "cell_type": "code",
      "metadata": {
        "id": "fgrVK56f2dW8"
      },
      "source": [
        "# ตัวเล็กกับตัวใหญ่ต่างกัน (case sensitive)\n",
        "v_a = 1\n",
        "V_a = 2\n",
        "print(v_a)\n",
        "print(V_a)"
      ],
      "execution_count": null,
      "outputs": []
    },
    {
      "cell_type": "code",
      "metadata": {
        "id": "T7XxLMaQ3DqD"
      },
      "source": [
        "# ห้ามใช้ตัวเลขเป็นตัวหน้า\n",
        "2 = 1"
      ],
      "execution_count": null,
      "outputs": []
    },
    {
      "cell_type": "code",
      "metadata": {
        "id": "mjCTJexM34i5"
      },
      "source": [
        "# ห้ามใช้ตัวเลขเป็นตัวหน้า\n",
        "2ab = 1"
      ],
      "execution_count": null,
      "outputs": []
    },
    {
      "cell_type": "code",
      "metadata": {
        "id": "_9V1gtfb4Agd"
      },
      "source": [
        "# ห้ามใช้ตัวเลขเป็นตัวหน้า\n",
        "variable = 1"
      ],
      "execution_count": null,
      "outputs": []
    },
    {
      "cell_type": "code",
      "metadata": {
        "colab": {
          "base_uri": "https://localhost:8080/",
          "height": 164
        },
        "id": "K4EQwFub4EXn",
        "outputId": "25d3e681-e9e9-4f38-996f-f5eb5345ad0c"
      },
      "source": [
        "print(variable)"
      ],
      "execution_count": null,
      "outputs": [
        {
          "output_type": "error",
          "ename": "NameError",
          "evalue": "ignored",
          "traceback": [
            "\u001b[0;31m---------------------------------------------------------------------------\u001b[0m",
            "\u001b[0;31mNameError\u001b[0m                                 Traceback (most recent call last)",
            "\u001b[0;32m<ipython-input-15-503d059fc525>\u001b[0m in \u001b[0;36m<module>\u001b[0;34m()\u001b[0m\n\u001b[0;32m----> 1\u001b[0;31m \u001b[0mprint\u001b[0m\u001b[0;34m(\u001b[0m\u001b[0mvariable\u001b[0m\u001b[0;34m)\u001b[0m\u001b[0;34m\u001b[0m\u001b[0;34m\u001b[0m\u001b[0m\n\u001b[0m",
            "\u001b[0;31mNameError\u001b[0m: name 'variable' is not defined"
          ]
        }
      ]
    },
    {
      "cell_type": "code",
      "metadata": {
        "id": "DXTJYxeq4Gak"
      },
      "source": [
        "variable_a = 12          #สร้างตัวแปลใส่เลข 12 แบบไม่มี quote จะเป็นตัวเลข\n",
        "variable_b = 'abcde'   # ' เรียกว่า quote\n",
        "variable_c = variable_a   #ค่าของ variable_c เท่่ากับ ค่าของ variable_a\n",
        "variable_d = -41.2\n",
        "variable_4 = \"KKU\"  # \" เรียกว่า double quote"
      ],
      "execution_count": null,
      "outputs": []
    },
    {
      "cell_type": "code",
      "metadata": {
        "id": "E1dE4Q9k4r6Y",
        "colab": {
          "base_uri": "https://localhost:8080/"
        },
        "outputId": "839e61a9-06a0-4c39-9560-8c8238c6e320"
      },
      "source": [
        "variable_x =  variable_c + variable_d\n",
        "print(variable_x)"
      ],
      "execution_count": null,
      "outputs": [
        {
          "output_type": "stream",
          "text": [
            "-29.200000000000003\n"
          ],
          "name": "stdout"
        }
      ]
    },
    {
      "cell_type": "code",
      "metadata": {
        "id": "Y-dl3slk46iT",
        "colab": {
          "base_uri": "https://localhost:8080/"
        },
        "outputId": "c72e2f3d-ee15-4689-db28-697d3c490c57"
      },
      "source": [
        "variable_x"
      ],
      "execution_count": null,
      "outputs": [
        {
          "output_type": "execute_result",
          "data": {
            "text/plain": [
              "-29.200000000000003"
            ]
          },
          "metadata": {
            "tags": []
          },
          "execution_count": 18
        }
      ]
    },
    {
      "cell_type": "code",
      "metadata": {
        "colab": {
          "base_uri": "https://localhost:8080/",
          "height": 164
        },
        "id": "HQdtVR5J5AK1",
        "outputId": "e37149f2-6ad6-484f-afd4-1dfd164b4877"
      },
      "source": [
        "variable_a + variable_b"
      ],
      "execution_count": null,
      "outputs": [
        {
          "output_type": "error",
          "ename": "TypeError",
          "evalue": "ignored",
          "traceback": [
            "\u001b[0;31m---------------------------------------------------------------------------\u001b[0m",
            "\u001b[0;31mTypeError\u001b[0m                                 Traceback (most recent call last)",
            "\u001b[0;32m<ipython-input-19-ca279e5cd267>\u001b[0m in \u001b[0;36m<module>\u001b[0;34m()\u001b[0m\n\u001b[0;32m----> 1\u001b[0;31m \u001b[0mvariable_a\u001b[0m \u001b[0;34m+\u001b[0m \u001b[0mvariable_b\u001b[0m\u001b[0;34m\u001b[0m\u001b[0;34m\u001b[0m\u001b[0m\n\u001b[0m",
            "\u001b[0;31mTypeError\u001b[0m: unsupported operand type(s) for +: 'int' and 'str'"
          ]
        }
      ]
    },
    {
      "cell_type": "code",
      "metadata": {
        "id": "0wY586Ny6Zpa",
        "colab": {
          "base_uri": "https://localhost:8080/"
        },
        "outputId": "2f633925-0e37-4714-e04d-679040509adf"
      },
      "source": [
        "print(variable_b + variable_4)  # print สามารถพิมพ์อะไรก็ได้ลงไปใน ()"
      ],
      "execution_count": null,
      "outputs": [
        {
          "output_type": "stream",
          "text": [
            "abcdeKKU\n"
          ],
          "name": "stdout"
        }
      ]
    },
    {
      "cell_type": "markdown",
      "metadata": {
        "id": "5-Yq5iBh7PZ0"
      },
      "source": [
        "## Casting int() str()\n",
        "\n",
        "- เปลี่ยนชนิดของตัวแปรได้"
      ]
    },
    {
      "cell_type": "code",
      "metadata": {
        "colab": {
          "base_uri": "https://localhost:8080/"
        },
        "id": "nZbwQiBa6xqe",
        "outputId": "850889c9-49a1-46f8-df06-33f1346835dd"
      },
      "source": [
        "print(variable_x)            # เปลี่ยนให้เป็นจำนวนเต็ม ตอนแรกเป็น float เป็น int\n",
        "print(int(variable_x))"
      ],
      "execution_count": null,
      "outputs": [
        {
          "output_type": "stream",
          "text": [
            "-29.200000000000003\n",
            "-29\n"
          ],
          "name": "stdout"
        }
      ]
    },
    {
      "cell_type": "code",
      "metadata": {
        "id": "2KcTkHkC7m-Q",
        "colab": {
          "base_uri": "https://localhost:8080/"
        },
        "outputId": "e994253a-5fa1-428d-abdf-02fadba363b2"
      },
      "source": [
        "V_X = str(variable_x)\n",
        "print(V_X)"
      ],
      "execution_count": null,
      "outputs": [
        {
          "output_type": "stream",
          "text": [
            "-29.200000000000003\n"
          ],
          "name": "stdout"
        }
      ]
    },
    {
      "cell_type": "code",
      "metadata": {
        "colab": {
          "base_uri": "https://localhost:8080/",
          "height": 164
        },
        "id": "Zbi9lXrT8ELu",
        "outputId": "b1988f2c-2ec6-4da5-e23a-859bfa3f457c"
      },
      "source": [
        "V_X + variable_a"
      ],
      "execution_count": null,
      "outputs": [
        {
          "output_type": "error",
          "ename": "TypeError",
          "evalue": "ignored",
          "traceback": [
            "\u001b[0;31m---------------------------------------------------------------------------\u001b[0m",
            "\u001b[0;31mTypeError\u001b[0m                                 Traceback (most recent call last)",
            "\u001b[0;32m<ipython-input-23-d83c0918f5c6>\u001b[0m in \u001b[0;36m<module>\u001b[0;34m()\u001b[0m\n\u001b[0;32m----> 1\u001b[0;31m \u001b[0mV_X\u001b[0m \u001b[0;34m+\u001b[0m \u001b[0mvariable_a\u001b[0m\u001b[0;34m\u001b[0m\u001b[0;34m\u001b[0m\u001b[0m\n\u001b[0m",
            "\u001b[0;31mTypeError\u001b[0m: can only concatenate str (not \"int\") to str"
          ]
        }
      ]
    },
    {
      "cell_type": "code",
      "metadata": {
        "id": "Lws0dfj28HiH",
        "colab": {
          "base_uri": "https://localhost:8080/",
          "height": 164
        },
        "outputId": "8be1c3c6-daa9-43d1-f3c4-0c5f98de5fe4"
      },
      "source": [
        "variable_a + V_X"
      ],
      "execution_count": null,
      "outputs": [
        {
          "output_type": "error",
          "ename": "TypeError",
          "evalue": "ignored",
          "traceback": [
            "\u001b[0;31m---------------------------------------------------------------------------\u001b[0m",
            "\u001b[0;31mTypeError\u001b[0m                                 Traceback (most recent call last)",
            "\u001b[0;32m<ipython-input-24-9c7fa6bc8848>\u001b[0m in \u001b[0;36m<module>\u001b[0;34m()\u001b[0m\n\u001b[0;32m----> 1\u001b[0;31m \u001b[0mvariable_a\u001b[0m \u001b[0;34m+\u001b[0m \u001b[0mV_X\u001b[0m\u001b[0;34m\u001b[0m\u001b[0;34m\u001b[0m\u001b[0m\n\u001b[0m",
            "\u001b[0;31mTypeError\u001b[0m: unsupported operand type(s) for +: 'int' and 'str'"
          ]
        }
      ]
    },
    {
      "cell_type": "code",
      "metadata": {
        "id": "zYcN2xfw8LpB"
      },
      "source": [
        "V_X "
      ],
      "execution_count": null,
      "outputs": []
    },
    {
      "cell_type": "code",
      "metadata": {
        "colab": {
          "base_uri": "https://localhost:8080/"
        },
        "id": "rEDBTPRX8llR",
        "outputId": "5e10e892-27d6-45b9-d3d7-eb98c391e8fb"
      },
      "source": [
        "float(V_X)"
      ],
      "execution_count": null,
      "outputs": [
        {
          "output_type": "execute_result",
          "data": {
            "text/plain": [
              "-29.200000000000003"
            ]
          },
          "metadata": {
            "tags": []
          },
          "execution_count": 25
        }
      ]
    },
    {
      "cell_type": "markdown",
      "metadata": {
        "id": "wNxPjGp79DUl"
      },
      "source": [
        "## Data Structure\n",
        "### list()"
      ]
    },
    {
      "cell_type": "code",
      "metadata": {
        "id": "suwgFEOm80GT"
      },
      "source": [
        "list_a = [1,2,0.2,'abs' ]  # [ ] square brackets\n",
        "list_b = [2,'xyz',list_a,[1,2,0.0]]"
      ],
      "execution_count": null,
      "outputs": []
    },
    {
      "cell_type": "code",
      "metadata": {
        "colab": {
          "base_uri": "https://localhost:8080/"
        },
        "id": "Xkd2roSh-Ely",
        "outputId": "41e5470a-b8dd-4eed-c72e-78e010fd62f7"
      },
      "source": [
        "list_a"
      ],
      "execution_count": null,
      "outputs": [
        {
          "output_type": "execute_result",
          "data": {
            "text/plain": [
              "[1, 2, 0.2, 'abs']"
            ]
          },
          "metadata": {
            "tags": []
          },
          "execution_count": 27
        }
      ]
    },
    {
      "cell_type": "code",
      "metadata": {
        "colab": {
          "base_uri": "https://localhost:8080/"
        },
        "id": "wgG-cpY--Glb",
        "outputId": "8817517e-7d40-45fa-8406-5c4c47ab8ec6"
      },
      "source": [
        "list_b"
      ],
      "execution_count": null,
      "outputs": [
        {
          "output_type": "execute_result",
          "data": {
            "text/plain": [
              "[2, 'xyz', [1, 2, 0.2, 'abs'], [1, 2, 0.0]]"
            ]
          },
          "metadata": {
            "tags": []
          },
          "execution_count": 28
        }
      ]
    },
    {
      "cell_type": "code",
      "metadata": {
        "colab": {
          "base_uri": "https://localhost:8080/"
        },
        "id": "ky2JOPu_-c1q",
        "outputId": "1a707c62-368c-41a5-f764-27ba175d4c49"
      },
      "source": [
        "len(list_b)   # ดูว่าใน list_b มีสมาชิกกี่ตัว"
      ],
      "execution_count": null,
      "outputs": [
        {
          "output_type": "execute_result",
          "data": {
            "text/plain": [
              "4"
            ]
          },
          "metadata": {
            "tags": []
          },
          "execution_count": 29
        }
      ]
    },
    {
      "cell_type": "code",
      "metadata": {
        "colab": {
          "base_uri": "https://localhost:8080/"
        },
        "id": "KoG7FUtW-ghh",
        "outputId": "01837b4a-9293-4000-d950-d8c5470653a4"
      },
      "source": [
        "list_b[3]"
      ],
      "execution_count": null,
      "outputs": [
        {
          "output_type": "execute_result",
          "data": {
            "text/plain": [
              "[1, 2, 0.0]"
            ]
          },
          "metadata": {
            "tags": []
          },
          "execution_count": 30
        }
      ]
    },
    {
      "cell_type": "code",
      "metadata": {
        "colab": {
          "base_uri": "https://localhost:8080/"
        },
        "id": "yyaZE8nF-rjW",
        "outputId": "8d55a98f-be0d-4c1d-dfb2-d016c224f570"
      },
      "source": [
        "list_b[3][1]"
      ],
      "execution_count": null,
      "outputs": [
        {
          "output_type": "execute_result",
          "data": {
            "text/plain": [
              "2"
            ]
          },
          "metadata": {
            "tags": []
          },
          "execution_count": 31
        }
      ]
    },
    {
      "cell_type": "markdown",
      "metadata": {
        "id": "ZWvYUMdM_HvM"
      },
      "source": [
        "string คือ list ของตัวหนังสือ"
      ]
    },
    {
      "cell_type": "code",
      "metadata": {
        "id": "nPFdQnCj-z6S"
      },
      "source": [
        "a = 'Stat KKU'"
      ],
      "execution_count": null,
      "outputs": []
    },
    {
      "cell_type": "code",
      "metadata": {
        "colab": {
          "base_uri": "https://localhost:8080/",
          "height": 34
        },
        "id": "vjsZpLAZ_RvJ",
        "outputId": "6cd113cd-b893-4e8d-ac9e-c0fafff12cf1"
      },
      "source": [
        "a[4]"
      ],
      "execution_count": null,
      "outputs": [
        {
          "output_type": "execute_result",
          "data": {
            "application/vnd.google.colaboratory.intrinsic+json": {
              "type": "string"
            },
            "text/plain": [
              "' '"
            ]
          },
          "metadata": {
            "tags": []
          },
          "execution_count": 33
        }
      ]
    },
    {
      "cell_type": "markdown",
      "metadata": {
        "id": "jh7QTT6kO4Ev"
      },
      "source": [
        "## List"
      ]
    },
    {
      "cell_type": "markdown",
      "metadata": {
        "id": "e6sVKcOG_yUq"
      },
      "source": [
        "### วิธีการสร้าง list ว่าง"
      ]
    },
    {
      "cell_type": "code",
      "metadata": {
        "id": "PhWogOv7_VKS"
      },
      "source": [
        "list_c = list()  #แบบที่ 1\n",
        "list_d = []      #แบบที่ 2"
      ],
      "execution_count": null,
      "outputs": []
    },
    {
      "cell_type": "code",
      "metadata": {
        "colab": {
          "base_uri": "https://localhost:8080/"
        },
        "id": "zTl8w5ByAFNp",
        "outputId": "794c24fd-0a79-430e-cb93-29f3759b45cc"
      },
      "source": [
        "list_c"
      ],
      "execution_count": null,
      "outputs": [
        {
          "output_type": "execute_result",
          "data": {
            "text/plain": [
              "[]"
            ]
          },
          "metadata": {
            "tags": []
          },
          "execution_count": 35
        }
      ]
    },
    {
      "cell_type": "code",
      "metadata": {
        "colab": {
          "base_uri": "https://localhost:8080/"
        },
        "id": "pt_q-hjIAHCG",
        "outputId": "a7fe35fb-880e-4798-d2be-a4e38a3c24d8"
      },
      "source": [
        "list_d"
      ],
      "execution_count": null,
      "outputs": [
        {
          "output_type": "execute_result",
          "data": {
            "text/plain": [
              "[]"
            ]
          },
          "metadata": {
            "tags": []
          },
          "execution_count": 36
        }
      ]
    },
    {
      "cell_type": "markdown",
      "metadata": {
        "id": "OPTQMYoXAqil"
      },
      "source": [
        "- เติมค่าลงไปใน list (.append())"
      ]
    },
    {
      "cell_type": "code",
      "metadata": {
        "id": "X9-X0oiwAI-W"
      },
      "source": [
        "list_d.append('a')"
      ],
      "execution_count": null,
      "outputs": []
    },
    {
      "cell_type": "code",
      "metadata": {
        "colab": {
          "base_uri": "https://localhost:8080/"
        },
        "id": "6Twl18WZA432",
        "outputId": "5d307911-224b-4666-9449-e3dc1c8a14fd"
      },
      "source": [
        "list_d"
      ],
      "execution_count": null,
      "outputs": [
        {
          "output_type": "execute_result",
          "data": {
            "text/plain": [
              "['a']"
            ]
          },
          "metadata": {
            "tags": []
          },
          "execution_count": 38
        }
      ]
    },
    {
      "cell_type": "code",
      "metadata": {
        "id": "udpXQaMpA6Sm"
      },
      "source": [
        "list_d.append(56)"
      ],
      "execution_count": null,
      "outputs": []
    },
    {
      "cell_type": "code",
      "metadata": {
        "colab": {
          "base_uri": "https://localhost:8080/"
        },
        "id": "G7ADR9VmBB5-",
        "outputId": "525bb7c9-aaa8-4af7-fec8-6465958d3e10"
      },
      "source": [
        "list_d"
      ],
      "execution_count": null,
      "outputs": [
        {
          "output_type": "execute_result",
          "data": {
            "text/plain": [
              "['a', 56]"
            ]
          },
          "metadata": {
            "tags": []
          },
          "execution_count": 40
        }
      ]
    },
    {
      "cell_type": "markdown",
      "metadata": {
        "id": "-grZqRNdBQw0"
      },
      "source": [
        "### การชี้ค่าใน list (indexing)\n",
        "\n",
        "1. ใช้ลำดับในการชี้\n",
        "2. ลำดับเริ่มจาก 0\n",
        "3. สามารถชี้จากข้างหลังได้โดยใช้ negative index"
      ]
    },
    {
      "cell_type": "code",
      "metadata": {
        "colab": {
          "base_uri": "https://localhost:8080/"
        },
        "id": "_HM9XWKTBDFy",
        "outputId": "76e66975-94df-4e55-8949-23a70a09a226"
      },
      "source": [
        "list_b"
      ],
      "execution_count": null,
      "outputs": [
        {
          "output_type": "execute_result",
          "data": {
            "text/plain": [
              "[2, 'xyz', [1, 2, 0.2, 'abs'], [1, 2, 0.0]]"
            ]
          },
          "metadata": {
            "tags": []
          },
          "execution_count": 41
        }
      ]
    },
    {
      "cell_type": "code",
      "metadata": {
        "colab": {
          "base_uri": "https://localhost:8080/"
        },
        "id": "wR1Cq0wUBp4r",
        "outputId": "ca89e2e5-bc7e-4a18-d550-4a3377878460"
      },
      "source": [
        "list_b[-1]   #ชี้ค่าข้างหลังสุด"
      ],
      "execution_count": null,
      "outputs": [
        {
          "output_type": "execute_result",
          "data": {
            "text/plain": [
              "[1, 2, 0.0]"
            ]
          },
          "metadata": {
            "tags": []
          },
          "execution_count": 42
        }
      ]
    },
    {
      "cell_type": "markdown",
      "metadata": {
        "id": "D810-ge9Cf07"
      },
      "source": [
        "### list slicing\n",
        "เราจะตัด list โดยเอาตั้งแต่ [ตัวหน้า: ตัวก่อนตัวหลัง] \\\n",
        "ถ้าเป็นสัญลักษณ์คณิตศาสตร์ [ตัวหน้า:ตัวหลัง] -> [ตัวหน้า,ตัวหลัง]"
      ]
    },
    {
      "cell_type": "code",
      "metadata": {
        "id": "wUVBJpzbBvif"
      },
      "source": [
        "list_ex = [1,2,3,5,6,8,-1,20,50,0]"
      ],
      "execution_count": null,
      "outputs": []
    },
    {
      "cell_type": "code",
      "metadata": {
        "colab": {
          "base_uri": "https://localhost:8080/"
        },
        "id": "K_4gog6dCtWr",
        "outputId": "e2bc18f7-40d0-4e5c-d080-069672d9e991"
      },
      "source": [
        "list_ex[1:6]   # : สัญลักษณ์ของ slicing\n",
        "                   # เราจะตัด list โดยเอาตั้งแต่ [ตัวหน้า: ตัวก่อนตัวหลัง]"
      ],
      "execution_count": null,
      "outputs": [
        {
          "output_type": "execute_result",
          "data": {
            "text/plain": [
              "[2, 3, 5, 6, 8]"
            ]
          },
          "metadata": {
            "tags": []
          },
          "execution_count": 44
        }
      ]
    },
    {
      "cell_type": "code",
      "metadata": {
        "colab": {
          "base_uri": "https://localhost:8080/"
        },
        "id": "c3BUCFLxCxhZ",
        "outputId": "941d0171-25f7-41b1-c231-4c72326114e7"
      },
      "source": [
        "list_ex[4:]"
      ],
      "execution_count": null,
      "outputs": [
        {
          "output_type": "execute_result",
          "data": {
            "text/plain": [
              "[6, 8, -1, 20, 50, 0]"
            ]
          },
          "metadata": {
            "tags": []
          },
          "execution_count": 45
        }
      ]
    },
    {
      "cell_type": "code",
      "metadata": {
        "colab": {
          "base_uri": "https://localhost:8080/"
        },
        "id": "hZPhkTHED0mW",
        "outputId": "549c4367-ad68-42d0-ddf6-57d2e8573ea3"
      },
      "source": [
        "list_ex[:6]"
      ],
      "execution_count": null,
      "outputs": [
        {
          "output_type": "execute_result",
          "data": {
            "text/plain": [
              "[1, 2, 3, 5, 6, 8]"
            ]
          },
          "metadata": {
            "tags": []
          },
          "execution_count": 46
        }
      ]
    },
    {
      "cell_type": "markdown",
      "metadata": {
        "id": "3mqrONrlEVdF"
      },
      "source": [
        "[จุดเริ่มต้น:จุดสุดท้าย:step] "
      ]
    },
    {
      "cell_type": "code",
      "metadata": {
        "colab": {
          "base_uri": "https://localhost:8080/"
        },
        "id": "hCerGIGbEibK",
        "outputId": "752ca71f-e1b3-4a30-f5f6-1d943d7b3fdb"
      },
      "source": [
        "list_ex"
      ],
      "execution_count": null,
      "outputs": [
        {
          "output_type": "execute_result",
          "data": {
            "text/plain": [
              "[1, 2, 3, 5, 6, 8, -1, 20, 50, 0]"
            ]
          },
          "metadata": {
            "tags": []
          },
          "execution_count": 47
        }
      ]
    },
    {
      "cell_type": "code",
      "metadata": {
        "colab": {
          "base_uri": "https://localhost:8080/"
        },
        "id": "5BWqPpubD3PQ",
        "outputId": "e0d28830-481c-4e46-8226-ceddc21b3718"
      },
      "source": [
        "list_ex[::2]"
      ],
      "execution_count": null,
      "outputs": [
        {
          "output_type": "execute_result",
          "data": {
            "text/plain": [
              "[1, 3, 6, -1, 50]"
            ]
          },
          "metadata": {
            "tags": []
          },
          "execution_count": 48
        }
      ]
    },
    {
      "cell_type": "code",
      "metadata": {
        "colab": {
          "base_uri": "https://localhost:8080/"
        },
        "id": "dQ4s-D_NEU61",
        "outputId": "e5496bb4-fa52-44b8-e1d8-234f072f41c8"
      },
      "source": [
        "list_ex[::-1]   # การกลับ list จากหลังมาหน้า จากหน้ามาหลัง"
      ],
      "execution_count": null,
      "outputs": [
        {
          "output_type": "execute_result",
          "data": {
            "text/plain": [
              "[0, 50, 20, -1, 8, 6, 5, 3, 2, 1]"
            ]
          },
          "metadata": {
            "tags": []
          },
          "execution_count": 49
        }
      ]
    },
    {
      "cell_type": "code",
      "metadata": {
        "colab": {
          "base_uri": "https://localhost:8080/",
          "height": 34
        },
        "id": "pC56sXEyE41D",
        "outputId": "6cc62d24-933e-451b-abd2-604c223a7096"
      },
      "source": [
        "a"
      ],
      "execution_count": null,
      "outputs": [
        {
          "output_type": "execute_result",
          "data": {
            "application/vnd.google.colaboratory.intrinsic+json": {
              "type": "string"
            },
            "text/plain": [
              "'Stat KKU'"
            ]
          },
          "metadata": {
            "tags": []
          },
          "execution_count": 50
        }
      ]
    },
    {
      "cell_type": "code",
      "metadata": {
        "colab": {
          "base_uri": "https://localhost:8080/",
          "height": 34
        },
        "id": "iIfRpqA3FOG2",
        "outputId": "baf9855f-a59a-4658-8166-02532f21cf8a"
      },
      "source": [
        "a[5:]"
      ],
      "execution_count": null,
      "outputs": [
        {
          "output_type": "execute_result",
          "data": {
            "application/vnd.google.colaboratory.intrinsic+json": {
              "type": "string"
            },
            "text/plain": [
              "'KKU'"
            ]
          },
          "metadata": {
            "tags": []
          },
          "execution_count": 51
        }
      ]
    },
    {
      "cell_type": "code",
      "metadata": {
        "colab": {
          "base_uri": "https://localhost:8080/",
          "height": 34
        },
        "id": "XMxKOX5DFThs",
        "outputId": "cf801c09-3474-4285-b4da-c68e35770606"
      },
      "source": [
        "a[-3:]"
      ],
      "execution_count": null,
      "outputs": [
        {
          "output_type": "execute_result",
          "data": {
            "application/vnd.google.colaboratory.intrinsic+json": {
              "type": "string"
            },
            "text/plain": [
              "'KKU'"
            ]
          },
          "metadata": {
            "tags": []
          },
          "execution_count": 52
        }
      ]
    },
    {
      "cell_type": "code",
      "metadata": {
        "colab": {
          "base_uri": "https://localhost:8080/",
          "height": 34
        },
        "id": "UDcU0K3ZGDsM",
        "outputId": "21231299-1bee-4a56-a8c1-4f18d1ff7b3e"
      },
      "source": [
        "a[5:8]"
      ],
      "execution_count": null,
      "outputs": [
        {
          "output_type": "execute_result",
          "data": {
            "application/vnd.google.colaboratory.intrinsic+json": {
              "type": "string"
            },
            "text/plain": [
              "'KKU'"
            ]
          },
          "metadata": {
            "tags": []
          },
          "execution_count": 53
        }
      ]
    },
    {
      "cell_type": "code",
      "metadata": {
        "colab": {
          "base_uri": "https://localhost:8080/",
          "height": 34
        },
        "id": "FBFDFlAIGKnP",
        "outputId": "1f78c275-93b6-404e-d71f-9784fd3cc22a"
      },
      "source": [
        "a[5::]"
      ],
      "execution_count": null,
      "outputs": [
        {
          "output_type": "execute_result",
          "data": {
            "application/vnd.google.colaboratory.intrinsic+json": {
              "type": "string"
            },
            "text/plain": [
              "'KKU'"
            ]
          },
          "metadata": {
            "tags": []
          },
          "execution_count": 54
        }
      ]
    },
    {
      "cell_type": "code",
      "metadata": {
        "colab": {
          "base_uri": "https://localhost:8080/",
          "height": 34
        },
        "id": "uSo_fF56GVXF",
        "outputId": "798fc9ea-f81f-4153-ce59-a1868617d564"
      },
      "source": [
        "a[-3::]"
      ],
      "execution_count": null,
      "outputs": [
        {
          "output_type": "execute_result",
          "data": {
            "application/vnd.google.colaboratory.intrinsic+json": {
              "type": "string"
            },
            "text/plain": [
              "'KKU'"
            ]
          },
          "metadata": {
            "tags": []
          },
          "execution_count": 55
        }
      ]
    },
    {
      "cell_type": "code",
      "metadata": {
        "colab": {
          "base_uri": "https://localhost:8080/",
          "height": 34
        },
        "id": "nWFTtFMoGix1",
        "outputId": "caac1bf3-391e-4288-cd78-62d8ad11fd6a"
      },
      "source": [
        "a[-3::1]"
      ],
      "execution_count": null,
      "outputs": [
        {
          "output_type": "execute_result",
          "data": {
            "application/vnd.google.colaboratory.intrinsic+json": {
              "type": "string"
            },
            "text/plain": [
              "'KKU'"
            ]
          },
          "metadata": {
            "tags": []
          },
          "execution_count": 56
        }
      ]
    },
    {
      "cell_type": "markdown",
      "metadata": {
        "id": "mGMQnjyPG5To"
      },
      "source": [
        "### list + list"
      ]
    },
    {
      "cell_type": "code",
      "metadata": {
        "colab": {
          "base_uri": "https://localhost:8080/"
        },
        "id": "_O-rjuTtHG6p",
        "outputId": "cbfd695b-ab05-4234-f45b-48235a030edb"
      },
      "source": [
        "print(list_a)\n",
        "print(list_b)"
      ],
      "execution_count": null,
      "outputs": [
        {
          "output_type": "stream",
          "text": [
            "[1, 2, 0.2, 'abs']\n",
            "[2, 'xyz', [1, 2, 0.2, 'abs'], [1, 2, 0.0]]\n"
          ],
          "name": "stdout"
        }
      ]
    },
    {
      "cell_type": "code",
      "metadata": {
        "colab": {
          "base_uri": "https://localhost:8080/"
        },
        "id": "AZl5HAnSGtFY",
        "outputId": "696a834e-f5f5-41de-bb17-bf23996fb226"
      },
      "source": [
        "list_a + list_b"
      ],
      "execution_count": null,
      "outputs": [
        {
          "output_type": "execute_result",
          "data": {
            "text/plain": [
              "[1, 2, 0.2, 'abs', 2, 'xyz', [1, 2, 0.2, 'abs'], [1, 2, 0.0]]"
            ]
          },
          "metadata": {
            "tags": []
          },
          "execution_count": 58
        }
      ]
    },
    {
      "cell_type": "markdown",
      "metadata": {
        "id": "UFTwtmavLbpQ"
      },
      "source": [
        "format string "
      ]
    },
    {
      "cell_type": "markdown",
      "metadata": {
        "id": "ENAfUhm0MFM3"
      },
      "source": [
        "```python\n",
        "f 'string{ตัวแปร}'\n",
        "```\n",
        "\n"
      ]
    },
    {
      "cell_type": "code",
      "metadata": {
        "colab": {
          "base_uri": "https://localhost:8080/",
          "height": 34
        },
        "id": "oKswhPdVLgEZ",
        "outputId": "27aaadb6-7370-4692-f266-604e64b5145f"
      },
      "source": [
        "f'ตัวแปร list_a มีค่าคือ {list_a}'"
      ],
      "execution_count": null,
      "outputs": [
        {
          "output_type": "execute_result",
          "data": {
            "application/vnd.google.colaboratory.intrinsic+json": {
              "type": "string"
            },
            "text/plain": [
              "\"ตัวแปร list_a มีค่าคือ [1, 2, 0.2, 'abs']\""
            ]
          },
          "metadata": {
            "tags": []
          },
          "execution_count": 59
        }
      ]
    },
    {
      "cell_type": "code",
      "metadata": {
        "colab": {
          "base_uri": "https://localhost:8080/",
          "height": 34
        },
        "id": "zsC6XPZTL3yF",
        "outputId": "860ed1ef-9821-4f39-e373-878f65610186"
      },
      "source": [
        "f'ตัวแปร list_ex มีค่าคือ {list_ex}'"
      ],
      "execution_count": null,
      "outputs": [
        {
          "output_type": "execute_result",
          "data": {
            "application/vnd.google.colaboratory.intrinsic+json": {
              "type": "string"
            },
            "text/plain": [
              "'ตัวแปร list_ex มีค่าคือ [1, 2, 3, 5, 6, 8, -1, 20, 50, 0]'"
            ]
          },
          "metadata": {
            "tags": []
          },
          "execution_count": 60
        }
      ]
    },
    {
      "cell_type": "markdown",
      "metadata": {
        "id": "_cXnmp5cHp97"
      },
      "source": [
        "## Loop"
      ]
    },
    {
      "cell_type": "markdown",
      "metadata": {
        "id": "9C3P4kS2B3Di"
      },
      "source": [
        "ทำงานซ้ำๆ หรือ ทำงานคล้ายๆกัน"
      ]
    },
    {
      "cell_type": "markdown",
      "metadata": {
        "id": "K7hYeRcHKkyR"
      },
      "source": [
        "indent\n",
        "```python\n",
        "for ตัวแปรที่จะรับค่าจาก list in list: ลิสต์ที่จะนำมาวนลูป: \n",
        "     do something  #in loop\n",
        "     do another thing   #in loop\n",
        "\n",
        "do snother things  # out side loop\n",
        "```\n",
        "\n"
      ]
    },
    {
      "cell_type": "code",
      "metadata": {
        "colab": {
          "base_uri": "https://localhost:8080/"
        },
        "id": "SQV6b_m-JzU7",
        "outputId": "45190b27-b010-4b4b-8daa-2fdbbff0d76e"
      },
      "source": [
        "for i in [1,2,3,4,5]:\n",
        "     print(i+1)"
      ],
      "execution_count": null,
      "outputs": [
        {
          "output_type": "stream",
          "text": [
            "2\n",
            "3\n",
            "4\n",
            "5\n",
            "6\n"
          ],
          "name": "stdout"
        }
      ]
    },
    {
      "cell_type": "code",
      "metadata": {
        "colab": {
          "base_uri": "https://localhost:8080/"
        },
        "id": "hJGWZdgIMjkc",
        "outputId": "ef6e48cf-6202-4e70-b38d-bf0fade1adc2"
      },
      "source": [
        "for x in [1,2,3,4,5]:\n",
        "     print(f'ค่าตัวแปร x คือ {x} และ x+2={x+2}')"
      ],
      "execution_count": null,
      "outputs": [
        {
          "output_type": "stream",
          "text": [
            "ค่าตัวแปร x คือ 1 และ x+2=3\n",
            "ค่าตัวแปร x คือ 2 และ x+2=4\n",
            "ค่าตัวแปร x คือ 3 และ x+2=5\n",
            "ค่าตัวแปร x คือ 4 และ x+2=6\n",
            "ค่าตัวแปร x คือ 5 และ x+2=7\n"
          ],
          "name": "stdout"
        }
      ]
    },
    {
      "cell_type": "code",
      "metadata": {
        "colab": {
          "base_uri": "https://localhost:8080/"
        },
        "id": "ixhFCGAVNCfl",
        "outputId": "6b3a4c5e-00db-4e8e-f203-8c5082b2a79c"
      },
      "source": [
        "list5=[1,2,3,4,5]\n",
        "for x in list5:\n",
        "     print(f'ค่าตัวแปร x คือ {x} และ x+2={x+2}')"
      ],
      "execution_count": null,
      "outputs": [
        {
          "output_type": "stream",
          "text": [
            "ค่าตัวแปร x คือ 1 และ x+2=3\n",
            "ค่าตัวแปร x คือ 2 และ x+2=4\n",
            "ค่าตัวแปร x คือ 3 และ x+2=5\n",
            "ค่าตัวแปร x คือ 4 และ x+2=6\n",
            "ค่าตัวแปร x คือ 5 และ x+2=7\n"
          ],
          "name": "stdout"
        }
      ]
    },
    {
      "cell_type": "code",
      "metadata": {
        "colab": {
          "base_uri": "https://localhost:8080/"
        },
        "id": "srGZBZoINOzB",
        "outputId": "d55e08f3-af48-4028-ea4f-051e6c07cced"
      },
      "source": [
        "list(range(10))"
      ],
      "execution_count": null,
      "outputs": [
        {
          "output_type": "execute_result",
          "data": {
            "text/plain": [
              "[0, 1, 2, 3, 4, 5, 6, 7, 8, 9]"
            ]
          },
          "metadata": {
            "tags": []
          },
          "execution_count": 64
        }
      ]
    },
    {
      "cell_type": "code",
      "metadata": {
        "colab": {
          "base_uri": "https://localhost:8080/"
        },
        "id": "ziaWWIY0Nh-0",
        "outputId": "f10e0708-3469-4aab-ed11-d687ba8c2df6"
      },
      "source": [
        "for i in range(2,7):\n",
        "     print(i)"
      ],
      "execution_count": null,
      "outputs": [
        {
          "output_type": "stream",
          "text": [
            "2\n",
            "3\n",
            "4\n",
            "5\n",
            "6\n"
          ],
          "name": "stdout"
        }
      ]
    },
    {
      "cell_type": "code",
      "metadata": {
        "colab": {
          "base_uri": "https://localhost:8080/"
        },
        "id": "SyTC0cULOGb8",
        "outputId": "42e944a6-bd73-4fad-8e31-973d14c1d7b9"
      },
      "source": [
        "for i in range(2,7,2):\n",
        "     print(i)"
      ],
      "execution_count": null,
      "outputs": [
        {
          "output_type": "stream",
          "text": [
            "2\n",
            "4\n",
            "6\n"
          ],
          "name": "stdout"
        }
      ]
    },
    {
      "cell_type": "code",
      "metadata": {
        "colab": {
          "base_uri": "https://localhost:8080/"
        },
        "id": "yJUu1-IlOeoW",
        "outputId": "8eea15f8-d53c-4a84-8180-f3e48bf49fac"
      },
      "source": [
        "for i in range(5):\n",
        "     print('hahaha')"
      ],
      "execution_count": null,
      "outputs": [
        {
          "output_type": "stream",
          "text": [
            "hahaha\n",
            "hahaha\n",
            "hahaha\n",
            "hahaha\n",
            "hahaha\n"
          ],
          "name": "stdout"
        }
      ]
    },
    {
      "cell_type": "code",
      "metadata": {
        "colab": {
          "base_uri": "https://localhost:8080/"
        },
        "id": "yGMtuC51OtcU",
        "outputId": "b218a5b0-fcfa-445d-8a98-0f10baf6b35f"
      },
      "source": [
        "for i in range(5):\n",
        "     print('hahaha')\n",
        "     x = i + 3\n",
        "     print(f'i={i} x={x}')"
      ],
      "execution_count": null,
      "outputs": [
        {
          "output_type": "stream",
          "text": [
            "hahaha\n",
            "i=0 x=3\n",
            "hahaha\n",
            "i=1 x=4\n",
            "hahaha\n",
            "i=2 x=5\n",
            "hahaha\n",
            "i=3 x=6\n",
            "hahaha\n",
            "i=4 x=7\n"
          ],
          "name": "stdout"
        }
      ]
    },
    {
      "cell_type": "markdown",
      "metadata": {
        "id": "5Wfkj44lPPeG"
      },
      "source": [
        "### Nested loop\n",
        "\n",
        "loopซ้อนloop"
      ]
    },
    {
      "cell_type": "code",
      "metadata": {
        "colab": {
          "base_uri": "https://localhost:8080/"
        },
        "id": "dHdj9gcePOTF",
        "outputId": "0e8c9836-4044-4939-9805-ef91843386d8"
      },
      "source": [
        "for i in range(3):\n",
        "     print(f' now i = {i}')\n",
        "     print('start j loop')\n",
        "     for j in range(4):\n",
        "          print(f'i={i} j={j} i+j={i+j}')\n",
        "     print('end j loop')"
      ],
      "execution_count": null,
      "outputs": [
        {
          "output_type": "stream",
          "text": [
            " now i = 0\n",
            "start j loop\n",
            "i=0 j=0 i+j=0\n",
            "i=0 j=1 i+j=1\n",
            "i=0 j=2 i+j=2\n",
            "i=0 j=3 i+j=3\n",
            "end j loop\n",
            " now i = 1\n",
            "start j loop\n",
            "i=1 j=0 i+j=1\n",
            "i=1 j=1 i+j=2\n",
            "i=1 j=2 i+j=3\n",
            "i=1 j=3 i+j=4\n",
            "end j loop\n",
            " now i = 2\n",
            "start j loop\n",
            "i=2 j=0 i+j=2\n",
            "i=2 j=1 i+j=3\n",
            "i=2 j=2 i+j=4\n",
            "i=2 j=3 i+j=5\n",
            "end j loop\n"
          ],
          "name": "stdout"
        }
      ]
    },
    {
      "cell_type": "markdown",
      "metadata": {
        "id": "0amX_0qqHsug"
      },
      "source": [
        "## Condition (if statement)\n"
      ]
    },
    {
      "cell_type": "markdown",
      "metadata": {
        "id": "dzwjsZt2FpfW"
      },
      "source": [
        "``` python\n",
        "if เงื่อนไขที่จะตรวจสอบ (โดยใช้สัญลักษณ์ ==,!=,<,>,<=,>=):\n",
        "    ถ้าเงื่อนไขเป็นจริง ทำงาน 1\n",
        "    ถ้าเงื่อนไขเป็นจริง ทไงาน 2\n",
        "```\n",
        "\n"
      ]
    },
    {
      "cell_type": "code",
      "metadata": {
        "colab": {
          "base_uri": "https://localhost:8080/"
        },
        "id": "2_uFd9viGNCO",
        "outputId": "50be3c53-0f0c-4ba4-b721-65a3ec6b8572"
      },
      "source": [
        "stringx = 'nonttanont taont916 looooooovvvvveeeeee'\n",
        "\n",
        "if len(stringx) > 30:\n",
        "    print(f'{stringx} is longer than 30 characters')"
      ],
      "execution_count": null,
      "outputs": [
        {
          "output_type": "stream",
          "text": [
            "nonttanont taont916 looooooovvvvveeeeee is longer than 30 characters\n"
          ],
          "name": "stdout"
        }
      ]
    },
    {
      "cell_type": "code",
      "metadata": {
        "id": "rvOY_e2_HQ8L"
      },
      "source": [
        "stringx = 'nonttanont taont916 looooooovvvvveeeeee'\n",
        "\n",
        "if len(stringx) > 100:\n",
        "    print(f'{stringx} is longer than 30 characters')"
      ],
      "execution_count": null,
      "outputs": []
    },
    {
      "cell_type": "markdown",
      "metadata": {
        "id": "yqEl-pQuHqIo"
      },
      "source": [
        "``` python\n",
        "if เงื่อนไขที่จะตรวจสอบ (โดยใช้สัญลักษณ์ ==,!=,<,>,<=,>=):\n",
        "    ถ้าเงื่อนไขเป็นจริง ทำงาน 1\n",
        "    ถ้าเงื่อนไขเป็นจริง ทไงาน 2\n",
        "else: #ตรวจสอบเงื่อนไขข้างบนแล้วไม่เป็นจริง\n",
        "      ทำงานที่ x \n",
        "```\n"
      ]
    },
    {
      "cell_type": "code",
      "metadata": {
        "colab": {
          "base_uri": "https://localhost:8080/"
        },
        "id": "p5SarDaeIEOi",
        "outputId": "02e5ecd6-4c5a-41ca-ae35-46a1d5484e23"
      },
      "source": [
        "stringx = 'nonttanont taont916 looooooovvvvveeeeee'\n",
        "\n",
        "if len(stringx) > 100:\n",
        "    print(f'{stringx} is longer than 30 characters')\n",
        "else:\n",
        "      print(f'{stringx} in {len(stringx)} characters long')    #ถ้าไม่มากกว่า100 ให้แสดงว่ามีเท่าไหร่"
      ],
      "execution_count": null,
      "outputs": [
        {
          "output_type": "stream",
          "text": [
            "nonttanont taont916 looooooovvvvveeeeee in 39 characters long\n"
          ],
          "name": "stdout"
        }
      ]
    },
    {
      "cell_type": "markdown",
      "metadata": {
        "id": "sYAWYfg5JxJo"
      },
      "source": [
        "``` python\n",
        "if เงื่อนไขที่จะตรวจสอบ (โดยใช้สัญลักษณ์ ==,!=,<,>,<=,>=):\n",
        "    ถ้าเงื่อนไขเป็นจริง ทำงาน 1\n",
        "    ถ้าเงื่อนไขเป็นจริง ทำงาน 2\n",
        "elif  เงื่อนไขที่จะตรวจสอบต่อไปถ้าเงื่อนไขข้างบนไม่เป็นจริง:\n",
        "     ถ้าเงื่อนไขเป็นจริง ทำงานที่ a1\n",
        "     ถ้าเงื่อนไขเป็นจริง ทำงานที่ a2\n",
        "elif  เงื่อนไขที่จะตรวจสอบต่อไปถ้าเงื่อนไขข้างบนไม่เป็นจริง:\n",
        "     ถ้าเงื่อนไขเป็นจริง ทำงานที่ b1\n",
        "     ถ้าเงื่อนไขเป็นจริง ทำงานที่ b2\n",
        "else: #ตรวจสอบเงื่อนไขข้างบนแล้วไม่เป็นจริง\n",
        "      ทำงานที่ x \n",
        "```"
      ]
    },
    {
      "cell_type": "code",
      "metadata": {
        "colab": {
          "base_uri": "https://localhost:8080/"
        },
        "id": "pL9iHuOfK--W",
        "outputId": "dad0b816-5dd5-4164-c1b5-680678d2bbec"
      },
      "source": [
        "password = '12345'\n",
        "\n",
        "input_pass = '123sf'\n",
        "if input_pass == password:\n",
        "    print('Welcome!')\n",
        "elif len(input_pass) > len(password):\n",
        "    print('Too long, try again!')\n",
        "elif len(input_pass) < len(password):\n",
        "    print('Too short, try again!')\n",
        "else:\n",
        "    print('Wrong password, try again!') "
      ],
      "execution_count": null,
      "outputs": [
        {
          "output_type": "stream",
          "text": [
            "Wrong password, try again!\n"
          ],
          "name": "stdout"
        }
      ]
    },
    {
      "cell_type": "markdown",
      "metadata": {
        "id": "SB1puNaFLI1c"
      },
      "source": [
        "Quiz 1 หา min"
      ]
    },
    {
      "cell_type": "code",
      "metadata": {
        "id": "qvs91nWEN9Lu"
      },
      "source": [
        "list_ex = [1,5,9,-19,-2,0]   #หาค่าน้อยที่สุดใน list_ex โดยไม่ใช้ function min (commit ก่อน 10.30 : Quiz1)"
      ],
      "execution_count": null,
      "outputs": []
    },
    {
      "cell_type": "code",
      "metadata": {
        "colab": {
          "base_uri": "https://localhost:8080/"
        },
        "id": "85EpQFkNO3uh",
        "outputId": "9fe36b74-ff1c-404b-cce8-f24f767b4a87"
      },
      "source": [
        "list_ex[3:4:2]"
      ],
      "execution_count": null,
      "outputs": [
        {
          "output_type": "execute_result",
          "data": {
            "text/plain": [
              "[-19]"
            ]
          },
          "metadata": {
            "tags": []
          },
          "execution_count": 75
        }
      ]
    },
    {
      "cell_type": "code",
      "metadata": {
        "colab": {
          "base_uri": "https://localhost:8080/"
        },
        "id": "dPVkxPrqSntM",
        "outputId": "797660b8-8302-43c4-a097-10784deed562"
      },
      "source": [
        "# เฉลย\n",
        "min = 1000000  #ตั้งค่าไว้ก่อนให้เยอะๆ\n",
        "\n",
        "for i in list_ex:   #วนเข้าไปดูตัวที่น้อยสุด\n",
        "     if i < min:\n",
        "         min = i\n",
        "print(min)"
      ],
      "execution_count": null,
      "outputs": [
        {
          "output_type": "stream",
          "text": [
            "-19\n"
          ],
          "name": "stdout"
        }
      ]
    },
    {
      "cell_type": "code",
      "metadata": {
        "colab": {
          "base_uri": "https://localhost:8080/"
        },
        "id": "_V-fkez2UP0j",
        "outputId": "1056e1d9-d4ec-4b20-c33f-a23a2e386e96"
      },
      "source": [
        "min = 1000000  #ตั้งค่าไว้ก่อนให้เยอะๆ\n",
        "print(list_ex)\n",
        "for i in list_ex:   #วนเข้าไปดูตัวที่น้อยสุด\n",
        "     print(f'now i = {i}, min = {min}')\n",
        "     print('start condition')\n",
        "     if i < min:\n",
        "        print(f'i < min, update min -> {i}')\n",
        "        min = i\n",
        "     else:\n",
        "          print('not update')\n",
        "     print('end condition, go to next i')\n",
        "\n",
        "print(min)"
      ],
      "execution_count": null,
      "outputs": [
        {
          "output_type": "stream",
          "text": [
            "[1, 5, 9, -19, -2, 0]\n",
            "now i = 1, min = 1000000\n",
            "start condition\n",
            "i < min, update min -> 1\n",
            "end condition, go to next i\n",
            "now i = 5, min = 1\n",
            "start condition\n",
            "not update\n",
            "end condition, go to next i\n",
            "now i = 9, min = 1\n",
            "start condition\n",
            "not update\n",
            "end condition, go to next i\n",
            "now i = -19, min = 1\n",
            "start condition\n",
            "i < min, update min -> -19\n",
            "end condition, go to next i\n",
            "now i = -2, min = -19\n",
            "start condition\n",
            "not update\n",
            "end condition, go to next i\n",
            "now i = 0, min = -19\n",
            "start condition\n",
            "not update\n",
            "end condition, go to next i\n",
            "-19\n"
          ],
          "name": "stdout"
        }
      ]
    },
    {
      "cell_type": "markdown",
      "metadata": {
        "id": "alljvCvZLNs9"
      },
      "source": [
        "HW 2 ตัดเกรด"
      ]
    },
    {
      "cell_type": "code",
      "metadata": {
        "id": "NFvPC6COTp4q"
      },
      "source": [
        "score = [49,65,70,95,82,55,89,20,77,77,81,59,10]   #ตัดเกรด คะแนนใน list score (ใช้ if กับ for)"
      ],
      "execution_count": null,
      "outputs": []
    },
    {
      "cell_type": "code",
      "metadata": {
        "id": "aLDsntgcNth3",
        "colab": {
          "base_uri": "https://localhost:8080/"
        },
        "outputId": "193c8367-187c-4c7c-b731-c6318c1896fa"
      },
      "source": [
        "print(score)\n",
        "for i in score:\n",
        "   if  i  >= 80:\n",
        "       print('grade \"A\" ')\n",
        "   elif  i  >= 75:\n",
        "         print('grade \"B+\" ')\n",
        "   elif  i  >= 70:\n",
        "         print('grade \"B\" ')\n",
        "   elif  i  >= 65:\n",
        "         print('grade \"C+\" ')\n",
        "   elif  i  >= 60:\n",
        "         print('grade \"C\" ')\n",
        "   elif  i  >= 55:\n",
        "         print('grade \"D+\" ')\n",
        "   elif  i  >= 50:\n",
        "         print('grade \"D\" ') \n",
        "   else:\n",
        "         print('grade \"F\" ')"
      ],
      "execution_count": null,
      "outputs": [
        {
          "output_type": "stream",
          "text": [
            "[49, 65, 70, 95, 82, 55, 89, 20, 77, 77, 81, 59, 10]\n",
            "grade \"F\" \n",
            "grade \"C+\" \n",
            "grade \"B\" \n",
            "grade \"A\" \n",
            "grade \"A\" \n",
            "grade \"B+\" \n",
            "grade \"A\" \n",
            "grade \"F\" \n",
            "grade \"B+\" \n",
            "grade \"B+\" \n",
            "grade \"A\" \n",
            "grade \"B+\" \n",
            "grade \"F\" \n"
          ],
          "name": "stdout"
        }
      ]
    },
    {
      "cell_type": "markdown",
      "metadata": {
        "id": "ETrryAwdFl88"
      },
      "source": [
        "## Function"
      ]
    },
    {
      "cell_type": "markdown",
      "metadata": {
        "id": "ouJOh3qaw6L0"
      },
      "source": [
        "**Function**\n",
        "\n",
        "```python\n",
        "def ชื่อฟังก์ชั้น(input1,input2,....):\n",
        "      งานxxx\n",
        "      งานyyy\n",
        "      return output\n",
        "```\n",
        "\n",
        "\n",
        "\n",
        "ส่วนประกอบสำคัญ\n",
        "*   input\n",
        "*   process (ไม่มีไม่ได้)\n",
        "*   output\n",
        "\n",
        "\n",
        "\n",
        "\n"
      ]
    },
    {
      "cell_type": "markdown",
      "metadata": {
        "id": "f5_IZp-mzA5O"
      },
      "source": [
        "![Capture.PNG](data:image/png;base64,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)"
      ]
    },
    {
      "cell_type": "markdown",
      "metadata": {
        "id": "nFsCpnkgzEJM"
      },
      "source": [
        "Example 1"
      ]
    },
    {
      "cell_type": "code",
      "metadata": {
        "id": "0IU-zFTHHC6J"
      },
      "source": [
        "def grading(score):\n",
        "      if  score  >= 80:\n",
        "            grade = 'A'\n",
        "      elif  score  >= 75:\n",
        "            grade = 'B+'\n",
        "      elif  score  >= 70:\n",
        "            grade = 'B'\n",
        "      elif  score  >= 65:\n",
        "            grade = 'C+'\n",
        "      elif  score  >= 60:\n",
        "            grade = 'C'\n",
        "      elif  score  >= 55:\n",
        "            grade = 'D+'\n",
        "      elif  score  >= 50:\n",
        "            grade = 'D' \n",
        "      else:\n",
        "            grade = 'F'\n",
        "\n",
        "      return grade"
      ],
      "execution_count": null,
      "outputs": []
    },
    {
      "cell_type": "code",
      "metadata": {
        "colab": {
          "base_uri": "https://localhost:8080/"
        },
        "id": "pZe9CBa50yUr",
        "outputId": "eacaa479-430c-4218-b2a2-e1f067f989f3"
      },
      "source": [
        "score = [49,65,70,95,82,55,89,20,77,77,81,59,10]\n",
        "for i in score:\n",
        "     print(f'คะแนน {i} ได้เกรด {grading(i)}')"
      ],
      "execution_count": null,
      "outputs": [
        {
          "output_type": "stream",
          "text": [
            "คะแนน 49 ได้เกรด F\n",
            "คะแนน 65 ได้เกรด C+\n",
            "คะแนน 70 ได้เกรด B\n",
            "คะแนน 95 ได้เกรด A\n",
            "คะแนน 82 ได้เกรด A\n",
            "คะแนน 55 ได้เกรด D+\n",
            "คะแนน 89 ได้เกรด A\n",
            "คะแนน 20 ได้เกรด F\n",
            "คะแนน 77 ได้เกรด B+\n",
            "คะแนน 77 ได้เกรด B+\n",
            "คะแนน 81 ได้เกรด A\n",
            "คะแนน 59 ได้เกรด D+\n",
            "คะแนน 10 ได้เกรด F\n"
          ],
          "name": "stdout"
        }
      ]
    },
    {
      "cell_type": "code",
      "metadata": {
        "id": "Y4LyKN-g1USh"
      },
      "source": [
        "def grading_list(list_score):\n",
        "    grade_list = []\n",
        "    for score in list_score:\n",
        "        if  score  >= 80:\n",
        "            grade = 'A'\n",
        "        elif  score  >= 75:\n",
        "            grade = 'B+'\n",
        "        elif  score  >= 70:\n",
        "            grade = 'B'\n",
        "        elif  score  >= 65:\n",
        "            grade = 'C+'\n",
        "        elif  score  >= 60:\n",
        "            grade = 'C'\n",
        "        elif  score  >= 55:\n",
        "            grade = 'D+'\n",
        "        elif  score  >= 50:\n",
        "            grade = 'D' \n",
        "        else:\n",
        "            grade = 'F'\n",
        "        grade_list.append([score,grade])\n",
        "    return grade_list"
      ],
      "execution_count": null,
      "outputs": []
    },
    {
      "cell_type": "code",
      "metadata": {
        "colab": {
          "base_uri": "https://localhost:8080/"
        },
        "id": "9xQfiN-J3rEh",
        "outputId": "bf2f7ae5-726d-4912-a971-1b46e27c104e"
      },
      "source": [
        "g = grading_list(score)\n",
        "g"
      ],
      "execution_count": null,
      "outputs": [
        {
          "output_type": "execute_result",
          "data": {
            "text/plain": [
              "[[49, 'F'],\n",
              " [65, 'C+'],\n",
              " [70, 'B'],\n",
              " [95, 'A'],\n",
              " [82, 'A'],\n",
              " [55, 'D+'],\n",
              " [89, 'A'],\n",
              " [20, 'F'],\n",
              " [77, 'B+'],\n",
              " [77, 'B+'],\n",
              " [81, 'A'],\n",
              " [59, 'D+'],\n",
              " [10, 'F']]"
            ]
          },
          "metadata": {
            "tags": []
          },
          "execution_count": 96
        }
      ]
    },
    {
      "cell_type": "code",
      "metadata": {
        "id": "Ov7wQuyg3v7B"
      },
      "source": [
        "for i in score:\n",
        "     print(f'คะแนน {i[0]} ได้เกรด {grading(i)}')"
      ],
      "execution_count": null,
      "outputs": []
    },
    {
      "cell_type": "code",
      "metadata": {
        "id": "dPq7-jah7fSf"
      },
      "source": [
        "def grading2(score):\n",
        "      if  score  >= 80:\n",
        "            return  'A'\n",
        "      elif  score  >= 75:\n",
        "            return  'B+'\n",
        "      elif  score  >= 70:\n",
        "            return  'B'\n",
        "      elif  score  >= 65:\n",
        "            return  'C+'\n",
        "      elif  score  >= 60:\n",
        "            return  'C'\n",
        "      elif  score  >= 55:\n",
        "            return  'D+'\n",
        "      elif  score  >= 50:\n",
        "            return  'D' \n",
        "      else:\n",
        "            return  'F'\n"
      ],
      "execution_count": null,
      "outputs": []
    },
    {
      "cell_type": "code",
      "metadata": {
        "colab": {
          "base_uri": "https://localhost:8080/"
        },
        "id": "phj3fitV75S7",
        "outputId": "5346de60-4deb-4729-8c97-bf7251085088"
      },
      "source": [
        "score = [49,65,70,95,82,55,89,20,77,77,81,59,10]\n",
        "for i in score:\n",
        "     print(f'คะแนน {i} ได้เกรด {grading2(i)}')"
      ],
      "execution_count": null,
      "outputs": [
        {
          "output_type": "stream",
          "text": [
            "คะแนน 49 ได้เกรด F\n",
            "คะแนน 65 ได้เกรด C+\n",
            "คะแนน 70 ได้เกรด B\n",
            "คะแนน 95 ได้เกรด A\n",
            "คะแนน 82 ได้เกรด A\n",
            "คะแนน 55 ได้เกรด D+\n",
            "คะแนน 89 ได้เกรด A\n",
            "คะแนน 20 ได้เกรด F\n",
            "คะแนน 77 ได้เกรด B+\n",
            "คะแนน 77 ได้เกรด B+\n",
            "คะแนน 81 ได้เกรด A\n",
            "คะแนน 59 ได้เกรด D+\n",
            "คะแนน 10 ได้เกรด F\n"
          ],
          "name": "stdout"
        }
      ]
    },
    {
      "cell_type": "markdown",
      "metadata": {
        "id": "11ZYKTBQ9Ulx"
      },
      "source": [
        "Example 2 (ไม่มี input)"
      ]
    },
    {
      "cell_type": "code",
      "metadata": {
        "id": "ywOpGdPu8VxW"
      },
      "source": [
        "def mypi():\n",
        "      return 3.14"
      ],
      "execution_count": null,
      "outputs": []
    },
    {
      "cell_type": "code",
      "metadata": {
        "colab": {
          "base_uri": "https://localhost:8080/"
        },
        "id": "DqugzuyX9guN",
        "outputId": "6f784a42-e448-4f59-bf85-161c2a8fc47e"
      },
      "source": [
        "r=10\n",
        "print(f'รัศมี={r} จะมีเส้นรอบวง={2*mypi()*r}')"
      ],
      "execution_count": null,
      "outputs": [
        {
          "output_type": "stream",
          "text": [
            "รัศมี=10 จะมีเส้นรอบวง=62.800000000000004\n"
          ],
          "name": "stdout"
        }
      ]
    },
    {
      "cell_type": "markdown",
      "metadata": {
        "id": "wRoVH5SY-Dfb"
      },
      "source": [
        "Example 3 (ไม่มี output)"
      ]
    },
    {
      "cell_type": "code",
      "metadata": {
        "id": "PH-5Bbg09sjp"
      },
      "source": [
        "def grading_nooutput(score):\n",
        "    if  i  >= 80:\n",
        "         print('grade \"A\" ')\n",
        "    elif  i  >= 75:\n",
        "        print('grade \"B+\" ')\n",
        "    elif  i  >= 70:\n",
        "        print('grade \"B\" ')\n",
        "    elif  i  >= 65:\n",
        "        print('grade \"C+\" ')\n",
        "    elif  i  >= 60:\n",
        "        print('grade \"C\" ')\n",
        "    elif  i  >= 55:\n",
        "        print('grade \"D+\" ')\n",
        "    elif  i  >= 50:\n",
        "        print('grade \"D\" ') \n",
        "    else:\n",
        "        print('grade \"F\" ')"
      ],
      "execution_count": null,
      "outputs": []
    },
    {
      "cell_type": "code",
      "metadata": {
        "colab": {
          "base_uri": "https://localhost:8080/"
        },
        "id": "Ey0hyMfD-dQR",
        "outputId": "fdf60b22-5c54-4b5d-ca76-87ed9a5e5f1e"
      },
      "source": [
        "score = [49,65,70,95,82,55,89,20,77,77,81,59,10]\n",
        "for i in score:\n",
        "     print(f'คะแนน {i}',end=' ')\n",
        "     grading_nooutput(i)"
      ],
      "execution_count": null,
      "outputs": [
        {
          "output_type": "stream",
          "text": [
            "คะแนน 49 grade \"F\" \n",
            "คะแนน 65 grade \"C+\" \n",
            "คะแนน 70 grade \"B\" \n",
            "คะแนน 95 grade \"A\" \n",
            "คะแนน 82 grade \"A\" \n",
            "คะแนน 55 grade \"D+\" \n",
            "คะแนน 89 grade \"A\" \n",
            "คะแนน 20 grade \"F\" \n",
            "คะแนน 77 grade \"B+\" \n",
            "คะแนน 77 grade \"B+\" \n",
            "คะแนน 81 grade \"A\" \n",
            "คะแนน 59 grade \"D+\" \n",
            "คะแนน 10 grade \"F\" \n"
          ],
          "name": "stdout"
        }
      ]
    },
    {
      "cell_type": "markdown",
      "metadata": {
        "id": "pkJcZNfT_sWF"
      },
      "source": [
        "Example 3 (ไม่มี input และ output)"
      ]
    },
    {
      "cell_type": "code",
      "metadata": {
        "id": "weJTqo6P_FfR"
      },
      "source": [
        "def draw_rect():\n",
        "      print('=============')\n",
        "      print('|           |')\n",
        "      print('|           |')\n",
        "      print('=============')"
      ],
      "execution_count": null,
      "outputs": []
    },
    {
      "cell_type": "code",
      "metadata": {
        "colab": {
          "base_uri": "https://localhost:8080/"
        },
        "id": "WpdQ5OzhAJkg",
        "outputId": "0213a272-713a-46bb-8158-1cd8e94ced6d"
      },
      "source": [
        "draw_rect()\n",
        "draw_rect()"
      ],
      "execution_count": null,
      "outputs": [
        {
          "output_type": "stream",
          "text": [
            "=============\n",
            "|                            |\n",
            "|                            |\n",
            "=============\n",
            "=============\n",
            "|                            |\n",
            "|                            |\n",
            "=============\n"
          ],
          "name": "stdout"
        }
      ]
    },
    {
      "cell_type": "code",
      "metadata": {
        "id": "55EJkzSEAQ6Y"
      },
      "source": [
        "def draw_love():\n",
        "      print('|||            ======   \\\\\\               ///   =======')\n",
        "      print('|||            ======    \\\\\\             ///    |||')\n",
        "      print('|||            |||       |||     \\\\\\          ///      |||')\n",
        "      print('|||            |||       |||      \\\\\\        ///       =======')\n",
        "      print('|||            |||       |||       \\\\\\      ///        |||')\n",
        "      print('=====    ======         \\\\\\   ///         |||')\n",
        "      print('=====    ======          \\\\\\ ///          =======')"
      ],
      "execution_count": null,
      "outputs": []
    },
    {
      "cell_type": "code",
      "metadata": {
        "id": "MuvsZ1YQFKo0",
        "colab": {
          "base_uri": "https://localhost:8080/"
        },
        "outputId": "3a3aae90-738a-4944-e4b6-1b0f09bf957e"
      },
      "source": [
        "print(draw_love())"
      ],
      "execution_count": null,
      "outputs": [
        {
          "output_type": "stream",
          "text": [
            "|||            ======   \\\\               ///   =======\n",
            "|||            ======    \\\\             ///    |||\n",
            "|||            |||       |||     \\\\          ///      |||\n",
            "|||            |||       |||      \\\\        ///       =======\n",
            "|||            |||       |||       \\\\      ///        |||\n",
            "=====    ======         \\\\   ///         |||\n",
            "=====    ======          \\\\ ///          =======\n",
            "None\n"
          ],
          "name": "stdout"
        }
      ]
    },
    {
      "cell_type": "markdown",
      "metadata": {
        "id": "BJKCFhdaBRWd"
      },
      "source": [
        "### ลักษณะของ input(paramrter)\n",
        "\n",
        "\n",
        "\n",
        "\n",
        "*   จำเป็นต้องใส่\n",
        "*   ไม่จำเป็นต้องใส่\n",
        "\n"
      ]
    },
    {
      "cell_type": "code",
      "metadata": {
        "id": "_G_ZZhetBfbe"
      },
      "source": [
        "def A(input1, input2=3):\n",
        "     return input1+input2"
      ],
      "execution_count": null,
      "outputs": []
    },
    {
      "cell_type": "code",
      "metadata": {
        "colab": {
          "base_uri": "https://localhost:8080/"
        },
        "id": "H-ygh0VCCEOZ",
        "outputId": "b84329cb-6c3e-4c38-c55f-7933f38ba2c5"
      },
      "source": [
        "A(1)   #ใส่แค่ input1 "
      ],
      "execution_count": null,
      "outputs": [
        {
          "output_type": "execute_result",
          "data": {
            "text/plain": [
              "4"
            ]
          },
          "metadata": {
            "tags": []
          },
          "execution_count": 114
        }
      ]
    },
    {
      "cell_type": "code",
      "metadata": {
        "colab": {
          "base_uri": "https://localhost:8080/"
        },
        "id": "1VIOStUACGYM",
        "outputId": "987c29be-aa4e-413c-ec9b-e9b54ed53b60"
      },
      "source": [
        "A(1,6)   #ใส่ทั้งสอง input"
      ],
      "execution_count": null,
      "outputs": [
        {
          "output_type": "execute_result",
          "data": {
            "text/plain": [
              "7"
            ]
          },
          "metadata": {
            "tags": []
          },
          "execution_count": 115
        }
      ]
    },
    {
      "cell_type": "code",
      "metadata": {
        "id": "KAyc_-fLCtlC"
      },
      "source": [
        "def printlove(input1, input2 = 'Stat', input3 = 'KKU'):\n",
        "      print(f'{input1} love {input2} {input3}')"
      ],
      "execution_count": null,
      "outputs": []
    },
    {
      "cell_type": "code",
      "metadata": {
        "colab": {
          "base_uri": "https://localhost:8080/"
        },
        "id": "wTFW0Y-WDi1B",
        "outputId": "c80c8d13-d85f-433d-a114-7b658f3741be"
      },
      "source": [
        "printlove('Nonttanont')"
      ],
      "execution_count": null,
      "outputs": [
        {
          "output_type": "stream",
          "text": [
            "Nonttanont love Stat KKU\n"
          ],
          "name": "stdout"
        }
      ]
    },
    {
      "cell_type": "code",
      "metadata": {
        "colab": {
          "base_uri": "https://localhost:8080/"
        },
        "id": "3CvQQY6qDnV-",
        "outputId": "f1ae097c-0b4d-4e52-b4b8-3056d24a74b3"
      },
      "source": [
        "printlove('Nonttanont','SI','Stat')"
      ],
      "execution_count": null,
      "outputs": [
        {
          "output_type": "stream",
          "text": [
            "Nonttanont love SI Stat\n"
          ],
          "name": "stdout"
        }
      ]
    },
    {
      "cell_type": "code",
      "metadata": {
        "colab": {
          "base_uri": "https://localhost:8080/"
        },
        "id": "Y1HnB7JjD0jT",
        "outputId": "f3cbbebd-e3d7-4af5-f35e-0820c60659b3"
      },
      "source": [
        "printlove(input3 = 'Nonttanont',input2 = 'SI', input1 = 'Stat')"
      ],
      "execution_count": null,
      "outputs": [
        {
          "output_type": "stream",
          "text": [
            "Stat love SI Nonttanont\n"
          ],
          "name": "stdout"
        }
      ]
    },
    {
      "cell_type": "markdown",
      "metadata": {
        "id": "6XhKLuqXH6Mh"
      },
      "source": [
        "![image.png](data:image/png;base64,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)"
      ]
    },
    {
      "cell_type": "markdown",
      "metadata": {
        "id": "eumb7AH9FWIp"
      },
      "source": [
        "### HW4\n",
        "สร้างฟังก์ชัน\n",
        "\n",
        "\n",
        "*   วาดรูปบ้าน\n",
        "*   วาดรูปต้นไม้\n",
        "\n"
      ]
    },
    {
      "cell_type": "code",
      "metadata": {
        "id": "gkZVH-lIEOcx"
      },
      "source": [
        "def draw_re():\n",
        "      print('........=.........')\n",
        "      print('.......===........')\n",
        "      print('.....=======......')\n",
        "      print('==================')\n",
        "      print('|      I   I      |')\n",
        "      print('|      I   I      |')\n",
        "      print('==================')"
      ],
      "execution_count": null,
      "outputs": []
    },
    {
      "cell_type": "code",
      "metadata": {
        "colab": {
          "base_uri": "https://localhost:8080/"
        },
        "id": "dR_UX5CZI1VK",
        "outputId": "7ed3ef12-f0f2-41e2-8692-373954dd1f63"
      },
      "source": [
        "draw_re()"
      ],
      "execution_count": null,
      "outputs": [
        {
          "output_type": "stream",
          "text": [
            "........=.........\n",
            ".......===........\n",
            ".....=======......\n",
            "==================\n",
            "|      I   I      |\n",
            "|      I   I      |\n",
            "==================\n"
          ],
          "name": "stdout"
        }
      ]
    },
    {
      "cell_type": "code",
      "metadata": {
        "id": "lhIkAsiBJhCG"
      },
      "source": [
        "def draw_re2():\n",
        "      print('        0         ')\n",
        "      print('       000        ')\n",
        "      print('      00000       ')\n",
        "      print('      00000       ')\n",
        "      print('       000        ')\n",
        "      print('        =         ')\n",
        "      print('        =         ')"
      ],
      "execution_count": null,
      "outputs": []
    },
    {
      "cell_type": "code",
      "metadata": {
        "id": "jbAImyNdKLrk",
        "colab": {
          "base_uri": "https://localhost:8080/"
        },
        "outputId": "9710cdee-803f-4a1c-c6b9-e0269c6ab77f"
      },
      "source": [
        "draw_re2()"
      ],
      "execution_count": null,
      "outputs": [
        {
          "output_type": "stream",
          "text": [
            "        0         \n",
            "       000        \n",
            "      00000       \n",
            "      00000       \n",
            "       000        \n",
            "        =         \n",
            "        =         \n"
          ],
          "name": "stdout"
        }
      ]
    }
  ]
}