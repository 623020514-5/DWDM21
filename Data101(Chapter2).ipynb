{
  "nbformat": 4,
  "nbformat_minor": 0,
  "metadata": {
    "colab": {
      "name": "Data101(Chapter2).ipynb",
      "provenance": [],
      "authorship_tag": "ABX9TyOdbUT2x4ja9g3nKVP2p1PB",
      "include_colab_link": true
    },
    "kernelspec": {
      "name": "python3",
      "display_name": "Python 3"
    },
    "language_info": {
      "name": "python"
    }
  },
  "cells": [
    {
      "cell_type": "markdown",
      "metadata": {
        "id": "view-in-github",
        "colab_type": "text"
      },
      "source": [
        "<a href=\"https://colab.research.google.com/github/623020514-5/DWDM21/blob/main/Data101(Chapter2).ipynb\" target=\"_parent\"><img src=\"https://colab.research.google.com/assets/colab-badge.svg\" alt=\"Open In Colab\"/></a>"
      ]
    },
    {
      "cell_type": "markdown",
      "metadata": {
        "id": "dOEqyisEt_Ot"
      },
      "source": [
        "![image.png](data:image/png;base64,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)"
      ]
    },
    {
      "cell_type": "code",
      "metadata": {
        "id": "7N3IDIrmKoHw"
      },
      "source": [
        "import pandas #เรียกใช้ package เพื่อนำเข้าโดยใช้คำสั่ง import แล้วตามด้วยชื่อ package"
      ],
      "execution_count": 144,
      "outputs": []
    },
    {
      "cell_type": "code",
      "metadata": {
        "id": "24OjunKJuCXt"
      },
      "source": [
        "import pandas as pd #เป็นการนำเข้าเหมือนกับด้านบน แต่ตั้งชื่อให้เป็น pd เพื่อให้ใช้งานง่ายขึ้น"
      ],
      "execution_count": 145,
      "outputs": []
    },
    {
      "cell_type": "markdown",
      "metadata": {
        "id": "zdVoupchvDwV"
      },
      "source": [
        "ไฟล์ .csv (CSV = comma separated values )จะใช้เก็บข้อมูลตาราง อ่านง่าย คนอ่านได้คอมอ่านได้ จะจัดเก็บตารางและใช้งานง่ายกว่า ไฟล์ word"
      ]
    },
    {
      "cell_type": "markdown",
      "metadata": {
        "id": "LdR036E5xbRF"
      },
      "source": [
        "how to csv file\n",
        "\n",
        "1.เข้าไปที่ ไฟล์\n",
        "\n",
        "![image.png](data:image/png;base64,iVBORw0KGgoAAAANSUhEUgAAAEEAAAA1CAYAAAAeRIaSAAABIElEQVRoBe2YjQmDMBBGXcV5XMcJnMB1zChu4QRXgtwhUk1zxHLCEyT980i/vJez7eQFx7quj86ye7R6o+KEICKEQAi7T5AACZBgvQUd0AEd0MESQIdgOizLIvM8fz23bTsuXPPHIbrDNE3S9/3lOQyDPBlEiBDuAtD3chBXpOjrKSUXJa8JQcMojeM4VgcRKgRdUe+oAdWmECqE2smfP08IIraxnsMpPYeEKDdLXozPK+ytAwmQsLMECZAACbavhtLBe6eo1726O5R+ReqX+2XMtWqPECTkSd/9n6ArXRpzDc8RJgTP5FtdQwhRWmSrFfXWgQRI2NmBBEiABNtH0QEd0AEdLAF0QAeDge6ADuiADpYAOqCDwUB3QAd0+JsOHwOqL2eILZKPAAAAAElFTkSuQmCC)\n",
        "\n",
        "2.คลิ๊กขวาแล้วกด New file แล้วตั้งชื่อไฟล์ จากนั้นคลิ๊กที่ไฟล์\n",
        "\n",
        "3.ใส่หัวคอลัมน์ เช่น name,age,city\n",
        "\n",
        "4.ใส่ข้อมูลให้ตรงกับหัวคอลัมน์ เช่น อ้อณ,21,Ubon\n",
        "\n",
        "5.เมื่อใส่ข้อมูลครบแล้วให้กากบาทออก แล้วไปเปลี่ยนสกุลไฟล์เป็น .csv"
      ]
    },
    {
      "cell_type": "code",
      "metadata": {
        "id": "X4Ik_QkgvckL"
      },
      "source": [
        "data_df = pd.read_csv('data.csv')"
      ],
      "execution_count": 146,
      "outputs": []
    },
    {
      "cell_type": "code",
      "metadata": {
        "id": "LJqs6qd4xRGf",
        "colab": {
          "base_uri": "https://localhost:8080/",
          "height": 80
        },
        "outputId": "4f6f00a4-a0f4-40c2-a16d-de40bf435738"
      },
      "source": [
        "data_df"
      ],
      "execution_count": 147,
      "outputs": [
        {
          "output_type": "execute_result",
          "data": {
            "text/html": [
              "<div>\n",
              "<style scoped>\n",
              "    .dataframe tbody tr th:only-of-type {\n",
              "        vertical-align: middle;\n",
              "    }\n",
              "\n",
              "    .dataframe tbody tr th {\n",
              "        vertical-align: top;\n",
              "    }\n",
              "\n",
              "    .dataframe thead th {\n",
              "        text-align: right;\n",
              "    }\n",
              "</style>\n",
              "<table border=\"1\" class=\"dataframe\">\n",
              "  <thead>\n",
              "    <tr style=\"text-align: right;\">\n",
              "      <th></th>\n",
              "      <th>name</th>\n",
              "      <th>age</th>\n",
              "      <th>city</th>\n",
              "    </tr>\n",
              "  </thead>\n",
              "  <tbody>\n",
              "    <tr>\n",
              "      <th>0</th>\n",
              "      <td>aon</td>\n",
              "      <td>21</td>\n",
              "      <td>Ubon</td>\n",
              "    </tr>\n",
              "  </tbody>\n",
              "</table>\n",
              "</div>"
            ],
            "text/plain": [
              "  name  age  city\n",
              "0  aon   21  Ubon"
            ]
          },
          "metadata": {
            "tags": []
          },
          "execution_count": 147
        }
      ]
    },
    {
      "cell_type": "code",
      "metadata": {
        "id": "nmWsMe9LyfQu",
        "colab": {
          "base_uri": "https://localhost:8080/",
          "height": 80
        },
        "outputId": "8dfb2d5f-23d0-40f1-beb4-42820fc44a9f"
      },
      "source": [
        "data_df2 = pandas.read_csv('data.csv')\n",
        "data_df2"
      ],
      "execution_count": 148,
      "outputs": [
        {
          "output_type": "execute_result",
          "data": {
            "text/html": [
              "<div>\n",
              "<style scoped>\n",
              "    .dataframe tbody tr th:only-of-type {\n",
              "        vertical-align: middle;\n",
              "    }\n",
              "\n",
              "    .dataframe tbody tr th {\n",
              "        vertical-align: top;\n",
              "    }\n",
              "\n",
              "    .dataframe thead th {\n",
              "        text-align: right;\n",
              "    }\n",
              "</style>\n",
              "<table border=\"1\" class=\"dataframe\">\n",
              "  <thead>\n",
              "    <tr style=\"text-align: right;\">\n",
              "      <th></th>\n",
              "      <th>name</th>\n",
              "      <th>age</th>\n",
              "      <th>city</th>\n",
              "    </tr>\n",
              "  </thead>\n",
              "  <tbody>\n",
              "    <tr>\n",
              "      <th>0</th>\n",
              "      <td>aon</td>\n",
              "      <td>21</td>\n",
              "      <td>Ubon</td>\n",
              "    </tr>\n",
              "  </tbody>\n",
              "</table>\n",
              "</div>"
            ],
            "text/plain": [
              "  name  age  city\n",
              "0  aon   21  Ubon"
            ]
          },
          "metadata": {
            "tags": []
          },
          "execution_count": 148
        }
      ]
    },
    {
      "cell_type": "markdown",
      "metadata": {
        "id": "WzMWD_x6ypiJ"
      },
      "source": [
        "# Basic Python\n",
        "## variable\n",
        "\n",
        "\n",
        " มาร์คดาวน์ เป็นการทำหัวข้อ หรือทำให้ข้อความดูเด่นขึ้น"
      ]
    },
    {
      "cell_type": "markdown",
      "metadata": {
        "id": "pWIsUMfF1vOP"
      },
      "source": [
        "การตั้งชื่อตัวแปร\n",
        "\n",
        "1. ชื่อห้ามมีเว้นวรรคให้ใช้ _ แทนก็ได้\n",
        "\n",
        "2. ให้ใช้ English ไทยอาจได้บางโปรแกรม แต่ไม่ควร ดังนั้น พยายามใช้ชื่\n",
        "\n",
        "3. ตัวพิมพ์เล็กพิมพ์ใหญ่แตกต่างกัน ไม่ถือเป็นตัวเดียวกัน case sensitive\n",
        "\n",
        "4. ห้ามใช้ตัวเลขเป็นตัวหน้า"
      ]
    },
    {
      "cell_type": "code",
      "metadata": {
        "id": "WcQNSJ3Y0M-E"
      },
      "source": [
        "variable_a = 12 \n",
        "variable_b = 'abcde' # '' เรียกว่า โค้ด quote แสดงข้อมูลว่าเป็นข้อความ ตัวอักษรหรือ string\n",
        "variable_c = variable_a"
      ],
      "execution_count": 149,
      "outputs": []
    },
    {
      "cell_type": "code",
      "metadata": {
        "id": "I-HUTvo21QEX",
        "colab": {
          "base_uri": "https://localhost:8080/"
        },
        "outputId": "642b7a75-73f6-458a-e48f-28b02c4d921d"
      },
      "source": [
        "variable_a"
      ],
      "execution_count": 150,
      "outputs": [
        {
          "output_type": "execute_result",
          "data": {
            "text/plain": [
              "12"
            ]
          },
          "metadata": {
            "tags": []
          },
          "execution_count": 150
        }
      ]
    },
    {
      "cell_type": "code",
      "metadata": {
        "id": "FY7r72Dj1STj",
        "colab": {
          "base_uri": "https://localhost:8080/",
          "height": 35
        },
        "outputId": "8adea6d4-c424-4ba6-b899-c6ee7c0a65b5"
      },
      "source": [
        "variable_b"
      ],
      "execution_count": 151,
      "outputs": [
        {
          "output_type": "execute_result",
          "data": {
            "application/vnd.google.colaboratory.intrinsic+json": {
              "type": "string"
            },
            "text/plain": [
              "'abcde'"
            ]
          },
          "metadata": {
            "tags": []
          },
          "execution_count": 151
        }
      ]
    },
    {
      "cell_type": "code",
      "metadata": {
        "id": "KCXtAdQw1UJh",
        "colab": {
          "base_uri": "https://localhost:8080/"
        },
        "outputId": "5809bd4c-7975-4cb7-995f-acb1ff1bf869"
      },
      "source": [
        "variable_c"
      ],
      "execution_count": 152,
      "outputs": [
        {
          "output_type": "execute_result",
          "data": {
            "text/plain": [
              "12"
            ]
          },
          "metadata": {
            "tags": []
          },
          "execution_count": 152
        }
      ]
    },
    {
      "cell_type": "markdown",
      "metadata": {
        "id": "8l08CU5b-2LV"
      },
      "source": [
        "![image.png](data:image/png;base64,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)"
      ]
    },
    {
      "cell_type": "code",
      "metadata": {
        "id": "c5w6t3Xq3Jm2",
        "colab": {
          "base_uri": "https://localhost:8080/"
        },
        "outputId": "cd68f70c-d5fe-417a-a004-b145b8eaaaa8"
      },
      "source": [
        "ตัวแปร = 3 #ไม่ควรตั้งชื่อตัวแปรเป็นภาษาไทย\n",
        "ตัวแปร"
      ],
      "execution_count": 153,
      "outputs": [
        {
          "output_type": "execute_result",
          "data": {
            "text/plain": [
              "3"
            ]
          },
          "metadata": {
            "tags": []
          },
          "execution_count": 153
        }
      ]
    },
    {
      "cell_type": "code",
      "metadata": {
        "id": "Pi1Vweg43UCj",
        "colab": {
          "base_uri": "https://localhost:8080/"
        },
        "outputId": "2e221ce7-c1f7-414b-ba0c-d5aa5fee99d8"
      },
      "source": [
        "#case sensitive\n",
        "v_a = 1\n",
        "v_a = 2\n",
        "print(v_a)\n",
        "print(v_a) # จะอ่านตัวที่ป้อนล่าสุด"
      ],
      "execution_count": 154,
      "outputs": [
        {
          "output_type": "stream",
          "text": [
            "2\n",
            "2\n"
          ],
          "name": "stdout"
        }
      ]
    },
    {
      "cell_type": "markdown",
      "metadata": {
        "id": "Mji5Shap_A1_"
      },
      "source": [
        "![image.png](data:image/png;base64,iVBORw0KGgoAAAANSUhEUgAABz0AAAD5CAYAAAC9ICjIAAAgAElEQVR4AezdTYxc133n/d7OwplZPAAXM5iQO82stNNytAq4I6DEQyDAY0tAFkKyYBYZaPFM4gYjOxSUgHA0Dh1FsdsTWqDsUWiPMmHgiWPGkaVOLIkzduy23kzqxWpJodmiLLol6+U8+N97z617b92qruqqLvbLp4HyrZd7z8v3fE9R7l+fc5fSnH4++uijNOrx4YcfJg8MOMABDnCAAxzgAAc4wAEOcIADHOAABzjAAQ5wgAMc2AkHPvjggxSP999/P7333nvp5z//edrY2Eivvvrq1CnISy+9lH7rt34r3XXXXek3f/M3W8d4Pz5f9M/Xvva1oh1x3OmfGzdupAceeKCoLxg0H7n+3J7mZ/E8rovrZ/15/PHHW/V265nkdZQxy0+uI8pYW1sr2nPq1KmJi2xeP/FFW5yY25HL3uoY5y/q5+mnn04PPfRQiuMsPzFnY+7GHI65HHM6z+/47hiVRcb7S7NUnK/tq6DvSys3yrH88sUBBw5wgAMc4AAHOMABDnCAAxzgAAc4wAEOcIADHODA7A5EMBKPX/ziF+ndd99N77zzTrp27Vp65ZVXcpQx0bEZeEaAk8O9OMbrCJluRvDZbMdEHdnmSRFYfupTnyr6+Tu/8zvp4YcfLhhE/fHIIVoc83txjPPi/OAT188afEa4OCrQi3GI+uORx6Tv3GkCyj5cucz4LOqK19OU2by+r/ztvJfbkcve6hjn77WfmLMxd2MOx1yOOZ2Dz2722M0nZwo9u4XF626F3S/r/MXjWH4B44ADBzjAAQ5wgAMc4AAHOMABDnCAAxzgAAc4wAEOcGA2ByIYiUesDNvc3Ew/+9nP0k9/+tP08ssvT5z5dAPPuDACvQiW4hg/OWRbdPDZbcfEnZryxFzPH//xH095ZXl6XNfkta1CUipW0+YQtRns5XFolpvb3Dwvrp11RW4uL+rKYaPQs0m+/fxf/uVfUqyujeMsPzFnY+7GHI65nFd7xndkzhy7WWTOK+caejYryRXHsftlnb98xh2jEx4YcIADHOAABzjAAQ5wgAMc4AAHOMABDnCAAxzgAAc4sJUDsSIsHhGSxCrD69evF+HLpMFXX+AZwU0O1Jph204Gn9GOWDXZ/elrRz4nzp+0n/maUcff+73fK0LL5krNCLGi/lGPZsgV10VYGKs9Z/2JsrrB56gyc0AZx7im2f5R12z1fi4zzssMptkyt3n9VnVN+nkOX3PZWx0XtdIz+OQtoePYdGLSvuXzIvS8evVqevvtt+stbnOe2Aw+I39s5pIRfG479MypaT42C86BZw47c2Pi2P1iyl9EjuUXMg44cIADHOAABzjAAQ5wgAMc4AAHOMABDnCAAxzgAAemcyDCznjEfQBjW8y33norvfnmm+nKlSs5Sxl7zOFaBJrNn1FhYw4+47p5/uR2/Pmf/3mr2EW1I0K0//Jf/kur7q2Ctm6wlvvQKmSbL5rb3I5bZZnrjPaPO2+aZuRAcZprmufOen2zrPx8q7HIdeZjd2xyOfM+dts1S70xZyM0jT9ciPA6r/aMfDFyxpw95iyymU9uK/TMQWc+NgvMlUSlOexsBp3NL+r8JeRYfhnjgAMHOMABDnCAAxzgAAc4wAEOcIADHOAABzjAAQ5wYHoHIuyMR4QksS3mxsZGeuONN9Lly5cnyndu9grL3Mhox2/+5m8WqyWbwWdf6JmD1zh/t630jBWjs/7EWEYAmwO8OI76aZ4T1+zUSs/uatdx4V5u06g2b+f9briY6xh1HNe+7dQ/6poIKbO3cZxlpWfM2Zi78YcL8QcMMa9ztpiDzxx+5kwy55Qzh565oDhG4Tlhzas6oyH5yyYaF4/4wsmPWJ7qgQEHOMABDnCAAxzgAAc4wAEOcIADHOAABzjAAQ5wgAPbdSBWhcUjgpJr164Vqzx/8pOfpOeee25UTjPR+31h40QXznBSX/DZbcdOBJ7R5FzPAw88sK0ezPOent3AM4K9aF/3J7e5GfzFtbMGwbm8qG9U2NjXnty+5vX5vVmPo9qR6+oeFxV6Rr8i6JzHPT1jzr722mtFefHHC/GdEJliBNk5AM3hZ84kI5+MnHLq0DOv7szHHHrmNDUqiMriL1Gi8hxyRqPyF040Mh7xxdN8xI1JPTDgAAc4wAEOcIADHOAABzjAAQ5wgAMc4AAHOMABDnBgGgfiHoDxiOAlVolFaBLbZP7whz+cKWfKgdq4cGumCkZc3A0+m+3YqcAzmhLBUr6vZwSHcb/QqDs/cogWx/xeHOO8HFLG9bOutGxua9sN8mIF7I9+9KPiEc+7n+fXs25zm8sJLuFV7md+P47x3qiffN6oz7fz/m4OPbfTn75roo/h/+uvv15wjxwx/pghMsYIP/Pqz8ghI4+MXDJnlDOFnn2BZ6zsjIpC6PhC2Q8PWwlMv5UAZphxgAMc4AAHOMABDnCAAxzgAAc4wAEOcIADHODAohzIO05GNhHByLTb2/aFL/FehFpbhVujrp31/Wbw+Vu/9VtFO/JxnlvadtsZDPOKzRzc5WMO+TKX/H4+xnWzBp7RnlgxmMvc7jHKmOUn15vLiH596lOfarUr88jnNI/d65ufbff5bg49n3766RQhdBxn+cnb28Ycbq7wjDne/D6J8YjXkUvm4HOq0DOv7szHZugZBeY9daOiSFz3Q+AZfWhC9Nw/0hzgAAc4wAEOcIADHOAABzjAAQ5wgAMc4AAHOMCB3eXAfgw9IzhqBp85RNvJwLMZVsXqxgjZmo94L37GfdYsY5bn41Z7ZhajjrOu8ox257LjeTPwjJWssbI1Ps+hZwSs9913X+sRn8dYzfNnt4ae4WnmFcd4vd2fSUPPyCFjXHI2GTnltkPPZuAZy0bjHp5RcFQQW9nGMnKh5+760vePsPHgAAc4wAEOcIADHOAABzjAAQ5wgAMc4AAHOMCB/ehAN/SM7TBjm9sIUGb5ySsac7g1S1nbvbYZfC4q8NxuW+d5XQ74IsCMUHHU6tMI2WLL3zgnB6Vx7aw/OcSLcvKWv3nr3q4X+XW+Jh/n7U1mksvf6jgPDpNw7LZrlnpz6BlzeNxKz8ghI4/MwWfklHMJPSM9zffxjAbE/rp5v+z9EHzux38A9Ml/2HCAAxzgAAc4wAEOcIADHOAABzjAAQ5wgAMc4MB+caAv9HzzzTf3RegZoVMEn7/zO78z0wq6ScKr3XZOXlma25VXWDbDvniv+dO9pvnZNM9zHXFNBKo58IzXeaVrriu/jrAvPyKMm/dP1JPbNckxt2/e7eiWF33tBsPdcyZ9HaFnzN2tQs/IISOPjFwyvscip5wp9Mw3Bm2u8ozlpHFz0f0QduY+7Jcvff3wHzAc4AAHOMABDnCAAxzgAAc4wAEOcIADHOAABziwHx3YqdAzh1mLCo8mDYYO6nl9KyrnvZoys82hYn69W46xqjW3bdwxzlv0zzzmyaShZ2R4kUc2t7mdOPTM9/HMx9jethl6xpdkXuX5k5/8JD333HP7Jvjcj/8A6JP/sOEABzjAAQ5wgAMc4AAHOMABDnCAAxzgAAc4wIH95EAEn7HiLLKKWCUWq8UiGPGzfwh0t1GN0G+WrVTHkckrF7v36pzk9Sz3tBzXpvxZeJ5XlPYdd2KVaa57p48xZ/tWena/qyKHjDyyudpzW6Fn836eeWvb+DLJ9/J8+eWX0w9/+EOh56Z/MLsSes0JDnCAAxzgAAc4wAEOcIADHOAABzjAAQ5wgAMc2AkHcuj5zjvvFKFnrDoTeu50RLV/y48tbWNL4XGrKUd9tlNB7P6lPehZzNmYu/GHCzGXI8CNud39zogcMvLIfG/POGeuoWcsIc1/OfG9731P6Cn0HJKwK6XX/uOGAxzgAAc4wAEOcIADHOAABzjAAQ5wgAMc4AAH5uFAM/SMvCKCk1hxt5dXvQ2iIM8Q2P8EYq7GnI25G3N4XOiZc8jIJePcuYSecT/PuDloFBap6xtvvJF+/OMfp0uXLgk9hZ5CTw5wgAMc4AAHOMABDnCAAxzgAAc4wAEOcIADHODAQhyInCIeEZTknSlfffXVYjXY/o+L9BCBvU8gVm7GnM2rN2Mu53nd/cOIyCEjj4xcMvLJOG/mlZ459Iz0NQqNm4a++OKLQk//iC3kH7Gu5F77izAOcIADHOAABzjAAQ5wgAMc4AAHOMABDnCAAwfTgRyORF4RoefGxkZ67bXX0rPPPlvc/zBWj/lBAIHdRyDmZmwJHHM15mzM3ZjDMZfzvO5+r0foGXlk5JKRT8a5cws9I22NQtfX19MLL7yQnn76aSs9BZ+CTw5wgAMc4AAHOMABDnCAAxzgAAc4wAEOcIADHODAwhyIgCTCj5xZ5N0pI7P42te+ls6ePZu+9KUvpZWVleLxxS9+MXlgwIHFOpDnX8zFmJMxN2OONlduxhzOoWc38IzXcX7kkZFLRj4Z52879Pzggw9SPGKl57vvvlt/gQg9D+Zf0PQJ5z0ucIADHOAABzjAAQ5wgAMc4AAHOMABDnCAAxzgwCIdyKvCIiyJlWI//elP009+8pP0ox/9KD3++OPpscceS48++mj6H//jf6SvfvWrHhhw4CY5EHMw5mLMyZibMUdjrsac3WqVZ3yn7HjoGctNc+j51FNP7dhKzxfPnUsv/tmfped++7eLRzz/8SOP7Fh9i/xCVpf/AOAABzjAAQ5wgAMc4AAHOMABDnCAAxzgAAc4wAEObN+BHHzGyq/r168X9weMLTMvX76cnn/++fTcc88VAUuELPGIbTU9MODAYhzI8y6OMRdjTsbcjDka9/KMORtzN8/jUd+FkUPmlZ6RT8680vP9999vrfS8du1aEXpGA+cdev74r/86Pftrv5Z++Eu/lH6wtNT7iM/inDj3ypUrc3uMAur97f+jgx12HOAABzjAAQ5wgAMc4AAHOMABDnCAAxzgAAc4sFMO5MAkB5+RX8R9A2PhVoQrfY9YZeaBAQd2xoG+ORfvxZyMuRlzdNLAM743IoeMPDKuj2snCj3fPn8+vbm8XD+unz+fPvzww2Jr2wg933vvvXp7250IPS9/73tFkDkq6Bz1foSfce08ws+d+tJV7h7+B/36erqwcls69NCFtGE//oXtx2/OzDhn3lpLK589lI6eXzNm5i0HOMABDnCAAxzgAAc4wAEOcIADHODAvnegGXz+7Gc/KwKVCFXi/n+xMswDAw7cXAdiLsacjEfM0UlWeOacYKrQM8LO5w4f7l1RGe+/9eijaadDz1ix+cN/9+962zAq7Gy+H9fOY9VnBrjvj6+vptMP3JYOLy+lpZO3pONnL6b1GxOELK+eT3efPJSOX7hS/CO59tjxdOzRdqiy/sSZdOrs6XTu+xuDf0hvrKZTnzmWVi5PUMfN/g+Qq6vp9GdvSYeCTcXn6EMr6dLVzbS5uly8d+yxsv+zeLLnOd2McXr2XDpxfzU2J4+mE49dmiiIXv/W3enwyePpXPh3I8LAY+nMWtPFjXTpb06nU2fPpIsvN95/9Vy68+RyujjJ3LgZPJp1vng+nbj/cOls4e1t6c5qXl957Fjx/vJqo2/Nayd+fjM5zVD36nI6/MC5dCX6+YMz6djJpXT4/lPpYszpifvuXKw4wAEOcIADHOAABzjAAQ5wgAMc4MBudyAHn/kYoYoHBhzYXQ7k+ZmPk3yvTBx6bnzxixMFjT/98z/fsZWeReA5ZivbZrg57nlseTtr8DkJ3IWcM0G4uP12rKdzD+RA73ha+b/n04mTS5OtCCvatZRuPXshrZ6/Mx39woV2WPryuXT8vtPp0usRji6n1SpQiHD08IN7Y6XklQvH0+1fudQfhswr9NwNnHbUsTn9B2DwXrlYjkURnFfenlpOF586nY4uH0r3fLsRro8IsNa/cXc6tHxrWv72ajrzuaPpnovr7fF9ajkd+vz5tP790+n2z1bh2OZGurhyWzraCfW3P+/mxGREH1fPHkp3f7PTr+rcuYWeN5PTLHUX8/bWdOrSejr/ucqh5aU06R8vbB2a7+zY7lbntMu4c4ADHOAABzjAAQ5wgAMc4AAHOLBbHchhiuPP63slYoHFbnNgmu+PiULPWOE5LkTsfnbtq1+d+/a2sS3tLCs8u22MsmbZ6nYayDt67lbh4ojgY7I2raUz9x9PKy9tpgsPHUrLT11JK6eX0tLplXIl1BZlr37laDr2J6fT+Wd7ApZmmPeZU2n1rSvpwtmj6fB9y3tmVVUZeq4WbA7ffyKdPntnOrx8ON35N1fmt9JzN3DaUcfm9B98zdDzrQvpns8sp4vXS3/PvXwxLceKxhyKjvP2xmo6ff+xdPdXzqe113va1gzUPnc+XXltNa18/rZideDaXljlubmZitDzW6vpzP2H0i2fPZVOf+H2dOjk7enUUxtpR0LPRXOaaYzKP/Q49uiZdGL51nTqifPpxKTubG6mLUPzce75rP0HBnjgwQEOcIADHOAABzjAAQ5wgAMc4MBNdmC3BT/aI4zczw5Mlln1/M6+8z0xUej53C//8lDoefk//af00UcfpTh2A8Vnf/mX5x56PvurvzpUT7feaV9Hmdu9v+e8BmAe5YwNFzsDPnV9L19MZ86eSmcev5I2r14oVnouzWkl5to3TqSj9x4qttM8dO/RdPdXLqQr17eWduo+zMpg1PU31tK5z92SDp1eSWsvXUxnHjo6/9BzczPtBk476tgovtO83ww9NzfTxvfPpdOxdfL/XU+ba2fS0eWldPtcVmJupNWv3JluO1muAjz8mTvT8t9caq9inqbdN+PcqxfTqdjeduViWn/2fDoVWzTPO/TcvJmcZqt77dHby61/T96TLrw1RWAeY7lVaH4zxlud/g8iBzjAAQ5wgAMc4AAHOMABDnCAAxzgAAc4cEAc2DL0HLXKc1zoGeHjxje+UeyBfe3atbS+vp6ef/75FJVtJ2SMrWi3CjTX/sN/SD/42Me2PK9bzuXHH99WmyYN3oqVU/XKyHKl5Oz3y7s5weDqudvS0oTbhNZ8nrinuGb5qZvT5rodi57QxTaZk2+LedPauWguC68vtimNYP1oOvPs5A5e/ELcw3aw7fJBGZ+5rfRc+DhPPrZbjuXluD/roXT7V1bT5uaUoede7re2+w9fDnCAAxzgAAc4wAEOcIADHOAABzjAAQ5wYI87sGXo+eanPtUbJG4Ver72X//r3ELPSVZ5Pv/bv13cp7MIP5eWetvcDTzj9XZXe275i/NKjCJEqLfVLH+BPnXo+WL8Ej5CmFvSnecvpY2GdGsX7ky3nFxqbK9Z/ZI+tmQsHofSLafuTKeeaGwxe/ViWr4vgqDD6ehK516bVVg31Ma3LpTbPN5/Jq016t+8eimtPHS0aENR3kMr6dLVQQCx+vCtaalYMVW9d2M9XTx7PN1y393p/LNX0oWHbk+3fHY5nft+436L16+kC1+5Ox37zOFqxdVt6Vin3LFhxEsX08rZxvXLh9NtD3TqiBWU31pOx6uVprFi7/RTmdFw0HFxJXgup4uNvm88fTodK8blaDrxjbX2l2En9IxxOry8lA7dezydfrrR180RWwbPidOg3jvTmSbjvEo1tuO9kNu+kS6evT0dWl5KsV3v+RcH49jlncOx0rFws2+MmtePfl6WdSytXM7njGBSsN9Ilx6LFcJH06mnr6RLjx5Pt9x/dzrd9LsxRrHK8/bg/lD7PrEb319JJ+6/pejr0smj6cRjjXlV3RO0eU0+/+i51XTl+2fS8WJl8sX2Cs/XL6VzK3em2+vVy7enO892zrm8ko6NuEfklX9aSaf+5Fi9ijSY3rlyrjWfNm+sp9Xzd6ejxUrTQ+mW+0+kcznMHSp72OP43oqVw7ef7HNxs7O97eQ+1N+HL18sVo7e/vnzae2lC+me+25Jx7t92JJTs97ldOHl7MVm2syrVE/enpZXm/NoM03Er+HG2Plbn9fPsOjvjfXKxXK1enw/397zPVOzqcts9Md77e9NPPDgAAc4wAEOcIADHOAABzjAAQ5wgAMc4AAHZnBgT4Sek6zgjNAzVpHGfTonCUlzAPrDX/qlHV3pGWHZsceulJIWoUQz3Jnsl99RxolvbaSNb53orFhbTcsnT6TzVzfS+c8vpTKo7IaeOfy8LS0/VYYEETId/eqltPlsbPt5KN3z7UZ4MCr0rAKV9hahG8X9LIvg6+TxdO7Z1bT8mUHAtP7Ecrpt+VA6/lgVqt1YSyufPZSWTi2niy+tplOnjxXB1cWV29LSyeNppQrZhgK1KsA99NlzjXuJjgojRvU/OAwYbD59Kt1ahcLHL6yltfPH0tLynencqzEmw2X3hZ7x3j2Pb6a180fT0vLd6XzzHpCt0DPKG4zTUis47gn45sZpTL3VfQ83rsY9C6swN8b4/tPp0tVL6fT9g3EsQ5s2k8nGaDK/Jw89N1LtyrNr6fznj6W7v7GW1h47ng7F2HZCsKLd1TicuNhwPO75WW1PG06tPbWcbs3zIMLmjo8bqwOP175xdzoWgd6zK+n4yaV028rF+o8QSkfyfBscbzu7Wp+zORRMVoyqdtYhcv1HC0vFfFl9qzxv/W/urP6YIfp7JV34wq1pKe6JG/cTHSq7PWblOIZv5arXCw8tldc2/gHJ41p8l0zhQ1H2iwMmV54+lY6dPpVWX7qYlk8tpUOfXUn5nqdbchpTb9xHN767Nn5wOh2tV9Bv1vfQ3YpfyaBk2Z6/x9O5ZrhaM+ljGNdXLjbHKT9vfJc16/O8cr1m6zUnOMABDnCAAxzgAAc4wAEOcIADHOAABzjAgfk6sO3Q80f/5t+ky7ffnuKYA8TmcV4rPV88d663/GZd8TyHnnn73Bf+8A8n3u426sjXTXrcSsRRv9gf/FK+vWpwbHl5pWf1S/XBKsyNtHo2tpwtg5GLjRWWdXk3NtLa1yMUWkpLX7hYhq/1Ss8ymKlD2fhl9BahZ+vcYpXiIECJ0OnCg0tpKcKIIoC5JR39SiPwWV1Oh3K41PzF942LaTlWnlWr8a5cOJFOnL+Y1nJ/XrtQBCdLy8fqYLQvmCz7HPcrPJHOPH4pXcnXX19Pq4/dnW4LBg+cS+ub5Yq2OjyJMLXV7+GgoxzP9pjVK8WKcemE2VV5mVdecVmOf7OcntBzjpxG1vvWasW0GdwNVtgV7WyGSj1BcO1YjGXvGE32ZTVx6FmFekfP55WpufyKYStMrj5rjWv1XhGqnUlr1y+keyLwrVYxx1gVbbn3aGM17uiyy3YPts29ePZYOvWtS2m9Cig31soQcGn5nnQxQsngVPUhe1EzXD2Vjj50Jl34wZW0ke9r+9pqWvl8Ob/v/JtyFXJ4mP8A4tDZ1WplZuXeUNnDHkd9eaXnsIujV3pO4sPFlUPtVd15jnd83prTGA8vnyvC5thmu/5jiqhnQn4177jva16pXczf/Ecj2al87Ge4ean8o4lDf3QqXXy1CtTfWk+rj5bftfm7rFmf55mpIxc4wAEOcIADHOAABzjAAQ5wgAMc4AAHOMCBnXFgy9Bz1D091/71v06xxW0cuwFkvP7pV74yl+1tX3zwwd7yu3V2Q88IL+NeoJNsdxt1TBp25vMmE7IMTOqQsghgmoHXlIM6FOCUq40Onzxcrp7MIV8OG+rjajr1mSqMrN8bEcAM1VG1cShQKd/PAcrh06fT6ssX0olGeLn+zbvT0vKt9Qq84XAr9z/uu7iUlu7rbJ3baOv6N6KsZjAxIozYrLY/rbYDPl6Hruvp3AMR8lb8c/B78mg6tXolXYwVcyfzas3hsvtCz+xAb78qjt1wa7ic4dCzt7yCxXY4lYyH6o3+nzqcDndWK5Z9Gm7T6JA5j+FmGh6jwWeZVd9xuL999Y8J5Dc30+q5W9PS8ol0oQoc63r6fL4Rq0RjG9/D6dhXV9P6xRODMP7GerFqeukzEYZG+4ddqMuugq/WKtKGs3Fe2a5GID5iHuVtooe2QH71XLozQrm8RXb1BxCH7r0znXt2La2cjj94OJ0uRb1DZY9p++ZmGnKi+mOA9jwLBn3j0S2775xq/F8/n+5eXkrtVeJtN4Y4FRx7yixWk4a3ndCz2mZ7S36d8YkxKv1rfrc029btZ/lZec3t6cxa89x4vpbO3Df+u6z2p6ctPuvy9JoTHOAABzjAAQ5wgAMc4AAHOMABDnCAAxzgwOQObBl6ppTSc7/8y0PB47h7ej777/99evfdd+cSekaY2Q04+173hZ4RUE6y3e2oa3PA2XecTLLyF+Y59Cx+Ud5aPTf5QBX1dQKc2NbzcGwb+Wx5n8DR4UtPeNAbkowJloYClW7bI4CtgsNii9jhEKYZbuUViIcfOFdse9kXwLQYd/o+MowqtuwdbC3aXBE2so5Lp4pVoEcfzSsIh4OOkdfWoUkj2Aq2cwo9Z+dUjlOr/cX2uYeLlXJrX49tfbthYZ8vw0xa49Poc/Z96PMRIU/Ti/KavvoHTKP82HK2uC/lfcspVjgPl1H5OeRNx9u3LpZbMn/ufLECOOpvl9Xodx2UV/eT3HJOdMsanhOZUblFcsPbeovURv0dfhEyx8rpet4PtWf0tVFvy4mq7LLv3QCwbzy6ZTfOifvFPhD34833i+2e2xmDIeb580aZ0b4iqI9tfdfTxS+0g8XJ+OXvqBPpQuMPRPr7nNvQ3/amI0NzNNqW/7iiM2Z5vB0zX0cucIADHOAABzjAAQ5wgAMc4AAHOMABDnCAA/NzYKLQc9Rqz77wMd679tWv7q7Q89d+bWxwurOh5yAMK35RPqfQc+Op5XTbZ+4pAp/hFV5dQTrhQf5F/FBI0g6WWhOt79xcTnGM+4s2ttCN9zrXlCsBg0cECYN7XEaI1RfAtOofCq/6w4iNi3Hf06V09zfX0+aN9XSp2G6yHINRdayePdS5J+dw2aOujTY2A5C6zTOEnvPlVLowaH+5JfKtXyjvRdnb9olW9nUdG+NOy5Ph64bbMFPJiucAACAASURBVMLXamVl3Msy7kt5+gcb6dJXjxb3zB0uo6pnyJtO/XFv0+WldM8Tg/fbZVWrpFcuFuNcb4lcb+HcuGdvTz/bZQ3PidKXalvofF/Y1y+lM3Hv2+K7YtjF8por6dxnO/fk7My3kX8YULVz4ES379sJPatVyNHmYP7582lwv9hRfejWO/iuzH0sVrIWHKK/h9Kxr5d/mNBu+xT8KkaDP3DI87fb59y2/raXczRWesbnU36X9XhSf2/4zE3aOcABDnCAAxzgAAc4wAEOcIADHOAABzjAAQ5s24GJQs9Y7bnxxS+ODQ5zAPrTP//z9N57780t9Jx5e9v/+B+3bPdObG97rLpPXHEvvJ7n3W1PJ/qldw5wnlhNp07dmu55orqX3FDYkX9hn48jQqS+63Idq/na6th3bmvi9YQD3WvWzqTbq4Dp0tePpdiKcmn5znTu1fmFnmXI1AwwIhA5lA597nw6t9K/AqsdoER/h/syfM6Az1CwFVwqjt1xHi6nZ2zmyqlsZ11vrGrNYfmowHa3hp753ptfX0vr376nWOkZ2yefejoHV93QbDAOI1ef9vjeHs8qUPujlbT26oV0z30RkC+lWx9eHQr1++Zwu6xRoWflQHN14NXYKvpQuvsb59Jyc3vbes71eNOdbz0eN9tYO1GXmTk250/401NXT9lrj96eivuXXr+UzpyOlZ75HrrD86nZjng+xKlo06De1VjVenqlWBUe57fbPg2/4dWeZd3dPuf5PaLt1Rw9fuFKmvq7rMG7y8HrzN2RCxzgAAc4wAEOcIADHOAABzjAAQ5wgAMc4MD0DkwcekbwGSs++7a6jcAz3n/r0UfT+++/P9/Q89y5LUPLqL+7WvOFP/zD9MNf+qWJrn3x3LmduadnEajke3iWv5jvhmBTSZuDtNPH0qEHL6SN/MvzobCjK8IgPLhSXLORVr9yPN0SKzOL4PFQuuXUsXT3ypl0/nz33plVWVUdh04eSksnb08nvnWlk7T3hAPddt24mO7J9/a7EcHt4L587RBj0P6NS6fTsbqdzWCiqi/af/KWdOeFcgVYuQKr7Neh+06k8y9G0HQuHT95a7o17mvaDJYqfsN1D/elPCeuP5Ru+Vy5JW8eu97AJo/VY21OZTn3pAsvXkwrZ+9OR+8tQ7TYCvTub62XTOfKqWRZ1nssHTvd2A51y7DpTFr9wfl05sE70215DE7enk5fGoxPZlAcewLE1ufZ184xh07h4uH7T6WLV3OIVfK+/QsXqq1n19LKHy2lpcL9WFl4KN22Mm7F6iD0LL09lk5fqv5QILehp83d8WxuARx+HTpVbqnbXcnc7OuVb52oQtnoQyOMreZEMe+K+8lGe6pVktVcvP3z54tw78qF4+nQZ25Nt8b7+Z6eud19QWR3vuVgsjNHcjuHvc/hY3OexVjn748tfHjinrS0XN3nMsL1CbboHcmp6GdV733H0rHPHG3dP7Pd9in5VZzCnfUbm2n1bNwPtu/+nNH3/u+ZzWqOLn3hQrry+HI62rjHaLttI+ZKPY4+zz46coEDHOAABzjAAQ5wgAMc4AAHOMABDnCAAxyY1YGpQs8IPuMnws83P/Wp9Eb1+Nnf/V368MMP0wcffDD30DPup/mDj31sy/Ayh57FPTy32M42r0otjh/72NSBZ7RpIvARqBRbM4ao5S/wR644m+SX4FVA0wpR4rqhsKM7MXJosZKK0DPOP3Uqra6V9wI9dv5iunj+RDqag63lbuixmTYjpPzMUrrlv19Mm3HfzLpfg/rLADVCnvZjEPRW7XjoTFr57OF09NxqHdyOCgri/RPf2kgb345ta4+mM8/mvq2lM/cvpaWHLqTNq+fTiRxmVlug3vP4Zor7/OW61x49WrUrh9CDMem2t37dCJrKewbeky5c30jnP5/5VP3p9Le+fnl469Oyn20+R8+vpc3H72kEW/PkVPKq622O21ahZ6dfXaZDc6AnQBw6p8fzjW/fkw5VY1tuV7uWLq4cSkv3n06Xrl5Kp+8fhIZFP/7odFpZuS3dVoWDUUc3qKzrffVcunN5KR3/X1c6jPM17bEYjN2gznLV7rF0+uvL6bZTd5dB+th5F+NXbr9beHfynnThrcrbty6ke04upWLMf3C6nker5yJ4C7/C66ruG5XjMQ4NF1tBXGeMov3Z+c3NEXOkGeT1XB9ltL+n+j0f8qH6Hrrn/Eo6HoHu0zlgHv4jgnJ8xnAqPBnUe2sVbudxLX0ezOXp+JVbPA/GOv5wojFGLUer7Y3je+al6NeptNppW/whxCTfZbntjvk73JELHOAABzjAAQ5wgAMc4AAHOMABDnCAAxzgwHwd2FboWWWf6aOPPqofOxl6PvurvzpR6Pnjv/7rtDbBdrbN0DPKjhBz2sckIhZBTB0ylb/4b4cJUw5mFSrddm61HbpOG3pubqRLf7Oc7rzvWLr77Pm0dr1qx9VLaeXztxXhYF87N54+nY7HysTuSs+q/laI0AhTBiFMDjFuS3d/o1yZmTl2Q4z8/sbaSrozwthYzXn+Uh2Sxucb3z+T7ixWSh6uV3pubg5WsdYrPSOkKFaWRsA1CEpyED2q3a2g6eqldOZztxT3fzz8QF7pmfszKjhrBlAl47Kfh9Ltnzudzv9gPa2vnirD5pPH0uk6JMrlzodTsCrrvS2d6qzS7A8Lc/2H07GVlXTx+Y209jd3FiuDW0xb4dBgVWWfO3k8e4831tOFlaPFdseH7qtWUV5dTaeLLVIPpcFKz9yPdsgUZfb3o2S+9o0q0A/GjZWe5TWjxq4bei6lQ390Kq1ebczZMfOu3n735NG0fLFawVvxWr8YKwPD6dvT8moVDEZ/Pxt+HUp5pWfBKlZMbjv0HDVHGqsXG/O0OQ/aYzihD/l7oBkMF30eFXpuDrYp7uFUz8+Td6fzrza41z435vJU/OL7YC2df6hy7t7jjbnXrifGYPC9N1hRXrdtefI52ut+dw553f63DQ88OMABDnCAAxzgAAc4wAEOcIADHOAABzjAgSkc2BOhZ4SZzaCy73mEnZNuZ9u8/vLjj08deE680nOKgfAL8eGwARNMOMABDnCAAxzgAAc4wAEOcIADHOAABzjAAQ5wgAMc4AAHJnFgT4SeETJOstqzGWZO8ny7qzyFnibXJJPLOTzhAAc4wAEOcIADHOAABzjAAQ5wgAMc4AAHOMABDnCAA4txYKLQ84033kj/8A//kL75zW+mJ554Il2/fr3Y4XZR29tGyBj36vzhv/23W674nCTsjHOirCgzyt7Og6CLERRnnDnAAQ5wgAMc4AAHOMABDnCAAxzgAAc4wAEOcIADHOAAB7ZyYMvQ8xe/+EX6p3/6p/TCCy+kuG/nP//zP6dLly4tPPSMYLLY5vZjH5s9+PzYx4qythN25mu2Autzk48DHOAABzjAAQ5wgAMc4AAHOMABDnCAAxzgAAc4wAEOcIADi3Fgy9Dz7bffTk8++WSKY/y8/vrr6R//8R/Tu+++Wzz/9re/Xa8A3djYSO+//3567733is/feeeddO3atbS+vp6ef/75FJXl0HC7xwg+Z1nxGddGGdutP19H0MUIijPOHOAABzjAAQ5wgAMc4AAHOMABDnCAAxzgAAc4wAEOcIADWzmw7dAzAs1YARoh4AcffJC+//3vpx/96Ec7HnpGfbEt7Xbu8RnXzLKlbQ4847gVWJ+bfBzgAAc4wAEOcIADHOAABzjAAQ5wgAMc4AAHOMABDnCAAxxYjAPbDj1jpefa2lr61re+lb773e+mn/zkJym2wt3plZ7N4DFWbBbh57gtbz/2seKcy48/PvPqzmbdBF2MoDjjzAEOcIADHOAABzjAAQ5wgAMc4AAHOMABDnCAAxzgAAf2rwMfHj+exj0mHfuZQs+PPvooxYrPy5cvp8cff3xhKz2b4WN+/uK5c+nFBx9Mz//2bxePeB7v5c/nfZwUsPP27yQ0tsaWAxzgAAc4wAEOcIADHOAABzjAAQ5wgAMc4AAHOMABDszmwLjAMz6blO+WoWes3oxtbF944YX04Ycfpn/+539Oly5dSjdu3CjejxWesb1tbG37zDPPLHSl57yDzGnKmxSw82YTHT/8OMABDnCAAxzgAAc4wAEOcIADHOAABzjAAQ5wgAMc4MD+dWBhoWdKKb3xxhvpH/7hH9I3v/nN9MQTT6Tr16/H28Uqyr//+7+v39/Y2BB6bu5f6XyhGFsOcIADHOAABzjAAQ5wgAMc4AAHOMABDnCAAxzgAAc4wIF5OrDQ0LNIOHv+J7a3zY9YBRorPhd5T89pVmbO+9x5DuYkZV38vaW0dMdKuiJUnXgZ8yRcneOLmQMc4AAHOMABDnCAAxzgAAc4wAEOcIADHOAABzjAAQ7cPAeEnleu7Nj9OicJSBctv9Dz5k22RY+1+ow1BzjAAQ5wgAMc4AAHOMABDnCAAxzgAAc4wAEOcIADB8UBoeeeCD2fSfee+vX0rxqPe7+7vUm6+0PPV9Jf/EnZ1/984RWrMa3I5QAHOMABDnCAAxzgAAc4wAEOcIADHOAABzjAAQ5wgAMc2NIBoeeuDz3LwLMZcr504XeLALT53qQp/W4OPct+/W76i+/+r/SfT/16EnpuL9ie1AXn4csBDnCAAxzgAAc4wAEOcIADHOAABzjAAQ5wgAMc4MB+cUDouetDz77JVq38fPiZTqp9Ja3csZSWlgaPY1+60jqnDj1fWEnHGuct/31fPQt877sPpX/1J/8rvRR/qXBF6LlfvmD0Y4FzyF/5tL7ruMc9DnCAAxzgAAc4wAEOcIADHOAABzjAAQ5wgAMHywGh5z4KPS/+3rG08kJD4L9fLgLQZvBZhp7H0rGlwblXvnQsLTVe3/QvAaGn8EaAxwEOcIADHOAABzjAAQ5wgAMc4AAHOMABDnCAAxzgAAemcEDouRdDz4lDwWrl5x0r6UolRRF6DgWcF9NyrPr8vYtTTJ7hVaXNFaZLjTqnDlEn7l8j4J1C+qnbo+wpvDAm/OIABzjAAQ5wgAMc4AAHOMABDnCAAxzgAAc4wAEOcGDxDgg991zo+Ur6iz/59fSvTv1u+osrWwtTb2fbDD2HAsnhcPSmTkahp5BR0MwBDnCAAxzgAAc4wAEOcIADHOAABzjAAQ5wgAMc4AAHpnBA6LmnQs8ceP56uve7PYFn5z6d9crLRsjZDUFzuDnq/fz5Qo9CT19iU3yJLdRN7eImBzjAAQ5wgAMc4AAHOMABDnCAAxzgAAc4wAEOcGBXOiD03EOh57cfjhWev57+84VXhmXKgWdni9pumNl9XQZG1UrPzrXjwyTb247n0xNK+xIc9hYTTDjAAQ5wgAMc4AAHOMABDnCAAxzgAAc4wAEOcIADHJiDA0LPPRJ6jg08NzfTlS8dS0tD9+rcTN2Qs/u6CO6qwPTYl67sjkllpefuGIc5fMEIhoXfHOAABzjAAQ5wgAMc4AAHOMABDnCAAxzgAAc4wAEOLMIBoeceCD23CjwLUf5+OcV2toPgsrESc+z2trvsfp4RtAk9hZ4CVw5wgAMc4AAHOMABDnCAAxzgAAc4wAEOcIADHOAABzgwhQNCz90eelYBYGxr2/do3tuzXO25VISfEYAu//3wSs/NKhyt7/e5tJSWptrWdof+GmFsP383/cWVHap3ismyiL9CUIdx5gAHOMABDnCAAxzgAAc4wAEOcIADHOAABzjAAQ5wgAPTOyD03O2hp1DOXzFwgAMc4AAHOMABDnCAAxzgAAc4wAEOcIADHOAABzjAAQ5wYKwDQk+h51hB/CXB9H9JgBlmHOAABzjAAQ5wgAMc4AAHOMABDnCAAxzgAAc4wAEOcGCxDgg9hZ5CT38ZwQEOcIADHOAABzjAAQ5wgAMc4AAHOMABDnCAAxzgAAc4sKcdEHoKPfe0wP5KYrF/JYE33hzgAAc4wAEOcIADHOAABzjAAQ5wgAMc4AAHOMABDuxGB4Seeyz03PjTz6af/D9LxaMrVPOzt//y3FCY2fx8P1zb7YPXvmQ5wAEOcIADHOAABzjAAQ5wgAMc4AAHOMABDnCAAxzgwMF0QOi5y0PPN//fY3V4mUPLOP700/9fGvfZVp/vxWt9SR3MLynjbtw5wAEOcIADHOAABzjAAQ5wgAMc4AAHOMABDnCAAxzYygGh5y4PPWNVZwSUzcAzD+q4zyL0HPf5uM9267W5346+2DjAAQ5wgAMc4AAHOMABDnCAAxzgAAc4wAEOcIADHOAAB5oOCD13eejZHCzPTV4OcIADHOAABzjAAQ5wgAMc4AAHOMABDnCAAxzgAAc4wAEO7JwDTz31VHr++efT+vp6unbtWnrnnXfSUprw56OPPkr58eGHH6YPPvggvf/+++m9995L7777blFYFBqFRyVR2ZWbHFbOq35S7pyU2GLLAQ5wgAMc4AAHOMABDnCAAxzgAAc4wAEOcIADHOAABzgwjQNCz22GsNNAdq5JyQEOcIADHOAABzjAAQ5wgAMc4AAHOMABDnCAAxzgAAc4wIGdc0DoKfRMJtjOTTBsseUABzjAAQ5wgAMc4AAHOMABDnCAAxzgAAc4wAEOcIADO++A0FPoKfTc3PmJ5ssMYw5wgAMc4AAHOMABDnCAAxzgAAc4wAEOcIADHOAABziwcw4IPYWeQk+hJwc4wAEOcIADHOAABzjAAQ5wgAMc4AAHOMABDnCAAxzgwJ52QOgp9NzTAvuLiJ37iwhsseUABzjAAQ5wgAMc4AAHOMABDnCAAxzgAAc4wAEOcGCvOCD0FHoKPf3lBgc4wAEOcIADHOAABzjAAQ5wgAMc4AAHOMABDnCAAxzgwJ52QOgp9NzTAu+Vvy7QTn8JwwEOcIADHOAABzjAAQ5wgAMc4AAHOMABDnCAAxzgAAd2zgGhp9BT6OkvNzjAAQ5wgAMc4AAHOMABDnCAAxzgAAc4wAEOcIADHOAAB/a0A0JPoeeeFthfROzcX0Rgiy0HOMABDnCAAxzgAAc4wAEOcIADHOAABzjAAQ5wgAN7xQGhp9BT6OkvNzjAAQ5wgAMc4AAHOMABDnCAAxzgAAc4wAEOcIADHOAAB/a0A0JPoeeeFniv/HWBdvpLGA5wgAMc4AAHOMABDnCAAxzgAAc4wAEOcIADHOAABziwcw4sPPRMfhBAAAEEEEAAAQQQQAABBBBAAAEEEEAAAQQQQAABBBBAAIE5EhB6zhGmohBAAAEEEEAAAQQQQAABBBBAAAEEEEAAAQQQQAABBBBAYPEEhJ6LZ65GBBBAAAEEEEAAAQQQQAABBBBAAAEEEEAAAQQQQAABBBCYIwGh5xxhKgoBBBBAAAEEEEAAAQQQQAABBBBAAAEEEEAAAQQQQAABBBZPQOi5eOZqRAABBBBAAAEEEEAAAQQQQAABBBBAAAEEEEAAAQQQQACBORIQes4RpqIQQAABBBBAAAEEEEAAAQQQQAABBBBAAAEEEEAAAQQQQGDxBISei2euRgQQQAABBBBAAAEEEEAAAQQQQAABBBBAAAEEEEAAAQQQmCMBoeccYSoKAQQQQAABBBBAAAEEEEAAAQQQQAABBBBAAAEEEEAAAQQWT0DouXjmakQAAQQQQAABBBBAAAEEEEAAAQQQQAABBBBAAAEEEEAAgTkSEHrOEaaiEEAAAQQQQAABBBBAAAEEEEAAAQQQQAABBBBAAAEEEEBg8QSEnotnrkYEEEAAAQQQQAABBBBAAAEEEEAAAQQQQAABBBBAAAEEEJgjAaHnHGEqCgEEEEAAAQQQQAABBBBAAAEEEEAAAQQQQAABBBBAAAEEFk9A6Ll45mpEAAEEEEAAAQQQQAABBBBAAAEEEEAAAQQQQAABBBBAAIE5EhB6zhHmrijqtWfSiZN/lX7l5HfSpb4GPfOd9CvF53HOX6VfOft831nzfe/J62lp6VpaOnkjpbSZvvzxa8Xre5+coZpc5sffTuszFDO3S195O92xdC3N1Ke5NWZEQbuN2Yhment2AusPb6SlpevpidmL2mclDL5/iu+kpWvpjoc3p+tjnkfz/D4b24Kr6et/XH1fF9/d/zt9/bUxF2z1b8CYS32EAAIIIIAAAggggAACCCCAAAIIIIAAAgjsZQJCz708en1tn/gX3tUv0hceeqb0xMkIPTfSl1/p68CE7+XgYVGh51ah5lafT9itHT1t0cwm7Ezhw6LGccI27fXThJ59I5gDzxnD4DyPitBzTt9nfc3te6/4oxWhZx8a7yGAAAIIIIAAAggggAACCCCAAAIIIIAAAkLPPeDApbPNVT6N53/8zAyrHBcYelaBYF5RNZfQc9HjtlWoudXni27vHqpvfqHnjXRvrChuPPpX3ubwq3HuDKFr6XOjrL4VlpUfzbbl+dAaqqHzRgV0gz70lbOd0LO8Jvoxqs4c8A362s+31aPOi0G7myzieV8/Ohf3vhziX4WRQydXbLdbT11ep5yFfp9NEnrWDd1NT55I9/7GUlpqPO59Zje1T1sQQAABBBBAAAEEEEAAAQQQQAABBBBAYD8QEHrugVEsQs+ZAs6+Tt680HPiQKYIF2ZcEdrX9e28VwUdI0OerT7fTp0H5Jr5hJ5l4NkcnxziNd9LqQpGW8FY9d7UwWcV4LWuy6FeIzisVga22lG91wrght7rKSulVPZrI335yXJL5VYZlTMTz7HsWOVvGUQ22t79vMUtfzjNserTzOWUdRbuNMvK/Wi+l5u35RwtPejjmYsojlU5+bypWbcKm/LFngw9y8CzGXKuP3ZHEYA235uShNMRQAABBBBAAAEEEEAAAQQQQAABBBBAAIEhAkLPISS7742JQs96W9tqJeiWIenWoef6hf/duv/niQtXFwcnbyHZCpRSSvn9vJqvL9yogq0ImXLwNRTmDAVMg66VK7fK4Kd8PljZ1l2dVgdZjUCldU23/UU1VciW+zC01W/5+dj2D5q79bN5McuBW9Gndh9yAJQbUzDo9r3BKFXPuzzr191rc8FTHas2Nh0pWAwH6dsKrpr9abarU0cvi3xv27pto8LAsg813yg7s6nqrz9rtGHQn/HjlC/JbXyi916go9qWr24e2/UNrxqdpqzq3JHzpFnv4Hk5/0YHt/WcHVxSP6u/L+pxqT/aHU/GhZ4T/RvwfPpvJ/8q/bdnUmp/v/ffA7p9zl+l+f0bUK38/Ly7zu4OsbQCAQQQQAABBBBAAAEEEEAAAQQQQACB/UFA6LkHxnGi0LPRj8nOHx96FmWcbPwivPqF+vx+6d1ocOfpZMHDuPCkEbzkgCiHTCNf50ZU13ZDj1EBV76sGeLV15ZltUKpKoBsvpf7OwhjGu2vy6r6W7c/VzzNcUJmY+rMbY1wsm5v1af6daq2Qe22dQTDHLitT9OVic7tGcuetkZR22rDiNCxZDQI3fpDuI4bI9jUvLsso9Ej6o+Pius+vpHu2GKcCowFkzII7ra9+3nxetT/9LRnuO/jHGwWPDx2ZduGA+vmVfG8XWdjLtXhafOPGAbjVJdTOVKHy/UHu+DJuNCz0bzR/waUoeevnPyr9Cv1/Zyrfws6fyizs/8GCD0bw+UpAggggAACCCCAAAIIIIAAAggggAACCMyJgNBzTiB3spjRv8Dur3Wy88eEnlXAGauBmj/lqp9GENr8cE7Py8CiEaiNLHdceFIFHd2gqBHuRLG9IUrnnLr6EaFU9/OlOjAsPyn6U7djVJur9+vz+tvfG0jVDZjkyaj649rJ6izb0B2f4XLb/a7aNoJh77mTdGerc3pCuLgkO5aD5/L11mFaX3WZRx73/LoZANds6xW9Pax7vMtc+ldfThB6NgPPovFdz+LNsi2ZRZ9j9Xs5DMzhYe1rSSa3tx1et8tP+Y8PchnVMdefGdd15jeK47BnrY+b53TaVnw0wr/hMgZsh1eq9p69uDfnFXp2As6h7/ad/jdg/cvpjt9YSnc81rZlcSDVhAACCCCAAAIIIIAAAggggAACCCCAAAL7kYDQcw+Marniptq2NlboVI9Rqy5nDT2HfgGeGU34C/d8+nTHKtCog6Gtrh4XgHSDlqqsbujRE4r1BzeDEKQdZjXa2C27+qhVXk99uYR2yNPf/vY5+cppjtMz69bZfZ1rb/UzB4vd4GkSRrnAmY9b+NQK8HpW+01Tf9Wvcmve0eFpwSiHfZ1wvNy2OV/bHv9RzLdc6bk03K+yDYP3u2V3XweGut2tNpdtHKyGbLd5gG+cc9VZeSzq8kdf0/VsUE/5rGz/tdQNUYtPR/jXLWPwuurjxN9Jgyt37NmE38Gj/w0oV3p2/+3ofud3X9f9mbD++vzeJ+vpy/91KS39xh3pyzLPXkLeRAABBBBAAAEEEEAAAQQQQAABBBBAAIHtERB6bo/bQq8a/Qvs/mZMdv7olZ7F9Y1wNYes5fF/p6+/1l/vTO/m4GPigGF0MNJdvVa3qyf0aIcoZcjRG2z2XFuXG09GfN4qf8Q5cXkZ1vSHXrmevkBq6B6nEap1w8ZcQF5lV4dL9QdDK/7yJ906u6/zea1+5qCs244R/e9em8tsHotzcmA4YnXg4PwceHZXpJZn5LLKcR6c2w7KBu/X9xkdWjmZx20QsuWy88rPssYcnlVhY8Vhqel64f9G+vKTb7e3pK3dGASVdT+rctrtLj8dNU6t93vGo/V5VVHZp576c5tfGfjfZNV63utc3ZPptqTtelUVU7b9WmqzH9Qxao42zug8zeM2pszOFTv+csLQcfS/AZOFnjv3b0AOPJfSvZ2dBHacnQoQQAABBBBAAAEEEEAAAQQQQAABBBBAYN8TEHrugSEe/Qvs/sZPdv7o0HPkKp/+6ub6bg6N+oKcdkXzCT1bK+yKEKcn3ImKewKiVntGfF70J4c0I86JctphUxm2dBm0z2nVPuGL6Zl16+y+zhW3+rkDoWeuZ5LjOIfK9g+HoeU1OXSepJaUcuDcP065jhyepmt8JwAAIABJREFUdr2qArWOG60gtGpGl23dusqnbv3x+dbj1O9C33V97xVtaIaenW1y6zZO+KSsI/Pvb9vYooq2jAv8J5jDzQoqtvt1e9ttr/RsMtrG8yc+Hys8bWu7DXQuQQABBBBAAAEEEEAAAQQQQAABBBBAAIEJCAg9J4B0s0+ZLMQctHKy80eHnmnC1USDGuf7rAxAtlpdNS4YmSY0LMuJ4KgIl0auSOsvs+75iECzHViNanP3/f66RoZPdSO2etKtp3n+ZHX2t2H42na/y3ryuHZX0vaX2Wzb5M+LepcGKy+7V5af53Bt8Omotg3OGH428poqgCvDyJLN8OrbaizqLWhHjc0w27olU4eeVVvC8TrUu5ZaKzJbq2mroLYVbta1d4LVUe0fnD/6WXVtDoBHheajCpgk8IxrR8zRoWInLW/owr43qu/Zk3+VuvdI7jt7y/cm/G4e/W/AZCs9d+LfAIHnlqPrBAQQQAABBBBAAAEEEEAAAQQQQAABBBCYkYDQc0aAi7h89C+w+2uf7PwxoWfKv6j/TrrUX8XOv7tl8DAuZOkJirYMiCL8GQ7DBh2t6qtDqsEnxbMRgcpQ+Ff1qxn8leFZs+6e9o9ZvddpyZiXUzLrqbMvoCyDxPZKxm6fckAYAVuz70VjKyZ9KxbHdGboo60Cz2Zd7S1QqzBw1NgO1VS9kYPDRliX8hbCDZdyu1r9zn43Q/YhN4bDwFZTtnS6PSZ949Qqr2e8y8972tFX9zbHsWxX0/9BQNkep25rB6tth0PlnnNHzNHmmbWnzXFpnjD18zJkLLYG/+Nn0sy3sFxU6DnnfwMEnlOL4wIEEEAAAQQQQAABBBBAAAEEEEAAAQQQ2AYBoec2oC36kklCzHJL2r9K7ftvlq+bWxkWZY24X2d3JVLvuWefX1z3i5CiHYbkAKlvddogVMohVnsV2+DzTheqMGTr4GS43LrMEYFK0d5WKNYIaupVde1watQ9SfsCx05Pel9Ow6wbPHbrrEOhuu2jtxRt1VswKPnVzBqtHSq3y6xxbu/TPIbNdjWet+rMgWPj863HvrfWevVg28fueKbqnpVtH7usixq6betyGNvPxlzpO69bVk+XuuM9OCWH/oM+tJjmE/vqbQTA2e0Wr5HtGp5v7dB8uE2tcrvBZdW23nYX7S/r6x2X3L9tHOvv5u2Gnq89k06M+M7+lUaZdT095w7+DZhwpWfVz7n8G7D+5XTHb5Tb2sbWtt2He3tuQyqXIIAAAggggAACCCCAAAIIIIAAAggggEAvAaFnLxZv7m0CU4YXVRgy77BjbzPsb/3oUKz/fO8icOAJ5NBykX8wcuChA4AAAggggAACCCCAAAIIIIAAAggggAACB5GA0PMgjvqC+vxnf/bumPsFDlaMtVZnNVffbeN52bV26Nktv9v9bpDXPd/rcqyCG1Y74y3H9g/Xy5c/bHzF7IKtwhut8RQBBBBAAAEEEEAAAQQQQAABBBBAAAEEENjPBISe+3l0D2zf2qHnWAxD91Ece/aB/7Abeh54IAAgMIJAvd1sYwvaEad6GwEEEEAAAQQQQAABBBBAAAEEEEAAAQQQQGAOBISec4CoiN1GYOvQswzvytVlo+/xt9v6dfPbI/S8+WOgBQgggAACCCCAAAIIIIAAAggggAACCCCAAAIIIDBMQOg5zMQ7CCCAAAIIIIAAAggggAACCCCAAAIIIIAAAggggAACCCCwhwgIPffQYGkqAggggAACCCCAAAIIIIAAAggggAACCCCAAAIIIIAAAggMExB6DjPxDgIIIIAAAggggAACCCCAAAIIIIAAAggggAACCCCAAAII7CECQs89NFiaigACCCCAAAIIIIAAAggggAACCCCAAAIIIIAAAggggAACwwSEnsNMvDMhgTceviPdv3Rv+t6E5zsNAQQQQAABBBBAAAEEEEAAAQQQQAABBBBAAAEEEEAAgZ0gIPTcCaoHpEyh5wEZaN1EAAEEEEAAAQQQQAABBBBAAAEEEEAAAQQQQAABBHY5AaHnLh+gnWje904upfuXGo+TT2yrmr0QetZ93WYftwXGRQgggAACCCCAAAIIIIAAAggggAACCCCAAAIIIIAAAgslIPRcKO6bX1kRAjYDwFe+nB6MALT53oTN3NWh55P3FsHuI08+kR7ZZv8mxOA0BBBAAAEEEEAAAQQQQAABBBBAAAEEEEAAAQQQQACBm0xA6HmTB2A3VF+uhuzem3M9/e3HG6tBl5bSgw+vt5o7CD2rYLFaPdo9r3XRIl4UQW7uj9BzEcjVgQACCCCAAAIIIIAAAggggAACCCCAAAIIIIAAAgjcTAJCz5tJf5fU3Rd6fu/kHelvX2k0sFo52Qw0i9Dz43cUK0UfebI6t15h2bj2pj4Vet5U/CpHAAEEEEAAAQQQQAABBBBAAAEEEEAAAQQQQAABBBZAQOi5AMi7u4pqRefHv5zeGNvQ4fPKlZ5LqQ48i+uHzxtbbPVhLqt1r9H6vqOdAHaSAutzhJ41Ck8QQAABBBBAAAEEEEAAAQQQQAABBBBAAAEEEEAAgX1KQOi5Twd20m7lsLG5gnPUtcWK0EY4Wl6bt5EdXNW3cnTw6aKfCT0XTVx9CCCAAAIIIIAAAggggAACCCCAAAIIIIAAAggggMCiCQg9F018F9WXA8/7Tz4x3Krivpjte3oWqzAnCD1HhaHDlSziHaHnIiirAwEEEEAAAQQQQAABBBBAAAEEEEAAAQQQQAABBBC4mQSEnjeT/s2su7r35v2NELNuTg48O2HoVCs9+8qtKxh+Ugew9Za2zcDV9rbDxLyDAAIIIIAAAggggAACCCCAAAIIIIAAAggggAACCCCQCQg9M4mDdBwXeKaUygByOGicLPTcbSsrd1t7DpJo+ooAAggggAACCCCAAAIIIIAAAggggAACCCCAAAIILIaA0HMxnHdPLVsEnkVDq3MG9/lcT3/78WrlZWMFZ982trvrfp7RG6Hn7pFPSxBAAAEEEEAAAQQQQAABBBBAAAEEEEAAAQQQQACBnSEg9NwZrru01EZ42beNbGM72+52s488mVJ3pWfK2+A2y2qEojcPQhV0NtvVeB598YMAAggggAACCCCAAAIIIIAAAggggAACCCCAAAIIILB/CAg9989Y6gkCCCCAAAIIIIAAAggggAACCCCAAAIIIIAAAggggAACB5KA0PNADrtOI4AAAggggAACCCCAAAIIIIAAAggggAACCCCAAAIIILB/CAg9989Y6gkCCCCAAAIIIIAAAggggAACCCCAAAIIIIAAAggggAACB5KA0PNADrtOI4AAAggggAACCCCAAAIIIIAAAggggAACCCCAAAIIILB/CAg9989Y6gkCCCCAAAIIIIAAAggggAACCCCAAAIIIIAAAggggAACB5KA0PNADrtOI4AAAggggAACCCCAAAIIIIAAAggggAACCCCAAAIIILB/CAg9989Y6gkCCCCAAAIIIIAAAggggAACCCCAAAIIIIAAAggggAACB5KA0PNADrtOI4AAAggggAACCCCAAAIIIIAAAggggAACCCCAAAIIILB/CAg9989Y6gkCCCCAAAIIIIAAAggggAACCCCAAAIIIIAAAggggAACB5KA0PNADrtOI4AAAggggAACCCCAAAIIIIAAAggggAACCCCAAAIIILB/CAg9989Y3sSePJ0+feRIOnLXI+nNm9gKVSOAAAIIIIAAAggggAACCCCAAAIIIIAAAggggAACCBxMAkLPgznuc+31m1+9Kx35g08XweenvzvXohWGAAIIIIAAAggggAACCCCAAAIIIIAAAggggAACCCCAwJYEhJ5bInLCeAKxyvOu9Mh6SkX4eeTT6enxF/gUAQQQQAABBBBAAAEEEEAAAQQQQAABBBBAAAEEEEAAgbkSEHrOFefBK+zpPziSjvxBjjnLbW7v+qpNbg+eCXqMAAIIIIAAAggggAACCCCAAAIIIIAAAggggAACCNw8AkLPm8d+79e8/ki6q1rlmTtjtWcm4YgAAggggAACCCCAAAIIIIAAAggggAACCCCAAAIIILAoAkLPRZHed/W8mR65q7nKM3dw1Pv5c0cEEEAAAQQQQAABBBBAAAEEEEAAAQQQQAABBBBAAAEE5ktA6DlfnkpDAAEEEEAAAQQQQAABBBBAAAEEEEAAAQQQQAABBBBAAIEFExB6Lhi46hBAAAEEEEAAAQQQQAABBBBAAAEEEEAAAQQQQAABBBBAYL4EhJ7z5ak0BBBAAAEEEEAAAQQQQAABBBBAAAEEEEAAAQQQQAABBBBYMAGh54KBqw4BBBBAAAEEEEAAAQQQQAABBBBAAAEEEEAAAQQQQAABBOZLQOg5X55KQwABBBBAAAEEEEAAAQQQQAABBBBAAAEEEEAAAQQQQACBBRMQei4YuOoQQAABBBBAAAEEEEAAAQQQQAABBBBAAAEEEEAAAQQQQGC+BISe8+WpNAQQQAABBBBAAAEEEEAAAQQQQAABBBBAAAEEEEAAAQQQWDABoeeCgasOAQQQQAABBBBAAAEEEEAAAQQQQAABBBBAAAEEEEAAAQTmS0DoOV+eSkMAAQQQQAABBBBAAAEEEEAAAQQQQAABBBBAAAEEEEAAgQUTEHouGLjqEEAAAQQQQAABBBBAAAEEEEAAAQQQQAABBBBAAAEEEEBgvgSEnvPlqTQEEEAAAQQQQAABBBBAAAEEEEAAAQQQQAABBBBAAAEEEFgwAaHngoGrDgEEEEAAAQQQQAABBBBAAAEEEEAAAQQQQAABBBBAAAEE5ktA6DlfnkpDAAEEEEAAAQQQQAABBBBAAAEEEEAAAQQQQAABBBBAAIEFExB6Lhi46vY7gTfTI3cdSUeOHEmf/u4u6et3P120J9pUPP7g6bENe/oPyvPu+uqbY8+rP1x/JN21m/pbN8wTBBBAAAEEEEAAAQQQQAABBBBAAAEEEEAAAQQQOCgEhJ77aqSfSI8sLaUHH17fV73aW53ZhaFnDbBqm9AzFcHuXY+kCWPdmqAnCCCAAAIIIIAAAggggAACCCCAAAIIIIAAAgggsDsJCD13bFzW099+fCndvzR47HwYueDQ88l7W/1r9vWRJ3cMrIK3TWCy0HPq4vfgSk+h59Sj7AIEEEAAAQQQQAABBBBAAAEEEEAAAQQQQAABBHY1AaHnjgxPGT7e//Evpzca5b/x8B1pZ8PAmxN67myfGgA9nZGA0DMDFHpmEo4IIIAAAggggAACCCCAAAIIIIAAAggggAACCOwPAkLPHRjHCDfvX7oj/e0rowsvz1nqCUGrFaJ1YFoGmREs5mvKFZX3pu9VxbffH6wszSsvh1aYDq3QHJQVRX7vZFlG97qh96tyxoeeVX9OPpHSK19OD45c+doIbDvtGyq/U879S+32pzRpnXl8+kPq/Olkx8G2tuW9M+9Kj/TsMvzmV+9KR4ptVZ9On8732DxyJDXvn1neU/PTafjOm9U1re1pu/W2y2q3fXzoWdZb3fdz7D06223P9wrd7j1Mu/U2WaTqfqSt96pOtTmVbYo2FIxrtg2O1YrU3N6hY3e72+69UI80ykqNelrjMfr99lh4hQACCCCAAAIIIIAAAggggAACCCCAAAIIIIAAAvMkIPScJ82qrBxCDoV1rbqqoC3CwOZPFegNAsfqvAgL63O7wWguoBEc5re6xyi/Lic+rMpqBYc971VB5KBdKaVpQs8i7GwEwUPXNvrZaEvJcnBdH9syjB2cM+hThLeN94fqrOBU77fO7XKb5nURlo0JPYtArvF5Fa7VoWH3da67p9yn/6BRTpxXXdsXEqY0PvTM1aRx29VWn7XKH3d+XWj/k3ZwWZ7T7lPV5m4gmboBcCOIrUPIUdemre/pGX2qy4l2VWV1gs+y/Y0xqFgcaV3b33fvIoAAAggggAACCCCAAAIIIIAAAggggAACCCCAwPwICD3nx7JRUn+A1ziheFqGde1VimWo13yvKqte+VmWMnxevD9B6NltRLzuDQOreouAtPm8UUDvdY3Pi6c9AWrxfretVR2dfubVoWWA3L0m19Vt36R1dq7v1p0/nvbYE07mIvIqxDrgLD4oA7tBkNgN9Mqri4BtKPzLJefj6KCvDu62CuTGhJi9bRhzfm5V/7Fq6xbtKZk1gsUobIhxxazDp7y2vUIzLu/tR38jB+9WgXJ77Jq8m88Hl3mGAAIIIIAAAggggAACCCCAAAIIIIAAAggggAACO09A6LmDjPOqxLzN7NDKz6HQsArrWisx+4O+uYae1erSUe3rbqdbI6tXSHa31G2srswrSbcMFLvBZV3L4MkQr8FHRYBc11FxrF8PzlvIs6FAblBrfwjXDT3zFqnNsG74nEGp7WejA73JQsbRKz1HtGHboWcVPsbK13HBZ1X+IBTuCy3729bPu+/6NsPeV6P6Wb0/blvj3vK8iQACCCCAAAIIIIAAAggggAACCCCAAAIIIIAAAnMjIPScG8pxBVWBXmuL2ji/E3IW4WMzMIxz5h965ntz5jA2H4dCz8b9Pfs+618h2uUwaQA5aejZ5VPW1141O2md3bbO6fUcQs+h4LEosxmCVm1tBW6D+3GW9w3t9mf3hZ7RwjKYHLS9GW7mHrSD3DLgbK+4nH/oWdRZ3xt00L52vWULcx/62p774IgAAggggAACCCCAAAIIIIAAAggggAACCCCAAAI7R0DouXNsh0oug7l2aNdcsVk8H1qdON/Qs68N7S1kB80u23ZHeuTkHe17Y+ZTxqy8zKfUwe5QvwZnlM/mEHrWdeyD0DPfQ7JaAVkEcN3VkDnw7LzfDgibnHdn6DloYdW+I0fSUHjYDJJ7A+D5hp5l4NnZUnfUSs+iPUfSp//g0ylWe/aFooM+eoYAAggggAACCCCAAAIIIIAAAggggAACCCCAAAI7QUDouRNUR5TZGzhWKzkfebIM6h58eL1z9TShZxX2tbbHbRY3Iljs2962eq9sT3VdHSpWZS469Byx6nV4Ney0oeeI/jXRTfO8GdB1ruvfbrU/sCvvWxmrO/tWNuYVkp1gbuz9KmcNPfuvzysi5xP29deR70caYWhvAFwx6oal/bwzu56Vs8V4lbyHttztDT2b5+bQdlS5HRm8RAABBBBAAAEEEEAAAQQQQAABBBBAAAEEEEAAgbkREHrODeWgoO+dbK/mLD6pQsT7ewLJMgyN+2Lem743KKZ6Nk3omVJ/sJoLrcLAZj2N+3IOtrDtCQGr81qh7MJDz5Ty6tO/fSX3Kfe5yW7K0LNm0DNug2omfzav0DOHnbGC8K5H0pvdFlQrDAdBXw7djvSf31k92i2uft0b7pWfliHiIGgtXt91V7prWyscn06f7varqnvQp7pVjW1wB/UPPu0PjkeFnmWg3LOitCgwc2yElxXr9krOnvOq9g8FpoOGeoYAAggggAACCCCAAAIIIIAAAggggAACCCCAAAI7QEDouQNQ6y1d4x6ejccgVOxUmkO3nkB0eBVjeW1zW9x2aTnYHNTdCiqr1ZJ1u2L1Zmul5+D6bntzOFuXl9vd6GMud3DtpAFkFbT2Mmj3sOz7oH/3d1eg5nulDr3fLmfwqifkHXw42bMcdvXcA7IZWPaHcP2BXVScV1H2hYDxeVle+36TxTWNMDGXEYFd9zFYnVmtWOw558iRRvjXaFNRVrG1bnntoKzJkBVn9XAbWU4+t9G3QU39DPt5l1d12TXHKVWBc80r6qzqz+3LXLtjU5fb2XZ40FbPEEAAAQQQQAABBBBAAAEEEEAAAQQQQAABBBBAYN4EhJ7zJrqd8iZaMbmdgl2DwD4iUIWO3ZBxH/VQVxBAAAEEEEAAAQQQQAABBBBAAAEEEEAAAQQQQGCbBISe2wQ3z8uKFZQTr0qcZ83KQmDvEBi3anPv9EJLEUAAAQQQQAABBBBAAAEEEEAAAQQQQAABBBBAYCcICD13guoUZfbdo3KKy52KwMEgUN1TM28tezA6rZcIIIAAAggggAACCCCAAAIIIIAAAggggAACCCAwKQGh56Sk5nxevj/m/Ut3pL99Zc6FKw6BfUKgvj/mkSNJ4LlPBlU3EEAAAQQQQAABBBBAAAEEEEAAAQQQQAABBBDYAQJCzx2AqkgEEEAAAQQQQAABBBBAAAEEEEAAAQQQQAABBBBAAAEEEFgcAaHn4lirCQEEEEAAAQQQQAABBBBAAAEEEEAAAQQQQAABBBBAAAEEdoCA0HMHoCoSAQQQQAABBBBAAAEEEEAAAQQQQAABBBBAAAEEEEAAAQQWR0DouTjWakIAAQQQQAABBBBAAAEEEEAAAQQQQAABBBBAAAEEEEAAgR0gIPTcAaiKRAABBBBAAAEEEEAAAQQQQAABBBBAAAEEEEAAAQQQQACBxREQei6OtZoQQAABBBBAAAEEEEAAAQQQQAABBBBAAAEEEEAAAQQQQGAHCAg9dwCqIhFAAAEEEEAAAQQQQAABBBBAAAEEEEAAAQQQQAABBBBAYHEEhJ6LY60mBBBAAAEEEEAAAQQQQAABBBBAAAEEEEAAAQQQQAABBBDYAQJCzx2AqkgEEEAAAQQQQAABBBBAAAEEEEAAAQQQQAABBBBAAAEEEFgcAaHn4lirCQEEEEAAAQQQQAABBBBAAAEEEEAAAQQQQAABBBBAAAEEdoCA0HMHoCoSAQQQQAABBBBAAAEEEEAAAQQQQAABBBBAAAEEEEAAAQQWR0DouTjWakIAAQQQQAABBBBAAAEEEEAAAQQQQAABBBBAAAEEEEAAgR0gIPTcAaiKRAABBBBAAAEEEEAAAQQQQAABBBBAAAEEEEAAAQQQQACBxREQei6OtZoQQAABBBBAAAEEEEAAAQQQQAABBBBAAAEEEEAAAQQQQGAHCAg9dwCqIhFAAAEEEEAAAQQQQAABBBBAAAEEEEAAAQQQQAABBBBAYHEEhJ6LY60mBBBAAAEEEEAAAQQQQAABBBBAAAEEEEAAAQQQQAABBBDYAQJCzx2AqkgEEEAAAQQQQAABBBBAAAEEEEAAAQQQQAABBBBAAAEEEFgcAaHnglh/9NFHyQMDDox3YEHTUTUIIIAAAggggAACCCCAAAIIIIAAAggggAACCCCwzwgIPXd4QIVc40MufPDpc2CHp6XiEUAAAQQQQAABBBBAAAEEEEAAAQQQQAABBBBAYJ8REHru0ID2BTn5vQ8//DB5YMCB0oE8L/qOOzQ9FYsAAggggAACCCCAAAIIIIAAAggggAACCCCAAAL7jIDQc84D2hfcxHujAq4PPvggeWBw0BwYNR9GzZ85T1PFIYAAAggggAACCCCAAAIIIIAAAggggAACCCCAwD4jIPSc44D2BTbNcKcbbL3//vvJA4OD6kB3PjTnSt9cmuNUVRQCCCCAAAIIIIAAAggggAACCCCAAAIIIIAAAgjsMwJCzzkNaDekaQY4Odxphlu/+MUvkgcGB92B5pzI86Q5d7rzak7TVTEIIIAAAggggAACCCCAAAIIIIAAAggggAACCCCwzwgIPec0oM1wJoc2OcTJwU4OuN57772UH++++27ywOCgOZD9j2OeF3me5HmT51Fzbs1puioGAQQQQAABBBBAAAEEEEAAAQQQQAABBBBAAAEE9hkBoeccBrQZyuSgJgc3EeREqBPhTgRbm5ubxePnP/95yo8bN24kDwwOigPZ+zjm+RBzIwegMWfy/MnzqTnH5jBlFYEAAggggAACCCCAAAIIIIAAAggggAACCCCAAAL7jIDQc8YBbYYxOaDJgU2EN82wM0KeCLbeeeed9LOf/ax4vP3228kDg4PmQPY/5kLMiRyA5vBT8DnjF5PLEUAAAQQQQAABBBBAAAEEEEAAAQQQQAABBBA4YASEnjMOeDf0zIFn3+rOvKrNsVztigMOfQ7k4DPmUJ5P8QcFzbk247R1OQIIIIAAAggggAACCCCAAAIIIIAAAggggAACCOwzAkLPGQc0BzHNVZ458IxAJ1ax9QU73hP4caDfgTxn8na3EXzm+ZXn24zT1uUIIIAAAggggAACCCCAAAIIIIAAAggggAACCCCwzwgIPWcY0BzAxDFCmbwqLULPHHhev35d6Fndx1TI1x/y4dLmEnMmB59We87wBeVSBBBAAAEEEEAAAQQQQAABBBBAAAEEEEAAAQQOEAGh5wyD3Rd65lWecY/CuG/htWvXhJ5CTw5M4UDMmZg7MYe6qz2bc26GqetSBBBAAAEEEEAAAQQQQAABBBBAAAEEEEAAAQQQ2GcEhJ4zDGgOYPLWm7HSs7nK86233kpvvvmmwGuKwMuqx/aqx4PII+ZMzJ3uas88z/K8m2HquhQBBBBAAAEEEEAAAQQQQAABBBBAAAEEEEAAAQT2GQGh5wwDmsOXHMZE6Bkr0yKoyqs819fXhZ5CTw5M4UDMmbzaM+ZSzCn39Zzhi8qlCCCAAAIIIIAAAggggAACCCCAAAIIIIAAAggcAAJCzxkGuRl6Rijz/vvv16Hn22+/na5evZpeffVVgdcUgddBXNmoz+3VrTFnYu7EHMqhZ8ytHHzmeTfD1HUpAggggAACCCCAAAIIIIAAAggggAACCCCAAAII7DMCQs8ZBjSHL7HSsxl6xrac169fL7a2femll4SeQk8OTOFAzJnY4jbmUMylWOkp9Jzhi8qlCCCAAAIIIIAAAggggAACCCCAAAIIIIAAAggcAAJCzxkGeavQ84033kiXL18WeE0ReFn12F71eBB5xJyJuSP0nOHLyaUIIIAAAggggAACCCCAAAIIIIAAAggggAACCBwwAkLPGQZ8XOj51ltvFcHN5KHnK+nsJ46kI0caj99/shGY9nzeOPfkdzph2XdOFmV98uFXGmWU57zy8Cfb9dTlfDKdvdwpZ3MzDZ3/ibPplTrILNs1VH98XrThZHqyPrdbdk+fGn1+8vcbLOo25veabc3ljKkSB9W3AAASq0lEQVSr4jHg2zk3Pm/1q82qj2MdSA6V3Wxb5tepr2ZStr0of6ic3Ncjg7aNOac1BmPOK/syZtzqtuUxbLTjSLtv/WNcjccQzyfTySNHUqudzbqq5zn0jDlkpecMX1AuRQABBBBAAAEEEEAAAQQQQAABBBBAAAEEEEDgABEQes4w2H2h57vvvlsENdOFno3gqw6BusHRhCFVcX117u9H8DkcthUhZiNczOFdGW42z++2oQwCyzAynzemXUXwls/rDzzbYWJ/fUX7oqyhEK0qs/jsZDr5iSOpXV5fe8v3yr42Arye8ofOqcdm0JeSRaOcOOfy2fTJI822jAn7CkbV9T1tyGNTH0ed0ywn2jDqvLoPY8atOmfyvnX6vxn9/WT65Cc67xdcOu/V7Rkw7YaeMadsbzvDF5VLEUAAAQQQQAABBBBAAAEEEEAAAQQQQAABBBA4AASEnjMM8lah5+uvv55efPHFoZWWdYCVA59RYVDr/a1Dqrrc4roIG/vDtlGh52bn/OK83qCxbMuWKwaLIG5E6Nnq2yDwKgPDnmBsTIgX4Vy0pbe9Y9pQhHo5/O2UXwaeW6xKHFN2tx9FXT0sx7WhHs/sSRw77Ryc0xyTcedl1lv4NHHfOvXmNv7+k8V4NEPo3vFp9q16HnMm5k5e6Sn0nOFLyqUIIIAAAggggAACCCCAAAIIIIAAAggggAACCBwQAkLPbQ50Djzj+OGHH6YPPvigWI3WXOk5cehZhY1HcgDXEwRtbm4RUjWuKcKlqqxWqFad0/x8EJpFGNYMSXvCrEYdg+vGtGtccDZRn3NANy7EK1cVFtvy9gSpff0ftH1E+UW7twg8NzfTVmXH53Xo19O2Nu9xfRzRztZ4dMZrZDiayxozblP2retT9LvYwrbThhaPVttzm8rjpKFnzD0/CCCAAAIIIIAAAggggAACCCCAAAIIIIAAAggggEAQEHpu04P5hp6DLVEH95zsrnYsQ6rB5837LDZXUzaDy1xuu6xuSJVDwOL9ejvcTjkjQ6px7Yo2NtvWDrfyNrCDPrXbmdtVHDsBWv6saHNjBWU7iOwEgSP70Agcq8Bz5Fa6dRlbl93mPHx+t+3l/TGb4zp4XoenIziU1zb45X5074VaB+tle/rvrznc1sw7H1t9q1cWx/jGtbkdjUB6itBe6LnNLyWXIYAAAggggAACCCCAAAIIIIAAAggggAACCCBwgAkIPbc5+FuFnhsbG8UWnRNtb1sHaVUo2Ays6kBvXEjVCBOHQrHhAKsIrLphWPG6GVBOF3r2hmdFP5plNto5UZ8b5w/1Kz7rYdKqc7jvObQbOhbXlSHjye+Ufa+Dxm5bi9dbl90KBuOardrW28cGg7qMQRg6MjDesqwednU/p+1bI9yMALR2tlwNW7jRCkY7farrLd/PoWfMoRs3bqRR29ta6bnNLy+XIYAAAggggAACCCCAAAIIIIAAAggggAACCCCwDwkIPbc5qDsaetYhUDN4HBdS5RCpPGcQhDXDsUH4OBTGFYFUYyvWov6tg68yOBzTrlbIl9u41bHZ58a5fSFeUX6zj4PnObBsr/xslFczrt6ryqrD2+7r7vlTbgFbsmr0rS8E7Otjt96hc8oyh7ZGHjqv2/cx47aNvuUtbcOtzL7oc7QjVpdu2Z5B+4Se2/xSchkCCCCAAAIIIIAAAggggAACCCCAAAIIIIAAAgeYgNBzm4M/z9CzCCEbq+MGqxCbweP4kKq4pgjS8taigxApbyObA72h0DOCtQiljrTvYzm6Xc37WY5pV1HmIGwd9GszjS672edGH3pCs1GBZvF+5jlpG0aVP2573jFll8yHxyKz7217TxuazIrnfef0hdZ957UC1DHjVvvQP3a9fYv6fv9sOvuJtkPFuZ84m84272/aakdjjKv3hZ7b/FJyGQIIIIAAAggggAACCCCAAAIIIIAAAggggAACB5iA0HObgz/P0HNzc8xqvTp02yKk2hwXJDZDyuq8+t6Og9CpCOKONIO6ss7u/S3b541pVwRhdfsH9ZRB3iR9blwzFOI1Vk12Q7RO+Fu2tx3gFeFjM+QdKj/q7u9/M4hss6ja2xdC5jZWnx1pca6u621Dg0GUMeKcyfrTLGvMuFVtnapv0a9PfDJ9cmi8K4Z9/c1MOkeh5za/lFyGAAIIIIAAAggggAACCCCAAAIIIIAAAggggMABJiD03ObgbxV6vvXWW1Pe0zOHQ4MtWtthY8/nzfty/v5/TyePdLeobYRcEZZVwVNebdgM78rnuY52QFiGX+PblVeRtsos6myX1fo8h4rNfuQVmp0grBv2lSHfqLKrfjSC3RwKDrb+7Vw7IkzMq2TbY9HgGu0s+tngs0XAV/Ds6+dQOT1ljmpn3pI21z3mvPZYN+son7fGcqhNzVC8yWGYeR7r8WPVLKN8nkPPmEPu6bnNLyiXIYAAAggggAACCCCAAAIIIIAAAggggAACCCBwwAgIPbc54PMPPYfDnxwaOWJzkBwQem7zS8llCCCAAAIIIIAAAggggAACCCCAAAIIIIAAAggcYAJCz20OvtBTEHmQgshF9lXouc0vJZchgAACCCCAAAIIIIAAAggggAACCCCAAAIIIHCACQg9Zxj8HHx++OGH6YMPPkjvv/9+evfdd4stOWNrzjfeeCNFgLPIwEhdwti97kDMmZg7W21vO8PUdSkCCCCAAAIIIIAAAggggAACCCCAAAIIIIAAAgjsMwJCzxkGdJLQ88c//rHQs3t/Tq85McaBmDNCzxm+mFyKAAIIIIAAAggggAACCCCAAAIIIIAAAggggMABJCD0nGHQ+0LP9957r7XSU+hp5eVeX3m56PZ3Q8+YU7GKOlZTx6rqPO9mmLouRQABBBBAAAEEEEAAAQQQQAABBBBAAAEEEEAAgX1GQOg5w4Dm8KW5va3QU8i56JBwv9Un9JzhS8mlCCCAAAIIIIAAAggggAACCCCAAAIIIIAAAggcUAJCzxkGflzoef369fTmm2+my5cv28p0zFam+y2w05/ZQ++YMzF3Yg7duHEjWek5w5eUSxFAAAEEEEAAAQQQQAABBBBAAAEEEEAAAQQQOCAEhJ4zDHQz9IzVnrEFZwQ0P//5z4vARug5ewAmRDx4DJuhZ8ylHHrGHLO97QxfWC5FAAEEEEAAAQQQQAABBBBAAAEEEEAAAQQQQGAfExB6zjC43dAz7jn4i1/8ogg933777fQv//Iv6aWXXrLS00pPDkzhQMyZmDsxhyL0jDmV7+cp9JzhC8ulCCCAAAIIIIAAAggggAACCCCAAAIIIIAAAgjsYwJCzxkGd1ToGasTI7C5evVqevnllwVeUwReVnYevJWd3TGPORNzJ+ZQfCb0nOFLyqUIIIAAAggggAACCCCAAAIIIIAAAggggAACCBwQAkLPGQY6h55xjBVoeaVnBDXvvPNO+ulPf5peeeUVoafQkwNTOBBzJuZOzKFu6NmcczNMXZcigAACCCCAAAIIIIAAAggggAACCCCAAAIIIIDAPiMg9JxhQJsBTL7fYNzX89133003btxI165dS6+99lp6/vnnU4D+5je/mf7yL/8ynT17Nn3hC19If/Znf5YefPDB+vGnf/qnyQOD/epA0/VwP+ZAzIWYEzE38pdRzJmYOzGHYi7FnMrzqznnZpi6LkUAAQQQQAABBBBAAAEEEEAAAQQQQAABBBBAAIF9RiDnDOvr60XOEIurlibtYzOAyCsdI6CI7SgjrIjCIryIwnPwN2nZe+W8LoPo/3vvvVcENm+99VZ6880305UrV9IPfvCD9I//+I/p7/7u79KFCxfS//yf/zN97WtfKx4R+nhgcFAcyN7HHIi5EHMi5kbMkZgrMWdi7kToGXMph57NubZXvh+0EwEEEEAAAQQQQAABBBBAAAEEEEAAAQQQQAABBBZDYO6hZ97iNYeeGxsbRej5wgsvFCu5FtOtxdXSDGJy8Buhb2zL+bOf/axe7Xn58uW0traW/s//+T/pu9/9blpdXU1PPvlkeuKJJ9J3vvMdDwwOjAPhfLgfcyDmQsyJmBsxR/Iqz5g7trZd3PeYmhBAAAEEEEAAAQQQQAABBBBAAAEEEEAAAQQQ2OsEIvSMPDIWY0Y+OfNKz3Gh59NPP73XefW2vxl8Rv/zas+f//zn6fr168X9CV9//fXi/p4R7ATw5557Lj377LPpRz/6UesR4Y8HBvvNga7n4X7MgZgLMSfiPp4xR+JenjFnYu7kVZ4xp5pzrHcSehMBBBBAAAEEEEAAAQQQQAABBBBAAAEEEEAAAQQONIHIIecWejZXOkZgEQlqc6XnQQg9M4MIPvO9Pd9+++2CQwQ6sXVnhDuRMjcfscLNA4P97kDT+XgecyHmRMyN+K6IudK8l2cEnjGnhJ4H+t8pnUcAAQQQQAABBBBAAAEEEEAAAQQQQAABBBBAYEsCCwk9I9iIZHW/hp5BuRnKdIPP2KYzgpzYsjNWseVH3LfQA4OD6kCeB3GMuRFzJOZK/LFA/NGAwHPL728nIIAAAggggAACCCCAAAIIIIAAAggggAACCCCAQEUgh56RS868vW0O++KelrHSM0KMKDQKf/HFF9Mzzzyzr8GPCj6DRwQ5+RFbd456BDMPDPabA6N8j/fzvIhjzBWB577+mtQ5BBBAAAEEEEAAAQQQQAABBBBAAAEEEEAAAQR2hEDkkJFH5tAzspalSWvqhnx9oWesYnvjjTcOROgZ3LpMYrVaPCLIyY8Idjww4EDpQJ4XOey0wnPSb2DnIYAAAggggAACCCCAAAIIIIAAAgj8/+3d3SusXRyH8f//f9jIgTOSkgOR5EQhIyHC0JCXQd5f61lP33t378bs3e7Z9jwJn4NfQ2pmzdV1O7laayGAAAIIIIBATaCOnumS6ZP/W/Tc3d0ty8vL9ed+6tfO8JmfE4PrIFxHUK/fYzAOONQO1M9J9/Pzqf9Z+HIIIIAAAggggAACCCCAAAIIIIAAAggggAACCCDQEwLpkOmRfx0967iXgJEdW9nFlqMrc1/f6elpaTabpdFo9GTRH+VNuuPN736vg4/X74EYh8/J4XfPQPffPspzbp0IIIAAAggggAACCCCAAAIIIIAAAggggAACCCDw/gTSIdMj0yXTJ9Mp//Pxtll+Z6ioQ1V39Gy322V/f7+srq6+/zd+hxV0MvLzP6+cwQOPbgfe4RH1kQgggAACCCCAAAIIIIAAAggggAACCCCAAAIIIPDBCaRDpkemS/Y8ej48PJTb29tyfn5eWq1W2djY+OC4erP87sjjd+HvKzvQm6fKuyCAAAIIIIAAAggggAACCCCAAAIIIIAAAggggMBXJpAOmR6ZLpk+mU755p2eCTfZ7ZmdnpnHx8fqTS8uLsrh4WHZ3t6u7vWcnZ0tExMTZXh4uAwNDZXBwcEyMDBQ+vv7S19f30/z7du3YjDgAAc4wAEOcIADHOAABzjAAQ5wgAMc4AAHOMABDnCAAxzgwOd34Fe9MB0xPTFdMX0xnTG9Md0x93mmQ6ZHpksmeqZT/lH0TDHu3KWW6Fnf6/n09PTqXs+9vb2yvr5eFhYWqgVMTk6W8fHxMjY2VkZHR8vIyMiPyUINBhzgAAc4wAEOcIADHOAABzjAAQ5wgAMc4AAHOMABDnCAAxz4ug509sP0xHTF9MV0xgTPdMf0x3TIzvs80yl7Ej0TPp+fn6voeXNzU20lTV3d2dkpa2trZWlpqczPz5e5ublqQTMzM2V6erqaqampYjDgAAc4wAEOcIADHOAABzjAAQ5wgAMc4AAHOMABDnCAAxzgAAfqhpiemNCZvpjOmN6Y7pj+mA6Zo23TJe/v76tO+VfRsz7ito6e2Tp6d3dXLi8vq4tD84HNZrNsbm5Wi1hZWSmNRqNaVBaWWVxcNBhwgAMc4AAHOMABDnCAAxzgAAc4wAEOcIADHOAABzjAAQ5wgAOvOmK6YvpiYmd6Y7pj+mO73a56ZLpk+mQ2Z/5x9Ow+4jbhs/OI21wUmrNz6/B5fHxcXSSabaYpr5mtra1Xk0UaDDjAAQ5wgAMc4AAHOMABDnCAAxzgAAc4wAEOcIADHOAABzjwdR3oboh1W0xnbLVaJd2xDp7pkemSOdr25eXlbdGzO3z+6m7PbCdN+MwFovnwk5OTcnR0VE0K7MHBgcGAAxzgAAc4wAEOcIADHOAABzjAAQ5wgAMc4AAHOMABDnCAAxz4yYH0xLotpjOmN6Y7pj/Wx9rWwTMbNN+007M7enYec5uSmm2kKavZUnp9fV2urq5+BNCcr1vP2dlZMRhwgAMc4AAHOMABDnCAAxzgAAc4wAEOcIADHOAABzjAAQ5wgAO1A3VLzGsdOtMb0x3TH9Mh0yPTJRM8s0HzX/3ykoCGyWd+AAAAAElFTkSuQmCC)"
      ]
    },
    {
      "cell_type": "code",
      "metadata": {
        "id": "gOQJK8Ha38Y7"
      },
      "source": [
        "variable_a = 12 \n",
        "variable_b = 'abcde' # '' เรียกว่า โค้ด quote แสดงข้อมูลว่าเป็นข้อความ ตัวอักษรหรือ string\n",
        "variable_c = variable_a\n",
        "variable_d = -41.2 # ค่าโฟล์ท\n",
        "variable_4 = \"KKU\" # string สามารถเลือกใช้ quote = ' ' หรือ Double quote = \"\""
      ],
      "execution_count": 155,
      "outputs": []
    },
    {
      "cell_type": "code",
      "metadata": {
        "id": "r9YRytVe4pIl",
        "colab": {
          "base_uri": "https://localhost:8080/"
        },
        "outputId": "5cc9605c-3949-40a3-92ed-b52abbeb170d"
      },
      "source": [
        "variable_x = variable_c + variable_d\n",
        "variable_x\n",
        "print(variable_x)"
      ],
      "execution_count": 156,
      "outputs": [
        {
          "output_type": "stream",
          "text": [
            "-29.200000000000003\n"
          ],
          "name": "stdout"
        }
      ]
    },
    {
      "cell_type": "markdown",
      "metadata": {
        "id": "VZe_VrX__VIU"
      },
      "source": [
        "![image.png](data:image/png;base64,iVBORw0KGgoAAAANSUhEUgAAB0MAAAE5CAYAAADiP4jjAAAgAElEQVR4Aey97Y8V153vu/8B58yLK4F0zgu3bq7kHEUa8uaQSFdnSKSJGEsROsxY1kSK5FYyEjNWREaO5TNKZqaFwMHBCcc4AV8OIe2RscAeghM/gDx+IAMDTDC0jp2hY2we/IDbYEwbA2kcbP+ufrXWqlq1alXtqv3QvXf3p6VO7b1r1Xr4rE9tIn97rWqdPHlS+vXz6aefSp3fTz75RPiFAQ7gAA7gAA7gAA7gAA7gAA7gAA7gAA7gAA7gAA7gAA7gQC8c+Pjjj0V/b9y4IR999JH8/ve/l+npaXn77bc7ikQOHjwoo6OjhV/9fC5+nnjiiaQvepyNn2vXromOVdvzfycnJ5Pm9eh/rq+1vF7Xix+t58477yzwj81J7DO9ttu+uPHpeHS82s769etrD8/1q/YFNQq+9957Be6un7Gjlp+NH23nb/7mbxJGeuyGvd6zeu/qPaz3st7X7juiKoP0x9nqVxha1QHXSY78o4YDOIADOIADOIADOIADOIADOIADOIADOIADOIADOIADONBrB8IwVMOYTsNQF4RqqLNp06Yk4NGjC3vmIhDVoEvDNT32++fYsWOlQaRr3/XHBX7uqCGkXt/tT1n9rp3vfve7or/ufezo+tppX1ydev2ghKGuH65v7Y5afrZ+9J7T9roJQrWvLgzVejQM1T9wcPe3fm9U5ZFurH0JQ2MNx77IXGc5mr9QgQMccAAHcAAHcAAHcAAHcAAHcAAHcAAHcAAHcAAHcAAHcKB7BzQw0d8//OEPcv36dbl69apcunRJ3nrrLZeP1Do+++yz6eq2N954IwkfNXDSYE3fz1Ug6sLBbgO+dhB0jDpeHae2peGW/+tWGurR/1xfuz7q9VpPNz/btm2LBp3aL23L/ehrNydhMKh1dPPj6tM6tB19P9crQ10/XN/aHX1W3bCYzWv1ntV7V+9hvZf1nnaBaJg9hvmk62dPw9CwEX0fdiT8EndfSBzNFzMc4IADOIADOIADOIADOIADOIADOIADOIADOIADOIADOIAD3TmggYn+6kqymZkZuXLlirz//vvy5ptvunyk7dEFcBquuTDPBXwuhPQD0Z/97Gdt6+ykgAsc/WvDfvjnYuX9801eu5Wwna7u1Os0oNN6uv159NFHC4FoLNyLBYR6bbc/LmjUelwbhKHlVNXR++67LwnFy0u1P6P3rN67eg/rvexWh+p3pMscwyzS5ZWu9r6GoX7jrkN6DL/E3ZdS1VEHxy8McAAHcAAHcAAHcAAHcAAHcAAHcAAHcAAHcAAHcAAHcAAH2jmgK8j0V8MT3V7z8uXLoiGhCzVdSFJ2jAWhWjYWQvYzENV+6FazYb9j/dD+aTkt36tgVoNg/fV/XBDowsHwGAaUer32qRc/Gj669nRb3LIfbdOVaxJYltWnn7v6qspUnev2+ljd7ebCtemO4dzE6uzFZ2G/umlXw9CLFy/Khx9+mD431OWJfiCq+aOfS2og6n56Foa6lNUd/QZdEOpCUNdJPYZfWO4LiqP5ooYDHHAAB3AAB3AAB3AAB3AAB3AAB3AAB3AAB3AAB3AAB3CgmQMagurv73//+2R7zQ8++EAuXLggZ8+edflI5VFDSA3UmoSQWl6v6+WPC2XDQDQWhrogVIOvXvUjFmSGQZcL2twxDL60Dv3txY8fht59992lVWp7rj+EoaMpi3BuSgF2eSJ0JLyPmlSv96z+IYP+QYP+YYNbHar5ouaMLnt0WaSfT7p2ehKGugDUHf2GXOPaGReC+gGo/wXuvpw4mi9pOMABB3AAB3AAB3AAB3AAB3AAB3AAB3AAB3AAB3AAB3AAB5o7oCGo/mp4ottrTk9Py/nz5+XMmTMuH2l7jG03GwshXUWx8u5cN8dYIBr2ww9Ce7ElrOsv2+Q6EvmVoWHY54JXnZeyH1em7Hwnn5f1w7UVHmcrDNWxKAsNoquY1Bmz3rN67+ofNOhzQ/W+dtmiC0RdKOoySZdTuvp7Hoa6BvSojbpE1q0C1Q66LyHttP7qF5H71WWu/MIAB3AAB3AAB3AAB3AAB3AAB3AAB3AAB3AAB3AAB3AAB3CgUwd0FZn+aoBy6dKlZFXouXPn5OTJky4f6egYhpAdVdLBRQcPHkxW97kVon4//CBUy/XyR+t2gZq2+bvf/S736wJgPYbnXB91lWY3KwN1PC4Qdn1xR+XhB3z6Wj9z5/1jt6tlXV3aHx2PBn36669C1TGX/fjXl5Vp+vkgh6FNx1JWXu/Zd955J1kdqn/UoN8JminqHzq4YNSFoi6T1HxSc0r303UY6laDuqMLQ136qg1rJ/QvV7RTLvzUzrovIu28/uoXkv+rD0TlFwY4gAM4gAM4gAM4gAM4gAM4gAM4gAM4gAM4gAM4gAM4gANNHNBnDOqvhnS6qkzDFN1u88SJEy4f6ejoAr6q0Kujimtc5AeiDz74YBL46dGFf70OQl2Xjh07lgv8XKinR8fBcfHP6WsNCvX6bn/K6nft6Za5+uvex46ur532xdXpXx/2q6qN2PV+XZ28HuQwVMNKDcj12M2PjlHD53fffTe5nzVH1D9y0IxRQ1G3WlRzSM0jNZd0GaVrt6dhaCwI1ZWg2gEdrH7RzIdftiRoviUBzGCGAziAAziAAziAAziAAziAAziAAziAAziAAziAAzgwWw64HSo1m9DApJNtcl2Q4h9d+FUVevnle/3aBaIuWHPHfgWhrv/KUdvQcfu/GlTpjx79z/W1lu82CPPb91dgunHXPeq13fbFteX65Farat1uO2EddxmP8HpXTzfHQQ1D9Y8QXEivR7eCuJOxum1y9R72V4TqPe5/n+j86nvNJV0g6trrKgx1q0Hd0Q9DtSG3Z692QBPa+RCE6hh8uLzmH28cwAEcwAEcwAEcwAEcwAEcwAEcwAEcwAEcwAEcwAEcGCwH5msYquFOGIj2Owh1gdJcH924NXzUIPK73/1u6UpQPadlXIDaC0Z+mOkHobpqUUNQPe/CUPfeXeOOGpr28mdQw9CwX/q+05+6YajmkJpHumxSc0r307Mw1A9CdfmpPiNUG9SGdUtcXY5OGDpY/xjwjzPzgQM4gAM4gAM4gAM4gAM4gAM4gAM4gAM4gAM4gAM4MB8dCMNQ3VZTt8vVYKWbHxdyudCrm7q6udYFg70I+brpx2xfq1vuau7kflwo6cJGPepn7kfL9mKbXq3PtaGvXdDqnoWqYZ864UI/914/c7+96ocbmx61fdevOkfXX7+OfrzWlaAuiNajP2dN23NhqN7DVStDNYfUPFLb0nxSc0r305cwVNNW95xQ7Zju3+v2454Pgeh8/IeBMfF/eHAAB3AAB3AAB3AAB3AAB3AAB3AAB3AAB3AAB3AAB+aLA7Ew9MKFC12HoRryaNDVzbafLqDp9jgIfeh2DN1er0FjGALqZ/34ce24ugeFv9ui1/Wv7NjrVamOQ9lRQ0m9V7oJQrVuDUP13m0XhmoOqXmk5pL6PaY5pfvpaRjqHkjqrwrVZan6UNP5EIK6McyXfwwYB//HBgdwAAdwAAdwAAdwAAdwAAdwAAdwAAdwAAdwAAdwYD460K8w1IUrHAeDgIZtYfinn/Xjx23Le99990nT336vyNQxt/vtB5PZqLNuGKoZnuaR/na5rn8dh6HuOaHuqNvk+mGofnm6VaHnzp2TkydPzptAdD7+w8CY+D88OIADOIADOIADOIADOIADOIADOIADOIADOIADOIAD88kBDUR1VZpmFbqqTFeXaWDCz/wiEIaA/Rrds88+m279Ggaw7d73K6Dt11gHqV69Z2MrQ8PvKs0hNY/0V4e6cfQkDPWfF+q2yNUvGfes0DfffFNOnDhBGDrDP6ShnLzHCRzAARzAARzAARzAARzAARzAARzAARzAARzAARzAgX444MLQq1evJmGobmtKGOriIY4QGA4Ces/qvat/0KD3sv6Bg97b4XeG5pCaR7pnh2oZ99PXMFSXorq/tHj55ZcJQwlDC3KGsvKe/9ODAziAAziAAziAAziAAziAAziAAziAAziAAziAAzjQCwf8MFTzCg1UdLvSbp9h6AIWjhCAQH8J6L2q96zeu3oPV4WhLofUXFLL9jUM1eeF6kNJtRFNac+fPy+nT5+WiYkJwlDCUMJQHMABHMABHMABHMABHMABHMABHMABHMABHMABHMABHJgVBzSn0F8NUNxOlm+//Xayeqy/EQ61QwACvSCgKz31nnWrPfVedvd1+AcTmkNqHqm5pOaTWs799HxlqAtDNa3VxvRhpadOnSIM5R+3WfnHLZSf9/wFGQ7gAA7gAA7gAA7gAA7gAA7gAA7gAA7gAA7gAA4sTAdcaKJ5hYah09PT8s4778irr74q+gxHXW3GDwQgMHgE9N7Ue1TvVb1n9d7Ve1jvZXdfh9/rGoZqHqm5pOaTWtb99C0M1XRWG5uampLXX39djh07xspQAlECURzAARzAARzAARzAARzAARzAARzAARzAARzAARzAARyYNQc0ONFQxGUWbjdLzSyeeOIJeeSRR+Thhx+W8fHx5PfnP/+58AsDHJhdB9z9p/ei3pN6b+o96q/01HvYhaFhEKrvtbzmkZpLaj6p5d1Pz8LQjz/+WPRXV4Zev349/WIhDF2Yf3ETE5HPcAEHcAAHcAAHcAAHcAAHcAAHcAAHcAAHcAAHcAAHcGA2HXCryDRE0ZVl77//vpw7d05+97vfycGDB+XJJ5+U3bt3yz//8z/L448/zi8McGCOHNB7UO9FvSf13tR7VO9VvWfbrQrV75Q5C0N12aoLQ1966aW+rQw9tXOnnPrf/1tOfuc7ya++Pr1rV9/am80vatri/xjgAA7gAA7gAA7gAA7gAA7gAA7gAA7gAA7gAA7gAA7gQOcOuEBUV4pdvnw5ef6gbr155swZee211+TkyZNJ8KLhi/7q9pz8wgAHZscBd9/pUe9FvSf13tR7VJ8Vqves3rvuPi77LtQc0q0M1Xyyq5WhfzhzRt7/X/9LLoyNycWNG+Wj06flk08+SVaF3rhxI7cy9NKlS0kYqh3vdRh6+pln5NW/+As58ZnPyH+0WtFfPadltOzZs2d79lsGms87/8cIdrDDARzAARzAARzAARzAARzAARzAARzAARzAARzAARzolwMuSHGBqOYX+lxCXdCloUvsV1el8QsDHOiPA7F7Tj/Te1LvTb1H6wah+r2hOaTmkXq9XttRGDozMSFnli2Lho6nly2Ta8eOiYahH330UbpNbj/C0DMvv5wEnGUBaNnnGorqtb0IRfv1ZVys96yMP7BM1r80LTMzU7J3+zJZtOYWuWPv5Kztp17sE/8Y55hcnJCdj62X9Xv2y9S1jM3Uvjtk0fh+5qnw7INpmdi3UdY/skX2v5nxmnl7p9yxZkz2ewxznAv1eNfquV7OQy/ratdvznOP4AAO4AAO4AAO4AAO4AAO4AAO4AAO4AAO4MCsOeAHoleuXEmCFg1b9PmCupKMXxjgwNw6oPei3pP6q/donRWhLkvoOgyd/vnP5Xd/9EfRINSFj3r+/Z/9rK9hqK7wPPFf/ktlP1x/Yke9therRB3Y/h/PyvjGlrR+ukemJtbLkrGWtPS3SWh0ZExahHJ9+8f0yCOLZNWLUzLx2DK5fe9Z087F/TK2frlsmQwCO/5Pjcy8NCaLHtojU69slGUP7JSzCZNp2T++VJbv7jzk7+U89LKu/n9H4BiMcQAHcAAHcAAHcAAHcAAHcAAHcAAHcAAHcKCJAy4QdUcNW/iFAQ4MlgPu/nTHOvd4V2GorghtF4S64FHLffib3/RlZWgShFZsiev60O6oW+d2G4jWgd6zMsfWy5I1Y7LlsWXSenCn7N+9TFpjK2T8TM1/4AhD+xaE6hz7wdmqZ8/K1MS4rFp/M6t3y4JfPwz96R45+84RGX9oqdz84E6Z7HRVaI/ngTmt+d1SNsd83tfvnJ7928I8MU84gAM4gAM4gAM4gAM4gAM4gAM4gAML3AEXsnD8ffosRljAYtAcaPLfQ7sKQ8/8yZ8UVmKe+uM/lisvvCB6DMPHU3/yJz0PQ3V7225WhIZ91Lq62TK3Cfyuy36wV1bbFaHL90zK2SdXEIYO0j/SF4/IxgeXys3JHN0sSx8ck53/Z4r/I1U6R9Ny5LE7ZOkas8r55nvvkLF9E7kthju6Z3o5D72sq5QDgWNH8wxPvltwAAdwAAdwAAdwAAdwAAdwAAdwAAdwAAdmwYFBC4ToDyHlfHagV/+tuOMw9A9nzhTCTg0WNSD99NNPk2MYNOr7q6++miwr79UzQ1/98z+P9iPWdt3PtM5Onx9ad2KS4HLjuN0K1Gx5O3akaQgyLUce0WeFrpI9b880D0Ob/MNwalxWjLVk1bOEeXXnmHJNfaY8zuAADuAADuAADuAADuAADuAADuAADuAADuAADuAADuAADvTWgY7D0Pc3boyGkO3C0PMbNvQsDNUtbdsFnJOf+5z8x003tS0X1nPm4MGOAtG6giZhaPq8zv0yNtaS5mFoXoboytBTO+UOXWm35ha5Y8+ETHsBaLT8G/tlfPwOWbZ2kX0G6XJZ9dge2bl9ibTW3CN7P5iR/eP2+aR2Veqitcvkjkf2eyv4pmW/hrRjLbl5w5jsfdPvpxmre1Zp+7pmZOZdf4Wl13bKb0ZmXt0jYw/ckrTZGlskt2xYJVteyge30fEqj3cnZc+e1XLHenf9zbL0R6tk4yHv+jMmDE6ey+pWev5otYy/Ml34a6vpV8Zl9YZbZPnOI3L2lS1y+1pl6POZkan/s1PGHlwmtySrIBfJLevvkPV+ezMV4fa1KZl8cYusTq9vyaJIG8pty+blZmXqmltk+badMnnZzEXIYvLZ1bJsjdZzu2w8lh+TKZv5efbgRln1I2/FawmHmYsTMr5tuR1jS9xKT99Bd79MHVovd9x7s3XuFlm+eaPs973RFZkb9fzNsnzbnmDbXOtU+scFZoy9moeZy2dl/5PrvTGb+dJVq52NZb+M3af3182yfHyvd9/Y+8S6Fn4fTO5bLcvdfWnvvUbbYnv3vuPO0f9u4jU+4AAO4AAO4AAO4AAO4AAO4AAO4AAO4AAO4AAO4MB8dKDjMPTCP/5jNGBsF4a+8/3v9ywMrbMq9LXvfCd5DmgSirZa0T6HQai+73R1aF1JNARc8eRZE6Ql4UeDZ32WhBphwKV90XZWvzgtMwfvkdbYctnyanYjF8vbUCkNWrzgcWypjB0xIVkYYLqAcOkjR0w4pOPZsFEmLk/Klg0tWbRtrxcaVYehhbpmpmTPT20wG/bLhaGnxuV2u7Wqu94cl8r6iarxmnNl49FQNV0JWwhDLZs1t8tO7xmt00fGZOnYIrn9yUmZfHaVrHhoj0y+avq3dHy/5VDGeamMvZQFkcX5Mf114WR+rKY/ix7YaVcbT8nOB20f14/J/jf2yj33tmTJo0cS5/J168pk48bebS1p3btejniOufaScK4mh5lrR2T9et8f93qR3L7Xem/bmHp2lQ2xXZms30c+sPOnz7fdtldmXt0iywsrlIthaO/nIeibdXHpTsPT3fd1xqI8lz8+IdP/sVGWjy0q/hGEZZwLQyfWy9LQ/+R9998bru8cs+8KWMACB3AAB3AAB3AAB3AAB3AAB3AAB3AAB3AAB3AAB+aPAz0PQ08tWSJXX3xR9BgLGXsZhtZZ8alhqG55q88BrROeuj6f+Mxn+rIytDx4c2HLmOz3gqgmN1s+4LKSupWhNkjxA5Zi+f2yfuOYjP9mUqY0hLp8Vo78crWs2nxHEvClwWDQv+lJF0beI/uvabvZytAksMut2MuHoeH4CnW9u0dWjbVkqa6gs6sa89dMy95tGpYulXtePCvT2v61aTn74j1JeLTIBaYVKy2P7Lxd1u87IpMXbBCp1x8ck+UasAbBYNr25SnZO740Wcm44peTdnWo2e64tWGLTAaMDGsXRivn9bLnP6bS/k7+8nYTCG7fn640Lc6PmdOze++Q2x/ZKUdes9fPzMj0qb0y9iPlsETWH9Nyynm17Lk4LXseWiRjL9m+2bkI63YrQ03AmnfQlLUrQ8/slNUPbZH9r1lWUQ4zMrXvjoSNP29TE1tMaO0z1dD0Xl25fLuMT9o6Pzgre7YZtqlz6cpQc5+kf0iQcA7D0B7Pw77VsnrPXpl4IwuqpybGZVUS9q6SPe/ae632WNzKUDeWSZnce4fcPLZIlj20R856Yejk7mWifh3ZqSuzPUaBX6mXfJ7ePzCxXuIETuAADuAADuAADuAADuAADuAADuAADuAADuAADixwBzoOQ8u2yXVhYtmxV9vkntq5Mxq2hu26MNQ9A/T1+++vvW2utuGuq3us9x/gTViTBpO66m0sH0DVqyf/H7vDgCtXR9JGttWpniuWn5aJJ1ebEHDNMln9pNsGdFK23NeS1k/3yFTJDZOENWPhKrV8AGf6Ux2GaplcXcFKxGQ72D12BWrSlyMypqHlgzuDvk3K+I9a0vKC2OJ48/xyvLQfjy6R1tjtstPfrtUfvw1q3Za/JoBsSfbeq39ivSwZa8nq/Vmglm/PhoJ1+vvmfllvtwS+ecNq2XPKtnPMtOGCQhew3fLTncnqVH3m69LHJpIv/TIWJqzPu2jK5t3J9b3AYVr2btWA02yr7Jfdv10DQI/p5BZZNtaS5XtcoGzHYp9Ru+iR/MrLGeuDG6OpOwxDKxzrYB78/vuvTeCrQbPtc8djGZexsXtk7+WzMv7AEln/rNmSeeyIru41AXr+jyhulqUPjsleN+++k7zm/9TgAA7gAA7gAA7gAA7gAA7gAA7gAA7gAA7gAA7gAA7gQM6BjsPQP5w5Ew0jT/3xH8uVF14QPYbBpL6/+uqrPdkm99TWrdH6wzbDMFRDTX3WaJ1tc7WNuiGoK+eHJeWvTVjjwtAkbPJCsPLrvHAtInJZwJXUVycMtVuQZtuvmu1eZ2ZioWa+L/G2Y9dVBFV2TPG6THtmBeUiuedfbajogrjIytckePO4ltZ7cUK2/NQ8L/TmB3emz6MsLZ+yD8fivb9oV/+tWWa2F46GeD7DIqt4+24lrFtJ3JKWboN7cUbiQaG2YbcaXrNa9mq5aBBuPu8oDE1WofohsB2LnRM/uCyMyXpZXJHqsUx5l43Rlk3n2ru2B/Mwc01XAZtnry66z7LWPoX3VMdj2ZtsJ50wWLNK9kyYMPSe3VtkRewPEN7dL2O6KjWyArnT7w6u8+9FXuMDDuAADuAADuAADuAADuAADuAADuAADuAADuAADswnBzoOQ0VE9PmgYfhYtU3u6f/+3+X69es9CUM15Azbjr2PhaEaXNbZNrfsWhd8xo715NCwJltFmQREaZDT+Q1WCJr8ECkMbiKB2PT+1cnWpquen0q2yE22KtVw5u1iUBeOM9527DovqPL7572O12W5fLBXVo+1xF8xOH1so6xYY7bJ9fuVBHse17J6J/csl1ayMk+3lM1WQJaVz9oIx2JXd47vT1bdps+F1D70LAy1q3Tv02eyzsjMG3vknvUtWaLPIy1r482dcvtYS5Z4z7csG1tvwtAZmbm4X9ZvuLmwvXGsXV3BekthC9iQrZ3/6Bht2XSuezsP0/96jyyyz9udeHx59qzfyD3V8VhO7ZHVG0wg7/4YIRe8eveH+qfb5+ZW2AbnM0c7/z6hDtjhAA7gAA7gAA7gAA7gAA7gAA7gAA7gAA7gAA7gAA7MBwe6CkNnJiZk8j/9p1qhpJb78De/Gaww9C/+orLv/QhDdatSF3bEjv4quqaCxYKmtI5IcBOWN++zMHDm2qSMP7BIloyPy5aN+S1n03ptCBPWZc73IQyNrELc+UC8b3XDUBMA6rwskmRL2eS5p7FthMMvvTCws9vD/mhcJt/eK/fcp8/wbMmSR49UrNp0dRZZxZmGwd+MzExukeVjS9PtVQsORQLEeN0z0qsw1IR1q2WvPnvWC+oK7dpwe9nuYJvcwjzbeiJjSbcnTsPQfsyDuW9v3rDerMLVMYX3VE/Gkq1+dSvHfX7udYGjx9iV4Zh3Dx7wwAEcwAEcwAEcwAEcwAEcwAEcwAEcwAEcwAEcwIGF6UBXYaiuDp3++c/bBqIahL7/s5/JRx991LMwtOttcv/rf60MQnWVad+2yU1CFPdcRhOCFQKsDsINE5AEoc21SdmzzWzxacLXm2XpfXfI6sfGZecjK6TlrVCdenZVGtQuus8+izIJ2hbJIn0uZxo2FW+WMJzR1Zq3rzVhoLa7aO0yWbH5Htny4hZZpYHw+P5cSOZ/AYV1JeeuTcrOB29O+5ddb58ZmoTMN8uKx7LnicbD0IDPTDwA1Daj/cjNSxiGzsjkL5WpCQGV56K2W9ielT0PLZNFLiT3GEfnc8auesyNd1qOPLJUWvcuSZ5LWnApEiCWja1RGPrBEdm4MTYnDZhG+mZcKLJNPo+WLwbEvZ+HbCW36V8kDI32Te+VJmOpDkOnj4zJMr0Xk/mP9CnnZ/E+TftOudLvHxjhDQ7gAA7gAA7gAA7gAA7gAA7gAA7gAA7gAA7gAA7MLwe6DkM1ENUVorEtczVQ1M+vHTsmN27c6G0YunNn2zBT2w9Xd75+//1y4jOfqXXtqZ07+/PMUA1D09DLhKFVq8Dq3nQmzFwuW16dkf3/dIvcsW/KrF7bvFOmDt6TrHy85/kJ2fPI7XJLLFCZWJ+EafccnBHdOtaEatOyf3yJCV/SPhdvgny4pmNaKusnJmX8RxqibpH9v9kiqzfEg7NwfPm6bFvH1svND4zL2TfGky1fs5WEZyVZGarnLu+Ve8ZcyGwDOa/PZdudZitDXcjkH6sCp0jIlQTdK2TjL8dk6fpVsueU7X9ZUKafb9goEx9MJs+NXLRtr0zboCreX33+p31epD/ei3tltZ3TXBhqVy+a8Mwfl772x2bH4kLZyLHgqNb90B6Ztisil+/JVnfGQjr2fDsAACAASURBVFWd58LclnGJBIjm2nAM3ntvrs2qzd7MQ7t2Uy4NxlLtnBlTWm8aXE7JzgdvkbHfTCf3twvdw/uH98XvJ5jABAdwAAdwAAdwAAdwAAdwAAdwAAdwAAdwAAdwAAcWrgM9CUM1ENWfP5w5I+9v3Cjn//Ef5eKPfywfnT4tn3zyiXz88cc9D0P1eZ3/cdNNbUNNF4Ymzwhtsy1u7pmjN93UOAjVPtW5mZJwJQ1uTAhVDD46kNJbBZpu53ltSvY/tkpW6GrQJ4/IlN0CdubN/TL2I1256Qdi03LkMROUpitDNYh5e4+saroy9JWdMvagrgZdL3tedWOZloknV8lSDdo6WRn6U32m4iK55YGNcuSiq3NGpl/ZInckq1CrV4bOXJuSveNmlaz/PMbqYMrnk7Vp5rksDG3Joh+tz/VxpjQom5K9283K0Js3jMneN702Svo7kzxfUoPl/HiTlahjreyZljp3/QxDP5iU8WS1rm4vvEUmvDkZjDC0N/MwOGHojEwfWS/L9V5cs1xWP5uFz3W+dyjj3VtpwMxneIEDOIADOIADOIADOIADOIADOIADOIADOIADOIAD892BnoahNhOVTz/9NP3tZxj66p//ea0w9PQzz8hkjW1x/TBU69Zws+nvfBeG8fGliAM4gAM4gAM4gAM4gAM4gAM4gAM4gAM4gAM4gAM4gAM4gAM4MCwODHUYqiGnH2DGXmsIWndbXP/6MwcPNg5C664MHRY56CdfZDiAAziAAziAAziAAziAAziAAziAAziAAziAAziAAziAAziAA8PswFCHoRo+1lkd6oecdV53uiqUMJQvg2H+MqDv+IsDOIADOIADOIADOIADOIADOIADOIADOIADOIADOIADODDfHOgqDD1//rwcOHBAnn/+eTl06JBcvnw52Sl3trbJ1fBRnwV64j//57YrROuEoFpG69I6te5OfuebIIyHLz0cwAEcwAEcwAEcwAEcwAEcwAEcwAEcwAEcwAEcwAEcwAEcwIFhdaDjMPQPf/iD/OY3v5HXX39d9Lmgv/3tb2ViYmLWw1ANLJPtcm+6qftA9Kabkro6CUHdNcMqAv3mSwwHcAAHcAAHcAAHcAAHcAAHcAAHcAAHcAAHcAAHcAAHcAAHcGC+OdBxGPrhhx/K4cOHRY/68+6778q///u/y/Xr15PX//qv/5quGJ2enpYbN27IRx99lJy/evWqXLp0SaampuS1114T7YQLEzs9aiDazQpRvVbr6LR9d918E4Tx8KWHAziAAziAAziAAziAAziAAziAAziAAziAAziAAziAAziAAzgwrA70PAzVoFNXjGo4+PHHH8srr7wiv/vd7/oehmp7ur1tJ88Q1Wu62RrXBaF6HFYR6DdfYjiAAziAAziAAziAAziAAziAAziAAziAAziAAziAAziAAziAA4PiwCe33y5Vv3X72fMwVFeGTk5OyosvvihHjx6Vc+fOiW6p2++VoX4gqSs8k1C0auvcm25Kypw5eLDr1aB+23XBU44vExzAARzAARzAARzAARzAARzAARzAARzAARzAARzAARzAARzAARyIO1AVhOq5utz6EoZ++umnoitEz5w5IwcPHpy1laF+KOlen9q5U05t3Sqvfec7ya++1s/c+V4f64KnXFxsuMAFB3AAB3AAB3AAB3AAB3AAB3AAB3AAB3AAB3AAB3AAB3AAB3BgzsNQXe2p2+G+/vrr8sknn8hvf/tbmZiYkGvXriWf64pQ3SZXt8g9fvz4rK4M7XXA2aQ+bk5uThzAARzAARzAARzAARzAARzAARzAARzAARzAARzAARzAARzAARzozoE5D0NFRM6fPy8HDhyQ559/Xg4dOiSXL1/Wj5NVl7/+9a/Tz6enpwlDZ7qbcG4Y+OEADuAADuAADuAADuAADuAADuAADuAADuAADuAADuAADuAADiwUBwYiDE2Sz8j/6Da57ldXjeoK0dl8ZmiTlZy9LjvYAp6V8ZUtabVaMvbrTr8s9stYqyUrHj7bZi/mrC1tr9VaIeOvd9om13Xj1f5/MHPefs7KOSd1rByXs5Wh/hzM+evjsqIrn8vH3A1zroUrDuAADuAADuAADuAADuAADuAADuAADuAADuAADuAADnTnAGHo2bN9e+5nNwHpYIudhVX9D0M9wX89RhhaGSJ6rPpQbvbCUG8cszXnhKFt/ijBm5M+uDXY33eMnfnBARzAARzAARzAARzAARzAARzAARzAARzAARzAgWF2gDCUMHSOQpC6K0O9L5jZCsYIe/rmRL2VoXMw54ShfZvzYf4Hkr579yLfi9wjOIADOIADOIADOIADOIADOIADOIADOIADOIADQ+oAYShh6BzdvIShCzFoIQwlXFqI3jNmvMcBHMABHMABHMABHMABHMABHMABHMABHMABHMCBuXOAMHRIw1CzZemY7C+k8CZkbP3D/izktKvezDM348/dPPvwCmm1tL5sC9ykfO75jsG5qud3tm0zC0NN2+Z5lKYPJTdE25WhduzJs0W1vhifkrpDjm37X7Mer96McfNr9Uuy0ZyH8xh5PmvWn2Bec3Pu2nXzU/Gc2BrM0jA0KFu63XLbOQ/6XuWkNxeFf3Rsf7QfhrMdb8CicF1VnZzLvoNgAQscwAEcwAEcwAEcwAEcwAEcwAEcwAEcwAEcwAEcwIE5coAwdEjD0JkkJIoEU4XwaL+MBYGOCXtWyPjrWSjnB5IrHj5rb8hIsOpELbST1TUzU6dNG4auXCGttH822Erf+3XOiBlzvt9pOGXDrKzvLtTqJBCt0/+gb45LxTELH5tfm4yz9pzr2ANO9lqfT+M59wLDlHs63nrMTBi6QlZ4oaXpR9BfV287zzT49oL/yrpcnbFjMrYVsmKlX1+F/7E6+Ix/yHEAB3AAB3AAB3AAB3AAB3AAB3AAB3AAB3AAB3AAB3Bg4BwgDB3WMFQDxyAI0oAqXXlXdbNFgkMXjIUr9ErrqwypImFfoU3b/zD4LAv8dDwVbcb7aQPXNNyN9KuKk3+u0P/mdRnGnYSzrq0u5tytFPV4N55zyyB0pBiM2v5GmCXz5AWh5tr4uJJzFXMe52kDdS8gLe1fZH79YFWvM22UBLX+9bweuH/cas0788a84QAO4AAO4AAO4AAO4AAO4AAO4AAO4AAO4AAO4MC8d4AwdGjDUBfU+OFa3fCvWK5x6FMRUsVDiLDN8H15gJbWV9pmSV0uAGwajEW/+MracEFl+2M8vGt/XTr+NJzrZM6LQXnjOW8ahtrA3l+NGg+tK1YEl855eegZb6MN57KxJe1HVmBHHWnTBtfM+39Q/XuV19wPOIADOIADOIADOIADOIADOIADOIADOIADOIADODAYDhCGDnEYOhMGOElw4wdlRjITemXPfHTPDvVDqsbBWGlIVbfNsnCx7POKlaGWgxtX4dhBGFqHWfsvMTOWQn/SZ5q2xJ+D9vXNSN05d+UKbRdWhjZY9Rj6FoR7dZiVBZVln5evBm7D1htnR1zd2NqMuVbdri6OhKE4gAM4gAM4gAM4gAM4gAM4gAM4gAM4gAM4gAM4gAM4MOsOEIYOcxgarHxMAqUg+HMBVX5r02Lg2MswtF6bxT4kwVJV+FQawJbU1eEXSr3+N/9rBlNvMaxuFqjlV0TG5jwNQgMXwsCx8ZxXzE1dZmEfzNjzY8rxKJ3zims6mfeysZW233z+c+PqpI9cM+v/QDJneI4DOIADOIADOIADOIADOIADOIADOIADOIADOIADw+8AYehQh6FutaQGbCYQzIeeNjAqrJIrhoeNg7HSkKhum8U+6BdKZT/atRmEf519QdXtf/Ob34yt2zC03ZyXMwyDyErWseCtLDB0oXwNz8I+JHNk642uki2d8+K2v53Nt53HkrEl/W31YM5iPPmMcBMHcAAHcAAHcAAHcAAHcAAHcAAHcAAHcAAHcAAHcAAH+u4AYeiwh6EuBP2HMWkVwigbGLW8rVBt6KPbp/rhU+NgrF1I1bbNSBhaFYrpl0FFm+ZcfkydhmMmAGvPrGn9PQtD28x5kYUNeHV7Xs+RxnNeEhgqh7rMimFoWfhsQ8qqOXcu9yIEj40taZvnhTb1nPLN/1ACZjDDARzAARzAARzAARzAARzAARzAARzAARzAARzAgf45QBg69GGoC6LKgkAvCEueVZmtIm0chrrwyXvmZfpMSi9km3ErBdNy8TZNgJZ/lml+ZWv2jMy0nbTOfLCXfElE++eFmrX/uqIes6ZfTL0LQ9vNuVsdmrFVrmEQWS8MNaF1lH9uxWRNZjZgzNUXhpnRebRjyXmmX4zx/hU8ajv3Yf+1vU7c6d+XdVPfKM9c4AAO4AAO4AAO4AAO4AAO4AAO4AAO4AAO4AAO4AAO4MCMEIbOgzAUkfkywwEcwAEcwAEcwAEcwAEcwAEcwAEcwAEcwAEcwAEcwAEcwAEcwIGiA4ShhKF934uZG69448EEJjiAAziAAziAAziAAziAAziAAziAAziAAziAAziAAziAAzjQfwcIQwlDCUPbbqHa/xuRLzsY4wAO4AAO4AAO4AAO4AAO4AAO4AAO4AAO4AAO4AAO4AAO4EDvHSAMnSdh6PT/94Cc+79ayW94o/jnPvzFzkL46Z+fr9ea52Nmz9DMPbPSew7p9+/JOC5UVr4Dw+zGxE3t51s98J8vWjVenwuve/+PEUxhigM4gAM4gAM4gAM4gAM4gAM4gAM4gAM4gAM4gAM40A8HCEOHNAy98I0VaajpAhw9vr/ue1J1rt15rm2J4wgrEww7HgvdjX58AVMn/7DjAA7gAA7gAA7gAA7gAA7gAA7gAA7gAA7gAA7gAA7gQH8dIAwd0jBUV4FqOOUHoe5mqTqnAV/V+apzXGuCUjhnIaljsRDccGPl2N9/lOALXxzAARzAARzAARzAARzAARzAARzAARzAARzAARzAgV46QBg6pGHotROvyLv/7f+Rd/7vP0oCUV+KqnNarup81TmufSBdjduORbvzcM5/kVfxqDo3l5y1bX5hgAM4gAM4gAM4gAM4gAM4gAM4gAM4gAM4gAM4gAM4gAMLw4GXXnpJXnvtNZmampJLly7J1atXxf20Tp486V43On766afifj/55BP5+OOP5caNG/LRRx/J9evXk0a0MW1UG9dOnB3QcLNpv7hxFsaNwzwzzziAAziAAziAAziAAziAAziAAziAAziAAziAAziAAziAAzgw+A4QhvY4hEX6wZeeOWKOcAAHcAAHcAAHcAAHcAAHcAAHcAAHcAAHcAAHcAAHcAAHcGBhOEAYShjKlqFsm4oDOIADOIADOIADOIADOIADOIADOIADOIADOIADOIADOIADODAvHSAMJQydl2Lz1xwL4685mGfmGQdwAAdwAAdwAAdwAAdwAAdwAAdwAAdwAAdwAAdwAAdwoMoBwlDCUMJQ/tIDB3AAB3AAB3AAB3AAB3AAB3AAB3AAB3AAB3AAB3AAB3AAB3BgXjpAGEoYOi/FrvoLAM7xFyI4gAM4gAM4gAM4gAM4gAM4gAM4gAM4gAM4gAM4gAM4gAM4sDAcIAwlDCUM5S89cAAHcAAHcAAHcAAHcAAHcAAHcAAHcAAHcAAHcAAHcAAHcAAH5qUDhKGEofNSbP6aY2H8NQfzzDzjAA7gAA7gAA7gAA7gAA7gAA7gAA7gAA7gAA7gAA7gAA5UOUAYShhKGMpfeuAADuAADuAADuAADuAADuAADuAADuAADuAADuAADuAADuAADsxLBwhDCUPnpdhVfwHAOf5CBAdwAAdwAAdwAAdwAAdwAAdwAAdwAAdwAAdwAAdwAAdwAAcWhgOEoYShhKH8pQcO4AAO4AAO4AAO4AAO4AAO4AAO4AAO4AAO4AAO4AAO4AAO4MC8dIAwlDB0XorNX3MsjL/mYJ6ZZxzAARzAARzAARzAARzAARzAARzAARzAARzAARzAARzAgSoHBiYMFX4gAAEIQAACEIAABCAAAQhAAAIQgAAEIAABCEAAAhCAAAQgAAEI9JAAYWgPYVIVBCAAAQhAAAIQgAAEIAABCEAAAhCAAAQgAAEIQAACEIAABCAwOAQIQwdnLugJBCAAAQhAAAIQgAAEIAABCEAAAhCAAAQgAAEIQAACEIAABCDQQwKEoT2ESVUQgAAEIAABCEAAAhCAAAQgAAEIQAACEIAABCAAAQhAAAIQgMDgECAMHZy5oCcQgAAEIAABCEAAAhCAAAQgAAEIQAACEIAABCAAAQhAAAIQgEAPCRCG9hAmVUEAAhCAAAQgAAEIQAACEIAABCAAAQhAAAIQgAAEIAABCEAAAoNDgDB0cOaCnkAAAhCAAAQgAAEIQAACEIAABCAAAQhAAAIQgAAEIAABCEAAAj0kQBjaQ5hUBQEIQAACEIAABCAAAQhAAAIQgAAEIAABCEAAAhCAAAQgAAEIDA4BwtDBmQt6AgEIQAACEIAABCAAAQhAAAIQgAAEIAABCEAAAhCAAAQgAAEI9JAAYWgPYVIVBCAAAQhAAAIQgAAEIAABCEAAAhCAAAQgAAEIQAACEIAABCAwOAQIQwdnLugJBCAAAQhAAAIQgAAEIAABCEAAAhCAAAQgAAEIQAACEIAABCDQQwKEoT2ESVUQgAAEIAABCEAAAhCAAAQgAAEIQAACEIAABCAAAQhAAAIQgMDgECAMHZy5oCcQgAAEIAABCEAAAhCAAAQgAAEIQAACEIAABCAAAQhAAAIQgEAPCRCG9hAmVUEAAhCAAAQgAAEIQAACEIAABCAAAQhAAAIQgAAEIAABCEAAAoNDgDB0cOaCnkAAAhCAAAQgAAEIQAACEIAABCAAAQhAAAIQgAAEIAABCEAAAj0kQBjaQ5hUBQEIQAACEIAABCAAAQhAAAIQgAAEIAABCEAAAhCAAAQgAAEIDA4BwtDBmQt6AgEIQAACEIAABCAAAQhAAAIQgAAEIAABCEAAAhCAAAQgAAEI9JAAYWgPYVIVBCAAAQhAAAIQgAAEIAABCEAAAhCAAAQgAAEIQAACEIAABCAwOAQIQwdnLugJBCAAAQhAAAIQgAAEIAABCEAAAhCAAAQgAAEIQAACEIAABCDQQwKEoT2ESVUQgAAEIAABCEAAAhCAAAQgAAEIQAACEIAABCAAAQhAAAIQgMDgECAMHZy5oCcQgAAEIAABCEAAAhCAAAQgAAEIQAACEIAABCAAAQhAAAIQgEAPCRCG9hBmraoOr5UNrVb+97Ydcj538ZQ8d1tQptWSXYdzhUTe2iFbw7paa+XloNjLa4p1bX10KihVs81a/Rep1WbN/kutNmv2v2abtfovNdus1X+Y5YSEmYcDzzwY9b5benpv1uTPd4s3TTDzYAj/hnk0at4nMINZ8v+VC///2OPCSwhAAAIQgAAEIAABCEAAAhCAAAQg0IAAYWgDWBSFAAQgAAEIQAACEIAABCAAAQhAAAIQgAAEIAABCEAAAhCAAASGhwBh6PDMFT2FAAQgAAEIQAACEIAABCAAAQhAAAIQgAAEIAABCEAAAhCAAAQaECAMbQCLohCAAAQgAAEIQAACEIAABCAAAQhAAAIQgAAEIAABCEAAAhCAwPAQIAwdnrmipxCAAAQgAAEIQAACEIAABCAAAQhAAAIQgAAEIAABCEAAAhCAQAMChKENYFEUAhCAAAQgAAEIQAACEIAABCAAAQhAAAIQgAAEIAABCEAAAhAYHgKEocMzV/QUAhCAAAQgAAEIQAACEIAABCAAAQhAAAIQgAAEIAABCEAAAhBoQIAwtAEsikIAAhCAAAQgAAEIQAACEIAABCAAAQhAAAIQgAAEIAABCEAAAsNDgDB0eOaKnkIAAhCAAAQgAAEIQAACEIAABCAAAQhAAAIQgAAEIAABCEAAAg0IEIY2gEVRCEAAAhCAAAQgAAEIQAACEIAABCAAAQhAAAIQgAAEIAABCEBgeAgQhg7PXNFTCEAAAhCAAAQgAAEIQAACEIAABCAAAQhAAAIQgAAEIAABCECgAQHC0AawKAoBCEAAAhCAAAQgAAEIQAACEIAABCAAAQhAAAIQgAAEIAABCAwPAcLQ4ZkregoBCEAAAhCAAAQgAAEIQAACEIAABCAAAQhAAAIQgAAEIAABCDQgQBjaABZFIQABCEAAAhDoBYFjsm5kREYfv9CLymrW0ec2j66TkZF1cqxmbyi2wAlM7ZLRkREZcb+juyR2Nxz7gVdmZETWHe2CW+KoV98PBshW7p8uJpZLIQABCEAAAhCAAAQgAAEIQAACEGhHgDC0HSHOQwACEIAABCDQYwJ9Diajve1jmzbYmt1wNzpI+2Efx1rV7ICeu/D46EAH1UngWRKGpkitY12FoWllF2TX6IiMzFYYWqvvtk/tOKRj4AUEIAABCEAAAhCAAAQgAAEIQAACEKhPgDC0PqsuSx6SXa2WbKj43froVJdtdH75+UdXlvRtpTz3Vuf1ciUEIAABCPSagAm60hVlbmWZdxycUK5s7HMR1vWrTTsfsxUslSHNfd6vseYaGZo3hKHhVA1iGKp9HMR7KWTHewhAAAIQgAAEIAABCEAAAhCAAASGkQBh6BzNmgkf18rLc9R+2KzpD8FnyIX3EIAABAadwKAHPXF+cxHW9afNweTfn7HG53LwPx3MOcq4sTI0YyF2K9/erID16uUlBCAAAQhAAAIQgAAEIAABCEAAAguaAGHoHE1/WRjqVmjuOhx2bEqeu60lG27bIeeTU2alqZZz15hVp7GA1V6brkothp71wlDTZrKC9fDa3ErSXH+Tc6aNl9f4q2GLfcv3vSUb1hwKBl6zzeAq3kIAAhBYKAQqg54kWBiVXVMi+WcPFp9tmT9ftYWmXb2VrkQt1pWu8Cotk4V1pv/uOYaRusJnK46Y8cTmN19X+EzSrM30Wq/uzsKXSJ1p5Wb1na7SdWyTFbvpcxuDcXh9Mat+IyxEJByjv9Vp4VzK3/BtvmLYG1/ab1NXkZddbZi2GYwv4JKtbI6XC8cS9j1hqqtxA25Zv0zfs3acY+4Y55t2s+JFu76JhCxCF/OVJ2Nptz2sHWc2vnwdzd61XxnqnE35RVc+h4zzc1moI3WjzCEdhe1bOx7NBkxpCEAAAhCAAAQgAAEIQAACEIAABBY4AcLQORLAhIDFcFDEbqcbhoJv7ZCtrZZkW+nachpwpgFpGJjq4Ir1xYLP2GdFNF6brazvhWv9oDQdR9g3F9Bm9aR9Tcfj9T8JcrOyhTaLneUTCEAAAguCgAlmSoIdP8BKw4xi2KB15EIWFzCl11iUrr7c58dknf/eXuuHVyYU8ftoQ7bRURlJQ49iv5JQNT1v+mDqyocuaYASBKUXHl+XBMH2Slk34oVSboxB/Y2kSXiEfXE1mPGMjo6KskjmSV+PKAcvZPQCTn8OYuM0c51vrzB3SfP5+l2Pmh/9sCubv2I/bDnPg2IZyYLLHPMLsusHu+SC17mCL6VOaahW1S9TqelLVs5rquFL62ilZ/qHB/k5cqsd/XvCbzgZb46Jf9a+tgx8RyKlan5kx+HNl39hwSl3r+TKF+c8dr8m9Tbse9Qdv4O8hgAEIAABCEAAAhCAAAQgAAEIQAACDQkQhjYE1qviJszLwj2/XrOaMn+uWN4Gk7ngUES8VZlaZ/E6/dQGkWlQ6coVV4z6/YqHlSJig9p0dagNQ7Pg1tSS60vQz7Qde21alwtzw3GGbaYV8AICEIDAwiJQGfTY8DIMYSqvsfgKgZRbsZULRIqs48FOGM7ZICUMgGx/KwOfSDBmwqYggCp0ze9DSfuFa6o/iI/VXeOCMxPCGeYjNnS27Scs/X65a/XolzGfV7dXvDacd79EvdclnIJwK+5TMXCr1f+gbtfPsI2kriCUdKtEQ3/Ca12djY+V4XdVbZZF6Lu9pBsuVa2WnyvOTXlZc8bw9gLlknmK1tOkrFbQtHy0UT6EAAQgAAEIQAACEIAABCAAAQhAAAIZAcLQjMWsvsoFg2HLhUCwGF66YDIMHPPBZOw601gSuHoBo+mPv6Wte+2HssVVpmHXk/eF/hdLxQJfU8q0kY2rZpvFJvgEAhCAwIIgUBn01AkXSygV6q0VUJQFe2H4UlLOtlEd4hWvrRUmpasxdyUrRLMVqSUA2n4cjim8IH/e8HSBrQ0ZNQytmKNwXKaOEW81bdime19k5M40O3r9LL0wP06/WL7/9fpU8M5VGASR+bptoRJHS+t0ddc8RtvswbW16i0ZW83mg2LlcxYUTN8WGVo3RlzAnxYtvmjc93quFBviEwhAAAIQgAAEIAABCEAAAhCAAAQgECdAGBrn0vdPK8PQcOVmsgoyXLUZhoa2y7kVkzZITJ8V6gJOeyyEoWEbIYaawWTdMNRrP2spbCN8n5XkFQQgAAEIuGdIeiu2fCgVQZtfLF2FGDzTz9+CtNbqSxt6pM8ZDOtLV5WWhR3Fz9MAMKgrC0zrBjtZeJP0L+1LnkT9d+3azZ834ygLQ93n+daTkMzbBjY5a+c0ZRwdR5Fjvua67yyzaBuujoBrME9p6FwzEDNjds/1DI8Zp2iAWNJGMchzfW9yzM9n5ZVl98HQrAwtm9Pwe8YySec8m58cn5J5yZXJvemVv7lKeQMBCEAAAhCAAAQgAAEIQAACEIDAAiZAGDpHk18dhrpta82qzKRsITg0IWG2gtIOJBeGlq8MDYdt+jM4YWg2LsLQcK54DwEIQMAnUBn01ApDbfARBDWFemsFGnVDjJJyQRumD+HKs+K10WDMh5S89q5zgWJlyFeoIPigXTiWP2/G4sIi05cRbT/pi/s830S7caXBYWEc3ljzVTZ85/Wz9Mr8OEuLpStz/aeDFksXvCsWST6Jsgn8cZfWrdOVLztG2wwL2z4kc+udq7q26lxaRcnY0vONXlTNmZ3zdt8HYXtu3OHWxVqucd975W/YSd5DAAIQgAAEIAABCEAAr5VeNQAAIABJREFUAhCAAAQgsFAJEIbO0cy3C0PdNri7DptAMwsHXYfjYWhYb7gdrrs6PM52GBo+2zTtT7Kq1A9lCUNTNryAAAQgECFQGfTUCUNLyhTr7X8wZtp0waANbIJQxq1izVaGutWx7roIpOSjfMBi2hoRv56yK8s+rw6x8oFTfmw+y3y/srbKPs9K6Kt4H/Jt569o8s7vZ/l18T6E5cvmMyhXEQ77JaNtloVuNev064+9zs9hrES5i9H+2iqqzqWtlI0tLdDkRYUftb8PIu2V9rGey2mNpfWkJXgBAQhAAAIQgAAEIAABCEAAAhCAAAQaESAMbYSrd4XD0DJWs3mupm5p6z+305WMhKF2VWguOLWfbVhzyF0YPc56GOq2As6teI0Fn7HPokPgQwhAAAILkoAJaMLtKy2KkmAjB8oGD/5KtiScSba+zNcbDxCPyTp/ZaJtszpkjIQjth/+daYfXsjp+joShpg2tAu2lL3w+DrZNeVGW2zTjXPdUVem4bEyZMsHTvkgzfbXcsufM30wffP5a33+ey2Xr8fvfYGdf7L26/L6c1W4efE9yBWwb6wbvmsiF2TXD3ZJtl7UcgvmMqwuGV8YlNt+FOazbv/CRgrvLY+gbznPCv678ZQ/6zU6lrDtsrGF5Wq9z7uZuyTCyrikWxZ7/h1dV/hDgpjHpm7HwLs+12j+TXk9+XK8gwAEIAABCEAAAhCAAAQgAAEIQAACdQkQhtYl1eNydcJQs3qyJfEg04aEwfNAdx2OdbR9WdOf4JmiSd0drNKs8cxQ00u7ja83hlyQmxQiDI3NKJ9BAAIQcARMcFASMthgphAOuYvd0YVU9tl/GkiW1huUzQUkrj4XqKTPEtQgxQs13YrG3PlwO1ytzIUo7tmROk4TSPmhqWk2LBsPTPPXZdfkP3cDaXcs64vX92jgWQwZDW83zrLgzIVxWbnyfmdjc88XLS9bNs5iP8tKpsFsuzktuJH3wtWfBXDZWP0QNRogVgWGdbx1jVce23MN51Lvv7C/YRk3R3rM5qk431m5knu+ou9Rpna+ct8RASvtT+z7oDiGqj4Vx5JrM+235dsuWE/L8wICEIAABCAAAQhAAAIQgAAEIAABCLQnQBjantHclagMFU1IWAwP5667tAwBCEAAAhBYaARMIBQP9BYaC8YLga4JJEEs91PXHKkAAhCAAAQgAAEIQAACEIAABCAAgRwBwtAcjsF6U/28T8LQwZotegMBCEAAAguTgF3xFm7ZujBhMGoIdEGgyUrkLprhUghAAAIQgAAEIAABCEAAAhCAAAQWHAHC0AGd8vbP8CQMHdCpo1sQgAAEILDQCLitX9nac6HNPOPtGQG7PS5/VNAzolQEAQhAAAIQgAAEIAABCEAAAhCAQEaAMDRjMRCvktWghWd1xrpGGBqjwmcQgAAEIACBOSGQbO9Z9czEOekVjUJgOAhw/wzHPNFLCEAAAhCAAAQgAAEIQAACEIDAkBIgDB3SiaPbEIAABCAAAQhAAAIQgAAEIAABCEAAAhCAAAQgAAEIQAACEIBANQHC0Go+nIUABCAAAQhAAAIQgAAEIAABCEAAAhCAAAQgAAEIQAACEIAABIaUAGHokE4c3YYABCAAAQhAAAIQgAAEIAABCEAAAhCAAAQgAAEIQAACEIAABKoJEIZW8+EsBCAAAQhAAAIQgAAEIAABCEAAAhCAAAQgAAEIQAACEIAABCAwpAQIQwd54g5fllbrkrRu+1CmBqGfb30oK1uXZO3hQehMSR8GjVlJN/l44RA4tOaSuY/1XtbfNdeKg7f3VnI+KTctO94qFmv2yYzsuK2kvWYVtSl9QXaNjsjIyIisO9qm6Hw5/c5xWb3mKfnJ8aYDuii/3PSUfHWN+/0X+eU7TevotrzxYuWjM0FFZZ8HxXgLAQhAAAIQgAAEIAABCEAAAhCAAAQgAAEIQGDICBCGDvKEzXaw1y7sbHd+EFjONrOaY04CsUEJtWv2mWLdEzBBaJtg0wWhsZC0qy4QhnaFr+rijsNQr9Lj/yZfXTP7Yahx8rIc8rqSvrTfnwP9By9pZ3kBAQhAAAIQgAAEIAABCEAAAhCAAAQgAAEIQKAeAcLQepwWRql2YWe78wuDUkej7EcYOvXotF1xGAYb12StW4WYHtsEcqWjsoFaWo9Z3ZgPS2LteashwxDYBdauztIQMGu7uIrNdtgFia6usC1bzARAXp9aITMRCetqlTAL+1+6WtpyKR2f6ZyZx5K2yvrfpk5z2WyFobaTC+kwpGFoHdfqlFlIU81YIQABCEAAAhCAAAQgAAEIQAACEIAABCAAgeEnQBg613OYBDDVQcisdbFd2Nnu/Kx1dPga6nkYmgvuIsFegMiEgb3xzIWw+UA0aDB5a8JAP8gsBi02sAtCzLTcYbM1s19H2lJkFZsZp88jVr8LWb1ykfswxiztl7eFbTmP4vjTvnsvzPVeX7xz+jLphx9+urn3PwuuMW9jYWi9PkWrG9APp/b+i3x10/HZ3Up8QMLQZOxr/k0mas1N3bmP3TO1GqAQBCAAAQhAAAIQgAAEIAABCEAAAhCAAAQgAIGBJEAYOpfT4laYBUGQuM/dardo6GH+w7YGUi6MMc8b9EIVW08sSPJDI/PaXzWXf52GXl4Ymrsm7H/C1PSv/BmINfrfZG56xUwsz2RM+TGEHBMG4dg9RsWVhnmu3TwL1rV9KFkd6s15GTO/X2Vlan9uuIQ8wssLwWFZH+zcpZ7pe8fVXlNsq6QPYfnKNtuEw2FdEgsXddQlfSn9PE+qXRiaL23emfuvOO+5+7Lk+yP9voh+r8RaK/sse1aoPi90ZGRUdkUebnzsByMy8oNjIlO7ZDQp17vni048Yp69uXrvxayTyfaz/yYTNrD8ahIWes/qfOS1rKyIuDrcczxzdaUlX5OfpM/5dM/79J8Zas6H11aGlW23yQ3bjIWerkz77XYbeRbekykHXkAAAhCAAAQgAAEIQAACEIAABCAAAQhAAAIQGD4ChKFzNGf1Aomy8EU77QV1LjhyYU3pezdYe20YhpQFR+4yez4JONNrI0GQ/Q/pfoDlxpsGXn7/07p6sSKpJrOKNl1fdZxpfyPhgAskc/lPCcNoWce16THpiwnyagccJf1q2rQpH5nzQkURx7x+54tX1Gf77buUXFs6nmD+S66vxa1wbYmfub7YMi6ILBxtAGt9yv5YIAjKUz/zpNy7Yhga61vAwl2sR9d++l3hn+zg9dF11WFoEoKuk2O26guPj5aWr9d6Fm7+5HhwhQ0ZV2/S8NCGlJv+RTSozIeTNkj0V5W6ANUPTO1nuaCzsDLUtuOHsvqHFbpqtWzlZlUYGmnThLaxQLSCRYqmwoW0jP8icv/6p3kNAQhAAAIQgAAEIAABCEAAAhCAAAQgAAEIQGCICBCGzsFkudVbadBW2oeq/4Bt/2N1GGYEgZMJfYIVcEGZtPlcqJN+mr2w51tBUJMP+sr6bD9P+xvvf62QKutR5FVZ+1q0XpumD14QmrRSrDc/btuVEobRspHet//IjMGFg/V4hezbt1JVwvhbXJXoXxP1roRNOi+BV0l99ho33qyNPIfs8+JY3Xw6b937tvefDQxz5dw94J456t7H+t63laHFMZpwM7jP3R9HRPvmPyO1ei4zthWv2oahwapRu0p03dGKOktPudWQsWBQRJKQ8akk/BQbhrptdE04aVZRlgWVfhntQhJC+oGpftjnMDTapgt2g8DVYXIrXHOhrTtZeu+5AsVj776zinXzCQQgAAEIQAACEIAABCAAAQhAAAIQgAAEIACB2SRAGDqbtF040QpDi7JOFAO4rGRJGBT+R2/73g+TSv8jd3ht1ph5VXI+V1+kPVdNPriL9z9fxl3Z5NicWdhm+N61nhune5ZjGu7aUnUYuQo7OIZ9C99nVVoO6crE7gKvZOxpXe38NXPrwsdin/J9SeuOhXYVPpnr8n0xPC5l2+y6xm09ZiVm/hpXJH+0Y3ChZ+5knq1/b+WK9SkMdWP02w3dNP2ouhdcT9046zBx10SO7cLQ0V1ywb+s0zDUhpAu3PSrTF/nVlza4NSu9MyCTruaMgw5tZJc0Blf8ZkvoxfFy5UFrklfc/1Me19al4jts79q1b8sXYn6lHw1LFP2BzDB9f7b8u8WvxSvIQABCEAAAhCAAAQgAAEIQAACEIAABCAAAQgMPgHC0NmcI7vSrDWbYWghtDPhR261m2NQEuS50+4ZmOG1uSCmog7zH9dd6GL64Qc62k70P8Cn3LytRMMQMu1kVQBUr81oHwocRXLjdu2XjD9a1l1jj0mZNHA0Y83xidRd1teg6nRb1Fx9aTjvcfW3Bi5UYj+w/SiGneZ8fp7DSvJBotmKOD4vyZW2rXy/szpDZisfvSY7brskft9Mfy6JqyO9Jha+JlWb/kTvUzd251/qZj7gNT2sGFc2hLjz3nn/pRuLPz49H/er6l5wtbqx5pm5s7WPsxSGutWPPQtDw9BQB5zbojYecroy2Ra98XIdhaEu8I08ozR5rmmsz3aiTHv6TNPgGaKEobVVpiAEIAABCEAAAhCAAAQgAAEIQAACEIAABCAw/wgQhs7BnLowxoUz5V2oCjNKgpZIYJbbQjP5j+Kx4CbbNjMMO9P+xeoOg5iSMlpHPriL9z9fJm25wYvmzMI2w/eu8TBwCt8n5UrGHy3rKq51jI+rrK+xKrvvQ1Zrebs2XCsNGrM60lclzJLz9lz7e8XVFnhlw8rwetP/cCtkrcNyjobCdmwuCHVN2j6GAaXb/jds213mjuUsXQl7dMFr2H54D6aXxZ1JT7t+R1e/pqXqvZilMNR0xgSPhcDP9TS34tKWtQFiYWVoLFgc2JWhboDxowuKo9vkEobGofEpBCAAAQhAAAIQgAAEIAABCEAAAhCAAAQgsCAIEIbO0TS7MKYYoPgdqgozgtDHXhYPVkw9GsokgVhpUBWvM+1RSWiVD9nK+hx+Hm8r3v+0BzVehO34l9RrM96H4rX5cZt23LyGgXK8Tr9vbV6nwVV+FafZ9tV9VhJy26pj/W3TaunpsvGYz93q39LLcyeSayIBX1LIjrtdoJhWGIT9pj+R0DMaklp3okFo9scCxXvWuNEqjKHoTNpP70UZS69IurK32IYpFa3Dhaex+92dK/Q512r9N7Mahmq37Jaxa56SbHWm7W6tMFSkbNVm/vP41rQueMzajq0MdX2serZpsIIzGUK8zfLJcO1EWLiLSr673enYsZffF7H6+QwCEIAABCAAAQhAAAIQgAAEIAABCEAAAhCAwGwRIAydLdKxdtoGEg2DvYrgyIVC0a0/0765MKgkVCv5D+qF/2hux+UHgqZ9PySLB0XRUCftX50XDZkVVqyGK1hNm8kYgxV04ZgyxnXDtzrjqS5Tl5frmz8n1TVXnLXzWwwobSgYC9+i1bXxTa+pcDqs0syR71h2fT5EdO36Zd1nkblLG3Jl/OucL9k2vGnxXj0ztO33RDbOdE4SbtOyMtgyWPvmXCiGulnPG7+a9TDU9NCFkrnVkDXDUPecz9zzNXNb5Jo2stWk3vtN/yKrc0GsDSTTZ5BmAeVX1zQNQ0UkGcNTkhtXdFLarJJNr7Hu1r43m97LaUO8gAAEIAABCEAAAhCAAAQgAAEIQAACEIAABCAwcAQIQ+d6SmxoseOtrCMm1HGr/fLHLMyy/7E6eMZkdj6rL3llQ6V8KBSUSd4W603rtHWk7+3lhTBUP3cBTtq/MGA17aThja2rbrhni6eHJszatZmGRWnfL0kZt1y7ySo7M66QkXa0UG8PVuVFebm5rtH/FGDpi6IPrSAUdpe68cXG7srkeLViAWIW7OVXvbr7IAsiXXtpubKgJ8YjHEPBV9eeHrM2/W1003bLVpL2JAx1AazfH++1P+bcGMz9lvD2y9Tsk5uvyuPULhkdGZGR2O/oLrlgLz72gxEZ8d4nH9tr1x2tbKHWySSsTENIFyS6FZdl2+S6ql2YqM/ZNL/Zak9XRsSFrtkzO811+bL5upIgMwk1vTC06nmg/hi06WhZNy7Tt/wq1qy/sVfR74pYQf0sccn3vqwgn0MAAhCAAAQgAAEIQAACEIAABCAAAQhAAAIQGHwChKGDP0clPYyHiSWFG62wK61jgZxoFBosECYMEwIQGHYC9g8bcuF4bExNV5HG6uAzCEAAAhCAAAQgAAEIQAACEIAABCAAAQhAAAKDQ4AwdJbmYtmyD8VfSdbNa9PlfBga1hcOKwz4wvK8N6vtlBusvJWH/upSXvfsHh7U++1//s/fh18dvJ9HBMx3W9VW0O77j1Wh82jaGQoEIAABCEAAAhCAAAQgAAEIQAACEIAABBY8AcLQoVUgH4ZWDsNun1m1fWnl9QvsZBiGLrDhM1wIQGAeEzBbVZeEnfxbMY9nnqFBAAIQgAAEIAABCEAAAhCAAAQgAAEIQGDhEiAMHdq5bx+GulVAugqNILT+RBOG1mdFSQhAYNgImG1ww2cnu+fhFj8ftvHRXwhAAAIQgAAEIAABCEAAAhCAAAQgAAEIQAACeQKEoXkevIMABCAAAQhAAAIQgAAEIAABCEAAAhCAAAQgAAEIQAACEIAABOYJAcLQeTKRDAMCEIAABCAAAQhAAAIQgAAEIAABCEAAAhCAAAQgAAEIQAACEMgTIAzN8+DdfCXw1g7Z+uX75cSMiLz3vOz68mLZ8Plvyotn5uuAh3Bc7x2SfT+8X576xQm56nX/xA+/IFsfnfI+4WVC4MoJObDpftm9/ZBc9JBc/MU3ZcOaQ94nDV/2ch56WVfDYVAcAhCAAAQgAAEIQAACEIAABCAAAQhAAAIQgAAEIKAECEPxYGEQ0DC01ZLtv5qWkz/+gmxotcxvg9Do/KMrCeX6ZsuUvPiNr8hTk9Ny+NuLZfdR29CZHbL1s3fJ0St9a3hoKz5x72J5+JlpObX5K7L1MRsWXzkku754q+x7rdNh9XIeellXp+PhOghAAAIQgAAEIAABCEAAAhCAAAQgAAEIQAACEFjoBAhDF7oBC2j8usJww5pt8tSftmT7Lw7Jvj9tyYbbdsj5mgwIQ2uC6qiYH5x9QZ6YmJFzL6yVzZ/9iuw+rMt5+QkJ+GHo9l9NyQcTO+ThL47I9sdOh0UbvO/lPPSyrgZDoCgEIAABCEAAAhCAAAQgAAEIQAACEIAABCAAAQhAwCNAGOrB4OX8JnD92bvsilBdOTclz91GGDpQM37madnxtc+ZOVr8Odn81z+R4+yOWz5FV47LU6Nfsk6PyMbRtXLgleny8nXP9HIeellX3f5TDgIQgAAEIAABCEAAAhCAAAQgAAEIQAACEIAABCDgESAM9WDwsscEpnbIym+1pPWtlbKjy1Dr5TUt7zmIh2RXa6U891bD/s4cl936rNBvPy0XpXkY2qS1c/+0Uja07pQDPcimmrRLWQhAAAIQgAAEIAABCEAAAhCAAAQgAAEIQAACEIAABCAAgYwAYWjGglc9IzAlO77fktb3d8ihJ1f2LAzd+qhNVJPnf3YQhubGFw9Dzz32TbPS7vPflH2T/vas8fLnD++QXaNfkY2L7TNI/+xOeeqZ3bJrSUs2/N3zcl00uLXnkuNi2fjlb8puPyW9csiEtK0R2bzmebno9/Pw2qQ/uw7rhzXqEpEPjv5Etn9xxK4YzNo2dZjK33hmrWz9/GJTJlmFuU1OBMFtEkC31srLfn+0/teeln13f1M2ues/+yWzivO9rKBuKZw+l1XHrWXu3iGnCs/+nJFTj94lmz9/qzwxMSWntn5dNipDn4+InH/hJ/Lwbd4qyNvukudy8yNS1l+ZPi2Ht98l279sV522FsvGrxXbuHHmadn1l7bMZ78k2zcdlw/skPJ1n5YDf/sV2aD1/OVP5ERuTNYTx+3GlBzfdKdsdvNRykHk6uSObGVsy670DMZoujMtx3/4Tdn4WTu3n79VHt50KOfNuV/dJZvUyc9/XZ6a8D0WcXPj+yDSu3ko8h6RjbcVedcdy9XDa81YPnur7Ho2kFTdSFwLPL1xWg7cfWt2X7p7sMG22JnNvIIABCAAAQhAAAIQgAAEIAABCEAAAhCAAAQgAIFhJkAYOsyzN6B9P/RQS1Y+aYLLqZ6EoSZgSsObJCAMwo/GLGLhpoaNd8nhKyLH/64lG/5sm7yR1hspb4PKXOjnQpcvrpWXk5AsDDBdOPkl2X3UhFQa5mzefEJunNkmm1uLZccLXnhVGYYW65L3npbtLph1fbFHx+/co1/PB5Wu3Bfvl5PpeMvCxbLxtGTD4jvlgA1EXeBWYPON3d4zWmfk5TVfkg2Lvy7PnTktB769Uh7+1Wl5I+nfl2SXe1ZoEn67sXrHxV+XF73VwfnA0g3EhZPedW68rcWy9TG3ZPm4PKEBtp77xm5548w22drSZ8ua8C1Xt/bna9vkjRvPy45WSzb++LhrTMStOLZhaD0OIjJxv2xK++X1NRijyLQc+GsbYgflN917XK4nPdEx3yr7zliPl+Tn1fXJ+aBBaO/nwRtD2s/Fsv1XfphZfyxPTc7Iqc23yobFxfvejCf/+ckfu+A86AdhqOcqLyEAAQhAAAIQgAAEIAABCEAAAhCAAAQgAAEILAwChKELY57nbJTdhaFVQZYNOToONyLhpoikK0OTAMcPWCLlD98vW9fskJfPTCch1I2p4/Lc3XfKw/ocRy8YzMOfkTf+yYaRf3/InEpXhpoxpStg9WwuDM3XpCFWWNcHv7pTNrS+JLtemJYbYXF9P/O87NCw9Ivfk8Nv2dB1ZkoO/52GR4slC8jKwtDj8sRf3i8HJk7LVZfZzkzJ8XtvTYLEfDCYdeDGe8/Lri/q+FbKc2fs5zbk3Lz9dFYweWVZuzD6rd3y8N9uk5fPzJgx3ZiW4xqitlqy+Z+ya3OBZVrjlLz4V1+X3b84Luem0w7LuRfWymblsOR+OaFlk4DzJ3Lqygl56mtflxenbOi7xsxRvm63MtQ6aMuYJp2zxp3zj90lD28/JOfs6tEoBw04R7Uub95uTMvJrcaTHNOJ+2WjuvmNHfKGHc71t56WHQnbbFvmdGVowWO3krKVzXWP5+HEj6t5p4F7zbGkK0OTsag/p+XF0RHZsPgr8vAzU97K0NOy70/1vA22PUapDryAAAQgAAEIQAACEIAABCAAAQhAAAIQgAAEIACBBUeAMHTBTfnsDri7MNT1VYOpbFvcZCVYxyGoqzMSbrpTEgsCI+WvnJDn7jYh4IYve9u2vrYtWeWXXwXnVS42rAnHYEOp+mGo1pmvy636MysyzXaw+/xtUo+abXfdise0V2d2yOZWS/y28wFgWrLkhQugdue2a/ULm6DWC+Eqgt6TP/6CbGjdJXbxrF+NeT39tGzXcMwLIsv6e/HA/XZL4BHZfPfTcs7WduKH2obzakZevle3vh2RzT88JOcPfE82thbLw89EVoamvckHpubjfBiaFvVeFDhoQK1jSbZV9gq6bZG/kTF9Y6v28VbZ95pfTsQ8o3ax7D6a/zzGxDmSBt89nod8D7J3hrcGzeazpmMx/V4pzz26NmF1Y2qHbF1yvxxw2+S+t1u2JwF6sHpZtzxe83w671mPeAUBCEAAAhCAAAQgAAEIQAACEIAABCAAAQhAAAILgQBh6EKY5TkcY0/C0CQkdKGVDSq9EKyz4UXCTa+iYohULP/GdhuEJivWdJtY3e7VrjIMgkWv6mwr1Z6EocV+pW3dOC3PfWOxbFj8vTRUdEGcCUv9la8mQKoThl6d3Cbbk+eFjsj2x9zKzIp+uA6FoZv3Pl3992WzvXAafHnb4LpqzLEYRBbnzFsJ6+ao1ZJNaw7J1fRZk5lXWf3H5QldaelWpkbDcS1d7EO4TW5Wp/fKG3fyqQ3BzZz4/SkyNWOMrEgN67TNxZhUhaG9mAe5ckL2/ZV99uro7jSEDOe06VjS61/Q7aQtg28/LSeTMPR7sm/rymAbXgPhgwNrkz9OKK5A9uaElxCAAAQgAAEIQAACEIAABCAAAQhAAAIQgAAEIDBvCRCGztupHYyB9S4MzYK7JESZ8zB0Ro7erYHMnXJ4WuTGlN2q9K+flouxFZ656SiGXMnp2HUlIVdWXUldtsD1Z+9Ktr/NVgzOyIlNK802ue5xmUnZumHoadn3Z2YV440rT8vD9tmYaQgYBrxZR4tb/tptUncd1jHcKu65kBrIpsFXt2GoXaW7adOJZIvd8898Tza1vpA8j7S0Dbd61nu+ZSxU7FkYKiJXD98vmz/rbZObcIvN7Wl5UYPGcAvYEk9i/Tbj9lbo9ngezB8JfE+O35iRw3+btVPk3Wws/vW6DfDmJJC3oWhrsWy614TcvnLmtW6fa54Fe7F4kk8gAAEIQAACEIAABCAAAQhAAAIQgAAEIAABCEBgnhMgDJ3nEzzXw+sqDLUBj1kx50KP/DHd6rPxQGNBU1ZJMUQKy9v3aRgoImd2yNbFX5Bdj26TrYOwMlSHE4ZkU7tL+lY3DLWrIXVl3uLPdbcy1G4Pq8/9vPjC92STPsOz9QV5YsI919JfJZnNjXlVXJVZnLNs/P6K1ze23iobvni/HPinld42uV79IbN+rwwVG9bd/Xzy7NmsJ6FzIibc/kphm9zCPNtKYkwKYWhf5kHncrFs/KvylaFNx+KHoRkj50r2xxL+OfO6yLFYhk8gAAEIQAACEIAABCAAAQhAAAIQgAAEIAABCEBgvhIgDJ2vMzsg4+oqDLVjSEKQdMWhCcE6D0EdGBdmamhjnhOpW6fKmadlx5+NSBrAfvZLsmn0Lnnq0d2y+3+0ZEPaj2k58NcumF0sm/7WPIsyCdoWL06u9wM416o5huGMrtb8umxMwkAbIn15pTz899vk8PY7k7rKxxvWZVs6s1u2f9b1L1udJ3bVYzK+z66Up9LniZaFobY/aahVDCHjY8qPOHlXCBlPy3M4DSvqAAAgAElEQVTKNAkBlefi9lvYzhyXp27z5sdbIWyCv6C/dtVjbrwzx2X3F1uycYn/zFCvv4V+xp4hq+VjLJxXxXDu+sRPZGtsTqL1aP3FuS0LBLsKQ6Uf81Acf9j38H06AxH+eq6svPm82J6Iew6svQ/SezdtiRcQgAAEIAABCEAAAhCAAAQgAAEIQAACEIAABCCwAAgQhi6ASZ7LIfYsDE1DLw2gqlYM1h2tDTO/tk3euHFIdt/yTTnwngm9Hv7FtBz/e135+D05PPm07P5L+/xDXQ3pBSonf6xhmm4Helr2fc32aeaQ7FpiwpfaYahuj/v/3i8nX9uRPAtx6/ZD8vL2u2RzNDgLx1cMzLTEiR+OiNlu9uuyoeWtJPRWht544XuyIce1lVzjWohvd2oDQPfMxvDo8XH1pMdIyJUEmP/jJ/Lcmi/Jpm+bQFnLlwVfSej3t0/LVbeacbt7ZqlItL/TT8v2Vkv0eZH+eK8m2wfrPOVdMu3a8Cwcm78K2I4lDc2ryloAOtaHn5mxqztv9VZ3xkJVvag4t5VcWl7o7QLWQr+ysfkBey/nIQuls7YyThnvXo5lgz83Trj3dsv2W/QZtHp/u9DdneQIAQhAAAIQgAAEIAABCEAAAhCAAAQgAAEIQAACC4UAYehCmelZHKcJQFvS+lbk9/s7JPeoyhr9SsIVF9olz9XMApUal5cXSVeBeitD3zskT/31ymQ16HNHp9NrLx5YK5t15aYf9l05Lk8lQWm2MlQvuPgrs5qzdhgqM3LqF2tl+5+ulId/+LS8ccM2e+WEPPftL3W+MlSfqbj4c7J103FJVr0m1c7Iqe3fNKtQ26wMlSsnZJ8+n1IDtVG33WkfwtDWYtn8Y7+PFWHozGl5blRXhuoWrNvk1JV0iiTeX5Hk+ZIaLOfGa1aizmYYev21HWa1rm4vvP2ENycDEob2aB4GJgzVlaE/vNX4+2d3yYEzniu8hAAEIAABCEAAAhCAAAQgAAEIQAACEIAABCAAgQVDgDB0wUw1A4UABCAAAQhAAAIQgAAEIAABCEAAAhCAAAQgAAEIQAACEIDAwiJAGLqw5pvRQgACEIAABCAAAQhAAAIQgAAEIAABCEAAAhCAAAQgAAEIQGDBECAMXTBTzUAhAAEIQAACEIAABCAAAQhAAAIQgAAEIAABCEAAAhCAAAQgsLAIEIYurPlmtBCAAAQgAAEIQAACEIAABCAAAQhAAAIQgAAEIAABCEAAAhBYMAQIQxfMVDNQCEAAAhCAAAQgAAEIQAACEIAABCAAAQhAAAIQgAAEIAABCCwsAoShC2u+GS0EIAABCEAAAhCAAAQgAAEIQAACEIAABCAAAQhAAAIQgAAEFgwBwtAFM9UMFAIQgAAEIAABCEAAAhCAAAQgAAEIQAACEIAABCAAAQhAAAILiwBh6MKab0YLAQhAAAIQgAAEIAABCEAAAhCAAAQgAAEIQAACEIAABCAAgQVDgDB0wUw1A21MYGqXjI6MyMjIOjnW+GJ7ga1j3dE2FaRtaXsjMjK6Sy60uYTT/SBwQXaNmjloO2elzR+TdSMjMvp4mxmcgzm/8Phodz6XjpkTEIAABCAAAQhAAAIQgAAEIAABCEAAAhCAAAQgAIHBJEAYOpjzQq8GgUAaVs1CGOqN99gPCEM9HLP8chbDUG9kszXnhKEedF5CAAIQgAAEIAABCEAAAhCAAAQgAAEIQAACEIDAgiBAGLogpnn2Bzn15EppfauV/X5/h0zNfjfmvsW6K0O9ns5WMOY1ycueEqi5MtRrc7bmnDDUg85LCEAAAhCAAAQgAAEIQAACEIAABCAAAQhAAAIQWBAECEMXxDTXGOTUDln5rZasPV6jbJsiSRCaCz8PyVoNRnOftalkvpwmDJ0vM9lgHIShDWBRFAIQgAAEIAABCEAAAhCAAAQgAAEIQAACEIAABCDQVwKEoX3FO1yVH3rIrORc+WTv13CalaIrZUejqu2WpbHnZ9qQMfdcxqPrzPM2k+d8xp71aev7wTGRdAtc83zIXD3Bucrnd7Zr0wtDk9V/rm+xMVld2q4SDNvU8XT6E9bVzfNRkz7MyI7bLklrzbUOe9RwzsO5GhmVXTnHas652HJufgr1eMNpyywLQ81KTPsc2Aq2bedcTJ3J82STPna2dXO2MjRfX85/b6i8hAAEIAABCEAAAhCAAAQgAAEIQAACEIAABCAAAQgMOwHC0GGfwR73P93e9qFDPa25szBUxIQ3YcDlPvcCIQ3FcqGgC7e8MrnAy6vThlvrjhaHXBlS1WkzCetGZXR0REbS/tkgKn2fb7eqzSKP6rryNQfv6vQ/uKT9227DUDe33vzYRrMgz/XimKwLQuWEXS7IdB5oIOnVWTHnkpzzyrrm9FiLmZmT0dFRyYJ024+gv67qqjl3wb0fWJpx+m67mqqPCcPRURkdGZHU9yoW1dVxFgIQgAAEIAABCEAAAhCAAAQgAAEIQAACEIAABCAw8AQIQwd+iuagg8fXmmd99nBbW7PqdK00jliTMHFE/CBIXKhZEiamxAohjwvGwhDJhlePX0gvdS8qQypXyD+Gbdr+Z0GoKVwMNbNKytss6WdVeJdVW+9V2P96V3mlug9DY+Ff7Tkv+NJ8zivDUG+k6csCMxtQh8FnoVxag5TPuZScK3EhqzL6ynjnBaFJqeqgNloRH0IAAhCAAAQgAAEIQAACEIAABCAAAQhAAAIQgAAEhoQAYeiQTNSsd9M+Q7T1rQ4CzLCzLlztcLVpISiygVe6si1sz70vlGse+hTadnWXHcM2w/fuuk6CseSayIrFsjZcW02OXdfVgzBUIgFg7X6FIWHzOW8chhb6FvbBToAtlw/2zblyz0rqqvsHAcHcF1fXeu1XbOMbVMNbCEAAAhCAAAQgAAEIQAACEIAABCAAAQhAAAIQgMDQECAMne2pcsHgt8zzOVt6LKzAnJId3/fO27JrjwedTQNLv2wxvHTPAk3asnW1fS6oV3fbskG3cm/deAtjzJWqfhOEgGarz10SruNMAqX0mY/uOY3+KrjmwVh5SGW63LbNQlBmh1r2eSwItJe4VX3ZcyOzMepnbcPhCOW2/Y9cU/jo8GVptS5V/E7LjrcKV1V/UHPOy5hkgWPzOW8XhrZnVhZgln0eCX8dHetJ2ZyHK47dZWXHsjC07POyevgcAhCAAAQgAAEIQAACEIAABCAAAQhAAAIQgAAEIDAsBAhDh2WmZrOfvQgwtb9poFoMaJsNxw+RTLiVhV2mJhNQBasmC4Fj82AsqTfc7tR2vlabhT7Yi4Owz+dR2mbFNf71dV/X6n/dytJyvVkZKtJ+zl0Qmg+B/eu0U83nvCoMrccs7IOFU+ZCRQCe55BC7vhFWehZ6lzHLXEhBCAAAQhAAAIQgAAEIAABCEAAAhCAAAQgAAEIQGAwCBCGDsY8DEwvpp5caZ4X2uGWtulAehaEmhqTEEdDySRQCkJPG5wVVskVwqfmwVh5SGQCr7ZtFvpgxmNCtfDZpd65WABbUlfKvNGLmv1vVKcW7lUYKlI952VzGQaRZeUqBlYaOtdlFvbBtGWCyNBdc67cM9v/ds/HrRiOfyoehpaMy7+Q1xCAAAQgAAEIQAACEIAABCAAAQhAAAIQgAAEIACBISVAGDqkE9ePbrvtdLvaFlc71uMgNBmrDUHX/WBUCgGkW/3nP/MwCbTMNrLZysHmwVjbkKpdm7EA0/Yt61d+NsvbtNupjsQDtXwt7d5ZFu36366awvnehaFSOecRFpa1bimbrRxuPuflK0PrMouEobZvWb/y4Krm3PTHH1P+2ibvYmFo0rbvQZMKKQsBCEAAAhCAAAQgAAEIQAACEIAABCAAAQhAAAIQGHAChKEDPkGz1j0bYBaeS9pBB1yo6j+jNH3d8bNDXRBV9mxMu7rNPTM0XUXql68XjJnAKP88TvfMxnyY1aBN16/kWAwz67dpV0zm6huRkdhK0rZzV6f/bSsJCvQwDE1Dbn8O/eYyJ8z86ErbMIisN+cmeI3PeZ5tPWYmYMzXF4bfTeY83r+iRz6d6GsvMHZO58cXvYoPIQABCEAAAhCAAAQgAAEIQAACEIAABCAAAQhAAAJDS4AwdGinjo5DAAIQgAAEIAABCEAAAhCAAAQgAAEIQAACEIAABCAAAQhAAAJVBAhDq+hwDgIQgAAEIAABCEAAAhCAAAQgAAEIQAACEIAABCAAAQhAAAIQGFoChKFDO3V0HAIQgAAEIAABCEAAAhCAAAQgAAEIQAACEIAABCAAAQhAAAIQqCJAGFpFh3MQGDICsWdVps+GTJ8z2sGzJoeMw0LqLnO+kGabsUIAAhCAAAQgAAEIQAACEIAABCAAAQhAAAIQgEBTAoShTYlRHgIQgAAEIAABCEAAAhCAAAQgAAEIQAACEIAABCAAAQhAAAIQGAoChKFDMU10EgIQgAAEIAABCEAAAhCAAAQgAAEIQAACEIAABCAAAQhAAAIQaEqAMLQpMcpDAAIQgAAEIAABCEAAAhCAAAQgAAEIQAACEIAABCAAAQhAAAJDQYAwdCimiU5CAAIQgAAEIAABCEAAAhCAAAQgAAEIQAACEIAABCAAAQhAAAJNCRCGNiVGeQhAAAIQgAAEIAABCEAAAhCAAAQgAAEIQAACEIAABCAAAQhAYCgIEIYOxTTRSQhAAAIQgAAEIAABCEAAAhCAAAQgAAEIQAACEIAABCAAAQhAoCkBwtCmxCgPAQhAAAIQgAAEIAABCEAAAhCAAAQgAAEIQAACEIAABCAAAQgMBQHC0KGYJjoJAQhAAAIQgAAEIAABCEAAAhCAAAQgAAEIQAACEIAABCAAAQg0JUAY2pQY5SEAAQhAAAIQgAAEIAABCEAAAhCAAAQgAAEIQAACEIAABCAAgaEgQBg6FNNEJyEAAQhAAAIQgAAEIAABCEAAAhCAAAQgAAEIQAACEIAABCAAgaYECEObEqM8BCAAAQhAAAIQgAAEIAABCEAAAhD4/9u79105inNvwNzKuqUt7X9BvhWzUf7IFeRElE8mEto5K0qkCBJFEZiImJAdEcLREJMYGzC28RHb9Ke3u6unurrmtNb0smetB2mYWTPd1VVPvzVI86O6CRAgQIAAAQIECBAgsBcCwtC9OE06SYAAAQIECBAgQIAAAQIECBAgQIAAAQIECBAgQIDAtgLC0G3FbE+AAAECBAgQIECAAAECBAgQIECAAAECBAgQIECAwF4ICEP34jTpJAECBAgQIECAAAECBAgQIECAAAECBAgQIECAAAEC2woIQ7cVsz0BAgQIECBAgAABAgQIECBAgAABAgQIECBAgAABAnshIAzdi9OkkwQIECBAgAABAgQIECBAgAABAgQIECBAgAABAgQIbCsgDN1WzPYECBAgQIAAAQIECBAgQIAAAQIECBAgQIAAAQIECOyFQC0MfeONN5p4PPXuu+8eahDffPNNkx6PHj1qHj582Dx48KC5f/9+c+/evebWrVvNtWvXmsuXLzfvvfdeE53wDwECBAgQIECAAAECBAgQIECAAAECBAgQIECAAAECBHYpsCwMjYxSGLpLaW0RIECAAAECBAgQIECAAAECBAgQIECAAAECBAgQIHCsAsvC0IsXLwpDj/VMOBgBAgQIECBAgAABAgQIECBAgAABAgQIECBAgAABAjsVEIbulFNjBAgQIECAAAECBAgQIECAAAECBAgQIECAAAECBAg8KQLC0CflTOgHAQIECBAgQIAAAQIECBAgQIAAAQIECBAgQIAAAQI7FRCG7pRTYwQIECBAgAABAgQIECBAgAABAgQIECBAgAABAgQIPCkCwtAn5UzoBwECBAgQIECAAAECBAgQIECAAAECBAgQIECAAAECOxUQhu6UU2MECBAgQIAAAQIECBAgQIAAAQIECBAgQIAAAQIECDwpAsLQJ+VM6AcBAisErjYvnjloDr51YcU2PhoLnAazboxn/vfqeOib/vX6c83BwXPNrqvqwrcOmoOD7HFa6/byi82ZcDjzYrPqDCWvQ5/HTc93tl065nOvZ28+aS/b+jzTvHj5sB270DzX1uHua/ywPUr7Xf3fM+0cOc5zno7tmQABAgQIECBAgAABAgQIECBA4PQJCENP3zk3YgIzCXQ/vM/z4/ZpCPZ2fVqOZtaFFU9eiJIrdYHWUfrYG60J6/Jjrnvd9ekoAda6I+zR58cdhvbH2yTgFIZuV0et1w7niTB0O39bEyBAgAABAgQIECBAgAABAgQIHE1AGHo0vy32frV58amnmm+veHz3x4de/rFFP+qbXvnxfy3p2381L12q7+NdAmMBYejY43H/dbLD0C5M2UXo2K+e28nqzV229bjrZxfHP2aPLcLQ3dXPLpyWtHHklaG7C/t3HYY27dgOmk2C6yU63iZAgAABAgQIECBAgAABAgQIECCwsYAwdGOq3W7YhY//0/zfbps9dGtdfwSfhwa0Y9M0wtAnqwxOchi641rbWTCz4349WQV1iN4IQw+BtthFGLqw8IoAAQIECBAgQIAAAQIECBAgQIDAEQSEoUfAO8quy8LQtELzxfNl65ebl/77qebb//1Cc6X9qFtpGtulfbpVp7WAtd93WJU6DT03C0O7Y7YrWM//z2gl6ai/7WfdMf7vbL4adtq3cd+far599tVi4BseM+2VLst4hFVe9cuDTkOOdqVMHCcds79HYG2lS7okY7qPYHkp2c2O2fUh2u+2T/ckLC4T2vanWzE3Om7tEodF36f3T8wCtWLbNIZxX1KfFs9pu3SKUmiaLKbH7LYc9T3df/GQ53XSx7Kdbcz60Hd5/9ebDRaF6cHBdKXjUeqs7WM51uHgtRd9eJW8J8+p1vrtajVVBIvb9D+tFhtsl/S9Pl+K8UxsU9+L7do/d7WCbvo9UTtaWdvlHFmMr+9XOg8179oBqu9ldVn9vHszzZXa99iK3Q71UelQO2bbn3bc49rMzcp2hvrp3WrtHqrDlZ0mxy5rdpvvlknNxvfo9Duh0o3DvzU5ZjZPJp8tvtdb47wes+B2bJK1d/he2pMAAQIECBAgQIAAAQIECBAgQIDAkQSEoUfiO/zOXQg4DQebpr+cbhkKXnqh+e5TTzWLS+n220XAOQSkZWAa/Zu2Vws+a+9NR5cd86lF3yf75kHpMI6ybymgXbQz9HUYT9b/NshdbDs5Zt/Z9EP+soBtOqbpO4sgIv9sGnIsfvBd/Njb7Tv+8brbbrFNtHrhW+NtNjtmFgYMP0JXQpz8B+zhh/l+3+HvRaCaBwVdX/O+5WFM9n4ReHVSU6NcsH3d920aZOQ+lTE1mwU5k+Ol/Q7y9nuLwbAZB9qD0dQsBd8b9b8NYlaZXWiey/vQ1sU0/NisznZp1inWa3IhXKv1+LSs90X/Fxa1fafvVfzbw29QC5U6a8/dcG4X40ivpsdPn6x77vuTAsvJ82Lcw/8IkJ/3NF+zvnV96YKnRa0t81jXv/T5Bm7DfDloDrL+pBZme+4N8u+idKyFReZY/f5ZzONaO6m9XT5H30bHqpzL9J0R4eHKc1kbUxYw7rLfQ1tbzJN2Hud1OzTSv+j734akQ+3UvpfKHf1NgAABAgQIECBAgAABAgQIECBAYH4BYej8xtUjdGHeItzLN+pWU44/m27fB5Oj4LBpmmxVZrQ53S/e7YPIIahM201XjOb9qoeVTdP0Qe2wOrQPQxfBbdfKqC9FP4fj9PsObaUwtxxneczUQO3H6PTZhs/dj+95eBY7dkHE4sfsFPpkP9DHZpMf9TcJIFIwue6YfRhS/iBd/mC+xGA8rul4Op4ycElBz7q+1Y26Nhf/rv+gXvSlHE+7+2aOiyP1r6ptNU1agTgEGRuZ9ee89J/UxjZmRY/7fmxdZ9VxHtKs79K4Xop+xp+Vvm48TyZmRQ2kw9XG1R93OHdp2/y5tl/+ee31Ju3W9hu9t2Qc/TbLTLv3F98l3d/T+ynW58+oAyv+2Kwelh17RcNH/2iFfb0/S5xXtHP0Tm7WQhf+Z9+XfZ/KcHl8Lpecm8PU8Wbd7Lbaov1xfysHadvKA99um+78ZR6VXb1FgAABAgQIECBAgAABAgQIECBAYG4BYejcwkvaHwWD5TaTQHAaXqZgsgwcx8Fkbb/uYG3gmgWMXX/yS9qm13koO11lWna9/XvS/+lWtcC326o7xmJcGx5zeohDv1P/8Xb643v1x+HKj/Hdj+OrV1ptdsxpH9pBlscs/04S+Q/f/Q/XtUBpPK7+R/pJAJgazZ+X9G/YZNnn4yBgfPy083ib9O66586+9kN80ZdNzCYBXjp62bdtzFIb6bnoV1ppWfoX/d2lWepJvSbTp/FcGWdeY/2mG/Wtsl+7ezHO9r1l2/bHy/fb7hKjU/u8yc1er2qj4pUaLcbZ2S/C0bTZ0Z7LOj1aazvduxh/3na9Dpc4r2gnb3PO15P+LunTaF4s2ab7nzZ2XQfZ6PvjbjJPRv3NmhhervhvyrCNFwQIECBAgAABAgQIECBAgAABAgQek4Aw9DHBrwxDy5Wb7SrIctVmGRr2AxmtmOyDxOFeoSng7J8nYWh5jBJnw2By0zA0O/7iSOUxyr8XW871avJjdnug6Y/v1R+Hl/yo3bW5uN9avvIvmt/smNM+tF0rj1n+naDyECl/nT7vn9txDZeVXRHgFPvVVgWONhl+eF84jO7t119aseqagrfh8oujlpf+UW8rNu8sh9Vam5ht2P9qSLikh2VdJI+8PqpjKPpb3eaQZqmr9ZpMn/bPRR21/SjO0SZ9W+aQPEahfXHMokfZn/05Hi5bWwvFs82Xht35NuteL5mj7W4rwsj+fKbz3nnsIARrrZbMt/IyzuuGNufnRT3nh6rX4RLnFe3kbe7udVljyTqrtSV9Gs2LJdvMHoa2EOUYsr5nUKP+Zu8PL/taG83V4UMvCBAgQIAAAQIECBAgQIAAAQIECDxeAWHoY/JfHYamy9Z2qzLbbSfBYRcSLlZQ9gMZhaHLV4aWw+768+SEoYtxnYwwdOHdByKj+8c9gWHosBJxh2HohmFT/Uf3FUHSAnfyqt5WbFaEKRuFEcU+k6OlNzYzSwHgODyYHqM6hqK/1W2OIwwdOXZ9H49n2aWFi/O5ccCZLnG8ZVA4hIL1oKc7c1P7dEY3f17VRjHmvNHifO4sDM2PccR6GDW16z+K8efNP7lhaHeuD4bvyq7Xk/4uGdtozi7Z5njC0Ex7xTwZ9TfbZXgpDB0ovCBAgAABAgQIECBAgAABAgQIEHjyBIShj+mcrAtD02VwXzzfBZqLcDB1uB6Glu2Wl8NNe5fPxx2Glvc2HfrTrirNQ9ktw9D+R+Vhxd/Q8OYvJj9mx679D71p5Va8Vf1xeNmP2qPDT0ORzY5ZD1om+y7pw7i/9bYmIWEKUIof/EfDGf6Yjmv4qH2x7vNu68l44u30I32x6nDcfuWvdr9KcFa+v5HZZv3fbGVo39bEdXpexuetH2PR352aJcbSKL1fPLfHjnG020/Dxk36n+4/WgapxaG6P4uxV7epvbluPIdtd3Ss6fnLP66ep8rK8G67St3mjW39erP67Y49vV/p1ofbZocV9nWzZc7L3t+mMxtu29bT1GnS3yVjG8+LWr/783Ww6zpYM74l82QyrrKZJR7lZv4mQIAAAQIECBAgQIAAAQIECBAg8DgEhKGPQ70Zr/xc1oXuvppxSdv8vp1p60oY2q8KHQWn/XvfPvtq2rH6fOxhaLoU8GjFay34rL1XHUL7Zvoh/2C4zOvybZd+Uv6o2/8dl+zcPgy90DxXBl79j+N5WynsG8Kg6jErP5jX2qr9+F6OaQhgxj+0tz/Qj+yWhXZ1vW7/cZujLft+jMY+2qBpUjA2bNOO50xz5szq+66WzXR/1/rfOY4C8w3N0nka+lY9aO2Y0w0nVn0fDlVn/b5Dv45k1vc19WddAJ22K+ZHGvE49Il36z4Tj9TA5Lnff0W/4ntgmEv9/l3707A2Nd99d6yo3bThyufKHB1tv7z2hnO3ZG6OmjnUH+vdhnMTl9Bd4Xuow6/aqa+h8pzFLvUQbplzP8bRd9iqAx/hs1T3mVNXY3Gp3KzOloytnBdlfXafn2nOzBiGbjVP1n13V/4bcwRduxIgQIAAAQIECBAgQIAAAQIECBDYqYAwdKecmzdWruCs7tnfe7MeZPYhYXE/0BfP11pav23Xn+Keom3bh1ilucE9Q7te9pfxzcYwCnLbjbYLQ1OQdtQf8rsf4PP7v3U/sueBRfljdtvd2g/f6Ufz4d6F09VEse/6Y/ZBStZOBGeTAKFyvIMlP6iPj3nQlJd8HMKRMtDtTmDl3ymMSHbjADk3SveD7J6LEKr/Yb37rAsWWu8seKgcfMlbO+pTan2tb3+8tWZlv2Kc05Bn4zrbqVk/2FGbRciTPFK4uaTG2v4XNbtsfk7qMfarOHbbZYHT0JfFi8lxK+0stu7PxaHqa9HKdGV1/ll6PZ3H5RzuxlfMibT7oZ83G2M6B2WfDn3YpTtOHRbfCYtzWz/X03myOMy03dnGUsyP+O/DpL+1/yZUryww/j5o/1vT7rvrOlhIxatt5kmqjeE85XOqt5jNetxtfxEgQIAAAQIECBAgQIAAAQIECBDYSkAYuhXXMW+8MlTsQsJpeHjMfXS4YxRYFQBk3Vjy43u2hZelALNSZIu/+xAnD0ayvathbvb54V72gdeRw8v+6G2QM2/odLhx2osAAQIECBAgQIAAAQIECBAgQIAAAQIEjiogDD2q4Iz7r77fpzB0RvontGlh6GwnRhh6eNo1dvOEoYuV1EdfibbjYPXwkvYkQIAAAQIECBAgQIAAAQIECBAgQIAAgRkEhKEzoO6iyfX38BSG7sJ5v9oQhs52vtYEerMdd+8bXh8kzhWGBl13ic+jrOhcvap170+PARAgQIAAAQIECBAgQIAAAQIECJ41MWMAABsZSURBVBAgQIBAIwx9woqgXQ06uVdnrZPC0JrKyX5PGDrb+RWGbkfbe7X3Dlxzqdo5w9B0T9v8Xr5bDaS9PO7i/pRb7WtjAgQIECBAgAABAgQIECBAgAABAgQIENgLAWHoXpwmnSRAgAABAgQIECBAgAABAgQIECBAgAABAgQIECBAYFsBYei2YrYnQIAAAQIECBAgQIAAAQIECBAgQIAAAQIECBAgQGAvBIShe3GadJIAAQIECBAgQIAAAQIECBAgQIAAAQIECBAgQIAAgW0FhKHbitmeAAECBAgQIECAAAECBAgQIECAAAECBAgQIECAAIG9EBCG7sVp0kkCBAgQIECAAAECBAgQIECAAAECBAgQIECAAAECBLYVEIZuK2Z7AgQIECBAgAABAgQIECBAgAABAgQIECBAgAABAgT2QkAYuhenSScJECBAgAABAgQIECBAgAABAgQIECBAgAABAgQIENhWQBi6rZjtCRAgQIAAAQIECBAgQIAAAQIECBAgQIAAAQIECBDYCwFh6F6cJp0kQIAAAQIECBAgQIAAAQIECBAgQIAAAQIECBAgQGBbAWHotmK2J0CAAAECBAgQIECAAAECBAgQIECAAAECBAgQIEBgLwSEoXtxmnSSAAECBAgQIECAAAECBAgQIECAAAECBAgQIECAAIFtBYSh24rZngABAgQIECBAgAABAgQIECBAgAABAgQIECBAgACBvRAQhu7FadJJAgQIECBAgAABAgQIECBAgAABAgQIECBAgAABAgS2FRCGbitmewIECBAgQIAAAQIECBAgQIAAAQIECBAgQIAAAQIE9kJAGLoXp0knCRAgQIAAAQIECBAgQIAAAQIECBAgQIAAAQIECBDYVkAYuq2Y7QkQIECAAAECBAgQIECAAAECBAgQIECAAAECBAgQ2AsBYehenCadJECAAAECBAgQIECAAAECBAgQIECAAAECBAgQIEBgWwFh6LZiO97+m2++aTwYqIHVNbDjaac5AgQIECBAgAABAgQIECBAgAABAgQIECBA4JQICEMf04kWfq0Ov/jwqdXAY5quDkuAAAECBAgQIECAAAECBAgQIECAAAECBAjsqYAw9JhPXC3gSe89evSo8WCgBroaSPOi9nzM09bhCBAgQIAAAQIECBAgQIAAAQIECBAgQIAAgT0VEIYe04mrBTrx3rLg6+HDh40Hg9NWA8vmw7L5c0zT12EIECBAgAABAgQIECBAgAABAgQIECBAgACBPRUQhh7DiasFOXnoUwZeDx48aDwYnNYaKOdDPldqc+kYprBDECBAgAABAgQIECBAgAABAgQIECBAgAABAnsqIAyd+cSV4U0e7KTQJw+9vv7668aDwWmvgXxOpHmSz51yXs08jTVPgAABAgQIECBAgAABAgQIECBAgAABAgQI7KmAMHTmE5eHNinMSeFOCnxS8HX//v0mPe7du9d4MDhtNZDqP57TvEjzJM2bNI/yuTXzNNY8AQIECBAgQIAAAQIECBAgQIAAAQIECBAgsKcCwtAZT1we1qQAJwU6EfBE2BOhTwRed+/ebR937txp0uP27duNB4PTUgOp7uM5zYeYGykYjTmT5k+aT/kcm3Eqa5oAAQIECBAgQIAAAQIECBAgQIAAAQIECBDYUwFh6EwnLg9pUnCTgpwIdfIQNMKfCLxu3brVfPXVV+3j5s2bjQeD01YDqf5jLsScSMFoCkUFojN9YWmWAAECBAgQIECAAAECBAgQIECAAAECBAicUAFh6EwntgxDUxBaWw2aVsF57lbHcuBQq4EUiMYcSvMp/keDfK7NNJ01S4AAAQIECBAgQIAAAQIECBAgQIAAAQIECOypgDB0phOXApp8VWgKQiPoiVVvtcDHe4JANVCvgTRn0mVzIxBN8yvNt5mms2YJECBAgAABAgQIECBAgAABAgQIECBAgACBPRUQhs5w4lIwE88R1qRVbBGGpiD0xo0bwtD+PqnCv3r4x2XsEnMmBaJWh87wxaVJAgQIECBAgAABAgQIECBAgAABAgQIECBwAgWEoTOc1FoYmlaFxj0Q476I165dE4YKQ9XAFjUQcybmTsyhcnVoPudmmNKaJECAAAECBAgQIECAAAECBAgQIECAAAECBPZUQBg6w4lLwUy6hGesDM1XhV6/fr25evWqIGyLIMwqyfEqydPoEXMm5k65OjTNszTvZpjSmiRAgAABAgQIECBAgAABAgQIECBAgAABAgT2VEAYOsOJS6FMCmkiDI2VbBFgpVWhly9fFoYKQ9XAFjUQcyatDo25FHPKfUNn+ALTJAECBAgQIECAAAECBAgQIECAAAECBAgQOEECwtAZTmYehkZY8+DBgyEMvXnzZvP55583n3zyiSBsiyDsNK6ENObxatiYMzF3Yg6lMDTmVgpE07ybYUprkgABAgQIECBAgAABAgQIECBAgAABAgQIENhTAWHoDCcuhTKxMjQPQ+Pynjdu3Ggvkfvxxx8LQ4WhamCLGog5E5fKjTkUcylWhgpDZ/gC0yQBAgQIECBAgAABAgQIECBAgAABAgQIEDhBAsLQGU7mujD0ypUrzcWLFwVhWwRhVkmOV0meRo+YMzF3hKEzfGlpkgABAgQIECBAgAABAgQIECBAgAABAgQInFABYegMJ3ZVGHr9+vU20Nk8DL3UnHv6oDk4yB7Pns+C1Mrn2bZnXylCtFfOtm098+NLWRvdNpd+/Mz4OEM7zzTnLhbt3L3bTLZ/+lxzaQg4u35Njh+ft30425wfti3browpG/P5ZzOLoY/pvbyvqZ0Vx+o9Fr7FtvH5aFxjq5rjEFRO2s77lvyK4w0mXd/b9iftpLEeLPq2YpvROVixXTeWFedt6Fs6h1k/DsZjq5/j/nxMPM83Zw8OmlE/82P1r1MYGnPIytAZvrg0SYAAAQIECBAgQIAAAQIECBAgQIAAAQIETqCAMHSGk1oLQ+/du9cGONuFoVkgNoRDZaC0YXjV7t9v+2wEotMQrg03s9AxhXpd6JlvX/ahCwi7kDJtt6JfbSCXtqsHoeOQsX68tn/R1iRc69tsPzvbnH36oBm3V+tv91431izYq7Q/2WY4N4uxdBZZO7HNxXPNMwd5X1aEgK1Rv3+lD+ncDM/LtsnbiT4s224Yw4rz1m+z+diK8d+N8T7TPPN08X7rUrw39GdhWoahMadcJneGLzBNEiBAgAABAgQIECBAgAABAgQIECBAgACBEyQgDJ3hZK4LQz/99NPmgw8+mKzMHIKtFAQtC4lG768Pr4Z22/0ihKyHcMvC0LvF9u121QCy68vaFYZtQLckDB2NbRGEdUFiJTBbEe5FaBd9qfZ3RR/asC+FwkX7XRC6ZhXjirbLcbTHqliu6sNwPlOdxHPRz8U2+TlZtV2yXlNPG4+tOG7q47Pn2/ORh9PV85OPrX8dcybmTloZKgyd4ctLkwQIECBAgAABAgQIECBAgAABAgQIECBA4IQJCEN3fEJTEBrPjx49ah4+fNiuXstXhm4chvYh5EEK5ioB0d27a8KrbJ82dOrbGoVt/Tb554swLUKyPDythFzZMRb7rejXqkBtozGn4G5VuNetQmwv71sJWGvjX/R9Sfttv9cEoXfvNuvajs+HMLDSt7H3qjEu6efofBTna2lomtpacd62HFtZTzHu9lK4RR9GHqO+pz51z5uGoTH3/EOAAAECBAgQIECAAAECBAgQIECAAAECBAgQCAFh6I7rYLdh6OLSqot7WparI7vwavF5fh/HfPVlHmimdsdtleFVCgfb94fL6hbtLA2vVvUr+pj3bRx6pcvJLsY07mfqV/tcBGvps7bP2YrLcUBZBIRLx5AFkX0QuvSSvEMb69seO0+3L/ve3X8zP6+L10OousSh2zfzS+Mo77U6BO5df+r375z2NXmn59HYhpXIcX5j39SPLKjeIswXhu74y0pzBAgQIECAAAECBAgQIECAAAECBAgQIEDgFAgIQ3d8kteFoV9++WV7qc+NLpM7BGx9WJgHWUPQtyq8ykLGSVg2DbbaIKsMydq/8+ByuzC0Gqq148jbzPq50Ziz7Sfjis8qJqNjTseewrzJc7tfFz6efaUb+xBAln1t/17f9igwjH3W9a06xsxgaGMRki4Nkte2VbEbxrnt2LLQM4LRoWa71bNtbYwC02JMw3G791MYGnPo9u3bzbLL5FoZuuMvNc0RIECAAAECBAgQIECAAAECBAgQIECAAIE9FhCG7vjkzRqGDuFQHkiuCq9SuNRtswjI8tBsEUpOQro2qMou6doef30g1gWKK/o1Cv9SH9c952POtq2Fe237+RgXr1OQOV4pmrU3GPfv9W0NoW75d7n9lpeS7ayysdXCwdoYy+NOtunanFxiebJdOfYV5+0QY0uXxo3aSvbtmKMfsRp1bX8W/ROG7vjLSnMECBAgQIAAAQIECBAgQIAAAQIECBAgQOAUCAhDd3ySdxmGtuFktppusWoxDyRXh1ftPm3Ali5RugiX0uVoU9A3CUMjcIuw6mB8n8zl/crvl7miX22bixB2Ma67zfK28zFnY6iEacuCzvb95LlpH5a1v+oyvyva7syn5yLZV/te6UNu1r6ubVMLs2vbjYLVFedtqIf6uauOLY737Lnm3NPjGmq3ffpccy6/f+qoH9k57t8Xhu74y0pzBAgQIECAAAECBAgQIECAAAECBAgQIEDgFAgIQ3d8kncZht69u2J13xDGrQmv7q4KGPPwst9uuHfkIoxqA7qDPMDrjlneP3O83Yp+RUA29H9xnC7g22TM2T6TcC9bZVmGa0Uo3PV3HOy1oWQe/k7aj2PXx58HlGOLvr+1cDL1sf/sYOTc71ftQ2YQbSzZZrPx5G2tOG99X7caW4zr6WeaZybnuzesjTeZFM/C0B1/WWmOAAECBAgQIECAAAECBAgQIECAAAECBAicAgFh6I5P8row9Pr161veMzSFRotLvY5DyMrn+X0/n/1/zdmD8lK3WfgVIVofSKXViXmo171OxxgHh10otrpfadXpqM32mOO2Rp+nsDEfR1rRWQRkZQjYhX/L2u7HkQW+KSxcXEK42HdJyJhW1Y7PReYa/WzHmfmsCf5az9o4J+1U2lzWz3Rp23TsFduNz3V+jO716FxO+pSH5bnD1Dyd69XnKm+je53C0JhD7hm64y8uzREgQIAAAQIECBAgQIAAAQIECBAgQIAAgRMqIAzd8YndfRg6DYVSmOSZzWmqAWHojr+sNEeAAAECBAgQIECAAAECBAgQIECAAAECBE6BgDB0xydZGCqgPE0B5XGOVRi64y8rzREgQIAAAQIECBAgQIAAAQIECBAgQIAAgVMgIAyd4SSnQPTRo0fNw4cPmwcPHjT37t1rL+0Zl/i8cuVKE8HOcQZJjiWk3fcaiDkTc2fdZXJnmNKaJECAAAECBAgQIECAAAECBAgQIECAAAECBPZUQBg6w4nbJAz98MMPhaHl/T/9rSZW1EDMGWHoDF9YmiRAgAABAgQIECBAgAABAgQIECBAgAABAidYQBg6w8mthaH3798frQwVhlqpue8rNY+7/2UYGnMqVl3H6utYhZ3m3QxTWpMECBAgQIAAAQIECBAgQIAAAQIECBAgQIDAngoIQ2c4cSmUyS+TKwwVfh53eHjSjicMneHLSpMECBAgQIAAAQIECBAgQIAAAQIECBAgQOCECwhDZzjBq8LQGzduNFevXm0uXrzokqgrLol60oI84zl6GB5zJuZOzKHbt283VobO8OWlSQIECBAgQIAAAQIECBAgQIAAAQIECBAgcMIEhKEznNA8DI3VoXEpzwhu7ty50wY5wtCjB2PCxdNnmIehMZdSGBpzzGVyZ/gi0yQBAgQIECBAgAABAgQIECBAgAABAgQIEDgBAsLQGU5iGYbGPQ2//vrrNgy9efNm89lnnzUff/yxlaFWhqqBLWog5kzMnZhDEYbGnEr3CxWGzvBFpkkCBAgQIECAAAECBAgQIECAAAECBAgQIHACBIShM5zEZWForGaMIOfzzz9v/vWvfwnCtgjCrAQ9fStBy3MecybmTsyh+EwYOsOXlyYJECBAgAABAgQIECBAgAABAgQIECBAgMAJExCGznBCUxgaz7FiLa0MjQDn1q1bzRdffNFcunRJGCoMVQNb1EDMmZg7MYfKMDSfczNMaU0SIECAAAECBAgQIECAAAECBAgQIECAAAECeyogDJ3hxOXBTLqfYdw39N69e83t27eba9euNf/5z3+a9957r4kT8PLLLzc/+9nPmnPnzjXPP/98873vfa/57ne/Ozy+853vNB4MTmoN5LUetR9zIOZCzImYG+lLKuZMzJ2YQzGXYk6l+ZXPuRmmtCYJECBAgAABAgQIECBAgAABAgQIECBAgACBPRVIOcPly5fbnCEWXb3xxhvNxYsXm6fefffdQw0rDybSysgILuKylhFixEEi1IiDpkDwUAd6gncqDWL89+/fb4Oc69evN1evXm0++uij5q233mr+/Oc/N7///e+b3/72t82vfvWr5he/+EX7iDDIg8FpqYFU9zEHYi7EnIi5EXMk5krMmZg7EYbGXEphaD7XnuCvBF0jQIAAAQIECBAgQIAAAQIECBAgQIAAAQIEHoPAsYWh6VKxKQz98ssv2zD0/fffb1d+PYaxz3rIPKBJgXCEwXF5z6+++mpYHRqp89tvv928+eabzeuvv9689tprzfnz55tXX321eeWVVzwYnJoaiJqP2o85EHMh5kTMjZgjaVVozB2XyJ31q0vjBAgQIECAAAECBAgQIECAAAECBAgQIEDgRAlEGBp5ZCzSjHxytpWhq8LQCxcunCjUNJg8EI3xp9Whd+7caW7cuNHe//DTTz9t7x8agU+ciFiN+8477zT//Oc/R48IhTwYnLQaKOs8aj/mQMyFmBNxn9CYI3Gv0JgzMXfSqtCYU/kcS/POMwECBAgQIECAAAECBAgQIECAAAECBAgQIEAgCUQOOXsYmq+MjCAjEtd8ZehpCEOTQQSi6d6hN2/ebB0i6IlLgEboE6l0/ogVcR4MTnoN5DUfr2MuxJyIuRHfFTFX8nuFRhAac0oYmr7KPRMgQIAAAQIECBAgQIAAAQIECBAgQIAAAQI1gccahkbgEUnsSQ1DAzwPa8pANC73GQFPXPozVr2lR9wX0YPBaa2BNA/iOeZGzJGYK/E/EcT/TCAIrX2Ve48AAQIECBAgQIAAAQIECBAgQIAAAQIECBCoCaQwNHLJ2S6Tm0LAuGdmrAyNcCMOFgf94IMPmjfeeKPWtxPz3rJANDwi4EmPuAToskeYeTA4aTWwrN7j/TQv4jnmiiD0xHwlGggBAgQIECBAgAABAgQIECBAgAABAgQIEDg2gcghI49MYWhkLfFe3K7vqbh332H+KcO/Whgaq96uXLlyKsLQMCxNYnVbPCLgSY8IfDwYqIGuBtK8SCGoFaGH+Ta2DwECBAgQIECAAAECBAgQIECAAAECBAgQON0CKQyNXDLyyWMPQz/88MPmr3/966k4C3kgGq8jJE5BcQpHPXchMQcOqQbSPCnnz6n40jBIAgQIECBAgAABAgQIECBAgAABAgQIECBA4EgCkUNGHjlbGJpCvwg2YoVXrHqLS2DG/QCvXr3aLkF98803jzSIfdu5DHVW/Z2CIM9dcMzhZDqsmgPlZ/s23/WXAAECBAgQIECAAAECBAgQIECAAAECBAgQeHwCkUPGJXEjl4x8MnLKI18mN4aTBxgpwCrD0M8++6z5+OOPm7///e+PT+AxHjk38vqbUc3w4FHWwGOcqg5NgAABAgQIECBAgAABAgQIECBAgAABAgQI7KlA5JCRR0YueWxh6N27d5tbt241X3zxRXPp0qXm7bff3lO+3Xa7DH/8LRA8zTWw29mlNQIECBAgQIAAAQIECBAgQIAAAQIECBAgQOA0CkQOGXlk5JKRT0ZOufOVoRHoxOrQWBkaj3v37rUHu3btWvPvf/+7ef/999v7hv7xj39sfvOb3zQ/+clPmhdeeKH50Y9+1Pzwhz9snn/++eYHP/jB5PH973+/8WCgBtSAGlADakANqAE1oAbUgBpQA2pADagBNaAG1IAaUANqQA2oATWgBk5+DdTywsgRI0+MXDHyxcgZI2+M3DHuFxo5ZOSRkUtGGBo55U7C0EiW81VtEYam+4bev39/dN/Qjz76qPnHP/7RvP76623Hfve73zW//vWvm1/+8pfNz3/+8+anP/3p8IgBeDBQA2pADagBNaAG1IAaUANqQA2oATWgBtSAGlADakANqAE1oAbUgBpQA6e3BvL8MPLEyBUjX4ycMYLQyB0jf4wcMr9faOSUs4ahEYh+/fXXbRj61VdftUtSI4394IMPmrfeequ5cOFC89prrzV/+tOf2o7+4Q9/aF5++eX28dJLLzUeDNSAGlADakANqAE1oAbUgBpQA2pADagBNaAG1IAaUANqQA2oATWgBtSAGkgZYuSJEYBGvhg5Y+SNkTtG/hg5ZFwiN3LJO3futDnlLGFoulRuCkNjCert27eb69evtzcsjY5cvHixeeedd9rO/e1vf2vefPPNtrPR4Xj85S9/8WCgBtSAGlADakANqAE1oAbUgBpQA2pADagBNaAG1IAaUANqQA2oATWgBtTAKEeMXDHyxQhBI2+M3DHyx88++6zNIyOXjHwyFm3uLAwtL5UbgWh+qdy4QWlcmzcFop9++ml7A9NYrhpJbTzefffd0SM678FADagBNaAG1IAaUANqQA2oATWgBtSAGlADakANqAE1oAbUgBpQA2pADZzeGigzxJQtRs546dKlJnLHFIRGHhm5ZFwi98GDB7sNQ8tAtHbv0FiWGoFo3Lg0OnXlypXm8uXL7SMS208++cSDgRpQA2pADagBNaAG1IAaUANqQA2oATWgBtSAGlADakANqAE1oAbUgBpQA5MaiDwxZYuRM0beGLlj5I/p8rgpCI2FmztdGVqGofnlciN5jeWokcTG0tSbN282N27cGILRuH5venz++eeNBwM1oAbUgBpQA2pADagBNaAG1IAaUANqQA2oATWgBtSAGlADakANqAE1oAZSDaQsMZ5TABp5Y+SOkT9GDhl5ZOSSEYTGws2dh6FlIBoHiUccNB5xbd4UisaNS6NjsVy1fERy68FADagBNaAG1IAaUANqQA2oATWgBtSAGlADakANqAE1oAbUgBpQA2pADaiBMkuMvyNnjLwxhaCRQ6ZMMmWUKQz9/ynGyOiUKelqAAAAAElFTkSuQmCC)"
      ]
    },
    {
      "cell_type": "code",
      "metadata": {
        "id": "9hNGQOHJ6c_w",
        "colab": {
          "base_uri": "https://localhost:8080/"
        },
        "outputId": "5f00ce3c-d8f8-44bf-cd40-a0c9c3be4b3d"
      },
      "source": [
        "print(variable_b + variable_4) #ทดลองนำตัวอักษรมาบวกกัน"
      ],
      "execution_count": 157,
      "outputs": [
        {
          "output_type": "stream",
          "text": [
            "abcdeKKU\n"
          ],
          "name": "stdout"
        }
      ]
    },
    {
      "cell_type": "markdown",
      "metadata": {
        "id": "qxgAMMju7Gt-"
      },
      "source": [
        "#Casting int() float() str()"
      ]
    },
    {
      "cell_type": "code",
      "metadata": {
        "id": "-WccqsMR6vgQ",
        "colab": {
          "base_uri": "https://localhost:8080/"
        },
        "outputId": "e02e1736-e51a-4b81-b8b5-d063eae873e5"
      },
      "source": [
        "print(variable_x)\n",
        "print(int(variable_x))"
      ],
      "execution_count": 158,
      "outputs": [
        {
          "output_type": "stream",
          "text": [
            "-29.200000000000003\n",
            "-29\n"
          ],
          "name": "stdout"
        }
      ]
    },
    {
      "cell_type": "code",
      "metadata": {
        "id": "1SJU81dF7weS",
        "colab": {
          "base_uri": "https://localhost:8080/"
        },
        "outputId": "224b6f75-ccd5-48bb-c1b3-1eac0a8e8951"
      },
      "source": [
        "v_x = str(variable_x)\n",
        "print(v_x)"
      ],
      "execution_count": 159,
      "outputs": [
        {
          "output_type": "stream",
          "text": [
            "-29.200000000000003\n"
          ],
          "name": "stdout"
        }
      ]
    },
    {
      "cell_type": "code",
      "metadata": {
        "id": "QREqQhlr7_S9",
        "colab": {
          "base_uri": "https://localhost:8080/"
        },
        "outputId": "280cda7c-7f7b-4062-d34e-742f84ab749d"
      },
      "source": [
        "float(v_x)"
      ],
      "execution_count": 160,
      "outputs": [
        {
          "output_type": "execute_result",
          "data": {
            "text/plain": [
              "-29.200000000000003"
            ]
          },
          "metadata": {
            "tags": []
          },
          "execution_count": 160
        }
      ]
    },
    {
      "cell_type": "markdown",
      "metadata": {
        "id": "0l9yEWH588XD"
      },
      "source": [
        "## Data Structure\n",
        "### list()\n",
        "\n",
        "list เป็นตัวเลข หรือตัววแปรที่มาต่อๆกัน"
      ]
    },
    {
      "cell_type": "code",
      "metadata": {
        "id": "c7zlnokW9YMp"
      },
      "source": [
        "list_a = [1,2,0.2,'abs'] # [] = square brackets ใช้เก็บข้อมูลทุกแบบ\n",
        "list_b = [2,'xyz',list_a,[1,2,0.0]]"
      ],
      "execution_count": 161,
      "outputs": []
    },
    {
      "cell_type": "code",
      "metadata": {
        "id": "hL9iSWt5-BAI",
        "colab": {
          "base_uri": "https://localhost:8080/"
        },
        "outputId": "74dfa3ef-5060-4d23-e1c0-08b210fc8388"
      },
      "source": [
        "list_a"
      ],
      "execution_count": 162,
      "outputs": [
        {
          "output_type": "execute_result",
          "data": {
            "text/plain": [
              "[1, 2, 0.2, 'abs']"
            ]
          },
          "metadata": {
            "tags": []
          },
          "execution_count": 162
        }
      ]
    },
    {
      "cell_type": "code",
      "metadata": {
        "id": "_QAKRXo8-EuD",
        "colab": {
          "base_uri": "https://localhost:8080/"
        },
        "outputId": "83251e91-05d7-49f6-fdf4-44478fcea6be"
      },
      "source": [
        "list_b"
      ],
      "execution_count": 163,
      "outputs": [
        {
          "output_type": "execute_result",
          "data": {
            "text/plain": [
              "[2, 'xyz', [1, 2, 0.2, 'abs'], [1, 2, 0.0]]"
            ]
          },
          "metadata": {
            "tags": []
          },
          "execution_count": 163
        }
      ]
    },
    {
      "cell_type": "code",
      "metadata": {
        "id": "fGM1FlLr-SEG",
        "colab": {
          "base_uri": "https://localhost:8080/"
        },
        "outputId": "c00bfb60-f24d-4fdd-df53-38579de65124"
      },
      "source": [
        "len(list_b) # len = leng = ความยาว"
      ],
      "execution_count": 164,
      "outputs": [
        {
          "output_type": "execute_result",
          "data": {
            "text/plain": [
              "4"
            ]
          },
          "metadata": {
            "tags": []
          },
          "execution_count": 164
        }
      ]
    },
    {
      "cell_type": "code",
      "metadata": {
        "id": "Wer_tn4_-eQd",
        "colab": {
          "base_uri": "https://localhost:8080/"
        },
        "outputId": "1ee911fb-7b8b-4107-f53a-0e1a6475088b"
      },
      "source": [
        "list_b[3] #เป็นการชี้ตำแหน่ง list ซึ่งตำแหน่งจะมีตั้งแต่ตำแหน่งที่ 0"
      ],
      "execution_count": 165,
      "outputs": [
        {
          "output_type": "execute_result",
          "data": {
            "text/plain": [
              "[1, 2, 0.0]"
            ]
          },
          "metadata": {
            "tags": []
          },
          "execution_count": 165
        }
      ]
    },
    {
      "cell_type": "code",
      "metadata": {
        "id": "LFokeeqs-kBI",
        "colab": {
          "base_uri": "https://localhost:8080/"
        },
        "outputId": "c0f29a3c-2907-49e0-b0a6-d0ac17215744"
      },
      "source": [
        "list_b[3][1]"
      ],
      "execution_count": 166,
      "outputs": [
        {
          "output_type": "execute_result",
          "data": {
            "text/plain": [
              "2"
            ]
          },
          "metadata": {
            "tags": []
          },
          "execution_count": 166
        }
      ]
    },
    {
      "cell_type": "code",
      "metadata": {
        "id": "PUEt-iEm-5MX"
      },
      "source": [
        "# string คือ list ของตัวหนังสือ\n",
        "a = 'Stat KKU'"
      ],
      "execution_count": 167,
      "outputs": []
    },
    {
      "cell_type": "code",
      "metadata": {
        "id": "rq25qQL1_HmV",
        "colab": {
          "base_uri": "https://localhost:8080/",
          "height": 0
        },
        "outputId": "2579e10f-2b26-4353-892f-ffb38e57ce2c"
      },
      "source": [
        "a[4]"
      ],
      "execution_count": 168,
      "outputs": [
        {
          "output_type": "execute_result",
          "data": {
            "application/vnd.google.colaboratory.intrinsic+json": {
              "type": "string"
            },
            "text/plain": [
              "' '"
            ]
          },
          "metadata": {
            "tags": []
          },
          "execution_count": 168
        }
      ]
    },
    {
      "cell_type": "markdown",
      "metadata": {
        "id": "ldvzflDE_mN5"
      },
      "source": [
        "#วิธีการสร้าง list แบบที่ 2\n",
        "\n",
        "การสร้าง list แบบว่าง"
      ]
    },
    {
      "cell_type": "code",
      "metadata": {
        "id": "ciavhB9Y_Tv8"
      },
      "source": [
        "list_c = list() #แบบที่ 1\n",
        "list_d = [] #แบบที่ 2"
      ],
      "execution_count": 169,
      "outputs": []
    },
    {
      "cell_type": "markdown",
      "metadata": {
        "id": "B9Z1RZnCBCvJ"
      },
      "source": [
        "append()เพิ่มสมาชิกหรือการเพิ่มค่าในlist \n",
        "\n",
        "โดยใช้คำสั่ง .append\n",
        "\n"
      ]
    },
    {
      "cell_type": "code",
      "metadata": {
        "id": "xeBpCCw1A7P8",
        "colab": {
          "base_uri": "https://localhost:8080/"
        },
        "outputId": "12b63cf0-c2b8-462e-f0a0-ed2f4ed9cdd7"
      },
      "source": [
        "list_d.append('u') # add u in at list d \n",
        "print(list_d)"
      ],
      "execution_count": 170,
      "outputs": [
        {
          "output_type": "stream",
          "text": [
            "['u']\n"
          ],
          "name": "stdout"
        }
      ]
    },
    {
      "cell_type": "markdown",
      "metadata": {
        "id": "k6mmQeoZBW9l"
      },
      "source": [
        "การชี้ค่าใน list (indexing)\n",
        "\n",
        "\n",
        "1.   ใช้ลำดับในการชี้\n",
        "2.   ลำดับเริ่มจาก 0\n",
        "3.   สามารถชี้จากข้างหลังโดยใช้ negative index\n",
        "\n"
      ]
    },
    {
      "cell_type": "code",
      "metadata": {
        "id": "wzUWOXGZBMPg",
        "colab": {
          "base_uri": "https://localhost:8080/"
        },
        "outputId": "977ed17a-034f-441a-f97f-3adc47872de5"
      },
      "source": [
        "list_b"
      ],
      "execution_count": 171,
      "outputs": [
        {
          "output_type": "execute_result",
          "data": {
            "text/plain": [
              "[2, 'xyz', [1, 2, 0.2, 'abs'], [1, 2, 0.0]]"
            ]
          },
          "metadata": {
            "tags": []
          },
          "execution_count": 171
        }
      ]
    },
    {
      "cell_type": "code",
      "metadata": {
        "id": "aN1NU76uCJEJ",
        "colab": {
          "base_uri": "https://localhost:8080/"
        },
        "outputId": "3f1a5a65-edfd-4e4f-823c-a8b6969d08b7"
      },
      "source": [
        "list_b[-1]"
      ],
      "execution_count": 172,
      "outputs": [
        {
          "output_type": "execute_result",
          "data": {
            "text/plain": [
              "[1, 2, 0.0]"
            ]
          },
          "metadata": {
            "tags": []
          },
          "execution_count": 172
        }
      ]
    },
    {
      "cell_type": "markdown",
      "metadata": {
        "id": "BCNKyoSWCPWf"
      },
      "source": [
        "##list slicing\n",
        "\n",
        "เราสามารถเฉือน หรือเลือกบางส่วนของ list นั้นออกมาได้"
      ]
    },
    {
      "cell_type": "code",
      "metadata": {
        "id": "1Kj1FrsoCO9f"
      },
      "source": [
        "list_ex = [1,2,3,5,6,8,-1,20,50,0]"
      ],
      "execution_count": 173,
      "outputs": []
    },
    {
      "cell_type": "code",
      "metadata": {
        "id": "-ntPyEsRCcWL",
        "colab": {
          "base_uri": "https://localhost:8080/"
        },
        "outputId": "e050c014-5ce9-434a-8c3e-15d6a66171ac"
      },
      "source": [
        "list_ex[1:6] # หมายความว่า เราจะตัดตั้งแต่ตัวหน้า : ไปจนถึงตัวก่อนตัวหลัง : \n",
        "# ก็คือเอาตั้งแต่ตัวที่ 1-5"
      ],
      "execution_count": 174,
      "outputs": [
        {
          "output_type": "execute_result",
          "data": {
            "text/plain": [
              "[2, 3, 5, 6, 8]"
            ]
          },
          "metadata": {
            "tags": []
          },
          "execution_count": 174
        }
      ]
    },
    {
      "cell_type": "code",
      "metadata": {
        "id": "zJUz9gYeD0S7",
        "colab": {
          "base_uri": "https://localhost:8080/"
        },
        "outputId": "ac72f1a9-584b-4d07-d535-dcbd91ce144d"
      },
      "source": [
        "list_ex[4:] # ไม่ใส่ขอบเขตด้านหลัง"
      ],
      "execution_count": 175,
      "outputs": [
        {
          "output_type": "execute_result",
          "data": {
            "text/plain": [
              "[6, 8, -1, 20, 50, 0]"
            ]
          },
          "metadata": {
            "tags": []
          },
          "execution_count": 175
        }
      ]
    },
    {
      "cell_type": "code",
      "metadata": {
        "id": "7ahx8bwDD0Hd",
        "colab": {
          "base_uri": "https://localhost:8080/"
        },
        "outputId": "39520e0f-944b-478f-aab4-476c2aa7d25f"
      },
      "source": [
        "list_ex[:6] # ไม่ใส่ขอบเขตด้านหน้า"
      ],
      "execution_count": 176,
      "outputs": [
        {
          "output_type": "execute_result",
          "data": {
            "text/plain": [
              "[1, 2, 3, 5, 6, 8]"
            ]
          },
          "metadata": {
            "tags": []
          },
          "execution_count": 176
        }
      ]
    },
    {
      "cell_type": "code",
      "metadata": {
        "id": "NdlQ4BrKD-YG",
        "colab": {
          "base_uri": "https://localhost:8080/"
        },
        "outputId": "f4a00d6e-3bbe-4b22-b239-0524f7bb4718"
      },
      "source": [
        "list_ex[::2] #[จุดเริ่มต้น:จุดขอบเขต:step]"
      ],
      "execution_count": 177,
      "outputs": [
        {
          "output_type": "execute_result",
          "data": {
            "text/plain": [
              "[1, 3, 6, -1, 50]"
            ]
          },
          "metadata": {
            "tags": []
          },
          "execution_count": 177
        }
      ]
    },
    {
      "cell_type": "code",
      "metadata": {
        "id": "hdXqqrCCQYLY",
        "colab": {
          "base_uri": "https://localhost:8080/",
          "height": 0
        },
        "outputId": "b9818780-9eed-40ee-f5f7-4f121323882e"
      },
      "source": [
        "a"
      ],
      "execution_count": 178,
      "outputs": [
        {
          "output_type": "execute_result",
          "data": {
            "application/vnd.google.colaboratory.intrinsic+json": {
              "type": "string"
            },
            "text/plain": [
              "'Stat KKU'"
            ]
          },
          "metadata": {
            "tags": []
          },
          "execution_count": 178
        }
      ]
    },
    {
      "cell_type": "code",
      "metadata": {
        "id": "9RrbrdjcQb_7",
        "colab": {
          "base_uri": "https://localhost:8080/",
          "height": 0
        },
        "outputId": "2d030b55-1e3c-4ad6-86cf-7120803377e5"
      },
      "source": [
        "a[5:]"
      ],
      "execution_count": 179,
      "outputs": [
        {
          "output_type": "execute_result",
          "data": {
            "application/vnd.google.colaboratory.intrinsic+json": {
              "type": "string"
            },
            "text/plain": [
              "'KKU'"
            ]
          },
          "metadata": {
            "tags": []
          },
          "execution_count": 179
        }
      ]
    },
    {
      "cell_type": "code",
      "metadata": {
        "id": "WaoQNrVJQdKo",
        "colab": {
          "base_uri": "https://localhost:8080/",
          "height": 0
        },
        "outputId": "233f4d5c-197b-491b-b06c-031a7b105748"
      },
      "source": [
        "a[-3:]"
      ],
      "execution_count": 180,
      "outputs": [
        {
          "output_type": "execute_result",
          "data": {
            "application/vnd.google.colaboratory.intrinsic+json": {
              "type": "string"
            },
            "text/plain": [
              "'KKU'"
            ]
          },
          "metadata": {
            "tags": []
          },
          "execution_count": 180
        }
      ]
    },
    {
      "cell_type": "code",
      "metadata": {
        "id": "D5cr6KyYQfWW",
        "colab": {
          "base_uri": "https://localhost:8080/",
          "height": 0
        },
        "outputId": "f0f17148-7a97-40ac-94ee-1e1f2df43fff"
      },
      "source": [
        "a[5:8]"
      ],
      "execution_count": 181,
      "outputs": [
        {
          "output_type": "execute_result",
          "data": {
            "application/vnd.google.colaboratory.intrinsic+json": {
              "type": "string"
            },
            "text/plain": [
              "'KKU'"
            ]
          },
          "metadata": {
            "tags": []
          },
          "execution_count": 181
        }
      ]
    },
    {
      "cell_type": "code",
      "metadata": {
        "id": "lSlIW04CQi89",
        "colab": {
          "base_uri": "https://localhost:8080/",
          "height": 0
        },
        "outputId": "fa812187-15d8-45c6-adbc-e63bfaf85199"
      },
      "source": [
        "a[5::]"
      ],
      "execution_count": 182,
      "outputs": [
        {
          "output_type": "execute_result",
          "data": {
            "application/vnd.google.colaboratory.intrinsic+json": {
              "type": "string"
            },
            "text/plain": [
              "'KKU'"
            ]
          },
          "metadata": {
            "tags": []
          },
          "execution_count": 182
        }
      ]
    },
    {
      "cell_type": "code",
      "metadata": {
        "id": "s3dUtwtoQjAO",
        "colab": {
          "base_uri": "https://localhost:8080/",
          "height": 0
        },
        "outputId": "fcb9f2d8-b647-4132-fa30-8b94dff40779"
      },
      "source": [
        "a[-3::]"
      ],
      "execution_count": 183,
      "outputs": [
        {
          "output_type": "execute_result",
          "data": {
            "application/vnd.google.colaboratory.intrinsic+json": {
              "type": "string"
            },
            "text/plain": [
              "'KKU'"
            ]
          },
          "metadata": {
            "tags": []
          },
          "execution_count": 183
        }
      ]
    },
    {
      "cell_type": "code",
      "metadata": {
        "id": "bXDMRgQ8QntF",
        "colab": {
          "base_uri": "https://localhost:8080/",
          "height": 0
        },
        "outputId": "b22f5ee9-f4d2-4080-eae9-ec684020caf0"
      },
      "source": [
        "a[-3::1]"
      ],
      "execution_count": 184,
      "outputs": [
        {
          "output_type": "execute_result",
          "data": {
            "application/vnd.google.colaboratory.intrinsic+json": {
              "type": "string"
            },
            "text/plain": [
              "'KKU'"
            ]
          },
          "metadata": {
            "tags": []
          },
          "execution_count": 184
        }
      ]
    },
    {
      "cell_type": "markdown",
      "metadata": {
        "id": "jXnlxCGKDCTE"
      },
      "source": [
        "step คือ การกระโดดข้าม เช่น ในตัวอย่างจะหมายความว่าเอาทุกตัวโดย จะเอาตัวที่กระโดดข้ามทีละ 2"
      ]
    },
    {
      "cell_type": "code",
      "metadata": {
        "id": "qBOcsILOEyM4",
        "colab": {
          "base_uri": "https://localhost:8080/"
        },
        "outputId": "6c78c607-bce9-4885-b303-5818afd5f96b"
      },
      "source": [
        "list_ex[::-1] # การกลับ list"
      ],
      "execution_count": 185,
      "outputs": [
        {
          "output_type": "execute_result",
          "data": {
            "text/plain": [
              "[0, 50, 20, -1, 8, 6, 5, 3, 2, 1]"
            ]
          },
          "metadata": {
            "tags": []
          },
          "execution_count": 185
        }
      ]
    },
    {
      "cell_type": "markdown",
      "metadata": {
        "id": "5aw2GR_1G7mA"
      },
      "source": [
        "#list + list"
      ]
    },
    {
      "cell_type": "code",
      "metadata": {
        "id": "1uqdfHZJHHpl",
        "colab": {
          "base_uri": "https://localhost:8080/"
        },
        "outputId": "72035a2e-dcac-4288-be1a-9c82d08b1177"
      },
      "source": [
        "print(list_a)\n",
        "print(list_b)"
      ],
      "execution_count": 186,
      "outputs": [
        {
          "output_type": "stream",
          "text": [
            "[1, 2, 0.2, 'abs']\n",
            "[2, 'xyz', [1, 2, 0.2, 'abs'], [1, 2, 0.0]]\n"
          ],
          "name": "stdout"
        }
      ]
    },
    {
      "cell_type": "code",
      "metadata": {
        "id": "ly7fIRgHHcts",
        "colab": {
          "base_uri": "https://localhost:8080/"
        },
        "outputId": "90d833db-b202-4c92-ae6c-d495e37b42c3"
      },
      "source": [
        "list_a + list_b"
      ],
      "execution_count": 187,
      "outputs": [
        {
          "output_type": "execute_result",
          "data": {
            "text/plain": [
              "[1, 2, 0.2, 'abs', 2, 'xyz', [1, 2, 0.2, 'abs'], [1, 2, 0.0]]"
            ]
          },
          "metadata": {
            "tags": []
          },
          "execution_count": 187
        }
      ]
    },
    {
      "cell_type": "markdown",
      "metadata": {
        "id": "UkOamGIALRON"
      },
      "source": [
        "##format string"
      ]
    },
    {
      "cell_type": "markdown",
      "metadata": {
        "id": "hS0Bd7t-Qtz0"
      },
      "source": [
        "```python\n",
        "f 'string{ตัวแปร}'\n",
        "```"
      ]
    },
    {
      "cell_type": "code",
      "metadata": {
        "id": "oIEc6Pe_LWYq",
        "colab": {
          "base_uri": "https://localhost:8080/",
          "height": 0
        },
        "outputId": "b94d0b36-8b3e-438d-8fb7-234b1a2deb98"
      },
      "source": [
        "f'ตัวแปร list_a มีค่าคือ {list_a}'"
      ],
      "execution_count": 188,
      "outputs": [
        {
          "output_type": "execute_result",
          "data": {
            "application/vnd.google.colaboratory.intrinsic+json": {
              "type": "string"
            },
            "text/plain": [
              "\"ตัวแปร list_a มีค่าคือ [1, 2, 0.2, 'abs']\""
            ]
          },
          "metadata": {
            "tags": []
          },
          "execution_count": 188
        }
      ]
    },
    {
      "cell_type": "code",
      "metadata": {
        "id": "doUgpNFAQzNZ",
        "colab": {
          "base_uri": "https://localhost:8080/",
          "height": 0
        },
        "outputId": "190feced-4170-4c43-9abe-a83faafa5c61"
      },
      "source": [
        "f'ตัวแปร list_ex มีค่าคือ {list_ex}'"
      ],
      "execution_count": 189,
      "outputs": [
        {
          "output_type": "execute_result",
          "data": {
            "application/vnd.google.colaboratory.intrinsic+json": {
              "type": "string"
            },
            "text/plain": [
              "'ตัวแปร list_ex มีค่าคือ [1, 2, 3, 5, 6, 8, -1, 20, 50, 0]'"
            ]
          },
          "metadata": {
            "tags": []
          },
          "execution_count": 189
        }
      ]
    },
    {
      "cell_type": "markdown",
      "metadata": {
        "id": "EMSsXD-3HiSm"
      },
      "source": [
        "#Loop\n"
      ]
    },
    {
      "cell_type": "markdown",
      "metadata": {
        "id": "HL71VI0TKiDS"
      },
      "source": [
        "\n",
        "\n",
        "```python\n",
        "for ตัวแปรที่จะรับค่าจาก list in listที่จะนำมาวนลูป:\n",
        "    do something #in loop\n",
        "    do another thing #in loop\n",
        "\n",
        "ddo other things #out side loop\n",
        "```\n",
        "\n"
      ]
    },
    {
      "cell_type": "code",
      "metadata": {
        "id": "d6OcKiu8J04a",
        "colab": {
          "base_uri": "https://localhost:8080/"
        },
        "outputId": "7a8375f6-ce63-4fae-b63e-d7867854c56b"
      },
      "source": [
        "for i in[1,2,3,4,5]:\n",
        "    print(i+1)"
      ],
      "execution_count": 190,
      "outputs": [
        {
          "output_type": "stream",
          "text": [
            "2\n",
            "3\n",
            "4\n",
            "5\n",
            "6\n"
          ],
          "name": "stdout"
        }
      ]
    },
    {
      "cell_type": "code",
      "metadata": {
        "id": "5ESllHlRRBIE",
        "colab": {
          "base_uri": "https://localhost:8080/"
        },
        "outputId": "1c01e4aa-5b1d-45bb-a75b-ce2f8b1bb8c3"
      },
      "source": [
        "for x in [1,2,3,4,5]:\n",
        "     print(f'ค่าตัวแปร x คือ {x} และ x+2={x+2}')"
      ],
      "execution_count": 191,
      "outputs": [
        {
          "output_type": "stream",
          "text": [
            "ค่าตัวแปร x คือ 1 และ x+2=3\n",
            "ค่าตัวแปร x คือ 2 และ x+2=4\n",
            "ค่าตัวแปร x คือ 3 และ x+2=5\n",
            "ค่าตัวแปร x คือ 4 และ x+2=6\n",
            "ค่าตัวแปร x คือ 5 และ x+2=7\n"
          ],
          "name": "stdout"
        }
      ]
    },
    {
      "cell_type": "code",
      "metadata": {
        "id": "jOImwIhwRByM",
        "colab": {
          "base_uri": "https://localhost:8080/"
        },
        "outputId": "5b2314ce-84da-4c54-d4cd-a479ab6d3250"
      },
      "source": [
        "list5=[1,2,3,4,5]\n",
        "for x in list5:\n",
        "     print(f'ค่าตัวแปร x คือ {x} และ x+2={x+2}')"
      ],
      "execution_count": 192,
      "outputs": [
        {
          "output_type": "stream",
          "text": [
            "ค่าตัวแปร x คือ 1 และ x+2=3\n",
            "ค่าตัวแปร x คือ 2 และ x+2=4\n",
            "ค่าตัวแปร x คือ 3 และ x+2=5\n",
            "ค่าตัวแปร x คือ 4 และ x+2=6\n",
            "ค่าตัวแปร x คือ 5 และ x+2=7\n"
          ],
          "name": "stdout"
        }
      ]
    },
    {
      "cell_type": "code",
      "metadata": {
        "id": "Aw-cey8PRDei",
        "colab": {
          "base_uri": "https://localhost:8080/"
        },
        "outputId": "00fd01a4-5781-4d01-8075-e5c35b9105de"
      },
      "source": [
        "list(range(10))"
      ],
      "execution_count": 193,
      "outputs": [
        {
          "output_type": "execute_result",
          "data": {
            "text/plain": [
              "[0, 1, 2, 3, 4, 5, 6, 7, 8, 9]"
            ]
          },
          "metadata": {
            "tags": []
          },
          "execution_count": 193
        }
      ]
    },
    {
      "cell_type": "code",
      "metadata": {
        "id": "9j8x1RWURIE0",
        "colab": {
          "base_uri": "https://localhost:8080/"
        },
        "outputId": "ba2d0f19-1d1b-449f-a332-7429220e51b8"
      },
      "source": [
        "for i in range(2,7):\n",
        "     print(i)"
      ],
      "execution_count": 194,
      "outputs": [
        {
          "output_type": "stream",
          "text": [
            "2\n",
            "3\n",
            "4\n",
            "5\n",
            "6\n"
          ],
          "name": "stdout"
        }
      ]
    },
    {
      "cell_type": "code",
      "metadata": {
        "id": "wdobep9gRIJO",
        "colab": {
          "base_uri": "https://localhost:8080/"
        },
        "outputId": "7084845c-4fa9-4115-d64e-8dcd4e775ef8"
      },
      "source": [
        "for i in range(2,7,2):\n",
        "     print(i)"
      ],
      "execution_count": 195,
      "outputs": [
        {
          "output_type": "stream",
          "text": [
            "2\n",
            "4\n",
            "6\n"
          ],
          "name": "stdout"
        }
      ]
    },
    {
      "cell_type": "code",
      "metadata": {
        "id": "wXJQPqXoRIQR",
        "colab": {
          "base_uri": "https://localhost:8080/"
        },
        "outputId": "f28de7b8-f1c7-42fe-fd12-f3a81e6cb051"
      },
      "source": [
        "for i in range(5):\n",
        "     print('hahaha')"
      ],
      "execution_count": 196,
      "outputs": [
        {
          "output_type": "stream",
          "text": [
            "hahaha\n",
            "hahaha\n",
            "hahaha\n",
            "hahaha\n",
            "hahaha\n"
          ],
          "name": "stdout"
        }
      ]
    },
    {
      "cell_type": "code",
      "metadata": {
        "id": "cw_qgtvrRIlz",
        "colab": {
          "base_uri": "https://localhost:8080/"
        },
        "outputId": "544665be-6194-40d1-b9f3-5585bace0306"
      },
      "source": [
        "for i in range(5):\n",
        "     print('hahaha')\n",
        "     x = i + 3\n",
        "     print(f'i={i} x={x}')"
      ],
      "execution_count": 197,
      "outputs": [
        {
          "output_type": "stream",
          "text": [
            "hahaha\n",
            "i=0 x=3\n",
            "hahaha\n",
            "i=1 x=4\n",
            "hahaha\n",
            "i=2 x=5\n",
            "hahaha\n",
            "i=3 x=6\n",
            "hahaha\n",
            "i=4 x=7\n"
          ],
          "name": "stdout"
        }
      ]
    },
    {
      "cell_type": "markdown",
      "metadata": {
        "id": "f-HjLjZeRUcX"
      },
      "source": [
        "##Nested loop\n",
        "\n",
        "loopซ้อนloop"
      ]
    },
    {
      "cell_type": "code",
      "metadata": {
        "id": "OvRk4qF5RbJN",
        "colab": {
          "base_uri": "https://localhost:8080/"
        },
        "outputId": "ef42b06d-d64d-482f-f391-6fa8f007210b"
      },
      "source": [
        "for i in range(3):\n",
        "     for j in range(4):\n",
        "          print(f'i={i} j={j} i+j={i+j}')"
      ],
      "execution_count": 198,
      "outputs": [
        {
          "output_type": "stream",
          "text": [
            "i=0 j=0 i+j=0\n",
            "i=0 j=1 i+j=1\n",
            "i=0 j=2 i+j=2\n",
            "i=0 j=3 i+j=3\n",
            "i=1 j=0 i+j=1\n",
            "i=1 j=1 i+j=2\n",
            "i=1 j=2 i+j=3\n",
            "i=1 j=3 i+j=4\n",
            "i=2 j=0 i+j=2\n",
            "i=2 j=1 i+j=3\n",
            "i=2 j=2 i+j=4\n",
            "i=2 j=3 i+j=5\n"
          ],
          "name": "stdout"
        }
      ]
    },
    {
      "cell_type": "code",
      "metadata": {
        "id": "Les02gOtR8Ba",
        "colab": {
          "base_uri": "https://localhost:8080/"
        },
        "outputId": "abd5849d-ae78-4c14-f7c3-35fd21f4181c"
      },
      "source": [
        "for i in range(3):\n",
        "    print(f'now i = {i}')\n",
        "    print('start j loop')\n",
        "    for j in range(4):\n",
        "        print(f'i = {i} j = {j} i+j = {i+j}')\n",
        "    print('end j loop')"
      ],
      "execution_count": 199,
      "outputs": [
        {
          "output_type": "stream",
          "text": [
            "now i = 0\n",
            "start j loop\n",
            "i = 0 j = 0 i+j = 0\n",
            "i = 0 j = 1 i+j = 1\n",
            "i = 0 j = 2 i+j = 2\n",
            "i = 0 j = 3 i+j = 3\n",
            "end j loop\n",
            "now i = 1\n",
            "start j loop\n",
            "i = 1 j = 0 i+j = 1\n",
            "i = 1 j = 1 i+j = 2\n",
            "i = 1 j = 2 i+j = 3\n",
            "i = 1 j = 3 i+j = 4\n",
            "end j loop\n",
            "now i = 2\n",
            "start j loop\n",
            "i = 2 j = 0 i+j = 2\n",
            "i = 2 j = 1 i+j = 3\n",
            "i = 2 j = 2 i+j = 4\n",
            "i = 2 j = 3 i+j = 5\n",
            "end j loop\n"
          ],
          "name": "stdout"
        }
      ]
    },
    {
      "cell_type": "markdown",
      "metadata": {
        "id": "RufJBmRYJvdZ"
      },
      "source": [
        "#Condition (if statement)เงื่อนไขคือเราจะใส่เงื่อนไขเข้าไป"
      ]
    },
    {
      "cell_type": "markdown",
      "metadata": {
        "id": "TQGy1GpmBPys"
      },
      "source": [
        "\n",
        "\n",
        "```python\n",
        "if เงื่อนไขที่จะตรวจสอบ (โดยใช้สัญลักษณ์ ==,!=,<,>,<,<=,>=): \n",
        "    ถ้าเงื่อนไขเป็นจริง ทำงาน 1\n",
        "    ถ้าเงื่อนไขเป็นจริง ทำงาน 2\n",
        "else: #ตรวจสอบเงื่อนไงข้างบนว่าไม่เป็นจริง\n",
        "    ทำงานที่ X\n",
        "\n",
        "```\n",
        "\n"
      ]
    },
    {
      "cell_type": "code",
      "metadata": {
        "colab": {
          "base_uri": "https://localhost:8080/"
        },
        "id": "iKCP-3jmBQoi",
        "outputId": "bdeff4b3-2ce8-44f7-aaea-56270610df68"
      },
      "source": [
        "stringx = 'sadfasdfsadfweiroudhviehkgytrdl'\n",
        "\n",
        "if len(stringx) > 30:\n",
        "    print(f'{stringx} is longer than 30 characters')\n"
      ],
      "execution_count": 200,
      "outputs": [
        {
          "output_type": "stream",
          "text": [
            "sadfasdfsadfweiroudhviehkgytrdl is longer than 30 characters\n"
          ],
          "name": "stdout"
        }
      ]
    },
    {
      "cell_type": "code",
      "metadata": {
        "colab": {
          "base_uri": "https://localhost:8080/"
        },
        "id": "Ykq0EeTTHGkF",
        "outputId": "1131d686-385a-4944-f376-1ed81b956a2f"
      },
      "source": [
        "stringx = 'sadfasdfsadfweiroudhviehkgytrdl'\n",
        "\n",
        "if len(stringx) > 100: #ให้เงื่อนไขว่าถ้ามีค่ามากกว่า 100\n",
        "    print(f'{stringx} is longer than 30 characters')\n",
        "else:\n",
        "    print(f'{stringx} in {len(stringx)} characters long') #ตรวจสอบดูว่ามีกี่จำนวนถ้ามีค่าน้อยกว่า100"
      ],
      "execution_count": 201,
      "outputs": [
        {
          "output_type": "stream",
          "text": [
            "sadfasdfsadfweiroudhviehkgytrdl in 31 characters long\n"
          ],
          "name": "stdout"
        }
      ]
    },
    {
      "cell_type": "markdown",
      "metadata": {
        "id": "JIdOSmQBJmDk"
      },
      "source": [
        "\n",
        "```python\n",
        "if เงื่อนไขที่จะตรวจสอบ (โดยใช้สัญลักษณ์ ==,!=,<,>,<,<=,>=): \n",
        "    ถ้าเงื่อนไขเป็นจริง ทำงาน 1\n",
        "    ถ้าเงื่อนไขเป็นจริง ทำงาน 2\n",
        "elif เงื่อนไขที่จะตรวจสอบต่อไแถ้าเงื่อนไขข้างบนไม่เป็นจริง:\n",
        "    ถ้าเงื่อนไขเป็นจริง ทำงาน a1\n",
        "    ถ้าเงื่อนไขเป็นจริง ทำงาน a2   \n",
        "elif เงื่อนไขที่จะตรวจสอบต่อไแถ้าเงื่อนไขข้างบนไม่เป็นจริง:\n",
        "    ถ้าเงื่อนไขเป็นจริง ทำงาน b1\n",
        "    ถ้าเงื่อนไขเป็นจริง ทำงาน b2  \n",
        "else: #ตรวจสอบเงื่อนไงข้างบนทั้งหมดว่าไม่เป็นจริง\n",
        "    ทำงานที่ X\n",
        "\n",
        "```"
      ]
    },
    {
      "cell_type": "code",
      "metadata": {
        "colab": {
          "base_uri": "https://localhost:8080/"
        },
        "id": "x6DySnQsLJM9",
        "outputId": "b376f97c-776a-4201-be9a-ecb4ec156309"
      },
      "source": [
        "password = '12345'\n",
        "\n",
        "input_pass = '123sf'\n",
        "if input_pass == password:\n",
        "    print('Welcome!')\n",
        "elif len(input_pass) > len(password):\n",
        "    print('Too long,try again')\n",
        "elif len(input_pass) < len(password):\n",
        "    print('Too Short,try again')\n",
        "else:\n",
        "    print('Wrong password,try again!')"
      ],
      "execution_count": 202,
      "outputs": [
        {
          "output_type": "stream",
          "text": [
            "Wrong password,try again!\n"
          ],
          "name": "stdout"
        }
      ]
    },
    {
      "cell_type": "markdown",
      "metadata": {
        "id": "jroP86v5K8QA"
      },
      "source": [
        "###Quiz1 หา min"
      ]
    },
    {
      "cell_type": "code",
      "metadata": {
        "id": "L2d_Tu04NiHi"
      },
      "source": [
        "list_ex = [1,5,9,-19,-2,0] #หาค่าน้อยที่สุดใน list_ex โดยไม่ใช้ function min"
      ],
      "execution_count": 203,
      "outputs": []
    },
    {
      "cell_type": "code",
      "metadata": {
        "id": "TcqehkYyQJ2e"
      },
      "source": [
        "Min = 100000000"
      ],
      "execution_count": 204,
      "outputs": []
    },
    {
      "cell_type": "code",
      "metadata": {
        "colab": {
          "base_uri": "https://localhost:8080/"
        },
        "id": "-JF89nLdO-GA",
        "outputId": "4c6957ad-627a-44d7-8c67-2bb3624266a0"
      },
      "source": [
        "if list_ex == Min:\n",
        "    print('u r min')\n",
        "else:\n",
        "    print('try again!')\n"
      ],
      "execution_count": 205,
      "outputs": [
        {
          "output_type": "stream",
          "text": [
            "try again!\n"
          ],
          "name": "stdout"
        }
      ]
    },
    {
      "cell_type": "code",
      "metadata": {
        "id": "mX31xFaYS0KX",
        "colab": {
          "base_uri": "https://localhost:8080/"
        },
        "outputId": "7a77daac-de92-4f2f-c167-089a5ea7fa0f"
      },
      "source": [
        "# เฉลย\n",
        "min = 1000000  #ตั้งค่าไว้ก่อนให้เยอะๆ\n",
        "\n",
        "for i in list_ex:   #วนเข้าไปดูตัวที่น้อยสุด\n",
        "     if i < min:\n",
        "         min = i\n",
        "print(min)"
      ],
      "execution_count": 206,
      "outputs": [
        {
          "output_type": "stream",
          "text": [
            "-19\n"
          ],
          "name": "stdout"
        }
      ]
    },
    {
      "cell_type": "code",
      "metadata": {
        "id": "4gGL9yX1WQRz",
        "colab": {
          "base_uri": "https://localhost:8080/"
        },
        "outputId": "375d0b99-5529-403e-e23f-cefe8f907eb5"
      },
      "source": [
        "min = 1000000  #ตั้งค่าไว้ก่อนให้เยอะๆ\n",
        "print(list_ex)\n",
        "for i in list_ex:   #วนเข้าไปดูตัวที่น้อยสุด\n",
        "     print(f'now i = {i}, min = {min}')\n",
        "     print('start condition')\n",
        "     if i < min:\n",
        "        print(f'i < min, update min -> {i}')\n",
        "        min = i\n",
        "     else:\n",
        "          print('not update')\n",
        "     print('end condition, go to next i')\n",
        "\n",
        "print(min)"
      ],
      "execution_count": 207,
      "outputs": [
        {
          "output_type": "stream",
          "text": [
            "[1, 5, 9, -19, -2, 0]\n",
            "now i = 1, min = 1000000\n",
            "start condition\n",
            "i < min, update min -> 1\n",
            "end condition, go to next i\n",
            "now i = 5, min = 1\n",
            "start condition\n",
            "not update\n",
            "end condition, go to next i\n",
            "now i = 9, min = 1\n",
            "start condition\n",
            "not update\n",
            "end condition, go to next i\n",
            "now i = -19, min = 1\n",
            "start condition\n",
            "i < min, update min -> -19\n",
            "end condition, go to next i\n",
            "now i = -2, min = -19\n",
            "start condition\n",
            "not update\n",
            "end condition, go to next i\n",
            "now i = 0, min = -19\n",
            "start condition\n",
            "not update\n",
            "end condition, go to next i\n",
            "-19\n"
          ],
          "name": "stdout"
        }
      ]
    },
    {
      "cell_type": "markdown",
      "metadata": {
        "id": "S30Q1SJ-LEbj"
      },
      "source": [
        "###HW3 ตัดเกรด"
      ]
    },
    {
      "cell_type": "code",
      "metadata": {
        "id": "T3Autcb-KURU"
      },
      "source": [
        "score = [49,65,70,95,82,55,89,20,77,77,81,59,10]"
      ],
      "execution_count": 208,
      "outputs": []
    },
    {
      "cell_type": "code",
      "metadata": {
        "id": "I-RfFzEsWuL6",
        "colab": {
          "base_uri": "https://localhost:8080/"
        },
        "outputId": "8a922e54-c9c0-4cf8-873f-dd27f98bbb4c"
      },
      "source": [
        "for i in score:\n",
        "  if i >= 80:\n",
        "     print('ได้เกรด A')\n",
        "  elif i >= 75:\n",
        "      print('ได้เกรด B+')\n",
        "  elif i >= 70:\n",
        "      print('ได้เกรด B')\n",
        "  elif i >= 65:\n",
        "      print('ได้เกรด C+')\n",
        "  elif i >= 60:\n",
        "      print('ได้เกรด C')\n",
        "  elif i >= 55:\n",
        "      print('ได้เกรด D+')\n",
        "  elif i >= 50:\n",
        "      print('ได้เกรด D')\n",
        "  else:\n",
        "      print('ได้เกรด F')"
      ],
      "execution_count": 209,
      "outputs": [
        {
          "output_type": "stream",
          "text": [
            "ได้เกรด F\n",
            "ได้เกรด C+\n",
            "ได้เกรด B\n",
            "ได้เกรด A\n",
            "ได้เกรด A\n",
            "ได้เกรด D+\n",
            "ได้เกรด A\n",
            "ได้เกรด F\n",
            "ได้เกรด B+\n",
            "ได้เกรด B+\n",
            "ได้เกรด A\n",
            "ได้เกรด D+\n",
            "ได้เกรด F\n"
          ],
          "name": "stdout"
        }
      ]
    },
    {
      "cell_type": "markdown",
      "metadata": {
        "id": "fXpkw17yvR-j"
      },
      "source": [
        "https://nbviewer.jupyter.org/\n",
        "ใช้อ่านโค้ดยาวๆ โดยเอา URL of GitHib ไปใส่"
      ]
    },
    {
      "cell_type": "markdown",
      "metadata": {
        "id": "3SRR9FuQJv0n"
      },
      "source": [
        "#Function"
      ]
    },
    {
      "cell_type": "markdown",
      "metadata": {
        "id": "wJfVWX37w7Ct"
      },
      "source": [
        "\n",
        "\n",
        "```python\n",
        "def ชื่อฟังก์ชั่น(input1,input2,...):\n",
        "    งานxxx\n",
        "    งานyyy\n",
        "    if\n",
        "    return output\n",
        "```\n",
        "\n"
      ]
    },
    {
      "cell_type": "markdown",
      "metadata": {
        "id": "rp9KLu69xlrJ"
      },
      "source": [
        "ส่วนประกอบสำคัญ\n",
        "* input\n",
        "* process ไม่มีไม่ได้\n",
        "* output"
      ]
    },
    {
      "cell_type": "markdown",
      "metadata": {
        "id": "aFmS5Dz0yl5h"
      },
      "source": [
        "![image.png](data:image/png;base64,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)"
      ]
    },
    {
      "cell_type": "markdown",
      "metadata": {
        "id": "MeAJKD_0y0eq"
      },
      "source": [
        "###Example 1"
      ]
    },
    {
      "cell_type": "code",
      "metadata": {
        "id": "6iwleFjYym9o"
      },
      "source": [
        "def grading(score):\n",
        "    if score >= 80:\n",
        "        grade='A'\n",
        "    elif score >= 75:\n",
        "        grade='B+'\n",
        "    elif score >= 70:\n",
        "        grade='B'\n",
        "    elif score >= 65:\n",
        "        grade='C+'\n",
        "    elif score >= 60:\n",
        "        grade='C'\n",
        "    elif score >= 55:\n",
        "        grade='D+'\n",
        "    elif score >= 50:\n",
        "        grade='D'\n",
        "    else:\n",
        "        grade='F'\n",
        "    return grade"
      ],
      "execution_count": 210,
      "outputs": []
    },
    {
      "cell_type": "code",
      "metadata": {
        "id": "js6g0TxOJCeY",
        "outputId": "f4980886-515a-419b-b7b6-dd57306bf23b",
        "colab": {
          "base_uri": "https://localhost:8080/"
        }
      },
      "source": [
        "score = [49,65,70,95,82,55,89,20,77,77,81,59,10]\n",
        "for i in score:\n",
        "     print(f'คะแนน {i} ได้เกรด {grading(i)}')"
      ],
      "execution_count": 211,
      "outputs": [
        {
          "output_type": "stream",
          "text": [
            "คะแนน 49 ได้เกรด F\n",
            "คะแนน 65 ได้เกรด C+\n",
            "คะแนน 70 ได้เกรด B\n",
            "คะแนน 95 ได้เกรด A\n",
            "คะแนน 82 ได้เกรด A\n",
            "คะแนน 55 ได้เกรด D+\n",
            "คะแนน 89 ได้เกรด A\n",
            "คะแนน 20 ได้เกรด F\n",
            "คะแนน 77 ได้เกรด B+\n",
            "คะแนน 77 ได้เกรด B+\n",
            "คะแนน 81 ได้เกรด A\n",
            "คะแนน 59 ได้เกรด D+\n",
            "คะแนน 10 ได้เกรด F\n"
          ],
          "name": "stdout"
        }
      ]
    },
    {
      "cell_type": "code",
      "metadata": {
        "id": "5sT7nQ7yE4ec"
      },
      "source": [
        "def grading_list(list_score):\n",
        "    grade_list = []\n",
        "    for score in list_score:\n",
        "        if  score  >= 80:\n",
        "            grade = 'A'\n",
        "        elif  score  >= 75:\n",
        "            grade = 'B+'\n",
        "        elif  score  >= 70:\n",
        "            grade = 'B'\n",
        "        elif  score  >= 65:\n",
        "            grade = 'C+'\n",
        "        elif  score  >= 60:\n",
        "            grade = 'C'\n",
        "        elif  score  >= 55:\n",
        "            grade = 'D+'\n",
        "        elif  score  >= 50:\n",
        "            grade = 'D' \n",
        "        else:\n",
        "            grade = 'F'\n",
        "        grade_list.append([score,grade])\n",
        "    return grade_list"
      ],
      "execution_count": 212,
      "outputs": []
    },
    {
      "cell_type": "code",
      "metadata": {
        "id": "P2sCGUCYE4Yr",
        "outputId": "629dece2-2bef-45b1-eb7f-8b55ef3fcb30",
        "colab": {
          "base_uri": "https://localhost:8080/"
        }
      },
      "source": [
        "g = grading_list(score)\n",
        "g"
      ],
      "execution_count": 213,
      "outputs": [
        {
          "output_type": "execute_result",
          "data": {
            "text/plain": [
              "[[49, 'F'],\n",
              " [65, 'C+'],\n",
              " [70, 'B'],\n",
              " [95, 'A'],\n",
              " [82, 'A'],\n",
              " [55, 'D+'],\n",
              " [89, 'A'],\n",
              " [20, 'F'],\n",
              " [77, 'B+'],\n",
              " [77, 'B+'],\n",
              " [81, 'A'],\n",
              " [59, 'D+'],\n",
              " [10, 'F']]"
            ]
          },
          "metadata": {
            "tags": []
          },
          "execution_count": 213
        }
      ]
    },
    {
      "cell_type": "code",
      "metadata": {
        "id": "z4TG4R2bE4WU",
        "outputId": "2cc76d79-3572-49ac-f789-86928a6b182f",
        "colab": {
          "base_uri": "https://localhost:8080/",
          "height": 178
        }
      },
      "source": [
        "for i in score:\n",
        "     print(f'คะแนน {i[0]} ได้เกรด {grading(i)}')"
      ],
      "execution_count": 214,
      "outputs": [
        {
          "output_type": "error",
          "ename": "TypeError",
          "evalue": "ignored",
          "traceback": [
            "\u001b[0;31m---------------------------------------------------------------------------\u001b[0m",
            "\u001b[0;31mTypeError\u001b[0m                                 Traceback (most recent call last)",
            "\u001b[0;32m<ipython-input-214-ef4ddc2020b6>\u001b[0m in \u001b[0;36m<module>\u001b[0;34m()\u001b[0m\n\u001b[1;32m      1\u001b[0m \u001b[0;32mfor\u001b[0m \u001b[0mi\u001b[0m \u001b[0;32min\u001b[0m \u001b[0mscore\u001b[0m\u001b[0;34m:\u001b[0m\u001b[0;34m\u001b[0m\u001b[0;34m\u001b[0m\u001b[0m\n\u001b[0;32m----> 2\u001b[0;31m      \u001b[0mprint\u001b[0m\u001b[0;34m(\u001b[0m\u001b[0;34mf'คะแนน {i[0]} ได้เกรด {grading(i)}'\u001b[0m\u001b[0;34m)\u001b[0m\u001b[0;34m\u001b[0m\u001b[0;34m\u001b[0m\u001b[0m\n\u001b[0m",
            "\u001b[0;31mTypeError\u001b[0m: 'int' object is not subscriptable"
          ]
        }
      ]
    },
    {
      "cell_type": "code",
      "metadata": {
        "id": "Zo5mCwnlE4RE",
        "outputId": "0d9473a5-33af-4529-e492-8cf4fe05c6b0",
        "colab": {
          "base_uri": "https://localhost:8080/",
          "height": 195
        }
      },
      "source": [
        "score = [49,65,70,95,82,55,89,20,77,77,81,59,10]\n",
        "for i in score:\n",
        "     print(f'คะแนน {i} ได้เกรด {grading2(i)}')"
      ],
      "execution_count": 215,
      "outputs": [
        {
          "output_type": "error",
          "ename": "NameError",
          "evalue": "ignored",
          "traceback": [
            "\u001b[0;31m---------------------------------------------------------------------------\u001b[0m",
            "\u001b[0;31mNameError\u001b[0m                                 Traceback (most recent call last)",
            "\u001b[0;32m<ipython-input-215-e89f729d77e0>\u001b[0m in \u001b[0;36m<module>\u001b[0;34m()\u001b[0m\n\u001b[1;32m      1\u001b[0m \u001b[0mscore\u001b[0m \u001b[0;34m=\u001b[0m \u001b[0;34m[\u001b[0m\u001b[0;36m49\u001b[0m\u001b[0;34m,\u001b[0m\u001b[0;36m65\u001b[0m\u001b[0;34m,\u001b[0m\u001b[0;36m70\u001b[0m\u001b[0;34m,\u001b[0m\u001b[0;36m95\u001b[0m\u001b[0;34m,\u001b[0m\u001b[0;36m82\u001b[0m\u001b[0;34m,\u001b[0m\u001b[0;36m55\u001b[0m\u001b[0;34m,\u001b[0m\u001b[0;36m89\u001b[0m\u001b[0;34m,\u001b[0m\u001b[0;36m20\u001b[0m\u001b[0;34m,\u001b[0m\u001b[0;36m77\u001b[0m\u001b[0;34m,\u001b[0m\u001b[0;36m77\u001b[0m\u001b[0;34m,\u001b[0m\u001b[0;36m81\u001b[0m\u001b[0;34m,\u001b[0m\u001b[0;36m59\u001b[0m\u001b[0;34m,\u001b[0m\u001b[0;36m10\u001b[0m\u001b[0;34m]\u001b[0m\u001b[0;34m\u001b[0m\u001b[0;34m\u001b[0m\u001b[0m\n\u001b[1;32m      2\u001b[0m \u001b[0;32mfor\u001b[0m \u001b[0mi\u001b[0m \u001b[0;32min\u001b[0m \u001b[0mscore\u001b[0m\u001b[0;34m:\u001b[0m\u001b[0;34m\u001b[0m\u001b[0;34m\u001b[0m\u001b[0m\n\u001b[0;32m----> 3\u001b[0;31m      \u001b[0mprint\u001b[0m\u001b[0;34m(\u001b[0m\u001b[0;34mf'คะแนน {i} ได้เกรด {grading2(i)}'\u001b[0m\u001b[0;34m)\u001b[0m\u001b[0;34m\u001b[0m\u001b[0;34m\u001b[0m\u001b[0m\n\u001b[0m",
            "\u001b[0;31mNameError\u001b[0m: name 'grading2' is not defined"
          ]
        }
      ]
    },
    {
      "cell_type": "markdown",
      "metadata": {
        "id": "b_Msh0ftFU0_"
      },
      "source": [
        "Example 2 (ไม่มี input)"
      ]
    },
    {
      "cell_type": "code",
      "metadata": {
        "id": "eysNeCR0E4Nh"
      },
      "source": [
        "def mypi():\n",
        "      return 3.14"
      ],
      "execution_count": null,
      "outputs": []
    },
    {
      "cell_type": "code",
      "metadata": {
        "id": "x6_VpvpPE4Bq"
      },
      "source": [
        "r=10\n",
        "print(f'รัศมี={r} จะมีเส้นรอบวง={2*mypi()*r}')"
      ],
      "execution_count": null,
      "outputs": []
    },
    {
      "cell_type": "markdown",
      "metadata": {
        "id": "KtmLKqdWFeOV"
      },
      "source": [
        "Example 3 (ไม่มี output)"
      ]
    },
    {
      "cell_type": "code",
      "metadata": {
        "id": "lZar0jELFfD5"
      },
      "source": [
        "def grading_nooutput(score):\n",
        "    if  i  >= 80:\n",
        "         print('grade \"A\" ')\n",
        "    elif  i  >= 75:\n",
        "        print('grade \"B+\" ')\n",
        "    elif  i  >= 70:\n",
        "        print('grade \"B\" ')\n",
        "    elif  i  >= 65:\n",
        "        print('grade \"C+\" ')\n",
        "    elif  i  >= 60:\n",
        "        print('grade \"C\" ')\n",
        "    elif  i  >= 55:\n",
        "        print('grade \"D+\" ')\n",
        "    elif  i  >= 50:\n",
        "        print('grade \"D\" ') \n",
        "    else:\n",
        "        print('grade \"F\" ')"
      ],
      "execution_count": null,
      "outputs": []
    },
    {
      "cell_type": "code",
      "metadata": {
        "id": "83_nCFz5Fj3G"
      },
      "source": [
        "score = [49,65,70,95,82,55,89,20,77,77,81,59,10]\n",
        "for i in score:\n",
        "     print(f'คะแนน {i}',end=' ')\n",
        "     grading_nooutput(i)"
      ],
      "execution_count": null,
      "outputs": []
    },
    {
      "cell_type": "markdown",
      "metadata": {
        "id": "PU2bsUqvFtjJ"
      },
      "source": [
        "Example 3 (ไม่มี input และ output)"
      ]
    },
    {
      "cell_type": "code",
      "metadata": {
        "id": "MgvjKPDqFuVd"
      },
      "source": [
        "def draw_rect():\n",
        "      print('=============')\n",
        "      print('|                            |')\n",
        "      print('|                            |')\n",
        "      print('=============')"
      ],
      "execution_count": null,
      "outputs": []
    },
    {
      "cell_type": "code",
      "metadata": {
        "id": "-1uy2KQ9Fu7N"
      },
      "source": [
        "draw_rect()\n",
        "draw_rect()"
      ],
      "execution_count": null,
      "outputs": []
    },
    {
      "cell_type": "code",
      "metadata": {
        "id": "zc69PqcrFu-m"
      },
      "source": [
        "def draw_love():\n",
        "      print('|||            ======   \\\\\\               ///   =======')\n",
        "      print('|||            ======    \\\\\\             ///    |||')\n",
        "      print('|||            |||       |||     \\\\\\          ///      |||')\n",
        "      print('|||            |||       |||      \\\\\\        ///       |||')\n",
        "      print('|||            |||       |||       \\\\\\      ///    ')\n",
        "      print('=====    ======         \\\\\\   ///')\n",
        "      print('=====    ======          \\\\\\ ///')"
      ],
      "execution_count": null,
      "outputs": []
    },
    {
      "cell_type": "markdown",
      "metadata": {
        "id": "MPEA3jH9F-Yk"
      },
      "source": [
        "### ลักษณะของ input(paramrter)\n",
        "\n",
        "\n",
        "\n",
        "\n",
        "*   จำเป็นต้องใส่\n",
        "*   ไม่จำเป็นต้องใส่\n"
      ]
    },
    {
      "cell_type": "code",
      "metadata": {
        "id": "0zOeyr-vFvCQ"
      },
      "source": [
        "def A(input1, input2=3):\n",
        "     return input1+input2"
      ],
      "execution_count": null,
      "outputs": []
    },
    {
      "cell_type": "code",
      "metadata": {
        "id": "mT96v5SEHpvc"
      },
      "source": [
        "A(1)"
      ],
      "execution_count": null,
      "outputs": []
    },
    {
      "cell_type": "code",
      "metadata": {
        "id": "R6yoHwDLCow4"
      },
      "source": [
        "A(1,6)"
      ],
      "execution_count": null,
      "outputs": []
    },
    {
      "cell_type": "code",
      "metadata": {
        "id": "-s_vsJ_QCxRO"
      },
      "source": [
        "def printlove(input1, input2 = 'Stat', input3 = 'KKU'):\n",
        "      print(f'{input1} love {input2} {input3}')"
      ],
      "execution_count": null,
      "outputs": []
    },
    {
      "cell_type": "code",
      "metadata": {
        "id": "oxau-BpbC1Rg"
      },
      "source": [
        "printlove('Nonttanont')"
      ],
      "execution_count": null,
      "outputs": []
    },
    {
      "cell_type": "code",
      "metadata": {
        "id": "YgdgUISLGMPj"
      },
      "source": [
        "printlove('Nonttanont','SI','Stat')"
      ],
      "execution_count": null,
      "outputs": []
    },
    {
      "cell_type": "code",
      "metadata": {
        "id": "87Rb_OAzGMEE"
      },
      "source": [
        "printlove(input3 = 'Nonttanont',input2 = 'SI', input1 = 'Stat')"
      ],
      "execution_count": null,
      "outputs": []
    },
    {
      "cell_type": "code",
      "metadata": {
        "id": "Gk_zj-J7GUGb"
      },
      "source": [
        "def printlove(input2 = 'Stat', input1, input3 = 'KKU'):\n",
        "      print(f'{input1} love {input2} {input3}')"
      ],
      "execution_count": null,
      "outputs": []
    },
    {
      "cell_type": "markdown",
      "metadata": {
        "id": "o5xBQNEBG7Oo"
      },
      "source": [
        "##HW4\n",
        "สร้างฟังก์ชัน\n",
        "\n",
        "วาดรูปบ้าน\n",
        "วาดรูปต้นไม้"
      ]
    },
    {
      "cell_type": "code",
      "metadata": {
        "id": "iRwzgZ8uJS9-"
      },
      "source": [
        "def draw_re():\n",
        "      print('........=.........')\n",
        "      print('.......===........')\n",
        "      print('.....=======......')\n",
        "      print('==================')\n",
        "      print('|      I   I      |')\n",
        "      print('|      I   I      |')\n",
        "      print('==================')"
      ],
      "execution_count": 216,
      "outputs": []
    },
    {
      "cell_type": "markdown",
      "metadata": {
        "id": "qs_ySOk6GU__"
      },
      "source": [
        ""
      ]
    }
  ]
}