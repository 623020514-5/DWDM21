{
  "nbformat": 4,
  "nbformat_minor": 0,
  "metadata": {
    "colab": {
      "name": "Data101(Chapter2).ipynb",
      "provenance": [],
      "authorship_tag": "ABX9TyPifkPKHhAPWFyGVIX5BxSF",
      "include_colab_link": true
    },
    "kernelspec": {
      "name": "python3",
      "display_name": "Python 3"
    },
    "language_info": {
      "name": "python"
    }
  },
  "cells": [
    {
      "cell_type": "markdown",
      "metadata": {
        "id": "view-in-github",
        "colab_type": "text"
      },
      "source": [
        "<a href=\"https://colab.research.google.com/github/623020514-5/DWDM21/blob/main/Data101(Chapter2).ipynb\" target=\"_parent\"><img src=\"https://colab.research.google.com/assets/colab-badge.svg\" alt=\"Open In Colab\"/></a>"
      ]
    },
    {
      "cell_type": "markdown",
      "metadata": {
        "id": "dOEqyisEt_Ot"
      },
      "source": [
        "![image.png](data:image/png;base64,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)"
      ]
    },
    {
      "cell_type": "code",
      "metadata": {
        "id": "7N3IDIrmKoHw"
      },
      "source": [
        "import pandas #เรียกใช้ package เพื่อนำเข้าโดยใช้คำสั่ง import แล้วตามด้วยชื่อ package"
      ],
      "execution_count": 1,
      "outputs": []
    },
    {
      "cell_type": "code",
      "metadata": {
        "id": "24OjunKJuCXt"
      },
      "source": [
        "import pandas as pd #เป็นการนำเข้าเหมือนกับด้านบน แต่ตั้งชื่อให้เป็น pd เพื่อให้ใช้งานง่ายขึ้น"
      ],
      "execution_count": 2,
      "outputs": []
    },
    {
      "cell_type": "markdown",
      "metadata": {
        "id": "zdVoupchvDwV"
      },
      "source": [
        "ไฟล์ .csv (CSV = comma separated values )จะใช้เก็บข้อมูลตาราง อ่านง่าย คนอ่านได้คอมอ่านได้ จะจัดเก็บตารางและใช้งานง่ายกว่า ไฟล์ word"
      ]
    },
    {
      "cell_type": "markdown",
      "metadata": {
        "id": "LdR036E5xbRF"
      },
      "source": [
        "how to csv file\n",
        "\n",
        "1.เข้าไปที่ ไฟล์\n",
        "\n",
        "![image.png](data:image/png;base64,iVBORw0KGgoAAAANSUhEUgAAAEEAAAA1CAYAAAAeRIaSAAABIElEQVRoBe2YjQmDMBBGXcV5XMcJnMB1zChu4QRXgtwhUk1zxHLCEyT980i/vJez7eQFx7quj86ye7R6o+KEICKEQAi7T5AACZBgvQUd0AEd0MESQIdgOizLIvM8fz23bTsuXPPHIbrDNE3S9/3lOQyDPBlEiBDuAtD3chBXpOjrKSUXJa8JQcMojeM4VgcRKgRdUe+oAdWmECqE2smfP08IIraxnsMpPYeEKDdLXozPK+ytAwmQsLMECZAACbavhtLBe6eo1726O5R+ReqX+2XMtWqPECTkSd/9n6ArXRpzDc8RJgTP5FtdQwhRWmSrFfXWgQRI2NmBBEiABNtH0QEd0AEdLAF0QAeDge6ADuiADpYAOqCDwUB3QAd0+JsOHwOqL2eILZKPAAAAAElFTkSuQmCC)\n",
        "\n",
        "2.คลิ๊กขวาแล้วกด New file แล้วตั้งชื่อไฟล์ จากนั้นคลิ๊กที่ไฟล์\n",
        "\n",
        "3.ใส่หัวคอลัมน์ เช่น name,age,city\n",
        "\n",
        "4.ใส่ข้อมูลให้ตรงกับหัวคอลัมน์ เช่น อ้อณ,21,Ubon\n",
        "\n",
        "5.เมื่อใส่ข้อมูลครบแล้วให้กากบาทออก แล้วไปเปลี่ยนสกุลไฟล์เป็น .csv"
      ]
    },
    {
      "cell_type": "code",
      "metadata": {
        "id": "X4Ik_QkgvckL"
      },
      "source": [
        "data_df = pd.read_csv('data.csv')"
      ],
      "execution_count": 3,
      "outputs": []
    },
    {
      "cell_type": "code",
      "metadata": {
        "id": "LJqs6qd4xRGf",
        "outputId": "42aa63f5-7d01-4120-9dcb-e801035b5679",
        "colab": {
          "base_uri": "https://localhost:8080/",
          "height": 142
        }
      },
      "source": [
        "data_df"
      ],
      "execution_count": 4,
      "outputs": [
        {
          "output_type": "execute_result",
          "data": {
            "text/html": [
              "<div>\n",
              "<style scoped>\n",
              "    .dataframe tbody tr th:only-of-type {\n",
              "        vertical-align: middle;\n",
              "    }\n",
              "\n",
              "    .dataframe tbody tr th {\n",
              "        vertical-align: top;\n",
              "    }\n",
              "\n",
              "    .dataframe thead th {\n",
              "        text-align: right;\n",
              "    }\n",
              "</style>\n",
              "<table border=\"1\" class=\"dataframe\">\n",
              "  <thead>\n",
              "    <tr style=\"text-align: right;\">\n",
              "      <th></th>\n",
              "      <th>name</th>\n",
              "      <th>age</th>\n",
              "      <th>city</th>\n",
              "    </tr>\n",
              "  </thead>\n",
              "  <tbody>\n",
              "    <tr>\n",
              "      <th>0</th>\n",
              "      <td>tom</td>\n",
              "      <td>27</td>\n",
              "      <td>Khon Kaen</td>\n",
              "    </tr>\n",
              "    <tr>\n",
              "      <th>1</th>\n",
              "      <td>Paul</td>\n",
              "      <td>15</td>\n",
              "      <td>Bangkok</td>\n",
              "    </tr>\n",
              "    <tr>\n",
              "      <th>2</th>\n",
              "      <td>Sarah</td>\n",
              "      <td>49</td>\n",
              "      <td>London</td>\n",
              "    </tr>\n",
              "  </tbody>\n",
              "</table>\n",
              "</div>"
            ],
            "text/plain": [
              "    name  age       city\n",
              "0    tom   27  Khon Kaen\n",
              "1   Paul   15    Bangkok\n",
              "2  Sarah   49     London"
            ]
          },
          "metadata": {
            "tags": []
          },
          "execution_count": 4
        }
      ]
    },
    {
      "cell_type": "code",
      "metadata": {
        "id": "nmWsMe9LyfQu",
        "outputId": "be262bc9-f214-4531-b564-8fa1a252118b",
        "colab": {
          "base_uri": "https://localhost:8080/",
          "height": 142
        }
      },
      "source": [
        "data_df2 = pandas.read_csv('data.csv')\n",
        "data_df2"
      ],
      "execution_count": 5,
      "outputs": [
        {
          "output_type": "execute_result",
          "data": {
            "text/html": [
              "<div>\n",
              "<style scoped>\n",
              "    .dataframe tbody tr th:only-of-type {\n",
              "        vertical-align: middle;\n",
              "    }\n",
              "\n",
              "    .dataframe tbody tr th {\n",
              "        vertical-align: top;\n",
              "    }\n",
              "\n",
              "    .dataframe thead th {\n",
              "        text-align: right;\n",
              "    }\n",
              "</style>\n",
              "<table border=\"1\" class=\"dataframe\">\n",
              "  <thead>\n",
              "    <tr style=\"text-align: right;\">\n",
              "      <th></th>\n",
              "      <th>name</th>\n",
              "      <th>age</th>\n",
              "      <th>city</th>\n",
              "    </tr>\n",
              "  </thead>\n",
              "  <tbody>\n",
              "    <tr>\n",
              "      <th>0</th>\n",
              "      <td>tom</td>\n",
              "      <td>27</td>\n",
              "      <td>Khon Kaen</td>\n",
              "    </tr>\n",
              "    <tr>\n",
              "      <th>1</th>\n",
              "      <td>Paul</td>\n",
              "      <td>15</td>\n",
              "      <td>Bangkok</td>\n",
              "    </tr>\n",
              "    <tr>\n",
              "      <th>2</th>\n",
              "      <td>Sarah</td>\n",
              "      <td>49</td>\n",
              "      <td>London</td>\n",
              "    </tr>\n",
              "  </tbody>\n",
              "</table>\n",
              "</div>"
            ],
            "text/plain": [
              "    name  age       city\n",
              "0    tom   27  Khon Kaen\n",
              "1   Paul   15    Bangkok\n",
              "2  Sarah   49     London"
            ]
          },
          "metadata": {
            "tags": []
          },
          "execution_count": 5
        }
      ]
    },
    {
      "cell_type": "markdown",
      "metadata": {
        "id": "WzMWD_x6ypiJ"
      },
      "source": [
        "# Basic Python\n",
        "## variable\n",
        "\n",
        "\n",
        " มาร์คดาวน์ เป็นการทำหัวข้อ หรือทำให้ข้อความดูเด่นขึ้น"
      ]
    },
    {
      "cell_type": "markdown",
      "metadata": {
        "id": "pWIsUMfF1vOP"
      },
      "source": [
        "การตั้งชื่อตัวแปร\n",
        "\n",
        "1. ชื่อห้ามมีเว้นวรรคให้ใช้ _ แทนก็ได้\n",
        "\n",
        "2. ให้ใช้ English ไทยอาจได้บางโปรแกรม แต่ไม่ควร ดังนั้น พยายามใช้ชื่\n",
        "\n",
        "3. ตัวพิมพ์เล็กพิมพ์ใหญ่แตกต่างกัน ไม่ถือเป็นตัวเดียวกัน case sensitive\n",
        "\n",
        "4. ห้ามใช้ตัวเลขเป็นตัวหน้า"
      ]
    },
    {
      "cell_type": "code",
      "metadata": {
        "id": "WcQNSJ3Y0M-E"
      },
      "source": [
        "variable_a = 12 \n",
        "variable_b = 'abcde' # '' เรียกว่า โค้ด quote แสดงข้อมูลว่าเป็นข้อความ ตัวอักษรหรือ string\n",
        "variable_c = variable_a"
      ],
      "execution_count": 6,
      "outputs": []
    },
    {
      "cell_type": "code",
      "metadata": {
        "id": "I-HUTvo21QEX",
        "outputId": "4f2d5693-85d6-4e6d-d08e-9c3adb9bd044",
        "colab": {
          "base_uri": "https://localhost:8080/"
        }
      },
      "source": [
        "variable_a"
      ],
      "execution_count": 7,
      "outputs": [
        {
          "output_type": "execute_result",
          "data": {
            "text/plain": [
              "12"
            ]
          },
          "metadata": {
            "tags": []
          },
          "execution_count": 7
        }
      ]
    },
    {
      "cell_type": "code",
      "metadata": {
        "id": "FY7r72Dj1STj",
        "outputId": "b5d75f6e-81b4-4052-f367-29168c604b75",
        "colab": {
          "base_uri": "https://localhost:8080/",
          "height": 35
        }
      },
      "source": [
        "variable_b"
      ],
      "execution_count": 8,
      "outputs": [
        {
          "output_type": "execute_result",
          "data": {
            "application/vnd.google.colaboratory.intrinsic+json": {
              "type": "string"
            },
            "text/plain": [
              "'abcde'"
            ]
          },
          "metadata": {
            "tags": []
          },
          "execution_count": 8
        }
      ]
    },
    {
      "cell_type": "code",
      "metadata": {
        "id": "KCXtAdQw1UJh",
        "outputId": "b080d185-5bb7-44a6-c059-0211c9b0b3ce",
        "colab": {
          "base_uri": "https://localhost:8080/"
        }
      },
      "source": [
        "variable_c"
      ],
      "execution_count": 9,
      "outputs": [
        {
          "output_type": "execute_result",
          "data": {
            "text/plain": [
              "12"
            ]
          },
          "metadata": {
            "tags": []
          },
          "execution_count": 9
        }
      ]
    },
    {
      "cell_type": "code",
      "metadata": {
        "id": "bmQWHtef1XLc",
        "outputId": "65189c2d-2298-4506-d8ba-18dbc02b239f",
        "colab": {
          "base_uri": "https://localhost:8080/",
          "height": 128
        }
      },
      "source": [
        "variable a # ทดลองตั้งใช้โดยเว้นวรรค"
      ],
      "execution_count": 10,
      "outputs": [
        {
          "output_type": "error",
          "ename": "SyntaxError",
          "evalue": "ignored",
          "traceback": [
            "\u001b[0;36m  File \u001b[0;32m\"<ipython-input-10-795451b71f20>\"\u001b[0;36m, line \u001b[0;32m1\u001b[0m\n\u001b[0;31m    variable a # ทดลองตั้งใช้โดยเว้นวรรค\u001b[0m\n\u001b[0m             ^\u001b[0m\n\u001b[0;31mSyntaxError\u001b[0m\u001b[0;31m:\u001b[0m invalid syntax\n"
          ]
        }
      ]
    },
    {
      "cell_type": "code",
      "metadata": {
        "id": "c5w6t3Xq3Jm2",
        "outputId": "b166bae1-ea9e-45d5-fa25-24d9973e3115",
        "colab": {
          "base_uri": "https://localhost:8080/"
        }
      },
      "source": [
        "ตัวแปร = 3 #ไม่ควรตั้งชื่อตัวแปรเป็นภาษาไทย\n",
        "ตัวแปร"
      ],
      "execution_count": 11,
      "outputs": [
        {
          "output_type": "execute_result",
          "data": {
            "text/plain": [
              "3"
            ]
          },
          "metadata": {
            "tags": []
          },
          "execution_count": 11
        }
      ]
    },
    {
      "cell_type": "code",
      "metadata": {
        "id": "Pi1Vweg43UCj",
        "outputId": "ea9282c1-de96-46d4-9bc2-ccbb3dfe43b9",
        "colab": {
          "base_uri": "https://localhost:8080/"
        }
      },
      "source": [
        "#case sensitive\n",
        "v_a = 1\n",
        "v_a = 2\n",
        "print(v_a)\n",
        "print(v_a) # จะอ่านตัวที่ป้อนล่าสุด"
      ],
      "execution_count": 13,
      "outputs": [
        {
          "output_type": "stream",
          "text": [
            "2\n",
            "2\n"
          ],
          "name": "stdout"
        }
      ]
    },
    {
      "cell_type": "code",
      "metadata": {
        "id": "JxFN_msx3ucx",
        "outputId": "15b09cf3-b67c-45ad-8da2-d68e3ca807aa",
        "colab": {
          "base_uri": "https://localhost:8080/",
          "height": 128
        }
      },
      "source": [
        "# ห้ามใช้ตัวเลขเป็นตัวหน้า แต่ใช้ตัวเลขเป็นตัวหลังได้\n",
        "2ab = 1"
      ],
      "execution_count": 14,
      "outputs": [
        {
          "output_type": "error",
          "ename": "SyntaxError",
          "evalue": "ignored",
          "traceback": [
            "\u001b[0;36m  File \u001b[0;32m\"<ipython-input-14-4a1c88deec89>\"\u001b[0;36m, line \u001b[0;32m2\u001b[0m\n\u001b[0;31m    2ab = 1\u001b[0m\n\u001b[0m      ^\u001b[0m\n\u001b[0;31mSyntaxError\u001b[0m\u001b[0;31m:\u001b[0m invalid syntax\n"
          ]
        }
      ]
    },
    {
      "cell_type": "code",
      "metadata": {
        "id": "gOQJK8Ha38Y7"
      },
      "source": [
        "variable_a = 12 \n",
        "variable_b = 'abcde' # '' เรียกว่า โค้ด quote แสดงข้อมูลว่าเป็นข้อความ ตัวอักษรหรือ string\n",
        "variable_c = variable_a\n",
        "variable_d = -41.2 # ค่าโฟล์ท\n",
        "variable_4 = \"KKU\" # string สามารถเลือกใช้ quote = ' ' หรือ Double quote = \"\""
      ],
      "execution_count": 16,
      "outputs": []
    },
    {
      "cell_type": "code",
      "metadata": {
        "id": "r9YRytVe4pIl",
        "outputId": "4b140092-7a09-4cb2-c1bb-f973b536c917",
        "colab": {
          "base_uri": "https://localhost:8080/"
        }
      },
      "source": [
        "variable_x = variable_c + variable_d\n",
        "variable_x\n",
        "print(variable_x)"
      ],
      "execution_count": 21,
      "outputs": [
        {
          "output_type": "stream",
          "text": [
            "-29.200000000000003\n"
          ],
          "name": "stdout"
        }
      ]
    },
    {
      "cell_type": "code",
      "metadata": {
        "id": "9aDD0rp16IWF",
        "outputId": "c7874726-8f0a-49db-a247-511229859b6f",
        "colab": {
          "base_uri": "https://localhost:8080/",
          "height": 178
        }
      },
      "source": [
        "# ไม่สามารถเอาตัวเลขบวกกับตัวอักษร\n",
        "variable_a + variable_b"
      ],
      "execution_count": 18,
      "outputs": [
        {
          "output_type": "error",
          "ename": "TypeError",
          "evalue": "ignored",
          "traceback": [
            "\u001b[0;31m---------------------------------------------------------------------------\u001b[0m",
            "\u001b[0;31mTypeError\u001b[0m                                 Traceback (most recent call last)",
            "\u001b[0;32m<ipython-input-18-37919828ff2d>\u001b[0m in \u001b[0;36m<module>\u001b[0;34m()\u001b[0m\n\u001b[1;32m      1\u001b[0m \u001b[0;31m# ไม่สามารถเอาตัวเลขบวกกับตัวอักษร\u001b[0m\u001b[0;34m\u001b[0m\u001b[0;34m\u001b[0m\u001b[0;34m\u001b[0m\u001b[0m\n\u001b[0;32m----> 2\u001b[0;31m \u001b[0mvariable_a\u001b[0m \u001b[0;34m+\u001b[0m \u001b[0mvariable_b\u001b[0m\u001b[0;34m\u001b[0m\u001b[0;34m\u001b[0m\u001b[0m\n\u001b[0m",
            "\u001b[0;31mTypeError\u001b[0m: unsupported operand type(s) for +: 'int' and 'str'"
          ]
        }
      ]
    },
    {
      "cell_type": "code",
      "metadata": {
        "id": "9hNGQOHJ6c_w",
        "outputId": "a6eed29e-3300-4d65-98bb-2171c1abb0b0",
        "colab": {
          "base_uri": "https://localhost:8080/"
        }
      },
      "source": [
        "print(variable_b + variable_4) #ทดลองนำตัวอักษรมาบวกกัน"
      ],
      "execution_count": 19,
      "outputs": [
        {
          "output_type": "stream",
          "text": [
            "abcdeKKU\n"
          ],
          "name": "stdout"
        }
      ]
    },
    {
      "cell_type": "markdown",
      "metadata": {
        "id": "qxgAMMju7Gt-"
      },
      "source": [
        "#Casting int() float() str()"
      ]
    },
    {
      "cell_type": "code",
      "metadata": {
        "id": "-WccqsMR6vgQ",
        "outputId": "f6d305ce-164c-4fb3-c351-0222db4cff76",
        "colab": {
          "base_uri": "https://localhost:8080/"
        }
      },
      "source": [
        "print(variable_x)\n",
        "print(int(variable_x))"
      ],
      "execution_count": 23,
      "outputs": [
        {
          "output_type": "stream",
          "text": [
            "-29.200000000000003\n",
            "-29\n"
          ],
          "name": "stdout"
        }
      ]
    },
    {
      "cell_type": "code",
      "metadata": {
        "id": "1SJU81dF7weS",
        "outputId": "d166262a-fab6-42dd-d49a-e5f05e3516e3",
        "colab": {
          "base_uri": "https://localhost:8080/"
        }
      },
      "source": [
        "v_x = str(variable_x)\n",
        "print(v_x)"
      ],
      "execution_count": 24,
      "outputs": [
        {
          "output_type": "stream",
          "text": [
            "-29.200000000000003\n"
          ],
          "name": "stdout"
        }
      ]
    },
    {
      "cell_type": "code",
      "metadata": {
        "id": "QREqQhlr7_S9",
        "outputId": "0ec214c4-8c53-4e4b-fbd0-3d5b46b19e98",
        "colab": {
          "base_uri": "https://localhost:8080/"
        }
      },
      "source": [
        "float(v_x)"
      ],
      "execution_count": 26,
      "outputs": [
        {
          "output_type": "execute_result",
          "data": {
            "text/plain": [
              "-29.200000000000003"
            ]
          },
          "metadata": {
            "tags": []
          },
          "execution_count": 26
        }
      ]
    },
    {
      "cell_type": "markdown",
      "metadata": {
        "id": "0l9yEWH588XD"
      },
      "source": [
        "## Data Structure\n",
        "### list()\n",
        "\n",
        "list เป็นตัวเลข หรือตัววแปรที่มาต่อๆกัน"
      ]
    },
    {
      "cell_type": "code",
      "metadata": {
        "id": "c7zlnokW9YMp"
      },
      "source": [
        "list_a = [1,2,0.2,'abs'] # [] = square brackets ใช้เก็บข้อมูลทุกแบบ\n",
        "list_b = [2,'xyz',list_a,[1,2,0.0]]"
      ],
      "execution_count": 27,
      "outputs": []
    },
    {
      "cell_type": "code",
      "metadata": {
        "id": "hL9iSWt5-BAI",
        "outputId": "c822db80-e6aa-45ae-964e-ffdf42d90a1b",
        "colab": {
          "base_uri": "https://localhost:8080/"
        }
      },
      "source": [
        "list_a"
      ],
      "execution_count": 28,
      "outputs": [
        {
          "output_type": "execute_result",
          "data": {
            "text/plain": [
              "[1, 2, 0.2, 'abs']"
            ]
          },
          "metadata": {
            "tags": []
          },
          "execution_count": 28
        }
      ]
    },
    {
      "cell_type": "code",
      "metadata": {
        "id": "_QAKRXo8-EuD",
        "outputId": "0ed7af7e-33d3-42b1-a6f9-be5bced5475c",
        "colab": {
          "base_uri": "https://localhost:8080/"
        }
      },
      "source": [
        "list_b"
      ],
      "execution_count": 29,
      "outputs": [
        {
          "output_type": "execute_result",
          "data": {
            "text/plain": [
              "[2, 'xyz', [1, 2, 0.2, 'abs'], [1, 2, 0.0]]"
            ]
          },
          "metadata": {
            "tags": []
          },
          "execution_count": 29
        }
      ]
    },
    {
      "cell_type": "code",
      "metadata": {
        "id": "fGM1FlLr-SEG",
        "outputId": "a4b0b751-f6dd-4e6d-879a-a1727a1a8242",
        "colab": {
          "base_uri": "https://localhost:8080/"
        }
      },
      "source": [
        "len(list_b) # len = leng = ความยาว"
      ],
      "execution_count": 30,
      "outputs": [
        {
          "output_type": "execute_result",
          "data": {
            "text/plain": [
              "4"
            ]
          },
          "metadata": {
            "tags": []
          },
          "execution_count": 30
        }
      ]
    },
    {
      "cell_type": "code",
      "metadata": {
        "id": "Wer_tn4_-eQd",
        "outputId": "f8ff929c-eaa4-4011-f206-f1beade6f3d6",
        "colab": {
          "base_uri": "https://localhost:8080/"
        }
      },
      "source": [
        "list_b[3] #เป็นการชี้ตำแหน่ง list ซึ่งตำแหน่งจะมีตั้งแต่ตำแหน่งที่ 0"
      ],
      "execution_count": 31,
      "outputs": [
        {
          "output_type": "execute_result",
          "data": {
            "text/plain": [
              "[1, 2, 0.0]"
            ]
          },
          "metadata": {
            "tags": []
          },
          "execution_count": 31
        }
      ]
    },
    {
      "cell_type": "code",
      "metadata": {
        "id": "LFokeeqs-kBI",
        "outputId": "7fb61e72-359d-4a9c-a731-9d1a804558ce",
        "colab": {
          "base_uri": "https://localhost:8080/"
        }
      },
      "source": [
        "list_b[3][1]"
      ],
      "execution_count": 32,
      "outputs": [
        {
          "output_type": "execute_result",
          "data": {
            "text/plain": [
              "2"
            ]
          },
          "metadata": {
            "tags": []
          },
          "execution_count": 32
        }
      ]
    },
    {
      "cell_type": "code",
      "metadata": {
        "id": "PUEt-iEm-5MX"
      },
      "source": [
        "# string คือ list ของตัวหนังสือ\n",
        "a = 'Stat KKU'"
      ],
      "execution_count": 33,
      "outputs": []
    },
    {
      "cell_type": "code",
      "metadata": {
        "id": "rq25qQL1_HmV",
        "outputId": "6e74d768-7b84-45b1-b24b-a07eb068988e",
        "colab": {
          "base_uri": "https://localhost:8080/",
          "height": 35
        }
      },
      "source": [
        "a[4]"
      ],
      "execution_count": 34,
      "outputs": [
        {
          "output_type": "execute_result",
          "data": {
            "application/vnd.google.colaboratory.intrinsic+json": {
              "type": "string"
            },
            "text/plain": [
              "' '"
            ]
          },
          "metadata": {
            "tags": []
          },
          "execution_count": 34
        }
      ]
    },
    {
      "cell_type": "markdown",
      "metadata": {
        "id": "ldvzflDE_mN5"
      },
      "source": [
        "#วิธีการสร้าง list แบบที่ 2\n",
        "\n",
        "การสร้าง list แบบว่าง"
      ]
    },
    {
      "cell_type": "code",
      "metadata": {
        "id": "ciavhB9Y_Tv8"
      },
      "source": [
        "list_c = list() #แบบที่ 1\n",
        "list_d = [] #แบบที่ 2"
      ],
      "execution_count": 35,
      "outputs": []
    },
    {
      "cell_type": "markdown",
      "metadata": {
        "id": "B9Z1RZnCBCvJ"
      },
      "source": [
        "append()เพิ่มสมาชิกหรือการเพิ่มค่าในlist \n",
        "\n",
        "โดยใช้คำสั่ง .append\n",
        "\n"
      ]
    },
    {
      "cell_type": "code",
      "metadata": {
        "id": "xeBpCCw1A7P8",
        "outputId": "657f9b85-550f-425c-fa5f-59507a199f8d",
        "colab": {
          "base_uri": "https://localhost:8080/"
        }
      },
      "source": [
        "list_d.append('u') # add u in at list d \n",
        "print(list_d)"
      ],
      "execution_count": 36,
      "outputs": [
        {
          "output_type": "stream",
          "text": [
            "['u']\n"
          ],
          "name": "stdout"
        }
      ]
    },
    {
      "cell_type": "markdown",
      "metadata": {
        "id": "k6mmQeoZBW9l"
      },
      "source": [
        "การชี้ค่าใน list (indexing)\n",
        "\n",
        "\n",
        "1.   ใช้ลำดับในการชี้\n",
        "2.   ลำดับเริ่มจาก 0\n",
        "3.   สามารถชี้จากข้างหลังโดยใช้ negative index\n",
        "\n"
      ]
    },
    {
      "cell_type": "code",
      "metadata": {
        "id": "wzUWOXGZBMPg",
        "outputId": "0d3a0b7c-3dc6-41bc-8fcf-ea26856a65f3",
        "colab": {
          "base_uri": "https://localhost:8080/"
        }
      },
      "source": [
        "list_b"
      ],
      "execution_count": 37,
      "outputs": [
        {
          "output_type": "execute_result",
          "data": {
            "text/plain": [
              "[2, 'xyz', [1, 2, 0.2, 'abs'], [1, 2, 0.0]]"
            ]
          },
          "metadata": {
            "tags": []
          },
          "execution_count": 37
        }
      ]
    },
    {
      "cell_type": "code",
      "metadata": {
        "id": "aN1NU76uCJEJ",
        "outputId": "0fcc7503-26fa-4c8f-aa4f-505e475ca0fe",
        "colab": {
          "base_uri": "https://localhost:8080/"
        }
      },
      "source": [
        "list_b[-1]"
      ],
      "execution_count": 38,
      "outputs": [
        {
          "output_type": "execute_result",
          "data": {
            "text/plain": [
              "[1, 2, 0.0]"
            ]
          },
          "metadata": {
            "tags": []
          },
          "execution_count": 38
        }
      ]
    },
    {
      "cell_type": "markdown",
      "metadata": {
        "id": "BCNKyoSWCPWf"
      },
      "source": [
        "##list slicing\n",
        "\n",
        "เราสามารถเฉือน หรือเลือกบางส่วนของ list นั้นออกมาได้"
      ]
    },
    {
      "cell_type": "code",
      "metadata": {
        "id": "1Kj1FrsoCO9f"
      },
      "source": [
        "list_ex = [1,2,3,5,6,8,-1,20,50,0]"
      ],
      "execution_count": 40,
      "outputs": []
    },
    {
      "cell_type": "code",
      "metadata": {
        "id": "-ntPyEsRCcWL",
        "outputId": "e6cd552a-15e9-4e52-b0f8-1fcfd2f31280",
        "colab": {
          "base_uri": "https://localhost:8080/"
        }
      },
      "source": [
        "list_ex[1:6] # หมายความว่า เราจะตัดตั้งแต่ตัวหน้า : ไปจนถึงตัวก่อนตัวหลัง : \n",
        "# ก็คือเอาตั้งแต่ตัวที่ 1-5"
      ],
      "execution_count": 41,
      "outputs": [
        {
          "output_type": "execute_result",
          "data": {
            "text/plain": [
              "[2, 3, 5, 6, 8]"
            ]
          },
          "metadata": {
            "tags": []
          },
          "execution_count": 41
        }
      ]
    },
    {
      "cell_type": "code",
      "metadata": {
        "id": "zJUz9gYeD0S7",
        "outputId": "f461d659-a742-4947-a53c-9fbadd21e411",
        "colab": {
          "base_uri": "https://localhost:8080/"
        }
      },
      "source": [
        "list_ex[4:] # ไม่ใส่ขอบเขตด้านหลัง"
      ],
      "execution_count": 42,
      "outputs": [
        {
          "output_type": "execute_result",
          "data": {
            "text/plain": [
              "[6, 8, -1, 20, 50, 0]"
            ]
          },
          "metadata": {
            "tags": []
          },
          "execution_count": 42
        }
      ]
    },
    {
      "cell_type": "code",
      "metadata": {
        "id": "7ahx8bwDD0Hd",
        "outputId": "3d57ccec-5e41-4cb9-a609-ee0b82563fc8",
        "colab": {
          "base_uri": "https://localhost:8080/"
        }
      },
      "source": [
        "list_ex[:6] # ไม่ใส่ขอบเขตด้านหน้า"
      ],
      "execution_count": 43,
      "outputs": [
        {
          "output_type": "execute_result",
          "data": {
            "text/plain": [
              "[1, 2, 3, 5, 6, 8]"
            ]
          },
          "metadata": {
            "tags": []
          },
          "execution_count": 43
        }
      ]
    },
    {
      "cell_type": "code",
      "metadata": {
        "id": "NdlQ4BrKD-YG",
        "outputId": "cb231995-896e-41a0-fba2-24ea6c742ecf",
        "colab": {
          "base_uri": "https://localhost:8080/"
        }
      },
      "source": [
        "list_ex[::2] #[จุดเริ่มต้น:จุดขอบเขต:step]"
      ],
      "execution_count": 45,
      "outputs": [
        {
          "output_type": "execute_result",
          "data": {
            "text/plain": [
              "[1, 3, 6, -1, 50]"
            ]
          },
          "metadata": {
            "tags": []
          },
          "execution_count": 45
        }
      ]
    },
    {
      "cell_type": "code",
      "metadata": {
        "id": "hdXqqrCCQYLY",
        "outputId": "32af0207-c7f3-4bf9-f1b1-dd77bec71a71",
        "colab": {
          "base_uri": "https://localhost:8080/",
          "height": 35
        }
      },
      "source": [
        "a"
      ],
      "execution_count": 51,
      "outputs": [
        {
          "output_type": "execute_result",
          "data": {
            "application/vnd.google.colaboratory.intrinsic+json": {
              "type": "string"
            },
            "text/plain": [
              "'Stat KKU'"
            ]
          },
          "metadata": {
            "tags": []
          },
          "execution_count": 51
        }
      ]
    },
    {
      "cell_type": "code",
      "metadata": {
        "id": "9RrbrdjcQb_7",
        "outputId": "60b604a7-3c4d-46d2-d268-a80b312abe9e",
        "colab": {
          "base_uri": "https://localhost:8080/",
          "height": 35
        }
      },
      "source": [
        "a[5:]"
      ],
      "execution_count": 52,
      "outputs": [
        {
          "output_type": "execute_result",
          "data": {
            "application/vnd.google.colaboratory.intrinsic+json": {
              "type": "string"
            },
            "text/plain": [
              "'KKU'"
            ]
          },
          "metadata": {
            "tags": []
          },
          "execution_count": 52
        }
      ]
    },
    {
      "cell_type": "code",
      "metadata": {
        "id": "WaoQNrVJQdKo",
        "outputId": "19bf8eb2-82e6-4ec8-892e-e7e46ee7a504",
        "colab": {
          "base_uri": "https://localhost:8080/",
          "height": 35
        }
      },
      "source": [
        "a[-3:]"
      ],
      "execution_count": 53,
      "outputs": [
        {
          "output_type": "execute_result",
          "data": {
            "application/vnd.google.colaboratory.intrinsic+json": {
              "type": "string"
            },
            "text/plain": [
              "'KKU'"
            ]
          },
          "metadata": {
            "tags": []
          },
          "execution_count": 53
        }
      ]
    },
    {
      "cell_type": "code",
      "metadata": {
        "id": "D5cr6KyYQfWW",
        "outputId": "dd9baf0d-a6ff-4114-f466-8eef6c11569c",
        "colab": {
          "base_uri": "https://localhost:8080/",
          "height": 35
        }
      },
      "source": [
        "a[5:8]"
      ],
      "execution_count": 54,
      "outputs": [
        {
          "output_type": "execute_result",
          "data": {
            "application/vnd.google.colaboratory.intrinsic+json": {
              "type": "string"
            },
            "text/plain": [
              "'KKU'"
            ]
          },
          "metadata": {
            "tags": []
          },
          "execution_count": 54
        }
      ]
    },
    {
      "cell_type": "code",
      "metadata": {
        "id": "lSlIW04CQi89",
        "outputId": "2c6ce106-56f5-4f7a-cc67-49c548320ad5",
        "colab": {
          "base_uri": "https://localhost:8080/",
          "height": 35
        }
      },
      "source": [
        "a[5::]"
      ],
      "execution_count": 55,
      "outputs": [
        {
          "output_type": "execute_result",
          "data": {
            "application/vnd.google.colaboratory.intrinsic+json": {
              "type": "string"
            },
            "text/plain": [
              "'KKU'"
            ]
          },
          "metadata": {
            "tags": []
          },
          "execution_count": 55
        }
      ]
    },
    {
      "cell_type": "code",
      "metadata": {
        "id": "s3dUtwtoQjAO",
        "outputId": "a6c494bd-aca4-44a2-f1b8-61a6fc7a1469",
        "colab": {
          "base_uri": "https://localhost:8080/",
          "height": 35
        }
      },
      "source": [
        "a[-3::]"
      ],
      "execution_count": 56,
      "outputs": [
        {
          "output_type": "execute_result",
          "data": {
            "application/vnd.google.colaboratory.intrinsic+json": {
              "type": "string"
            },
            "text/plain": [
              "'KKU'"
            ]
          },
          "metadata": {
            "tags": []
          },
          "execution_count": 56
        }
      ]
    },
    {
      "cell_type": "code",
      "metadata": {
        "id": "bXDMRgQ8QntF",
        "outputId": "2dbcfd17-e7b3-4de3-cc20-38f9089ebade",
        "colab": {
          "base_uri": "https://localhost:8080/",
          "height": 35
        }
      },
      "source": [
        "a[-3::1]"
      ],
      "execution_count": 57,
      "outputs": [
        {
          "output_type": "execute_result",
          "data": {
            "application/vnd.google.colaboratory.intrinsic+json": {
              "type": "string"
            },
            "text/plain": [
              "'KKU'"
            ]
          },
          "metadata": {
            "tags": []
          },
          "execution_count": 57
        }
      ]
    },
    {
      "cell_type": "markdown",
      "metadata": {
        "id": "jXnlxCGKDCTE"
      },
      "source": [
        "step คือ การกระโดดข้าม เช่น ในตัวอย่างจะหมายความว่าเอาทุกตัวโดย จะเอาตัวที่กระโดดข้ามทีละ 2"
      ]
    },
    {
      "cell_type": "code",
      "metadata": {
        "id": "qBOcsILOEyM4",
        "outputId": "6d2c8df4-86df-4575-dad8-f22e3da5fc44",
        "colab": {
          "base_uri": "https://localhost:8080/"
        }
      },
      "source": [
        "list_ex[::-1] # การกลับ list"
      ],
      "execution_count": 47,
      "outputs": [
        {
          "output_type": "execute_result",
          "data": {
            "text/plain": [
              "[0, 50, 20, -1, 8, 6, 5, 3, 2, 1]"
            ]
          },
          "metadata": {
            "tags": []
          },
          "execution_count": 47
        }
      ]
    },
    {
      "cell_type": "markdown",
      "metadata": {
        "id": "5aw2GR_1G7mA"
      },
      "source": [
        "#list + list"
      ]
    },
    {
      "cell_type": "code",
      "metadata": {
        "id": "1uqdfHZJHHpl",
        "outputId": "5c644177-cbe6-439a-bf47-e6afe4752073",
        "colab": {
          "base_uri": "https://localhost:8080/"
        }
      },
      "source": [
        "print(list_a)\n",
        "print(list_b)"
      ],
      "execution_count": 48,
      "outputs": [
        {
          "output_type": "stream",
          "text": [
            "[1, 2, 0.2, 'abs']\n",
            "[2, 'xyz', [1, 2, 0.2, 'abs'], [1, 2, 0.0]]\n"
          ],
          "name": "stdout"
        }
      ]
    },
    {
      "cell_type": "code",
      "metadata": {
        "id": "ly7fIRgHHcts",
        "outputId": "6ecf1995-bc1c-482f-a3aa-348c191d9ab1",
        "colab": {
          "base_uri": "https://localhost:8080/"
        }
      },
      "source": [
        "list_a + list_b"
      ],
      "execution_count": 49,
      "outputs": [
        {
          "output_type": "execute_result",
          "data": {
            "text/plain": [
              "[1, 2, 0.2, 'abs', 2, 'xyz', [1, 2, 0.2, 'abs'], [1, 2, 0.0]]"
            ]
          },
          "metadata": {
            "tags": []
          },
          "execution_count": 49
        }
      ]
    },
    {
      "cell_type": "markdown",
      "metadata": {
        "id": "UkOamGIALRON"
      },
      "source": [
        "##format string"
      ]
    },
    {
      "cell_type": "markdown",
      "metadata": {
        "id": "hS0Bd7t-Qtz0"
      },
      "source": [
        "```python\n",
        "f 'string{ตัวแปร}'\n",
        "```"
      ]
    },
    {
      "cell_type": "code",
      "metadata": {
        "id": "oIEc6Pe_LWYq",
        "outputId": "420c2334-51e1-47cd-c847-41f8a8a63a32",
        "colab": {
          "base_uri": "https://localhost:8080/",
          "height": 35
        }
      },
      "source": [
        "f'ตัวแปร list_a มีค่าคือ {list_a}'"
      ],
      "execution_count": 58,
      "outputs": [
        {
          "output_type": "execute_result",
          "data": {
            "application/vnd.google.colaboratory.intrinsic+json": {
              "type": "string"
            },
            "text/plain": [
              "\"ตัวแปร list_a มีค่าคือ [1, 2, 0.2, 'abs']\""
            ]
          },
          "metadata": {
            "tags": []
          },
          "execution_count": 58
        }
      ]
    },
    {
      "cell_type": "code",
      "metadata": {
        "id": "doUgpNFAQzNZ",
        "outputId": "81df754a-ca11-4e5b-fe4f-533a2e729a7f",
        "colab": {
          "base_uri": "https://localhost:8080/",
          "height": 35
        }
      },
      "source": [
        "f'ตัวแปร list_ex มีค่าคือ {list_ex}'"
      ],
      "execution_count": 59,
      "outputs": [
        {
          "output_type": "execute_result",
          "data": {
            "application/vnd.google.colaboratory.intrinsic+json": {
              "type": "string"
            },
            "text/plain": [
              "'ตัวแปร list_ex มีค่าคือ [1, 2, 3, 5, 6, 8, -1, 20, 50, 0]'"
            ]
          },
          "metadata": {
            "tags": []
          },
          "execution_count": 59
        }
      ]
    },
    {
      "cell_type": "markdown",
      "metadata": {
        "id": "EMSsXD-3HiSm"
      },
      "source": [
        "#Loop\n"
      ]
    },
    {
      "cell_type": "markdown",
      "metadata": {
        "id": "HL71VI0TKiDS"
      },
      "source": [
        "\n",
        "\n",
        "```python\n",
        "for ตัวแปรที่จะรับค่าจาก list in listที่จะนำมาวนลูป:\n",
        "    do something\n",
        "```\n",
        "\n"
      ]
    },
    {
      "cell_type": "code",
      "metadata": {
        "id": "d6OcKiu8J04a",
        "outputId": "3b19dd40-d01c-4d36-fd50-03eab9d5dce0",
        "colab": {
          "base_uri": "https://localhost:8080/"
        }
      },
      "source": [
        "for i in[1,2,3,4,5]:\n",
        "    print(i+1)"
      ],
      "execution_count": 50,
      "outputs": [
        {
          "output_type": "stream",
          "text": [
            "2\n",
            "3\n",
            "4\n",
            "5\n",
            "6\n"
          ],
          "name": "stdout"
        }
      ]
    },
    {
      "cell_type": "code",
      "metadata": {
        "id": "5ESllHlRRBIE",
        "outputId": "a9953852-0ecb-4b70-c2b8-e521df92c2e8",
        "colab": {
          "base_uri": "https://localhost:8080/"
        }
      },
      "source": [
        "for x in [1,2,3,4,5]:\n",
        "     print(f'ค่าตัวแปร x คือ {x} และ x+2={x+2}')"
      ],
      "execution_count": 60,
      "outputs": [
        {
          "output_type": "stream",
          "text": [
            "ค่าตัวแปร x คือ 1 และ x+2=3\n",
            "ค่าตัวแปร x คือ 2 และ x+2=4\n",
            "ค่าตัวแปร x คือ 3 และ x+2=5\n",
            "ค่าตัวแปร x คือ 4 และ x+2=6\n",
            "ค่าตัวแปร x คือ 5 และ x+2=7\n"
          ],
          "name": "stdout"
        }
      ]
    },
    {
      "cell_type": "code",
      "metadata": {
        "id": "jOImwIhwRByM",
        "outputId": "dbcd0217-5451-4dfe-df50-8fb2bc2d07c7",
        "colab": {
          "base_uri": "https://localhost:8080/"
        }
      },
      "source": [
        "list5=[1,2,3,4,5]\n",
        "for x in list5:\n",
        "     print(f'ค่าตัวแปร x คือ {x} และ x+2={x+2}')"
      ],
      "execution_count": 61,
      "outputs": [
        {
          "output_type": "stream",
          "text": [
            "ค่าตัวแปร x คือ 1 และ x+2=3\n",
            "ค่าตัวแปร x คือ 2 และ x+2=4\n",
            "ค่าตัวแปร x คือ 3 และ x+2=5\n",
            "ค่าตัวแปร x คือ 4 และ x+2=6\n",
            "ค่าตัวแปร x คือ 5 และ x+2=7\n"
          ],
          "name": "stdout"
        }
      ]
    },
    {
      "cell_type": "code",
      "metadata": {
        "id": "Aw-cey8PRDei",
        "outputId": "b2a5ac3f-256e-465d-a96f-9334aac068f3",
        "colab": {
          "base_uri": "https://localhost:8080/"
        }
      },
      "source": [
        "list(range(10))"
      ],
      "execution_count": 62,
      "outputs": [
        {
          "output_type": "execute_result",
          "data": {
            "text/plain": [
              "[0, 1, 2, 3, 4, 5, 6, 7, 8, 9]"
            ]
          },
          "metadata": {
            "tags": []
          },
          "execution_count": 62
        }
      ]
    },
    {
      "cell_type": "code",
      "metadata": {
        "id": "9j8x1RWURIE0",
        "outputId": "3ecc32f2-d70e-43b0-92f0-3e303176133a",
        "colab": {
          "base_uri": "https://localhost:8080/"
        }
      },
      "source": [
        "for i in range(2,7):\n",
        "     print(i)"
      ],
      "execution_count": 63,
      "outputs": [
        {
          "output_type": "stream",
          "text": [
            "2\n",
            "3\n",
            "4\n",
            "5\n",
            "6\n"
          ],
          "name": "stdout"
        }
      ]
    },
    {
      "cell_type": "code",
      "metadata": {
        "id": "wdobep9gRIJO",
        "outputId": "dfe2712c-ed0f-41e2-a582-71e4f00eb038",
        "colab": {
          "base_uri": "https://localhost:8080/"
        }
      },
      "source": [
        "for i in range(2,7,2):\n",
        "     print(i)"
      ],
      "execution_count": 66,
      "outputs": [
        {
          "output_type": "stream",
          "text": [
            "2\n",
            "4\n",
            "6\n"
          ],
          "name": "stdout"
        }
      ]
    },
    {
      "cell_type": "code",
      "metadata": {
        "id": "wXJQPqXoRIQR",
        "outputId": "bdcf8ed5-6ef6-43b3-d47b-824acfbede4b",
        "colab": {
          "base_uri": "https://localhost:8080/"
        }
      },
      "source": [
        "for i in range(5):\n",
        "     print('hahaha')"
      ],
      "execution_count": 65,
      "outputs": [
        {
          "output_type": "stream",
          "text": [
            "hahaha\n",
            "hahaha\n",
            "hahaha\n",
            "hahaha\n",
            "hahaha\n"
          ],
          "name": "stdout"
        }
      ]
    },
    {
      "cell_type": "code",
      "metadata": {
        "id": "cw_qgtvrRIlz",
        "outputId": "60e4a56a-6bab-4e35-b01c-5f267fdd63a9",
        "colab": {
          "base_uri": "https://localhost:8080/"
        }
      },
      "source": [
        "for i in range(5):\n",
        "     print('hahaha')\n",
        "     x = i + 3\n",
        "     print(f'i={i} x={x}')"
      ],
      "execution_count": 67,
      "outputs": [
        {
          "output_type": "stream",
          "text": [
            "hahaha\n",
            "i=0 x=3\n",
            "hahaha\n",
            "i=1 x=4\n",
            "hahaha\n",
            "i=2 x=5\n",
            "hahaha\n",
            "i=3 x=6\n",
            "hahaha\n",
            "i=4 x=7\n"
          ],
          "name": "stdout"
        }
      ]
    },
    {
      "cell_type": "markdown",
      "metadata": {
        "id": "f-HjLjZeRUcX"
      },
      "source": [
        "##Nested loop\n",
        "\n",
        "loopซ้อนloop"
      ]
    },
    {
      "cell_type": "code",
      "metadata": {
        "id": "OvRk4qF5RbJN",
        "outputId": "88ac0dca-813e-450a-b336-e7a013981df0",
        "colab": {
          "base_uri": "https://localhost:8080/"
        }
      },
      "source": [
        "for i in range(3):\n",
        "     for j in range(4):\n",
        "          print(f'i={i} j={j} i+j={i+j}')"
      ],
      "execution_count": 68,
      "outputs": [
        {
          "output_type": "stream",
          "text": [
            "i=0 j=0 i+j=0\n",
            "i=0 j=1 i+j=1\n",
            "i=0 j=2 i+j=2\n",
            "i=0 j=3 i+j=3\n",
            "i=1 j=0 i+j=1\n",
            "i=1 j=1 i+j=2\n",
            "i=1 j=2 i+j=3\n",
            "i=1 j=3 i+j=4\n",
            "i=2 j=0 i+j=2\n",
            "i=2 j=1 i+j=3\n",
            "i=2 j=2 i+j=4\n",
            "i=2 j=3 i+j=5\n"
          ],
          "name": "stdout"
        }
      ]
    },
    {
      "cell_type": "code",
      "metadata": {
        "id": "Les02gOtR8Ba",
        "outputId": "44b1b8a7-fbcc-4dfe-e37e-a23cb6911091",
        "colab": {
          "base_uri": "https://localhost:8080/"
        }
      },
      "source": [
        "for i in range(3):\n",
        "    print(f'now i = {i}')\n",
        "    print('start j loop')\n",
        "    for j in range(4):\n",
        "        print(f'i = {i} j = {j} i+j = {i+j}')\n",
        "    print('end j loop')"
      ],
      "execution_count": 69,
      "outputs": [
        {
          "output_type": "stream",
          "text": [
            "now i = 0\n",
            "start j loop\n",
            "i = 0 j = 0 i+j = 0\n",
            "i = 0 j = 1 i+j = 1\n",
            "i = 0 j = 2 i+j = 2\n",
            "i = 0 j = 3 i+j = 3\n",
            "end j loop\n",
            "now i = 1\n",
            "start j loop\n",
            "i = 1 j = 0 i+j = 1\n",
            "i = 1 j = 1 i+j = 2\n",
            "i = 1 j = 2 i+j = 3\n",
            "i = 1 j = 3 i+j = 4\n",
            "end j loop\n",
            "now i = 2\n",
            "start j loop\n",
            "i = 2 j = 0 i+j = 2\n",
            "i = 2 j = 1 i+j = 3\n",
            "i = 2 j = 2 i+j = 4\n",
            "i = 2 j = 3 i+j = 5\n",
            "end j loop\n"
          ],
          "name": "stdout"
        }
      ]
    },
    {
      "cell_type": "markdown",
      "metadata": {
        "id": "RufJBmRYJvdZ"
      },
      "source": [
        "#Condition"
      ]
    },
    {
      "cell_type": "markdown",
      "metadata": {
        "id": "3SRR9FuQJv0n"
      },
      "source": [
        "#Function"
      ]
    },
    {
      "cell_type": "code",
      "metadata": {
        "id": "mT96v5SEHpvc"
      },
      "source": [
        ""
      ],
      "execution_count": null,
      "outputs": []
    }
  ]
}